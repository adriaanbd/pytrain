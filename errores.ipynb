{
 "cells": [
  {
   "cell_type": "markdown",
   "metadata": {},
   "source": [
    "## Cometamos algunos errores\n",
    "\n",
    "Todos cometemos errores, especialmente cuando estamos programando. \n",
    "\n",
    "Los errores en un programa se llaman **errores** y existen dos tipos principales de errores:\n",
    "1. Syntax errors (errores de sintaxis)\n",
    "2. Runtime errores (errores de ejecucion)\n",
    "\n",
    "En esta seccion veremos algunos ejemplos de errores de codigo y aprenderos como utilizar los datos de salida de Python para entender que error ocurrio y que pedazo de codigo lo ocasiono."
   ]
  },
  {
   "cell_type": "markdown",
   "metadata": {},
   "source": [
    "## Errores de Sintaxis (Syntax Errors)\n",
    "\n",
    "En sentido abierto, un error de sintaxis ocurre cuando escribe codigo que no es permitido en Python."
   ]
  },
  {
   "cell_type": "code",
   "execution_count": 1,
   "metadata": {},
   "outputs": [
    {
     "ename": "SyntaxError",
     "evalue": "EOL while scanning string literal (<ipython-input-1-e8af2fd168ec>, line 2)",
     "output_type": "error",
     "traceback": [
      "\u001b[0;36m  File \u001b[0;32m\"<ipython-input-1-e8af2fd168ec>\"\u001b[0;36m, line \u001b[0;32m2\u001b[0m\n\u001b[0;31m    print('Hola Mundo)\u001b[0m\n\u001b[0m                      ^\u001b[0m\n\u001b[0;31mSyntaxError\u001b[0m\u001b[0;31m:\u001b[0m EOL while scanning string literal\n"
     ]
    }
   ],
   "source": [
    "# Todos cometemos errores\n",
    "print('Hola Mundo)"
   ]
  },
  {
   "cell_type": "markdown",
   "metadata": {},
   "source": [
    "EOL se traduce End Of Line (Final de la Linea). Este mensaje nos dice que Python ha leido hasta el final de la linea sin encontrar el final de algo llamado **string literal**, que es texto contenido entre dos citaciones. Por ejemplo, el texto `Hola Mundo` es un ejemplo de un **string literal**. String literals son conocidos como **strings**."
   ]
  },
  {
   "cell_type": "markdown",
   "metadata": {},
   "source": [
    "## Errores de Ejecucion (Runtime Errors)\n",
    "\n",
    "IDLE atrapa errores de sintaxis antes que el programa se ejecute, pero algunos errores no se pueden atrapar sino hasta que el programa se ejecute. Estos errores se llaman **errores de ejecucion**, porque solo ocurren en el momento que un programa se ejecute.\n",
    "\n",
    "Vamos a generar un error de ejecucion."
   ]
  },
  {
   "cell_type": "code",
   "execution_count": 3,
   "metadata": {},
   "outputs": [
    {
     "ename": "NameError",
     "evalue": "name 'Hola' is not defined",
     "output_type": "error",
     "traceback": [
      "\u001b[0;31m---------------------------------------------------------------------------\u001b[0m",
      "\u001b[0;31mNameError\u001b[0m                                 Traceback (most recent call last)",
      "\u001b[0;32m<ipython-input-3-580b8859920c>\u001b[0m in \u001b[0;36m<module>\u001b[0;34m\u001b[0m\n\u001b[1;32m      1\u001b[0m \u001b[0;31m# Vamos a cambiar el codigo anterior a:\u001b[0m\u001b[0;34m\u001b[0m\u001b[0;34m\u001b[0m\u001b[0;34m\u001b[0m\u001b[0m\n\u001b[0;32m----> 2\u001b[0;31m \u001b[0mprint\u001b[0m\u001b[0;34m(\u001b[0m\u001b[0mHola\u001b[0m\u001b[0;34m)\u001b[0m\u001b[0;34m\u001b[0m\u001b[0;34m\u001b[0m\u001b[0m\n\u001b[0m",
      "\u001b[0;31mNameError\u001b[0m: name 'Hola' is not defined"
     ]
    }
   ],
   "source": [
    "# Vamos a cambiar el codigo anterior a:\n",
    "print(Hola)"
   ]
  },
  {
   "cell_type": "markdown",
   "metadata": {},
   "source": [
    "Que sucedio? Cuando el programa se ejecuta, Python **alza** o **raises** un error. Cuando un error ocurre, Python detiene la ejecucion del programa y produce el error en la ventana. \n",
    "\n",
    "El texto del error se llama **traceback** o **rastro** toda vez que uno puede rastrear el error con ayuda del mensaje. Este rastro nos da informacion sobre el error:\n",
    "1. El error ocurrio en la linea 2\n",
    "2. La linea que genera el error es `print(Hola)`\n",
    "3. Un `NameError` ocurre\n",
    "4. El error especifico es que `Hola` no esta definido\n",
    "\n",
    "Ya que `Hola` no tiene citas, Python no entiende que es un string de texto y asume que `Hola` es el nombre de alguna otra cosa en el codigo, y como `Hola` no ha sido definido en ninguna parte de nuestro codigo, el programa ocasiona el error."
   ]
  },
  {
   "cell_type": "markdown",
   "metadata": {},
   "source": [
    "## Practica\n",
    "\n",
    "1. Escribe codigo que produce un error de sintaxis (syntax error)\n",
    "2. Escribe codigo que produce un error de ejecucion (runtime error)"
   ]
  }
 ],
 "metadata": {
  "kernelspec": {
   "display_name": "Python 3",
   "language": "python",
   "name": "python3"
  },
  "language_info": {
   "codemirror_mode": {
    "name": "ipython",
    "version": 3
   },
   "file_extension": ".py",
   "mimetype": "text/x-python",
   "name": "python",
   "nbconvert_exporter": "python",
   "pygments_lexer": "ipython3",
   "version": "3.8.1"
  }
 },
 "nbformat": 4,
 "nbformat_minor": 4
}
