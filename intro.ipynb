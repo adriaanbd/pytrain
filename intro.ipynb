{
 "cells": [
  {
   "cell_type": "markdown",
   "metadata": {},
   "source": [
    "# Escribe un script\n",
    "\n",
    "Si no tienes IDLE abierto, por favor abrelo. Hay dos ventanas para trabajar con IDLE:\n",
    "* La ventana interactiva\n",
    "* La ventana de script\n",
    "\n",
    "Puedes escribir codigo en ambas ventanas, pero la diferencia entre ellas radica en como el codigo es ejecutado. En esta seccion vamos a escribir nuestro primer programa Python y aprender como correrlo en ambas ventadas."
   ]
  },
  {
   "cell_type": "markdown",
   "metadata": {},
   "source": [
    "Cuando instalamos Python, es probable que el proceso de instalacion puso un icono en el escritorio o un item en el menu del sistema que ejecuta Python. Por ejemplo, en Windows, lo mas probable existe un grupo de programa en el menu **Start** bajo el nombre de **Python 3.x** y abajo del mismo un item denominado **Python 3.x (32-bit)** o algo similar."
   ]
  },
  {
   "cell_type": "markdown",
   "metadata": {},
   "source": [
    "## La ventana interactiva (IDLE)\n",
    "\n",
    "La ventana interactiva contiene un *Python shell*, que es una interfaz de usuario para trabajar con Python. Cuando lo abres se ve algo asi:\n",
    "\n",
    "```\n",
    "Python 3.8.1 (default, Feb 3, 2020)\n",
    "Type \"help\" for more information.\n",
    ">>>\n",
    "```\n",
    "\n",
    "El symbolo `>>>` de la ultima linea es el *prompt* y es aqui donde escribiras tu codigo.\n",
    "\n",
    "Escribe `1 + 1` y presiona `Enter`\n",
    "\n",
    "```\n",
    ">>> 1 + 1\n",
    "2\n",
    ">>>\n",
    "```\n",
    "\n",
    "Podras apreciar que el *prompt* `>>>` aparece nuevamente, toda vez que Python esta listo para mas instrucciones. Cada vez que escribas algo de codigo, un nuevo *prompt* aparecera directamente abajo del dato de salida (output)."
   ]
  },
  {
   "cell_type": "markdown",
   "metadata": {},
   "source": [
    "La secuencia de eventos en la ventana interactiva podra ser describa como un *loop* o *ciclo* con estos tres pasos:\n",
    "1. Python lee el codigo \n",
    "2. El codigo es evaluado\n",
    "3. El *output* o *dato de salida* aparece en la ventana, seguido por un nuevo *prompt* en otra linea\n",
    "\n",
    "Este ciclo es conocido como **R**ead-**E**valuate-**P**rint **L**oop o mas comunmente referido como **REPL**. En nuestro idioma seria Lectura, Evaluacion, Impresion y Ciclo.\n",
    "\n",
    "Empecemos con algo un poco mas interesante. \n",
    "\n",
    "Es comun que todo programador aprendiendo un nuevo lenguaje de programacion haga un programa que imprima **Hola, mundo** en la pantalla. Esta es una tradicion que data de los 1970s. Por tanto, vamos a utilizar un metodo que se llama `print()`, que toma un dato de entrada llamado *argumento*, hace algo con ese dato, y produce un dato de salido, conocido como el *return value* o *valor de retorno*."
   ]
  },
  {
   "cell_type": "code",
   "execution_count": 2,
   "metadata": {},
   "outputs": [
    {
     "name": "stdout",
     "output_type": "stream",
     "text": [
      "Hola Mundo\n"
     ]
    }
   ],
   "source": [
    "# 'Hola Mundo' es el argumento que se la pasa a print()\n",
    "print('Hola Mundo')  # debe ser rodeado por citas para que Python lo interprete como texto"
   ]
  },
  {
   "cell_type": "markdown",
   "metadata": {},
   "source": [
    "La ventana interactiva solo ejecuta una linea de codigo a la vez. Esto es util cuando estamos probando ejemplos cortos de codigo y para explorar Python, pero tiene una limitacion: el codigo debe ser escrito por una persona linea por linea!\n",
    "\n",
    "Alternativamente, uno puede guardar el codigo Python en un archivo de texto y luego ejecutar todo el codigo con una sola instruccion. El codigo en este archivo se le llama **script** y los archivos que contienen Python **scripts** se conocen como **script files** o archivos de scripts.\n",
    "\n",
    "Los **scripts** son util no solo porque podemos ejecutar un programa, pero tambien porque podemos compartirlo con otras personas para que puedan ejecutar el programa tambien."
   ]
  },
  {
   "cell_type": "markdown",
   "metadata": {},
   "source": [
    "## La ventana del Script\n",
    "\n",
    "Los scripts se escriben utilizando la ventana del script en IDLE. Puede abrirla seleccionando `File > New File` desde el menu superior de la ventana interactiva. Cuando se abre esta ventana, observaras que la ventana interactiva se mantiene abierta, toda vvez que todo los datos de salida del **script** se reflejara en la ventana interactiva.\n",
    "\n",
    "En esta ventana, escriba el mismo codigo de antes: `print('Hola Mundo')`. Guarden el archivo con un nombre como `hola-mundo.py`. La extension `.py` es la extencion convencional utilizada para indicar que el archivo contiene codigo Python.\n",
    "\n",
    "El script lo ejecutamos seleccionando `Run > Run Module` desde esta ventana, lo cual producira un dato de salida de `Hola Mundo` en la ventana interactiva.\n",
    "\n",
    "Nota: tambien puedes ejecutar el programa presionando `f5`."
   ]
  }
 ],
 "metadata": {
  "kernelspec": {
   "display_name": "Python 3",
   "language": "python",
   "name": "python3"
  },
  "language_info": {
   "codemirror_mode": {
    "name": "ipython",
    "version": 3
   },
   "file_extension": ".py",
   "mimetype": "text/x-python",
   "name": "python",
   "nbconvert_exporter": "python",
   "pygments_lexer": "ipython3",
   "version": "3.8.1"
  }
 },
 "nbformat": 4,
 "nbformat_minor": 4
}
