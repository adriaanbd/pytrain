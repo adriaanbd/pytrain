{
 "cells": [
  {
   "cell_type": "markdown",
   "metadata": {},
   "source": [
    "## Que es Python?\n",
    "\n",
    "Python, cuyo nombre es un tributo al grupo britanico de comedia Monty Python, es un lenguaje de programacion interpretado, interactivo y orientado a objetos. Python puede ser usado para escribir programas simples, pero tambien tiene el poder para escribir soluciones complejas y de gran escala. \n",
    "\n",
    "Python es utilizado para:\n",
    "* Desarrollo de aplicaciones, incluyendo juegos\n",
    "* Analisis matematico y cientifico de datos\n",
    "* Desarrollo web y de internet, entre otras\n",
    "\n",
    "La presencia de Python en el mundo computacional es es notoria. Por ejemplo, Python es utilizado en algunos de los sitios web mas grandes del internet:\n",
    "* Reddit\n",
    "* Dropbox\n",
    "* YouTube\n",
    "* Instagram\n",
    "* Pinterest"
   ]
  },
  {
   "cell_type": "markdown",
   "metadata": {},
   "source": [
    "# Escribe un script\n",
    "\n",
    "El Interactive Development Learning Environment o **Ambiente de Aprendizaje y Desarrollo Interactivo** (IDLE, por sus siglas en ingles), es uno de los programas que utilizaremos para interactuar con Python.\n",
    "\n",
    "Hay dos ventanas para trabajar con IDLE:\n",
    "* La ventana interactiva\n",
    "* La ventana del script\n",
    "\n",
    "Puedes escribir codigo en ambas ventanas, pero la diferencia entre ellas radica en como ejecuta el codigo. \n",
    "\n",
    "En esta seccion vamos a escribir nuestro primer programa en Python y aprenderremos como ejecutarlo en ambas ventanas."
   ]
  },
  {
   "cell_type": "markdown",
   "metadata": {},
   "source": [
    "Cuando instalamos Python, es probable que el proceso de instalacion coloco un icono en el escritorio o un item en el menu del sistema que ejecuta Python. Por ejemplo, en Windows, existe un grupo de programas en el menu **Start** bajo el nombre de **Python 3.x** y abajo del mismo un item denominado **Python 3.x (32-bit)** o similar."
   ]
  },
  {
   "cell_type": "markdown",
   "metadata": {},
   "source": [
    "## La ventana interactiva (IDLE)\n",
    "\n",
    "Anteriormente dijimos que la ventana interactiva es un programa que nos permite interactuar con Python, pero en terminos un poco mas especificos, el mismo contiene un *Python shell*, es decir, una interfaz de usuario para que nos permite trabajar con Python. \n",
    "\n",
    "Cuando lo abrimo se ve algo asi:\n",
    "\n",
    "```\n",
    "Python 3.8.1 (default, Feb 3, 2020)\n",
    "Type \"help\" for more information.\n",
    ">>>\n",
    "```\n",
    "\n",
    "El symbolo `>>>` de la ultima linea es el *prompt* y es aqui donde escribiremos nuestro codigo.\n",
    "\n",
    "Escriba `1 + 1` y presionae `Enter`\n",
    "\n",
    "```\n",
    ">>> 1 + 1\n",
    "2\n",
    ">>>\n",
    "```\n",
    "\n",
    "El *prompt* `>>>` aparece nuevamente, lo que nos indica que Python esta listo para recibir mas instrucciones / codigo. Cada vez que escribimos algo de codigo, un nuevo *prompt* aparecere directamente abajo del dato de salida (output). Este taller hace referencia a los datos de salida como *salida* o *output* y los trata indistintamente."
   ]
  },
  {
   "cell_type": "markdown",
   "metadata": {},
   "source": [
    "La secuencia de eventos en la ventana interactiva podra consiste en un *ciclo* (loop) con estos tres pasos:\n",
    "1. Python lee el codigo \n",
    "2. El codigo es evaluado\n",
    "3. El *output* o *dato de salida* aparece en la ventana, seguido por un nuevo *prompt* en otra linea\n",
    "\n",
    "Este ciclo es conocido como **R**ead-**E**valuate-**P**rint **L**oop o mas comunmente por sus siglas en ingles**REPL**. En español seria Lectura, Evaluacion, Impresion y Ciclo."
   ]
  },
  {
   "cell_type": "markdown",
   "metadata": {},
   "source": [
    "Es una tradicion que todo programador que aprende un nuevo lenguaje de programacion, aprenda a escribir un programa que imprima **Hola mundo** en la pantalla (tradicion data desde 1970s). \n",
    "\n",
    "En vista de le esto, utilizarameos una funcion que se llama `print()`, que toma un dato de entrada - tambien conocido y referenciado como *entrada* o *input* - siendo el *argumento* o *parametro* de la funcion, hace algo con ese dato, y produce un dato de salido conocido como el *return value* o *valor de retorno* (tambien hacemos referencia al mismo como *retorno* / *el retorno*).\n",
    "\n",
    "Mas adelante conoceremos exactamente que es una funcion, por ahora nos basta saber que es una funcion engloba un conjunto de codigo que ejecuta una determinada accion(es). "
   ]
  },
  {
   "cell_type": "code",
   "execution_count": 1,
   "metadata": {},
   "outputs": [
    {
     "name": "stdout",
     "output_type": "stream",
     "text": [
      "Hola Mundo\n"
     ]
    }
   ],
   "source": [
    "# 'Hola Mundo' es el argumento que se la pasa a print()\n",
    "print('Hola Mundo')  # debe ser rodeado por citas para que Python lo interprete como texto"
   ]
  },
  {
   "cell_type": "markdown",
   "metadata": {},
   "source": [
    "## Saliendo del Interpretador\n",
    "\n",
    "Cuando terminamos, podemos salir de una sesion REPL escribiendo:\n",
    "\n",
    "```\n",
    ">>> exit()\n",
    "```\n",
    "\n",
    "Asimismo, podemos salir presionando `Ctrl + Z + Enter`"
   ]
  },
  {
   "cell_type": "markdown",
   "metadata": {},
   "source": [
    "La ventana interactiva solo ejecuta una linea de codigo a la vez. Esto es util cuando estamos probando ejemplos cortos de codigo y para explorar Python, pero tiene una limitacion: el codigo debe ser escrito por una persona linea por linea!\n",
    "\n",
    "Alternativamente, uno puede guardar el codigo Python en un archivo de texto y luego ejecutar todo el codigo con una sola instruccion. El codigo en este archivo se le llama **script** y los archivos que contienen Python **scripts** se conocen como **script files** o archivos de scripts.\n",
    "\n",
    "Los **scripts** son util no solo porque podemos ejecutar un programa, pero tambien porque podemos compartirlo con otras personas para que puedan ejecutar el programa tambien."
   ]
  },
  {
   "cell_type": "markdown",
   "metadata": {},
   "source": [
    "## La ventana del Script\n",
    "\n",
    "Los scripts se escriben utilizando la ventana del script en IDLE. Puede abrirla seleccionando `File > New File` desde el menu superior de la ventana interactiva. Cuando se abre esta ventana, observaras que la ventana interactiva se mantiene abierta, toda vvez que todo los datos de salida del **script** se reflejara en la ventana interactiva.\n",
    "\n",
    "En esta ventana, escriba el mismo codigo de antes: `print('Hola Mundo')`. Guarden el archivo con un nombre como `hola-mundo.py`. La extension `.py` es la extencion convencional utilizada para indicar que el archivo contiene codigo Python.\n",
    "\n",
    "El script lo ejecutamos seleccionando `Run > Run Module` desde esta ventana, lo cual producira un dato de salida de `Hola Mundo` en la ventana interactiva.\n",
    "\n",
    "Nota: tambien puedes ejecutar el programa presionando `f5`."
   ]
  }
 ],
 "metadata": {
  "kernelspec": {
   "display_name": "Python 3",
   "language": "python",
   "name": "python3"
  },
  "language_info": {
   "codemirror_mode": {
    "name": "ipython",
    "version": 3
   },
   "file_extension": ".py",
   "mimetype": "text/x-python",
   "name": "python",
   "nbconvert_exporter": "python",
   "pygments_lexer": "ipython3",
   "version": "3.8.1"
  }
 },
 "nbformat": 4,
 "nbformat_minor": 4
}
