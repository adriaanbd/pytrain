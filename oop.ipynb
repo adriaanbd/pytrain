{
 "cells": [
  {
   "cell_type": "markdown",
   "metadata": {},
   "source": [
    "# Programación Orientada a Objetos"
   ]
  },
  {
   "cell_type": "markdown",
   "metadata": {},
   "source": [
    "La programacion orientada a objetos (OOP, por sus siglas en ingles) es un metodo utilizado para estructurar un programa a fin de reunir propiedades y comportamientos relaciones en **objetos** individuales."
   ]
  },
  {
   "cell_type": "markdown",
   "metadata": {},
   "source": [
    "Conceptualmente, los objetos son como componentes de un sistema. Consideremos que un programa es como una linea de montaje de fabrica y que cada componente del sistema procesa algun material en cada paso del proceso, poco a poco, concluyendo con el producto final.\n",
    "\n",
    "Un objeto contiene data, asi como los materiales pre-procesados o materia prima en cada etapa de la linea de montaje, y comportamiento, como la accion de cada componente en cada estapa del proceso.\n",
    "\n",
    "En esta seccion, aprenderemos a:\n",
    "* Crear una clase con `class`, que es como un plan de prototipo\n",
    "* Utilizar clases para crear nuevos objetos\n",
    "* Modelar sistemas con herencia de clase"
   ]
  },
  {
   "cell_type": "markdown",
   "metadata": {},
   "source": [
    "## Definicion de una Clase"
   ]
  },
  {
   "cell_type": "markdown",
   "metadata": {},
   "source": [
    "Las estructuras primitivas de datos, como los numeros, strings y listas, estan diseñados para representar cosas simples, como el costo de de una cosa, el nombre de un poema, colores favoritos, entre otras cosas. No obstante, qué tal si queremos representar algo un poco mas complicado?\n",
    "\n",
    "Por ejemplo, digamos que queremos darle seguimiento a todos los empleados en una organizacion. Necesitamos guardar informacion basica de cada empleado como nombre, edad, posicion y fecha de inicio de labores. "
   ]
  },
  {
   "cell_type": "code",
   "execution_count": 2,
   "metadata": {},
   "outputs": [],
   "source": [
    "# una forma de hacerlo\n",
    "juan = ['Juan Perez', 31, 'Asistente Administrativo', 1001]"
   ]
  },
  {
   "cell_type": "code",
   "execution_count": 3,
   "metadata": {},
   "outputs": [
    {
     "data": {
      "text/plain": [
       "31"
      ]
     },
     "execution_count": 3,
     "metadata": {},
     "output_type": "execute_result"
    }
   ],
   "source": [
    "# cuando no estamos cerca del codigo anterior, es dificil saber a que referenciamos con:\n",
    "juan[1]  # edad"
   ]
  },
  {
   "cell_type": "code",
   "execution_count": 5,
   "metadata": {},
   "outputs": [
    {
     "data": {
      "text/plain": [
       "'Asistente Ejecutiva'"
      ]
     },
     "execution_count": 5,
     "metadata": {},
     "output_type": "execute_result"
    }
   ],
   "source": [
    "# otro problema es que si creamos otro registro\n",
    "juana = ['Juana Perez', 'Asistente Ejecutiva', 1002]  # sin la edad\n",
    "juana[1]  # ya no es edad, sino posicion"
   ]
  },
  {
   "cell_type": "markdown",
   "metadata": {},
   "source": [
    "## Clases vs Instancias"
   ]
  },
  {
   "cell_type": "code",
   "execution_count": null,
   "metadata": {},
   "outputs": [],
   "source": []
  }
 ],
 "metadata": {
  "kernelspec": {
   "display_name": "Python 3",
   "language": "python",
   "name": "python3"
  },
  "language_info": {
   "codemirror_mode": {
    "name": "ipython",
    "version": 3
   },
   "file_extension": ".py",
   "mimetype": "text/x-python",
   "name": "python",
   "nbconvert_exporter": "python",
   "pygments_lexer": "ipython3",
   "version": "3.8.1"
  }
 },
 "nbformat": 4,
 "nbformat_minor": 4
}
