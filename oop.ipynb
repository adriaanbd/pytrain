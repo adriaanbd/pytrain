{
 "cells": [
  {
   "cell_type": "markdown",
   "metadata": {},
   "source": [
    "# Programación Orientada a Objetos"
   ]
  },
  {
   "cell_type": "markdown",
   "metadata": {},
   "source": [
    "La programacion orientada a objetos (OOP, por sus siglas en ingles) es un metodo utilizado para estructurar un programa a fin de reunir propiedades y comportamientos relaciones en **objetos** individuales."
   ]
  },
  {
   "cell_type": "markdown",
   "metadata": {},
   "source": [
    "Conceptualmente, los objetos son como componentes de un sistema. Consideremos que un programa es como una linea de montaje de fabrica y que cada componente del sistema procesa algun material en cada paso del proceso, poco a poco, concluyendo con el producto final.\n",
    "\n",
    "Un objeto contiene data, asi como los materiales pre-procesados o materia prima en cada etapa de la linea de montaje, y comportamiento, como la accion de cada componente en cada estapa del proceso.\n",
    "\n",
    "En esta seccion, aprenderemos a:\n",
    "* Crear una clase con `class`, que es como un plan de prototipo\n",
    "* Utilizar clases para crear nuevos objetos\n",
    "* Modelar sistemas con herencia de clase"
   ]
  },
  {
   "cell_type": "markdown",
   "metadata": {},
   "source": [
    "## Definicion de una Clase"
   ]
  },
  {
   "cell_type": "markdown",
   "metadata": {},
   "source": [
    "Las estructuras primitivas de datos, como los numeros, strings y listas, estan diseñados para representar cosas simples, como el costo de de una cosa, el nombre de un poema, colores favoritos, entre otras cosas. No obstante, qué tal si queremos representar algo un poco mas complicado?\n",
    "\n",
    "Por ejemplo, digamos que queremos darle seguimiento a todos los empleados en una organizacion. Necesitamos guardar informacion basica de cada empleado como nombre, edad, posicion y fecha de inicio de labores. "
   ]
  },
  {
   "cell_type": "code",
   "execution_count": 2,
   "metadata": {},
   "outputs": [],
   "source": [
    "# una forma de hacerlo\n",
    "juan = ['Juan Perez', 31, 'Asistente Administrativo', 1001]"
   ]
  },
  {
   "cell_type": "code",
   "execution_count": 3,
   "metadata": {},
   "outputs": [
    {
     "data": {
      "text/plain": [
       "31"
      ]
     },
     "execution_count": 3,
     "metadata": {},
     "output_type": "execute_result"
    }
   ],
   "source": [
    "# cuando no estamos cerca del codigo anterior, es dificil saber a que referenciamos con:\n",
    "juan[1]  # edad"
   ]
  },
  {
   "cell_type": "code",
   "execution_count": 5,
   "metadata": {},
   "outputs": [
    {
     "data": {
      "text/plain": [
       "'Asistente Ejecutiva'"
      ]
     },
     "execution_count": 5,
     "metadata": {},
     "output_type": "execute_result"
    }
   ],
   "source": [
    "# otro problema es que si creamos otro registro\n",
    "juana = ['Juana Perez', 'Asistente Ejecutiva', 1002]  # sin la edad\n",
    "juana[1]  # ya no es edad, sino posicion"
   ]
  },
  {
   "cell_type": "markdown",
   "metadata": {},
   "source": [
    "## Clases vs Instancias"
   ]
  },
  {
   "cell_type": "markdown",
   "metadata": {},
   "source": [
    "Las clases son utilizadas para crear estructuras de datos definidas por el usuario. Las clases tambien tienen funciones especiales, llamadas **metodos**, que definen comportamiento y acciones que un objeto de esa clasa puede realizar con su data."
   ]
  },
  {
   "cell_type": "markdown",
   "metadata": {},
   "source": [
    "Importante notar que una clase solo proporciona estructura. Una clase es como un plano que contiene el diseño o especificaciones de como algo debe ser definido. Por ejemplo, una clase `Canino` puede especificar que el nombre y edad son necesarios para definir un perro, pero no especificará cono el nombre debe llamarse o que edad debe tener."
   ]
  },
  {
   "cell_type": "markdown",
   "metadata": {},
   "source": [
    "Una clase es un plano, y una instancia de un objeto es un prototipo construido a base de ese plano y que contiene data real. Por ejemplo, una instancia de un `Canino` ya no es un plano, sino una representacion de un canino, con un nombre de `Rocky` y que tienes `4` años.\n",
    "\n",
    "Es decir, una clase es como un formulario o un cuestionario, toda vez que define la información requerida. Después de llenar el formulario, esa copia específica del formulario llenado, es una instancia de una clase, toda vez que contiene informacion actual relevante.\n",
    "\n",
    "En efecto, podemos llenar multiples copias del formulario para crear multiples instancias, pero sin el formulario como guia, no sabremos cual información es requerida. Por tanto, antes de crear instancias individuales de un objeto, primero necesitamos especificar que se necesita para definir una clase."
   ]
  },
  {
   "cell_type": "markdown",
   "metadata": {},
   "source": [
    "## Como definir una clase"
   ]
  },
  {
   "cell_type": "markdown",
   "metadata": {},
   "source": [
    "Toda definición de clase empieza con la palabra `class`, la cual es seguida por el nombre de la clase y un color. Esto guarda similutd con la firma de una función, excepto no necesitamos agregar parametros en parentesis. Cualquier codigo que esta indentado abajo de la definicion de la clase es considerada parte del cuerpo de la clase."
   ]
  },
  {
   "cell_type": "code",
   "execution_count": 8,
   "metadata": {},
   "outputs": [],
   "source": [
    "class Canino:\n",
    "    pass  # esta palabra hace el efecto de ignorar lo seguido, sirve como plantilla, permite correr sin error"
   ]
  },
  {
   "cell_type": "code",
   "execution_count": 9,
   "metadata": {},
   "outputs": [
    {
     "ename": "SyntaxError",
     "evalue": "unexpected EOF while parsing (<ipython-input-9-21297a748627>, line 1)",
     "output_type": "error",
     "traceback": [
      "\u001b[0;36m  File \u001b[0;32m\"<ipython-input-9-21297a748627>\"\u001b[0;36m, line \u001b[0;32m1\u001b[0m\n\u001b[0;31m    class Canino:  # sin pass\u001b[0m\n\u001b[0m                             ^\u001b[0m\n\u001b[0;31mSyntaxError\u001b[0m\u001b[0;31m:\u001b[0m unexpected EOF while parsing\n"
     ]
    }
   ],
   "source": [
    "class Canino:  # sin pass"
   ]
  },
  {
   "cell_type": "markdown",
   "metadata": {},
   "source": [
    "La clase `Canino` debería contener un conjunto de propiedades particulares a un canino como nombre, edad, color, y raza, sin embargo para mantener las cosas simples vamos a utilizar nombre y edad por ahora. \n",
    "\n",
    "Para definir propiedades, conocidas como **atributos de instancia**, que todos los objetos `Canino` deberan tener, tenemos que definir un metodo especial llamado `.__init__()`, que hace la inicializacion del objeto. Este metodo es especial porque le dice a Python el **estado** inicial del objeto, es decir, los valores iniciales de las propiedades del objeto.\n",
    "\n",
    "El primero parametro / argumento posicional de `.__init__()` siempre es una variable que hace referencia a la instancia de clase misma. Esta variable es universalmente denominada `self`. Despues del argumento `self`, podemos especificar los argumentos requeridos para crear una instancia de una clase."
   ]
  },
  {
   "cell_type": "code",
   "execution_count": 12,
   "metadata": {},
   "outputs": [],
   "source": [
    "class Canino:\n",
    "    def __init__(self, nombre, edad):\n",
    "        self.nombre = nombre  # atributo de instancia nombre se le asigna la variable nombre\n",
    "        self.edad = edad  # atributo de instancia edad se le asigna la variable edad"
   ]
  },
  {
   "cell_type": "code",
   "execution_count": 15,
   "metadata": {},
   "outputs": [],
   "source": [
    "# self.atributo es particular a una instancia, pero un atributo de clase es de todas las instancias\n",
    "class Perro:\n",
    "    especie = 'Canino'\n",
    "    \n",
    "    def __init__(self, nombre, edad):\n",
    "        self.nombre = nombre\n",
    "        self.edad = edad"
   ]
  },
  {
   "cell_type": "markdown",
   "metadata": {},
   "source": [
    "Los atributos de clase se definen directamente abajo de la definicion de la clase y antes de cualquier metodo. Deberiamos utilizar atributos de clase cuando una propiedad deberia tener el mismo valor inicial para todas las instancias de una clase, y atributos de instancia para propiedades que deben ser especificadas antes de que una instancia sea creada.\n",
    "\n",
    "Ahora que tenemos una clase `Perro`, vamos a crear algunos perros."
   ]
  },
  {
   "cell_type": "markdown",
   "metadata": {},
   "source": [
    "# Instanciando un Objeto"
   ]
  },
  {
   "cell_type": "code",
   "execution_count": 24,
   "metadata": {},
   "outputs": [],
   "source": [
    "class Gato:\n",
    "    pass"
   ]
  },
  {
   "cell_type": "code",
   "execution_count": 25,
   "metadata": {},
   "outputs": [
    {
     "data": {
      "text/plain": [
       "<__main__.Gato at 0x7fc604359640>"
      ]
     },
     "execution_count": 25,
     "metadata": {},
     "output_type": "execute_result"
    }
   ],
   "source": [
    "# instanciemos un objeto Gato\n",
    "Gato()  # el dato de salida indica que ahora tenemos un objeto Gato ubicado en la direccion de memoria 0x..."
   ]
  },
  {
   "cell_type": "code",
   "execution_count": 26,
   "metadata": {},
   "outputs": [
    {
     "data": {
      "text/plain": [
       "<__main__.Gato at 0x7fc6043599d0>"
      ]
     },
     "execution_count": 26,
     "metadata": {},
     "output_type": "execute_result"
    }
   ],
   "source": [
    "# instanciemos otro objeto Gato\n",
    "Gato()  # observemos que la direccion de la ubicacion en memoria es distinta 0x... "
   ]
  },
  {
   "cell_type": "code",
   "execution_count": 27,
   "metadata": {},
   "outputs": [
    {
     "data": {
      "text/plain": [
       "False"
      ]
     },
     "execution_count": 27,
     "metadata": {},
     "output_type": "execute_result"
    }
   ],
   "source": [
    "# las direcciones de ubicacion en memoria son distintas porque son dos instancias distintas\n",
    "a = Gato()\n",
    "b = Gato()\n",
    "a == b  # no son los mismos objetos en memoria (la direccion no es la misma)"
   ]
  },
  {
   "cell_type": "code",
   "execution_count": 28,
   "metadata": {},
   "outputs": [
    {
     "data": {
      "text/plain": [
       "__main__.Gato"
      ]
     },
     "execution_count": 28,
     "metadata": {},
     "output_type": "execute_result"
    }
   ],
   "source": [
    "type(a)  # es un objeto Gato"
   ]
  },
  {
   "cell_type": "code",
   "execution_count": 29,
   "metadata": {},
   "outputs": [
    {
     "data": {
      "text/plain": [
       "True"
      ]
     },
     "execution_count": 29,
     "metadata": {},
     "output_type": "execute_result"
    }
   ],
   "source": [
    "type(a) == type(b)   # si es el mismo tipo de objeto Gato"
   ]
  },
  {
   "cell_type": "markdown",
   "metadata": {},
   "source": [
    "## Atributos de Clase y de Instancia"
   ]
  },
  {
   "cell_type": "code",
   "execution_count": 32,
   "metadata": {},
   "outputs": [],
   "source": [
    "class Perro:\n",
    "    especie = 'Canino'\n",
    "    \n",
    "    def __init__(self, nombre, edad):\n",
    "        self.nombre = nombre\n",
    "        self.edad = edad"
   ]
  },
  {
   "cell_type": "code",
   "execution_count": 35,
   "metadata": {},
   "outputs": [],
   "source": [
    "# el metodo __init__ especifica la necesidad de 3 argumentos / parametros pero solo ingresamos 2\n",
    "rocky = Perro('Rocky', 7)\n",
    "lucky = Perro('Lucky', 3)"
   ]
  },
  {
   "cell_type": "code",
   "execution_count": 38,
   "metadata": {},
   "outputs": [
    {
     "data": {
      "text/plain": [
       "'Rocky'"
      ]
     },
     "execution_count": 38,
     "metadata": {},
     "output_type": "execute_result"
    }
   ],
   "source": [
    "# solo 2 argumentos porque cuando instanciamos el objeto, Python la pase el objeto a self para representarlo\n",
    "rocky.nombre"
   ]
  },
  {
   "cell_type": "code",
   "execution_count": 39,
   "metadata": {},
   "outputs": [
    {
     "data": {
      "text/plain": [
       "7"
      ]
     },
     "execution_count": 39,
     "metadata": {},
     "output_type": "execute_result"
    }
   ],
   "source": [
    "rocky.edad"
   ]
  },
  {
   "cell_type": "code",
   "execution_count": 40,
   "metadata": {},
   "outputs": [
    {
     "data": {
      "text/plain": [
       "'Lucky'"
      ]
     },
     "execution_count": 40,
     "metadata": {},
     "output_type": "execute_result"
    }
   ],
   "source": [
    "lucky.nombre"
   ]
  },
  {
   "cell_type": "code",
   "execution_count": 41,
   "metadata": {},
   "outputs": [
    {
     "data": {
      "text/plain": [
       "3"
      ]
     },
     "execution_count": 41,
     "metadata": {},
     "output_type": "execute_result"
    }
   ],
   "source": [
    "lucky.edad"
   ]
  },
  {
   "cell_type": "code",
   "execution_count": 42,
   "metadata": {},
   "outputs": [
    {
     "data": {
      "text/plain": [
       "'Canino'"
      ]
     },
     "execution_count": 42,
     "metadata": {},
     "output_type": "execute_result"
    }
   ],
   "source": [
    "rocky.especie"
   ]
  },
  {
   "cell_type": "code",
   "execution_count": 43,
   "metadata": {},
   "outputs": [
    {
     "data": {
      "text/plain": [
       "'Canino'"
      ]
     },
     "execution_count": 43,
     "metadata": {},
     "output_type": "execute_result"
    }
   ],
   "source": [
    "lucky.especie"
   ]
  },
  {
   "cell_type": "code",
   "execution_count": 44,
   "metadata": {},
   "outputs": [
    {
     "data": {
      "text/plain": [
       "True"
      ]
     },
     "execution_count": 44,
     "metadata": {},
     "output_type": "execute_result"
    }
   ],
   "source": [
    "lucky.especie == rocky.especie"
   ]
  },
  {
   "cell_type": "code",
   "execution_count": 46,
   "metadata": {},
   "outputs": [
    {
     "data": {
      "text/plain": [
       "'Felino'"
      ]
     },
     "execution_count": 46,
     "metadata": {},
     "output_type": "execute_result"
    }
   ],
   "source": [
    "lucky.especie = 'Felino'\n",
    "lucky.especie"
   ]
  },
  {
   "cell_type": "code",
   "execution_count": 47,
   "metadata": {},
   "outputs": [
    {
     "data": {
      "text/plain": [
       "'Canino'"
      ]
     },
     "execution_count": 47,
     "metadata": {},
     "output_type": "execute_result"
    }
   ],
   "source": [
    "rocky.especie"
   ]
  },
  {
   "cell_type": "code",
   "execution_count": 49,
   "metadata": {},
   "outputs": [
    {
     "data": {
      "text/plain": [
       "10"
      ]
     },
     "execution_count": 49,
     "metadata": {},
     "output_type": "execute_result"
    }
   ],
   "source": [
    "rocky.edad = 10\n",
    "rocky.edad"
   ]
  },
  {
   "cell_type": "markdown",
   "metadata": {},
   "source": [
    "## Metodos de instancias"
   ]
  },
  {
   "cell_type": "markdown",
   "metadata": {},
   "source": [
    "Metodos de instancia son funciones definidas dentro de una clase. Por tanto, unicamente existen dentro del contexto del objeto y no pueden ser utilizados sin referenciar el objeto. Al igual que `__init__()` el primer argumento de un metodo de instancia siempre es `self`."
   ]
  },
  {
   "cell_type": "code",
   "execution_count": 55,
   "metadata": {},
   "outputs": [],
   "source": [
    "class Perro:\n",
    "    especie = 'Canino'\n",
    "    \n",
    "    def __init__(self, nombre, edad):\n",
    "        self.nombre = nombre\n",
    "        self.edad = edad\n",
    "    \n",
    "    def descripcion(self):  # describe la instancia del objeto \n",
    "        return f'{self.nombre} tiene {self.edad} años'  # con informacion util\n",
    "    \n",
    "    def habla(self, sonido):\n",
    "        return f'{self.nombre} dice {sonido}'"
   ]
  },
  {
   "cell_type": "code",
   "execution_count": 56,
   "metadata": {},
   "outputs": [],
   "source": [
    "rocky = Perro('Rocky', 4)"
   ]
  },
  {
   "cell_type": "code",
   "execution_count": 57,
   "metadata": {},
   "outputs": [
    {
     "data": {
      "text/plain": [
       "'Rocky tiene 4 años'"
      ]
     },
     "execution_count": 57,
     "metadata": {},
     "output_type": "execute_result"
    }
   ],
   "source": [
    "rocky.descripcion()"
   ]
  },
  {
   "cell_type": "code",
   "execution_count": 58,
   "metadata": {},
   "outputs": [
    {
     "data": {
      "text/plain": [
       "'Rocky dice Woof woof'"
      ]
     },
     "execution_count": 58,
     "metadata": {},
     "output_type": "execute_result"
    }
   ],
   "source": [
    "rocky.habla('Woof woof')"
   ]
  },
  {
   "cell_type": "markdown",
   "metadata": {},
   "source": [
    "El metodo `descripcion` nos comparte informacion util de la instancia del objeto Perro, e.g. nombre y edad. Sin embargo, Python tiene un metodo especial que uno puede definir para que cuando uno imprima el objeto, el mismo muestre informacion util al usuario. "
   ]
  },
  {
   "cell_type": "code",
   "execution_count": 59,
   "metadata": {},
   "outputs": [
    {
     "name": "stdout",
     "output_type": "stream",
     "text": [
      "<__main__.Perro object at 0x7fc6042e4730>\n"
     ]
    }
   ],
   "source": [
    "# cuando llamamos print(rocky)\n",
    "print(rocky)"
   ]
  },
  {
   "cell_type": "code",
   "execution_count": 62,
   "metadata": {},
   "outputs": [],
   "source": [
    "class Perro:\n",
    "    especie = 'Canino'\n",
    "    \n",
    "    def __init__(self, nombre, edad):\n",
    "        self.nombre = nombre\n",
    "        self.edad = edad\n",
    "    \n",
    "    def habla(self, sonido):\n",
    "        return f'{self.nombre} dice {sonido}'\n",
    "    \n",
    "    def __str__(self):\n",
    "        return f'{self.nombre} tiene {self.edad} años'"
   ]
  },
  {
   "cell_type": "code",
   "execution_count": 63,
   "metadata": {},
   "outputs": [
    {
     "name": "stdout",
     "output_type": "stream",
     "text": [
      "Rocky tiene 4 años\n"
     ]
    }
   ],
   "source": [
    "rocky = Perro('Rocky', 4)\n",
    "print(rocky)"
   ]
  },
  {
   "cell_type": "markdown",
   "metadata": {},
   "source": [
    "## Ejercicios"
   ]
  },
  {
   "cell_type": "markdown",
   "metadata": {},
   "source": [
    "1. Modifique la clase `Perro` para incluid una tercer instancia llamada `color` que guarda el color del perro como string. Guarde la nueva clase en un script y pruebe el codigo al agregar lo siguiente abajo del mismo:\n",
    "\n",
    "```\n",
    "mika = Perro('Mika', 5, 'chocolate')\n",
    "print(f'El color de {mika.nombre} es {mika.color}')\n",
    "```\n",
    "\n",
    "Deberia imprimir:\n",
    "`El color de Mika es chocolate`"
   ]
  },
  {
   "cell_type": "markdown",
   "metadata": {},
   "source": [
    "2. Escriba una clase `Carro` con dos atributos de instancia: color y kilometraje. Luego instancie 2 objetos `Carro`, asi:\n",
    "  * Uno es azul, con 20,000 kilometros\n",
    "  * El otro es rojo, con 30,000 kilometros\n",
    "\n",
    "Deberia imprimir algo asi:\n",
    "```\n",
    "El carro azul tiene 20,000 kilometros\n",
    "El carro azul tiene 30,000 kilometros\n",
    "```"
   ]
  },
  {
   "cell_type": "markdown",
   "metadata": {},
   "source": [
    "3. Modifique la clase `Carro` con un metodo de instancia llamado `.conduce()` que toma un numero como argumento y le agrega ese numero al atributo `.kilometraje`. Pruebe que su solucion funcione instanciando un carro con 0 kilometros, luego llame `.conduce(100)`, y luego imprima el atributo `.kilometraje` para revisar que es de `100`."
   ]
  },
  {
   "cell_type": "markdown",
   "metadata": {},
   "source": [
    "# Hereda de otras clases"
   ]
  },
  {
   "cell_type": "markdown",
   "metadata": {},
   "source": [
    "La herencia es un proceso donde una clase obtiene atributos y metodos de otra. Esto nos permite crear una clase general primero y luego crear clases más especializadas que re-utilizan el código de la clase general. Por tanto, creamos una clase general, y luego una subclase.\n",
    "\n",
    "Las subclases pueden anular y extender los atributos y metodos de la clase general. Es decir, las subclases heredan todos los atributos y metodos pero tambien pueden especificar diferentes atributos y metodos que son exclusivos de la subclase o inclusive re-definir metodos de la clase general.\n",
    "\n",
    "El concepto de la herencia de objetos se puede pensar como herencia genetica, aunque la analogia no es perfecta.\n",
    "\n",
    "Por ejemplo, se puede heredar el color de cabella de una madre, y este es un atributo con el cual nacemos, sin embargo, podemos cambiarnos el color de nuestro cabella a rojo si asi lo deseamos. Esta ultima accion anula el atributo que heredamos.\n",
    "\n",
    "Tambien se hereda, en cierto sentido, el idioma de los padres. Si los padres hablan español, entonces los hijos tambien hablarán español. No obstante, uno puede aprender un idioma nuevo, como el inglés. En este sentido, uno extiendo los atributos heredados, toda vez que hemos agregado un atributo nuevo."
   ]
  },
  {
   "cell_type": "markdown",
   "metadata": {},
   "source": [
    "## La clase `object`"
   ]
  },
  {
   "cell_type": "markdown",
   "metadata": {},
   "source": [
    "El tipo de dato fundamental / primordial es el `object`. Este es el objeto base de todas las clases. Cuando definios una nueva clase, Python implicitamente utiliza `object` como la clase base.\n",
    "\n",
    "Las proximas dos clases son equivalentes."
   ]
  },
  {
   "cell_type": "code",
   "execution_count": 67,
   "metadata": {},
   "outputs": [],
   "source": [
    "# una clase hereda explicitamente de \"object\"\n",
    "class Persona(object):\n",
    "    pass"
   ]
  },
  {
   "cell_type": "code",
   "execution_count": 69,
   "metadata": {},
   "outputs": [],
   "source": [
    "# una clase hereda implicitamente de \"object\"\n",
    "class Persona:\n",
    "    pass"
   ]
  },
  {
   "cell_type": "markdown",
   "metadata": {},
   "source": [
    "## Ejemplo: Parque de Perros"
   ]
  },
  {
   "cell_type": "markdown",
   "metadata": {},
   "source": [
    "Pretendamos que estamos en un parque de perros. Hay muchos perros de diferentes razas en el parque, todos comportandose como perros. Supongamos que tenemos que modelar un parque de parre con clases. La clase `Perro` puede distinguir perros por `nombre` y `edad` pero no por raza."
   ]
  },
  {
   "cell_type": "code",
   "execution_count": 70,
   "metadata": {},
   "outputs": [],
   "source": [
    "class Perro:\n",
    "    species = 'Canino'\n",
    "    \n",
    "    def __init__(self, nombre, edad, raza):\n",
    "        self.nombre = nombre\n",
    "        self.edad = edad\n",
    "        self.raza = raza  # podemos agregar un atributo raza para hacer la distincion"
   ]
  },
  {
   "cell_type": "code",
   "execution_count": 72,
   "metadata": {},
   "outputs": [],
   "source": [
    "rocky = Perro('Rocky', 5, 'Doberman')\n",
    "lucky = Perro('Lucky', 8, 'Beagle')\n",
    "jack = Perro('Jack', 2, 'Labrador')"
   ]
  },
  {
   "cell_type": "markdown",
   "metadata": {},
   "source": [
    "## Clases Generales vs Subclases"
   ]
  },
  {
   "cell_type": "markdown",
   "metadata": {},
   "source": [
    "Vamos a crear una clase para cada una de las razas mencionadas anteriormente: Doberman, Beagle, y Labrador."
   ]
  },
  {
   "cell_type": "code",
   "execution_count": 76,
   "metadata": {},
   "outputs": [],
   "source": [
    "# esta es la clase general que utilizaremos\n",
    "class Perro:\n",
    "    species = 'Canino'\n",
    "    \n",
    "    def __init__(self, nombre, edad):\n",
    "        self.nombre = nombre\n",
    "        self.edad = edad\n",
    "    \n",
    "    def ladra(self, sonido):\n",
    "        return f'{self.nombre} dice {sonido}'\n",
    "    \n",
    "    def __str__(self):\n",
    "        return f'{self.nombre} tiene {self.edad} años de edad'"
   ]
  },
  {
   "cell_type": "code",
   "execution_count": 77,
   "metadata": {},
   "outputs": [],
   "source": [
    "# subclase 1\n",
    "class Doberman(Perro):\n",
    "    pass\n",
    "\n",
    "# subclase 2\n",
    "class Beagle(Perro):\n",
    "    pass\n",
    "\n",
    "# subclase 3\n",
    "class Labrador(Perro):\n",
    "    pass"
   ]
  },
  {
   "cell_type": "code",
   "execution_count": 78,
   "metadata": {},
   "outputs": [],
   "source": [
    "rocky = Doberman('Rocky', 5)\n",
    "lucky = Beagle('Lucky', 8)\n",
    "jack = Labrador('Jack', 2)"
   ]
  },
  {
   "cell_type": "code",
   "execution_count": 79,
   "metadata": {},
   "outputs": [
    {
     "data": {
      "text/plain": [
       "'Canino'"
      ]
     },
     "execution_count": 79,
     "metadata": {},
     "output_type": "execute_result"
    }
   ],
   "source": [
    "# todas las subclases heredan los atributos y metodos de la clase general\n",
    "rocky.species"
   ]
  },
  {
   "cell_type": "code",
   "execution_count": 80,
   "metadata": {},
   "outputs": [
    {
     "data": {
      "text/plain": [
       "'Lucky'"
      ]
     },
     "execution_count": 80,
     "metadata": {},
     "output_type": "execute_result"
    }
   ],
   "source": [
    "lucky.nombre"
   ]
  },
  {
   "cell_type": "code",
   "execution_count": 81,
   "metadata": {},
   "outputs": [
    {
     "data": {
      "text/plain": [
       "'Jack dice Woof'"
      ]
     },
     "execution_count": 81,
     "metadata": {},
     "output_type": "execute_result"
    }
   ],
   "source": [
    "jack.ladra('Woof')"
   ]
  },
  {
   "cell_type": "code",
   "execution_count": 84,
   "metadata": {},
   "outputs": [
    {
     "data": {
      "text/plain": [
       "True"
      ]
     },
     "execution_count": 84,
     "metadata": {},
     "output_type": "execute_result"
    }
   ],
   "source": [
    "# podemos determinar si la clase es una instancia de Perro con isinstance()\n",
    "isinstance(rocky, Perro)"
   ]
  },
  {
   "cell_type": "code",
   "execution_count": 83,
   "metadata": {},
   "outputs": [
    {
     "data": {
      "text/plain": [
       "False"
      ]
     },
     "execution_count": 83,
     "metadata": {},
     "output_type": "execute_result"
    }
   ],
   "source": [
    "# pero un Doberman no es una instancia de un Beagle\n",
    "isinstance(rocky, Beagle)"
   ]
  },
  {
   "cell_type": "markdown",
   "metadata": {},
   "source": [
    "## Extendiendo la Funcionalidad de la Clase General"
   ]
  },
  {
   "cell_type": "markdown",
   "metadata": {},
   "source": [
    "Hasta el momento tenemos cuatro clases: la clase general `Perro` y tres (3) subclases: `Doberman`, `Beagle` y `Labrador`. Toda las subclases heredan cada atributo y metodo de la clase general, incluyendo el metodo `ladra()`.\n",
    "\n",
    "Ya que distintas razas de perro tienen un sonido particular cuando ladran, queremos proporcionar un valor particular para el sonido de cada raza."
   ]
  },
  {
   "cell_type": "code",
   "execution_count": 87,
   "metadata": {},
   "outputs": [],
   "source": [
    "class Doberman(Perro):\n",
    "    def ladra(self, sonido='Arf'):\n",
    "        return f'{self.nombre} dice {sonido}'"
   ]
  },
  {
   "cell_type": "code",
   "execution_count": 88,
   "metadata": {},
   "outputs": [
    {
     "data": {
      "text/plain": [
       "'Rocky dice Arf'"
      ]
     },
     "execution_count": 88,
     "metadata": {},
     "output_type": "execute_result"
    }
   ],
   "source": [
    "# el metodo ladra() ahora esta definido en la subclase Doberman con un sonido particular\n",
    "rocky = Doberman('Rocky', 5)\n",
    "rocky.ladra()"
   ]
  },
  {
   "cell_type": "markdown",
   "metadata": {},
   "source": [
    "## Ejercicios"
   ]
  },
  {
   "cell_type": "markdown",
   "metadata": {},
   "source": [
    "1. Crea una subclase `GoldenRetriever` y agrega un metodo `ladra()` que utiliza un sonido particular. Puede utilizar la clase general compartida anteriormente."
   ]
  },
  {
   "cell_type": "markdown",
   "metadata": {},
   "source": [
    "2. Crea una clase `Rectangulo` que debe ser instanciada con 2 atributos: `largo` y `ancho`. Agrega un metodo llamado `area()` que retorna al area (`largo * ancho`) del rectangulo. Luego escribe una clase `Cuadrado` que hereda de `Rectangulo` y que se instancia con un solo atributo llamado `largo_de_lado`. Prueba la clase `Cuadrado` instanciandola con un `largo_de_lado` de `4`. Si ejecutamos el metodo `area()` debe retornar `16`."
   ]
  },
  {
   "cell_type": "markdown",
   "metadata": {},
   "source": [
    "# Reto: Modela una Granja"
   ]
  },
  {
   "cell_type": "markdown",
   "metadata": {},
   "source": [
    "Los requerimentos estan abiertos a interpretacion:\n",
    "1. Debemos tener por lo menos cuatro (4) clases: la clase general `Animal` y por lo menos tres (3) subclases que heredan de la clase general.\n",
    "2. Cada clase debe tener unos cuantos atributos y por lo menos un (1) metodo que modela algun comportamiento especifico del animal o todos los animales, e.g. caminar, correr, comer, dormir, entre otros.\n",
    "3. Asegurese que los datos de salida detallan la informacion y comportamiento correctamente."
   ]
  },
  {
   "cell_type": "markdown",
   "metadata": {},
   "source": [
    "# Resumen"
   ]
  },
  {
   "cell_type": "markdown",
   "metadata": {},
   "source": [
    "Hemos aprendido un poco sobre la programacion orientada a objetos, lo cual es un paradigma de la programacion que no es exclusivo a Python. \n",
    "\n",
    "Vimos como definir una clase, que es como un plano / prototipo de un objeto, y como instanciar un objeto de una clase. Tambien aprendimos sobre atributos, que son propiedades de un objeto, y metodos, que son comportamientos y acciones de un objeto. \n",
    "\n",
    "Finalmente, aprendimos como funciona la herencia al crear subclases de clases generales, y como verificar si un objeto hereda de una clase utilizando `isinstance()`."
   ]
  }
 ],
 "metadata": {
  "kernelspec": {
   "display_name": "Python 3",
   "language": "python",
   "name": "python3"
  },
  "language_info": {
   "codemirror_mode": {
    "name": "ipython",
    "version": 3
   },
   "file_extension": ".py",
   "mimetype": "text/x-python",
   "name": "python",
   "nbconvert_exporter": "python",
   "pygments_lexer": "ipython3",
   "version": "3.8.1"
  }
 },
 "nbformat": 4,
 "nbformat_minor": 4
}
