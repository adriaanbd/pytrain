{
 "cells": [
  {
   "cell_type": "markdown",
   "metadata": {},
   "source": [
    "# Archivo Entrada y Salida"
   ]
  },
  {
   "cell_type": "markdown",
   "metadata": {},
   "source": [
    "Los programas requieren datos, y a veces muchos datos. Hay diferentes maneras de guardar y acceder a ello, pero una de las mas comunes es a traves del sistema de archivos de una computadora. Por tanto, trabajar con archivos es una herramienta sumamente util para cualquier programador. \n",
    "\n",
    "Operacions comunes involucran: guardando el dato de salida de un programa a un archivo de texto, limpiar un documento tabulado a fin que cada columna este en el formato correcto, o eliminar archivos grandes de un directorio en el disco duro.\n",
    "\n",
    "En esta seccion aprenderemos a:\n",
    "1. Leer y escribir archivos\n",
    "2. Trabajar con rutas de archivos\n",
    "3. Trabajar con archivos CSV"
   ]
  },
  {
   "cell_type": "markdown",
   "metadata": {},
   "source": [
    "# Leer y escribir archivos"
   ]
  },
  {
   "cell_type": "markdown",
   "metadata": {},
   "source": [
    "Hasta ahora hemos visto programas que toman dato de entrada del mismo programa o del usuario. Si han trabajado con muchos datos, estos metodos son problematicos. En muchas aplicaciones, el dato de entrada es leido de algun(os) archivo(s). Python tiene herramientas que nos permiten realizar estas operaciones."
   ]
  },
  {
   "cell_type": "markdown",
   "metadata": {},
   "source": [
    "## Escribir a un archivo"
   ]
  },
  {
   "cell_type": "markdown",
   "metadata": {},
   "source": [
    "Para escribir un archivo de texto sin formato, podemos utilizar la funcion general incorporada `open()`. Cuando abrimos un archivo con `open()`, lo primero que debemos determinar es si realizamos una operacion de lectura o de escritura."
   ]
  },
  {
   "cell_type": "code",
   "execution_count": null,
   "metadata": {},
   "outputs": [],
   "source": [
    "# abrir y escribir a un archivo\n",
    "archivo_salida = open('hola.txt', 'w')  # abrimos en modo \"w\" de escritura"
   ]
  },
  {
   "cell_type": "code",
   "execution_count": null,
   "metadata": {},
   "outputs": [],
   "source": [
    "# escribimos una linea de texto con writelines()\n",
    "archivo_salida.writelines('Este es mi primer archivo')\n",
    "archivo_salida.close()"
   ]
  },
  {
   "cell_type": "markdown",
   "metadata": {},
   "source": [
    "Cuando solo proporcionamos el nombre del archivo, este se creará en el mismo directorio que tiene el script, toda vez que no proporcionamos la ruta del archivo.\n",
    "\n",
    "Cuando abrimos un archivo con `open()`, siempre debemos cerrar el archivo con `close()`. Python cierra automaticamente los archivos que uno abre, pero si no los cerramos, puede ocasionar problemas no esperados. \n",
    "\n",
    "Despues de ejecutar el script, observamos un archivo nuevo en el directorio denominado `hola.txt`, con la linea escrita `Este es mi primer archivo`."
   ]
  },
  {
   "cell_type": "code",
   "execution_count": null,
   "metadata": {},
   "outputs": [],
   "source": [
    "# writelines() tambien toma una lista de lineas \n",
    "archivo_salida = open('hola.txt', 'w')  # si abrimos un archivo existente, el contenido viejo se borra\n",
    "lineas = [\n",
    "    'Este archivo es nuevo',\n",
    "    'Contiene esta linea',\n",
    "    'Esta otra linea tambien'\n",
    "]\n",
    "archivo_salida.writelines(lineas)  # las lineas son escritas seguidamente sin espacio\n",
    "archivo_salida.close()"
   ]
  },
  {
   "cell_type": "code",
   "execution_count": null,
   "metadata": {},
   "outputs": [],
   "source": [
    "# para escribir en una linea nueva, insertemos el caracter de nueva linea \"\\n\"\n",
    "archivo_salida = open('hola.txt', 'w') \n",
    "lineas = [\n",
    "    'Este archivo es nuevo',\n",
    "    '\\nContiene esta linea',     # \\n en linea nueva\n",
    "    '\\nEsta otra linea tambien'  # \\n en linea nueva\n",
    "]\n",
    "archivo_salida.writelines(lineas)  # las lineas son escritas seguidamente sin espacio\n",
    "archivo_salida.close()"
   ]
  },
  {
   "cell_type": "markdown",
   "metadata": {},
   "source": [
    "Si abrimos el archivo, observamos cada linea en una linea nueva:\n",
    "\n",
    "```\n",
    "Este archivo es nuevo\n",
    "Contiene esta linea\n",
    "Esta otra linea tambien\n",
    "```"
   ]
  },
  {
   "cell_type": "code",
   "execution_count": null,
   "metadata": {},
   "outputs": [],
   "source": [
    "# podemos abrir el archivo en modo \"a\" que permita \"adjuntar\"\n",
    "archivo_salida = open('hola.txt', 'a')  # abrimos el archivo pero no borra el contenido\n",
    "archivo_salida.writelines('\\nEsta linea se adjunta')  # linea nueva\n",
    "archivo_salida.close()  "
   ]
  },
  {
   "cell_type": "markdown",
   "metadata": {},
   "source": [
    "Si abrimos el archivo, observamos cada linea en una linea nueva:\n",
    "\n",
    "```\n",
    "Este archivo es nuevo\n",
    "Contiene esta linea\n",
    "Esta otra linea tambien\n",
    "Esta linea se adjunta\n",
    "```"
   ]
  },
  {
   "cell_type": "markdown",
   "metadata": {},
   "source": [
    "## Leer un archivo"
   ]
  },
  {
   "cell_type": "code",
   "execution_count": null,
   "metadata": {},
   "outputs": [],
   "source": [
    "# abrimos el archivo en modo lectura \"r\" \n",
    "archivo_entrada = open('hola.txt', 'r')\n",
    "print(archivo_entrada.readlines())  # utilizamos el metodo readlines() que retorna una lista de lineas\n",
    "archivo_entrada.close()"
   ]
  },
  {
   "cell_type": "code",
   "execution_count": null,
   "metadata": {},
   "outputs": [],
   "source": [
    "# ya que el archivo retorna una lista, podemos ciclar sobre la misma\n",
    "archivo_entrada = open('hola.txt', 'r')\n",
    "for linea in archivo_entrada.readlines():\n",
    "    print(linea)\n",
    "archivo_entrada.close()"
   ]
  },
  {
   "cell_type": "code",
   "execution_count": null,
   "metadata": {},
   "outputs": [],
   "source": [
    "# observamos que hay una nueva linea vacia entre cada linea, podemos anular este comportamiento\n",
    "archivo_entrada = open('hola.txt', 'r')\n",
    "for linea in archivo_entrada.readlines():\n",
    "    print(linea, end='')  # print incluye nueva linea automaticamente, especificamos comportamiento deseado end=''\n",
    "archivo_entrada.close()"
   ]
  },
  {
   "cell_type": "code",
   "execution_count": null,
   "metadata": {},
   "outputs": [],
   "source": [
    "# podemos leer linea por linea con readline() en singular\n",
    "archivo_entrada = open('hola.txt', 'r')\n",
    "linea = archivo_entrada.readline()  # lee la primera linea\n",
    "while linea != '':  # si no hemos llegao al fin\n",
    "    print(linea, end='')  # imprime la linea\n",
    "    linea = archivo_entrada.readline()  # lee la proxima linea\n",
    "archivo_entrada.close()"
   ]
  },
  {
   "cell_type": "markdown",
   "metadata": {},
   "source": [
    "Cuando Python lee un archivo, gestiona un tipo de marcador que recuerda su ubicacion en el documento. Es asi como el metodo readline() funciona, ya que lee la primera linea, y cuando el metodo se ejecuta nuevamente, Python lee el documento a partir de donde dejó el marcador la última vez, por tanto lee la próxima linea del documento, y asi sucesivamente hasta llegar al final del archivo. Cuando se cierra el archivo con `close()`, el marcado vuelve a reiniciarse, a fin de que la proxima vez empieze desde el principio del archivo. El metodo `readlines()` tambien se comporta de la misma manera. \n",
    "\n",
    "Esto lo podemos comprobar si leemos el archivo, ejecutamos readlines, y sin cerrar el archivo, ejecutamos nuevamente el metodo `readlines()`. Ya que el marcador sigue al final del documento, `readlines()` no retorna linea alguna, porque no hay nada que leer."
   ]
  },
  {
   "cell_type": "code",
   "execution_count": null,
   "metadata": {},
   "outputs": [],
   "source": [
    "archivo_entrada = open('hola.txt', 'r')\n",
    "print('Primera vez:')\n",
    "for linea in archivo_entrada.readlines():\n",
    "    print(linea, end='')\n",
    "    \n",
    "print('\\n\\nSegunda vez:')\n",
    "for linea in archivo_entrada.readlines():\n",
    "    print(linea, end='')\n",
    "archivo_entrada.close()"
   ]
  },
  {
   "cell_type": "code",
   "execution_count": null,
   "metadata": {},
   "outputs": [],
   "source": [
    "# si queremos acceder al contenido del archivo nuevamente, es mejor guardarlo en una lista\n",
    "archivo_entrada = open('hola.txt', 'r')\n",
    "\n",
    "lineas = archivo_entrada.readlines()\n",
    "    \n",
    "print('Primera vez:')\n",
    "for linea in lineas:\n",
    "    print(linea, end='')\n",
    "    \n",
    "print('\\n\\nSegunda vez:')\n",
    "for linea in lineas:\n",
    "    print(linea, end='')\n",
    "archivo_entrada.close()"
   ]
  },
  {
   "cell_type": "code",
   "execution_count": null,
   "metadata": {},
   "outputs": [],
   "source": [
    "# para no tener que cerrar el archivo, Python lo hace automaticamente con la palabra with\n",
    "# with establece un contexto\n",
    "with open('hola.txt', 'r') as archivo:\n",
    "    for line in archivo.readlines():\n",
    "        print(line)"
   ]
  },
  {
   "cell_type": "code",
   "execution_count": null,
   "metadata": {},
   "outputs": [],
   "source": [
    "# podemos abrir mutiples archivos en la misma operacion\n",
    "with open('hola.txt', 'r') as fuente, open('salida.txt', 'w') as salida:\n",
    "    for line in fuente.readlines():\n",
    "        salida.write(line)\n",
    "\n",
    "# todo el contenido del primer archivo se copio a este\n",
    "with open('salida.txt', 'r') as archivo:\n",
    "    for line in archivo.readlines():\n",
    "        print(line)"
   ]
  },
  {
   "cell_type": "markdown",
   "metadata": {},
   "source": [
    "## Ejercicios\n",
    "\n",
    "1. Abra y escriba un archivo que contenga varias lineas utilizando writelines()\n",
    "2. Abra el archivo que escribio y lea sus contenidos con readlines() y readline()\n",
    "3. Abra y lea el archivo que escribio utilizando with() \n",
    "4. Abra y lear al archivo que escribio utilizando with() y copie los contenidos del mismo a otro archivo"
   ]
  },
  {
   "cell_type": "markdown",
   "metadata": {},
   "source": [
    "# Trabajando con Rutas en Python"
   ]
  },
  {
   "cell_type": "markdown",
   "metadata": {},
   "source": [
    "Lo mas probable es que vamos a necesitar abrir archivos ubicados en otros directorios, y no solamente los archivos ubicados en el directorio actual donde reside el script. Para acceder a distintos directorions, podemos ingresar la ruta completa directamente como argumento a la funcion incorporada `open(ruta_absoluta_del_archivo)`"
   ]
  },
  {
   "cell_type": "code",
   "execution_count": null,
   "metadata": {},
   "outputs": [],
   "source": [
    "archivo = open('C:/home/adriaanbd/documentos/hola.txt', 'r')  # esta ruta no existe actualmente, es solo un ejemplo"
   ]
  },
  {
   "cell_type": "markdown",
   "metadata": {},
   "source": [
    "Observemos el uso del `/`. Las rutas de Windows contienen un `\\` en vez de un `/`, pero en Python podemos substituir el `\\` por el `/`, toda vez que el `\\` tiene un significado especial en Python por ser utilizado como un caracter de escape, lo que quiere decir que el caracter que le sigue inmediatamente, e.g. `\\n` es tratado como caracter especial. Python entiende que el uso del `\\` con el caracter a continuacion es un caracter especial. Por ejemplo, `\\n` significa una nueva linea, `\\t` significa un caracter `tab` que representa 2 o 4 caracteres de espacios en la misma linea."
   ]
  },
  {
   "cell_type": "code",
   "execution_count": null,
   "metadata": {},
   "outputs": [],
   "source": [
    "# podemos utilizar el \\ de la siguiente manera\n",
    "path = r'C:\\home\\adriaanbd\\documentos\\hola.txt'  # no exista la ruta, es solo un ejemplo"
   ]
  },
  {
   "cell_type": "markdown",
   "metadata": {},
   "source": [
    "## El modulo `os`"
   ]
  },
  {
   "cell_type": "markdown",
   "metadata": {},
   "source": [
    "Si deseamos hacer algo mas avanzado con estructuras de archivos, vamos a tener que hacer uso del modulo `os`, que expone varias funciones del sistema operativo. Lo primero que tenemos que hacer es importar el modulo."
   ]
  },
  {
   "cell_type": "code",
   "execution_count": null,
   "metadata": {},
   "outputs": [],
   "source": [
    "# esto importa el modulo al programa\n",
    "import os "
   ]
  },
  {
   "cell_type": "code",
   "execution_count": null,
   "metadata": {},
   "outputs": [],
   "source": [
    "# para crear un directorio nuevo en el directorio donde reside este programa\n",
    "os.mkdir('mi-directorio')  "
   ]
  },
  {
   "cell_type": "code",
   "execution_count": null,
   "metadata": {},
   "outputs": [],
   "source": [
    "# para crear el directorio en una ruta especifica\n",
    "ruta = 'C:/home/adriaanbd/documentos'  \n",
    "os.mkdir(os.path.join(path, 'mi-directorio'))  # utilizemos os.path.join para concatenar dos strings"
   ]
  },
  {
   "cell_type": "code",
   "execution_count": null,
   "metadata": {},
   "outputs": [],
   "source": [
    "# pudimos haber concatenado asi tambien:\n",
    "ruta = 'C:/home/adriaanbd/documentos'  \n",
    "directorio = ruta + '/' + 'mi-directorio'\n",
    "print(directorio)"
   ]
  },
  {
   "cell_type": "code",
   "execution_count": null,
   "metadata": {},
   "outputs": [],
   "source": [
    "# para eliminar un directorio usemos rmdir()\n",
    "os.rmdir(directorio)"
   ]
  },
  {
   "cell_type": "code",
   "execution_count": null,
   "metadata": {},
   "outputs": [],
   "source": [
    "# para obtener una lista de los archivos en un directorio usemos os.listdir()\n",
    "os.listdir()"
   ]
  },
  {
   "cell_type": "code",
   "execution_count": null,
   "metadata": {},
   "outputs": [],
   "source": [
    "# una lista de los archivos con terminacion txt usando endswith()\n",
    "for archivo in os.listdir():\n",
    "    if archivo.lower().endswith('txt'):\n",
    "        print(archivo)"
   ]
  },
  {
   "cell_type": "markdown",
   "metadata": {},
   "source": [
    "## el modulo `glob`"
   ]
  },
  {
   "cell_type": "code",
   "execution_count": null,
   "metadata": {},
   "outputs": [],
   "source": [
    "# este modulo nos ayuda a encontrar patrones con caracteres comodin\n",
    "import glob\n",
    "glob.glob('*.txt')  # el asterisco * es un comodin que representa todo, por tanto todo archivo con extension .txt"
   ]
  },
  {
   "cell_type": "markdown",
   "metadata": {},
   "source": [
    "## Verificando la existencia de archivos y directorios"
   ]
  },
  {
   "cell_type": "code",
   "execution_count": null,
   "metadata": {},
   "outputs": [],
   "source": [
    "for archivo in os.listdir():\n",
    "    print(os.path.isdir(archivo))  # es un directorio?"
   ]
  },
  {
   "cell_type": "code",
   "execution_count": null,
   "metadata": {},
   "outputs": [],
   "source": [
    "for archivo in os.listdir():\n",
    "    print(os.path.isfile(archivo))  # es un archivo?"
   ]
  },
  {
   "cell_type": "code",
   "execution_count": null,
   "metadata": {},
   "outputs": [],
   "source": [
    "for archivo in os.listdir():\n",
    "    print(os.path.exists(archivo))  # el archivo existe?"
   ]
  },
  {
   "cell_type": "markdown",
   "metadata": {},
   "source": [
    "## Ejercicios\n",
    "\n",
    "1. Imprime la ruta absoluta de todos los archivos y directorios en el directorio de `Documentos/` en su computador\n",
    "2. Imprima la ruta absoluta de todos los archivos .txt en el directorio actual"
   ]
  },
  {
   "cell_type": "markdown",
   "metadata": {},
   "source": [
    "# Lea y Escriba Data CSV"
   ]
  },
  {
   "cell_type": "markdown",
   "metadata": {},
   "source": [
    "Los archivos del dia a dia son un poco mas complicados que archivos simples de texto. Para modificar el contenido de estos archivo, necesitamos un poco mas de herramientas. \n",
    "\n",
    "Una manera comun para guardar datos de texto es en archivos CSV, que por sus siglas en ingles significa Valores Separados por Comma, toda vez que cada entrada en una fila de datos es usualmente separada de otras entrada con una coma. Por ejemplo:\n",
    "\n",
    "```\n",
    "Nombre, Apellido, Edad\n",
    "Juan, Perez, 40\n",
    "Juana, Perez, 45\n",
    "```\n",
    "\n",
    "Cada linea representa una fila de datos, incluyendo la primera fila que representa el encabezamiento de la informacion. Cada entrada aparece en el mismo orden para cada fila, con cada entrada separada de otras con comas. \n",
    "\n",
    "Python tiene un modulo `csv` que nos permite realizar operacions necesarias para la gestion de archivos CSV."
   ]
  },
  {
   "cell_type": "markdown",
   "metadata": {},
   "source": [
    "## Leer un archivo CSV"
   ]
  },
  {
   "cell_type": "code",
   "execution_count": null,
   "metadata": {
    "scrolled": false
   },
   "outputs": [],
   "source": [
    "# leemos un archivo con csv.reader(archivo)\n",
    "import csv\n",
    "import os\n",
    "\n",
    "archivo = 'datos/llamadas.csv'\n",
    "with open(archivo, 'r') as datos:\n",
    "    lector = csv.reader(datos)\n",
    "    for registro in lector:\n",
    "        print(registro)"
   ]
  },
  {
   "cell_type": "markdown",
   "metadata": {},
   "source": [
    "## Escribir a un archivo"
   ]
  },
  {
   "cell_type": "code",
   "execution_count": 11,
   "metadata": {},
   "outputs": [
    {
     "name": "stdout",
     "output_type": "stream",
     "text": [
      "[['Nombre', 'Apellido'], ['Juan', 'Perez'], ['Juana', 'Perez']]\n"
     ]
    }
   ],
   "source": [
    "# escribimos un archivo con csv.writer(archivo)\n",
    "import csv\n",
    "import os\n",
    "\n",
    "archivo = 'salida/ejemplo.csv'\n",
    "\n",
    "# os.mkdir('salida')\n",
    "\n",
    "nombres = [\n",
    "    ['Nombre', 'Apellido'],\n",
    "    ['Juan', 'Perez'],\n",
    "    ['Juana', 'Perez']\n",
    "]\n",
    "\n",
    "with open(archivo, 'w') as salida:\n",
    "    escritor = csv.writer(salida)\n",
    "    escritor.writerows(nombres)\n",
    "\n",
    "with open(archivo, 'r') as entrada:\n",
    "    lector = csv.reader(entrada)\n",
    "    print(list(lector))"
   ]
  },
  {
   "cell_type": "markdown",
   "metadata": {},
   "source": [
    "## Ejercicios\n",
    "\n",
    "1. Escriba un script que escriba un archivo csv con informacion inventada, puede ser cualquier cosa, pero que tenga columnas, e.g. Nombre, Apellido, Edad, etc.\n",
    "2. Escriba un script que lea el archivo escrito e imprima cada fila del archivo"
   ]
  },
  {
   "cell_type": "markdown",
   "metadata": {},
   "source": [
    "# Reto: Puntos de Acceso de la Red Nacional de Internet por Provincia\n",
    "\n",
    "Escriba un script que lea el archivo csv `datos/rni-puntos-de-acceso.csv` (se le entregará) que contiene informacion de todos los puntos de acceso de la red nacional de internet de Panama, y escriba un archivo csv nuevo `datos/rni-pda-por-provincia.csv`, que contiene lo siguiente:\n",
    "1. Provincia y Puntos de Acceso como encabezado\n",
    "2. El nombre de la provincia, y el numero total de Puntos de Acceso como fila"
   ]
  },
  {
   "cell_type": "code",
   "execution_count": 7,
   "metadata": {},
   "outputs": [
    {
     "name": "stdout",
     "output_type": "stream",
     "text": [
      "['Regi¢n', 'PA', 'Nombre', 'Provincia', 'Distrito', 'Corregimiento', 'Tipo UM', 'Latitude', 'Longitude', 'Fecha de Activaci¢n']\n",
      "['1', '1', 'Colegio Rogelio Josu\\x82 Ibarra', 'Bocas del Toro', 'Bocas del Toro', 'Bocas del Toro', 'FO', '9.340654', '-82.242499', '12/07/17']\n",
      "['1', '3', 'Escuela Rep£blica de Nicaragua', 'Bocas del Toro', 'Bocas del Toro', 'Bocas del Toro', 'FO', '9.338938', '-82.242668', '12/07/17']\n",
      "['1', '4', 'Gobernaci¢n', 'Bocas del Toro', 'Bocas del Toro', 'Bocas del Toro', 'FO', '9.297858', '-82.41136', '23/11/17']\n",
      "['1', '5', 'Parque Sim¢n Bol¡var', 'Bocas del Toro', 'Bocas del Toro', 'Bocas del Toro', 'FO', '9.340183', '-82.240631', '12/07/17']\n"
     ]
    }
   ],
   "source": [
    "# un ejemplo practico\n",
    "\n",
    "import csv\n",
    "import os\n",
    "\n",
    "archivo = 'datos/rni-puntos-de-acceso.csv'\n",
    "with open(archivo, 'r', encoding='latin-1') as entrada, open('salida/rni-pda-chiriqui.csv', 'w') as salida:\n",
    "    lector = csv.reader(entrada)  # para leer\n",
    "    escritor = csv.writer(salida)  # para escribir\n",
    "    for registro in lector:\n",
    "        provincia = registro[3]\n",
    "        if provincia.startswith('Chi'):\n",
    "            escritor.writerow(registro)\n",
    "\n",
    "with open(archivo, 'r', encoding='latin-1') as entrada:\n",
    "    lector = csv.reader(entrada)\n",
    "    for registro in list(lector)[:5]:\n",
    "        print(registro)"
   ]
  },
  {
   "cell_type": "markdown",
   "metadata": {},
   "source": [
    "# Resumen\n",
    "\n",
    "Hemos aprendido como trabajar con archivos en Python. Ahora podemos abrir un archivo para leer y escribir con la funcion `open()`, que toma dos argumentos: un string que contiene la ruta al archivo, y un string que contiene el modo de abrir el archivo, e.g. `r` para leer y `w` para escribir.\n",
    "\n",
    "Tambien vimos como trabajar con archivos utilizando el modulo `os`, como crear y borrar directorios con `os.mkdir()` y `os.rmdir()`. \n",
    "\n",
    "Finalmente, aprendimos como trabajar con archivos CSV, que es un tipo de archivo estandar para guardar datos por categoria. Vimos como leer data en un CSV con `csv.reader()`, que retorna cada fila del CSV como una lista, y vimos como escribir filas de datos a un CSV utilizando `csv.writer()`."
   ]
  }
 ],
 "metadata": {
  "kernelspec": {
   "display_name": "Python 3",
   "language": "python",
   "name": "python3"
  },
  "language_info": {
   "codemirror_mode": {
    "name": "ipython",
    "version": 3
   },
   "file_extension": ".py",
   "mimetype": "text/x-python",
   "name": "python",
   "nbconvert_exporter": "python",
   "pygments_lexer": "ipython3",
   "version": "3.8.1"
  }
 },
 "nbformat": 4,
 "nbformat_minor": 4
}
