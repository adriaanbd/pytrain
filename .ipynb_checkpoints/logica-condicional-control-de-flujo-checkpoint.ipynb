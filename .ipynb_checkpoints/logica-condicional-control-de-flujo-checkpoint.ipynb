{
 "cells": [
  {
   "cell_type": "markdown",
   "metadata": {},
   "source": [
    "# Logica Condicional y Control de Flujo"
   ]
  },
  {
   "cell_type": "markdown",
   "metadata": {},
   "source": [
    "Hasta el momento, todo el codigo que hemos visto ha sido incondicional. El codigo no tuvo que tomar decision alguna. Cada linea de codigo es ejecutada en el orden que es escrita o en el orden en que las funciones han sido llamadas, con posibles repeticiones adentro del `loop`.\n",
    "\n",
    "En esta seccion aprenderemos como escribir programas que realizan distintas acciones a base de distintas condiciones, utilizando **logica condicional**.\n",
    "\n",
    "Vamos a:\n",
    "1. Comparar valores con dos o mas variables\n",
    "2. Escribir delcaraciones `if` para controlar el flujo de nuestro programa\n",
    "3. Gestionar errores con `try` y `except`\n",
    "4. Aplicar logica condicional para creat simulaciones simples"
   ]
  },
  {
   "cell_type": "markdown",
   "metadata": {},
   "source": [
    "## Comparacion de valores"
   ]
  },
  {
   "cell_type": "markdown",
   "metadata": {},
   "source": [
    "Logica condicional radica en la realizacion condicionada de distintas acciones. Condicionada porque la realizacion de las mismas depende si una expresion, llamada condicion, es veridica o no. \n",
    "\n",
    "Las condiciones en muchas ocasiones radican en comparar dos valores, e.g. si un valor es mas alto que el otro o si los dos valores son iguales. Un estandar de simbolos utilizado para este fin son los comparadores booleanos.\n",
    "\n",
    "\n",
    "|Comparador|Ejemplo|Significado|\n",
    "|---|---|---|\n",
    "|>|a > b|a es mayor que b|\n",
    "|<|a < b|a es menor que b|\n",
    "|>=|a >= b|a es mayor o igual a b|\n",
    "|<=|a <= b|a es menor o igual a b|\n",
    "|!=|a != b|a no es igual a b|\n",
    "|==|a == b|a es igual a b|"
   ]
  },
  {
   "cell_type": "code",
   "execution_count": null,
   "metadata": {},
   "outputs": [],
   "source": [
    "# mayor\n",
    "2 > 1"
   ]
  },
  {
   "cell_type": "code",
   "execution_count": null,
   "metadata": {},
   "outputs": [],
   "source": [
    "# menor\n",
    "1 < 2"
   ]
  },
  {
   "cell_type": "code",
   "execution_count": null,
   "metadata": {},
   "outputs": [],
   "source": [
    "# mayor o igual\n",
    "1 >= 1"
   ]
  },
  {
   "cell_type": "code",
   "execution_count": null,
   "metadata": {},
   "outputs": [],
   "source": [
    "# menor o igual\n",
    "1 <= 1"
   ]
  },
  {
   "cell_type": "code",
   "execution_count": null,
   "metadata": {},
   "outputs": [],
   "source": [
    "# anti-equivalencia\n",
    "1 != 1"
   ]
  },
  {
   "cell_type": "code",
   "execution_count": null,
   "metadata": {},
   "outputs": [],
   "source": [
    "# equivalencia\n",
    "1 == 1"
   ]
  },
  {
   "cell_type": "markdown",
   "metadata": {},
   "source": [
    "El termino **boolean** es derivado del apellido del Matematico ingles **George Boole**, cuyas obras sentaron las bases de la computacion moderna. En honor a Boole, la logica condicional es conocida como **logica booleana** y las condicionales son referidas como **expresiones booleanas**.\n",
    "\n",
    "Existe tambien un tipo de dato llamado **boolean** o formalmente `bool`, que consiste en dos valores: `True` y `False`"
   ]
  },
  {
   "cell_type": "code",
   "execution_count": null,
   "metadata": {},
   "outputs": [],
   "source": [
    "type(True)"
   ]
  },
  {
   "cell_type": "code",
   "execution_count": null,
   "metadata": {},
   "outputs": [],
   "source": [
    "type(False)"
   ]
  },
  {
   "cell_type": "code",
   "execution_count": null,
   "metadata": {},
   "outputs": [],
   "source": [
    "# evaluando una condicional siempre retorna un valor booleano\n",
    "3 > 5"
   ]
  },
  {
   "cell_type": "code",
   "execution_count": null,
   "metadata": {},
   "outputs": [],
   "source": [
    "# tambien podemos comparar caracteres\n",
    "'a' == 'a'"
   ]
  },
  {
   "cell_type": "code",
   "execution_count": null,
   "metadata": {},
   "outputs": [],
   "source": [
    "'a' == 'b'"
   ]
  },
  {
   "cell_type": "code",
   "execution_count": null,
   "metadata": {},
   "outputs": [],
   "source": [
    "# sorprendido?\n",
    "'a' < 'b'  # orden lexicografico"
   ]
  },
  {
   "cell_type": "code",
   "execution_count": null,
   "metadata": {},
   "outputs": [],
   "source": [
    "# la letra a no viene despues de la b\n",
    "'a' > 'b'"
   ]
  },
  {
   "cell_type": "code",
   "execution_count": null,
   "metadata": {},
   "outputs": [],
   "source": [
    "# el orden lexicografico se extiende a strings con dos o mas caracteres\n",
    "'arte' < 'arbol'"
   ]
  },
  {
   "cell_type": "markdown",
   "metadata": {},
   "source": [
    "### Ejercicios"
   ]
  },
  {
   "cell_type": "markdown",
   "metadata": {},
   "source": [
    "Adivinemos el resultado de las siguientes expresiones:\n",
    "\n",
    "```\n",
    "1 < = 1\n",
    "1 != 1\n",
    "1 != 2\n",
    "'bien' != 'mal'\n",
    "'bien' !- 'Bien'\n",
    "123 == '123'\n",
    "```"
   ]
  },
  {
   "cell_type": "markdown",
   "metadata": {},
   "source": [
    "Adivine el comparador booleano indicado para que la expresion evalue a True\n",
    "```\n",
    "3 _ 4\n",
    "10 _ 5\n",
    "'jorge' _ 'jose'\n",
    "42 _ '42'\n",
    "```"
   ]
  },
  {
   "cell_type": "markdown",
   "metadata": {},
   "source": [
    "##  Algo de logica"
   ]
  },
  {
   "cell_type": "markdown",
   "metadata": {},
   "source": [
    "En adicion a los comparadores booleanos, Python tiene palabras especiales llamadas **operadores logicos** que puede ser utilizados para combinar expresioens booleanas. Existen tres operadores logicos:\n",
    "1. `and`\n",
    "2. `or`\n",
    "3. `not`"
   ]
  },
  {
   "cell_type": "markdown",
   "metadata": {},
   "source": [
    "### La palabra `and`"
   ]
  },
  {
   "cell_type": "markdown",
   "metadata": {},
   "source": [
    "Considera la proxima declaracion:\n",
    "1. Gatos tienen cuatro patas\n",
    "2. Gatos tienen colas\n",
    "\n",
    "En general, ambas declaraciones son veridicas. Si unimos ambas declaraciones con la palabra `and`, la expresion booleada sigue siendo cierta porque ambas cosas son ciertas. Esta palabra retorna `True` si ambos lados de la palabra evaluan a `True`, de lo contrario retorna `False`"
   ]
  },
  {
   "cell_type": "code",
   "execution_count": null,
   "metadata": {},
   "outputs": [],
   "source": [
    "1 < 2 and 3 < 4  # ambos ciertos"
   ]
  },
  {
   "cell_type": "code",
   "execution_count": null,
   "metadata": {},
   "outputs": [],
   "source": [
    "1 < 2 and 3 > 4  # un cierto un falso"
   ]
  },
  {
   "cell_type": "code",
   "execution_count": null,
   "metadata": {},
   "outputs": [],
   "source": [
    "2 < 1 and 4 < 3  # ambos falsos"
   ]
  },
  {
   "cell_type": "code",
   "execution_count": null,
   "metadata": {},
   "outputs": [],
   "source": [
    "True and True"
   ]
  },
  {
   "cell_type": "code",
   "execution_count": null,
   "metadata": {},
   "outputs": [],
   "source": [
    "True and False"
   ]
  },
  {
   "cell_type": "code",
   "execution_count": null,
   "metadata": {},
   "outputs": [],
   "source": [
    "False and True"
   ]
  },
  {
   "cell_type": "code",
   "execution_count": null,
   "metadata": {},
   "outputs": [],
   "source": [
    "False and False"
   ]
  },
  {
   "cell_type": "markdown",
   "metadata": {},
   "source": [
    "### La palabra `or`"
   ]
  },
  {
   "cell_type": "code",
   "execution_count": null,
   "metadata": {},
   "outputs": [],
   "source": [
    "1 < 2 or 3 < 4  # True or True"
   ]
  },
  {
   "cell_type": "code",
   "execution_count": null,
   "metadata": {},
   "outputs": [],
   "source": [
    "1 < 2 or 2 < 1  # True or False"
   ]
  },
  {
   "cell_type": "code",
   "execution_count": null,
   "metadata": {},
   "outputs": [],
   "source": [
    "2 < 1 or 4 < 3  # False or False"
   ]
  },
  {
   "cell_type": "code",
   "execution_count": null,
   "metadata": {},
   "outputs": [],
   "source": [
    "2 < 1 or 3 < 4  # False or True"
   ]
  },
  {
   "cell_type": "markdown",
   "metadata": {},
   "source": [
    "### La palabra `not`"
   ]
  },
  {
   "cell_type": "markdown",
   "metadata": {},
   "source": [
    "Esta palabra revierte la veracidad de una expresion"
   ]
  },
  {
   "cell_type": "code",
   "execution_count": null,
   "metadata": {},
   "outputs": [],
   "source": [
    "not True"
   ]
  },
  {
   "cell_type": "code",
   "execution_count": null,
   "metadata": {},
   "outputs": [],
   "source": [
    "not False"
   ]
  },
  {
   "cell_type": "code",
   "execution_count": null,
   "metadata": {},
   "outputs": [],
   "source": [
    "not True == False"
   ]
  },
  {
   "cell_type": "code",
   "execution_count": null,
   "metadata": {},
   "outputs": [],
   "source": [
    "False == not True  # error por regla de precedencia de operador"
   ]
  },
  {
   "cell_type": "markdown",
   "metadata": {},
   "source": [
    "El orden de precedencia para operadores logicos y booleanos, de lo mas alto a lo mas bajo es:\n",
    "1. < <= == >= >\n",
    "2. not\n",
    "3. and\n",
    "4. or"
   ]
  },
  {
   "cell_type": "code",
   "execution_count": null,
   "metadata": {},
   "outputs": [],
   "source": [
    "# el problema anteriormente es que por precedencia, se evaluaba a False == not\n",
    "False == (not True)  # lo arreglamos con parentesis"
   ]
  },
  {
   "cell_type": "markdown",
   "metadata": {},
   "source": [
    "### Construyendo Expresiones Complejas"
   ]
  },
  {
   "cell_type": "markdown",
   "metadata": {},
   "source": [
    "Podemos combinar `and`, `or` y `not` con `True` y `False` para crear expresiones mas complejas. "
   ]
  },
  {
   "cell_type": "code",
   "execution_count": null,
   "metadata": {},
   "outputs": [],
   "source": [
    "# un ejemplo de una expresion mas compleja\n",
    "True and not (1 != 1)"
   ]
  },
  {
   "cell_type": "code",
   "execution_count": null,
   "metadata": {},
   "outputs": [],
   "source": [
    "# la anterior expresion se interpreta asi:\n",
    "True and not (False)"
   ]
  },
  {
   "cell_type": "code",
   "execution_count": null,
   "metadata": {},
   "outputs": [],
   "source": [
    "# luego asi\n",
    "True and True"
   ]
  },
  {
   "cell_type": "code",
   "execution_count": null,
   "metadata": {},
   "outputs": [],
   "source": [
    "(\"A\" != \"A\") or not (2 >= 3)"
   ]
  },
  {
   "cell_type": "code",
   "execution_count": null,
   "metadata": {},
   "outputs": [],
   "source": [
    "# se evalua asi:\n",
    "(False) or not (False)"
   ]
  },
  {
   "cell_type": "code",
   "execution_count": null,
   "metadata": {},
   "outputs": [],
   "source": [
    "# luego asi:\n",
    "False or True"
   ]
  },
  {
   "cell_type": "markdown",
   "metadata": {},
   "source": [
    "Finalmente, toda vez que cualquier expresion compuesta con `or` es `True` si una de las expresiones a la izquierda o derecha de `or` es `True`, podemos concluir que el resultado es `True`"
   ]
  },
  {
   "cell_type": "markdown",
   "metadata": {},
   "source": [
    "Agrupando expresiones on una declaracion condicional compuesta que tiene parentesis mejora la la lectura, pero a veces el parentesis es requerido para producir el resultado esperado."
   ]
  },
  {
   "cell_type": "code",
   "execution_count": null,
   "metadata": {},
   "outputs": [],
   "source": [
    "# por ejemplo, puede ser que esperamos que esto retorne True\n",
    "True and False == True and False"
   ]
  },
  {
   "cell_type": "markdown",
   "metadata": {},
   "source": [
    "La razon es que el operador `==` tiene precedencia ante `and`, entonces Python interpreta la expresion como:\n",
    "\n",
    "```\n",
    "True and (False == True) and False\n",
    "```\n",
    "\n",
    "Lo que se convierte en:\n",
    "\n",
    "```\n",
    "True and False and False\n",
    "```\n",
    "\n",
    "Lo que equivale a `False`"
   ]
  },
  {
   "cell_type": "code",
   "execution_count": null,
   "metadata": {},
   "outputs": [],
   "source": [
    "# si agregamos el parentesis\n",
    "(True and False) == (True and False)"
   ]
  },
  {
   "cell_type": "markdown",
   "metadata": {},
   "source": [
    "### Ejercicios"
   ]
  },
  {
   "cell_type": "markdown",
   "metadata": {},
   "source": [
    "Cual es el resultado de las siguientes expresiones?\n",
    "\n",
    "```\n",
    "(1 <= 1) and (1 != 1)\n",
    "not (1 != 2)\n",
    "(\"good\" != \"bad\") or False\n",
    "(\"good\" != \"Good\") and not (1 == 1)\n",
    "```"
   ]
  },
  {
   "cell_type": "markdown",
   "metadata": {},
   "source": [
    "Agrega parentesis donde sea necesario para que cada una de las siguientes expresiones evalue a `True`:\n",
    "\n",
    "```\n",
    "False == not True\n",
    "True and False == True and False\n",
    "not True and \"A\" == \"B\"\n",
    "```"
   ]
  },
  {
   "cell_type": "markdown",
   "metadata": {},
   "source": [
    "## Control de flujo de un programa"
   ]
  },
  {
   "cell_type": "markdown",
   "metadata": {},
   "source": [
    "Ahora que podemos comparar valores con comparadores booleanos y podemos construir declaraciones complejas con operadores logicos, vamos a agregar algo de logica a nuestro codigo para que realice diferentes acciones para diferentes condiciones."
   ]
  },
  {
   "cell_type": "markdown",
   "metadata": {},
   "source": [
    "### La declaracion `if`"
   ]
  },
  {
   "cell_type": "markdown",
   "metadata": {},
   "source": [
    "Una declaracion `if` le dice a Python que ejecute de forma exclusiva una porcion de codigo si una condicion se cumple. "
   ]
  },
  {
   "cell_type": "code",
   "execution_count": null,
   "metadata": {},
   "outputs": [],
   "source": [
    "# por ejemplo\n",
    "if 2 + 2 == 4:\n",
    "    print('2 + 2 = 4')"
   ]
  },
  {
   "cell_type": "markdown",
   "metadata": {},
   "source": [
    "Como el `while` loop, el `if` tiene tres partes:\n",
    "1. La palabra `if`\n",
    "2. La condicion de prueba, seguida por un colon\n",
    "3. Un bloque indentado que es ejecutado si una condicion es `True`"
   ]
  },
  {
   "cell_type": "code",
   "execution_count": null,
   "metadata": {},
   "outputs": [],
   "source": [
    "# cuando la condicion es falsa\n",
    "if 2 + 2 == 5:\n",
    "    print('Esto no existe!')\n",
    "print('Esto si')"
   ]
  },
  {
   "cell_type": "code",
   "execution_count": null,
   "metadata": {},
   "outputs": [],
   "source": [
    "nota = 4.5\n",
    "if nota >= 3.5:\n",
    "    print('Pasaste la clase!')\n",
    "print('Gracias por asistir.')"
   ]
  },
  {
   "cell_type": "code",
   "execution_count": null,
   "metadata": {},
   "outputs": [],
   "source": [
    "nota = 3.0\n",
    "\n",
    "if nota >= 3.5:\n",
    "    print('Pasaste!')\n",
    "    \n",
    "if nota < 3.5:\n",
    "    print('Te quedaste, lo siento!')\n",
    "\n",
    "print('Gracias por asistir.')"
   ]
  },
  {
   "cell_type": "markdown",
   "metadata": {},
   "source": [
    "### La palabra `else`"
   ]
  },
  {
   "cell_type": "markdown",
   "metadata": {},
   "source": [
    "**`else`** es utilizado despues de un **`if`**, a fin de ejecutar una porcion de codigo solo si la condicion del **`if`** no es veridica (no llega a ejecutarse)."
   ]
  },
  {
   "cell_type": "code",
   "execution_count": null,
   "metadata": {},
   "outputs": [],
   "source": [
    "nota = 3.0\n",
    "\n",
    "if nota >= 3.5:\n",
    "    print('Pasaste!')\n",
    "    \n",
    "else:\n",
    "    print('Te quedaste, lo siento.')\n",
    "\n",
    "print('Gracias por asistir.')"
   ]
  },
  {
   "cell_type": "markdown",
   "metadata": {},
   "source": [
    "Las palabras **`if`** y **`else`** funcionan bien cuando hay que revisar exactamente dos (2) estados / condiciones. Sin embargo, hay veces que necesitamos revisar tres (3) o mas condiciones. Para esto, utilizamos la palabra **`elif`**."
   ]
  },
  {
   "cell_type": "markdown",
   "metadata": {},
   "source": [
    "### La palabra `elif`"
   ]
  },
  {
   "cell_type": "markdown",
   "metadata": {},
   "source": [
    "La palabra `elif` es corto por `else if` y se puede utilizar para agregar condiciones adicionales despues del `if`. Como los `if`, los `elif` tienen tres (3) partes:\n",
    "1. La palabra `elif`\n",
    "2. La condicion de prueba, seguida por un colon\n",
    "3. Un bloque de codigo indentado que se ejecuta si la condicion evalua a `True`"
   ]
  },
  {
   "cell_type": "code",
   "execution_count": null,
   "metadata": {},
   "outputs": [],
   "source": [
    "nota = 4.0  # 1\n",
    "\n",
    "if nota >= 4.5:  # 2\n",
    "    print('Pasaste con cuadro de honor!')\n",
    "    \n",
    "elif nota >= 4.0:  # 3\n",
    "    print('Pasastes con buena nota, felicidades!')\n",
    "\n",
    "elif nota >= 3.5:  # 4\n",
    "    print('Pasastes, pero tienes que esforzarte mas')\n",
    "\n",
    "else:  # 5\n",
    "    print('Lo siento, no pasastes, nos vemos el proximo año misma clase misma hora!')\n",
    "    \n",
    "print('Gracias por asistir.')  #6"
   ]
  },
  {
   "cell_type": "markdown",
   "metadata": {},
   "source": [
    "## Declaraciones `if` anidadas"
   ]
  },
  {
   "cell_type": "markdown",
   "metadata": {},
   "source": [
    "Al igual que los `for` y `while` loops, tambien podemos anidar una declaracion `if` adentro de otra para crear estructuras de decisiones un poco mas complejas. \n",
    "\n",
    "Considera el proximo escenario. Dos personas juegan uno contra uno. Debemos decidir quien gana dependiendo de los puntajes y el deporte que estan jugando:\n",
    "1. Si los dos jugadores estan jugando baloncesto, el jugador con el puntaje mas alto gana.\n",
    "2. Si estan jugando golf, el jugador con el puntaje mas bajo gana.\n",
    "3. En cualquier de los dos deportes, si el puntaje es el mismo, es un empate."
   ]
  },
  {
   "cell_type": "code",
   "execution_count": null,
   "metadata": {},
   "outputs": [],
   "source": [
    "deporte = input('Ingresa un deporte: ')\n",
    "puntaje_1 = input('Ingresa el puntaje del jugador 1: ')\n",
    "puntaje_2 = input('Ingresa el puntaje del jugador 2: ')\n",
    "\n",
    "# 1\n",
    "if deporte.lower() == 'baloncesto':\n",
    "    if puntaje_1 == puntaje_2:\n",
    "        print('Empate!')\n",
    "    elif puntaje_1 > puntaje_2:\n",
    "        print('Ganador: Jugador 1!')\n",
    "    else:\n",
    "        print('Ganador: Jugador 2!')\n",
    "        \n",
    "# 2\n",
    "elif deporte.lower() == 'golf':\n",
    "    if puntaje_1 == puntaje_2:\n",
    "        print('Empate!')\n",
    "    elif puntaje_1 > puntaje_2:\n",
    "        print('Ganador: Jugador 2!')\n",
    "    else:\n",
    "        print('Ganador: Jugador 1!')\n",
    "\n",
    "else:\n",
    "    print('Deporte desconocido.')\n",
    "\n",
    "# en total hay 7 posibles resultados"
   ]
  },
  {
   "cell_type": "code",
   "execution_count": null,
   "metadata": {},
   "outputs": [],
   "source": [
    "# simplifiquemoslo un poco mas\n",
    "\n",
    "# 1\n",
    "if puntaje_1 == puntaje_2:\n",
    "    print('Empate!')\n",
    "\n",
    "elif deporte.lower() == 'baloncesto':\n",
    "    elif puntaje_1 > puntaje_2:  # 2\n",
    "        print('Ganador: Jugador 2!')\n",
    "    else:  # 3\n",
    "        print('Ganador: Jugador 1!')\n",
    "        \n",
    "elif deporte.lower() == 'golf':\n",
    "    elif puntaje_1 > puntaje_2:  # 4\n",
    "        print('Ganador: Jugador 2!')\n",
    "    else:  # 5\n",
    "        print('Ganador: Jugador 1!')\n",
    "\n",
    "else:  # 6\n",
    "    print('Deporte desconocido.')\n",
    "\n",
    "    \n",
    "# 6 distintas posibilidades"
   ]
  },
  {
   "cell_type": "markdown",
   "metadata": {},
   "source": [
    "### Lo simplificamos aun mas?"
   ]
  },
  {
   "cell_type": "markdown",
   "metadata": {},
   "source": [
    "A ver:\n",
    "* El jugador 1 gana si el deporte es baloncesto y su puntaje es el mas alto\n",
    "* El jugador 1 gana si el deporte es golf y su puntaje es el mas bajo"
   ]
  },
  {
   "cell_type": "code",
   "execution_count": null,
   "metadata": {},
   "outputs": [],
   "source": [
    "# lo anterior lo podemos representar de la siguiente manera:\n",
    "jugador_1_gana_baloncesto = deporte == 'baloncesto' and puntaje_1 > puntaje_2\n",
    "jugador_1_gana_golf = deporte == 'golf' and puntaje_1 < puntaje_2\n",
    "jugador_1_gana = jugador_1_gana_baloncesto or jugador_1_gana_golf"
   ]
  },
  {
   "cell_type": "code",
   "execution_count": null,
   "metadata": {},
   "outputs": [],
   "source": [
    "jugador_1_gana_baloncesto"
   ]
  },
  {
   "cell_type": "code",
   "execution_count": null,
   "metadata": {},
   "outputs": [],
   "source": [
    "jugador_1_gana_golf"
   ]
  },
  {
   "cell_type": "code",
   "execution_count": null,
   "metadata": {},
   "outputs": [],
   "source": [
    "jugador_1_gana"
   ]
  },
  {
   "cell_type": "code",
   "execution_count": null,
   "metadata": {},
   "outputs": [],
   "source": [
    "if puntaje_1 == puntaje_2:\n",
    "    print('Empate!')  # 1\n",
    "\n",
    "elif deporte.lower() == 'baloncesto' or deporte.lower() == 'golf':\n",
    "    jugador_1_gana_baloncesto = deporte == 'baloncesto' and puntaje_1 > puntaje_2\n",
    "    jugador_1_gana_golf = deporte == 'golf' and puntaje_1 < puntaje_2\n",
    "    jugador_1_gana = jugador_1_gana_baloncesto or jugador_1_gana_golf\n",
    "    \n",
    "    if jugador_1_gana:\n",
    "        print('Ganador: Jugador 1!')  # 2\n",
    "    else:\n",
    "        print('Ganador: Jugador 2!')  # 3\n",
    "\n",
    "else:\n",
    "    print('Deporte desconocido')  # 4\n",
    "\n",
    "# solo hay 4 maneras en el cual el programa puede ejecutar"
   ]
  },
  {
   "cell_type": "markdown",
   "metadata": {},
   "source": [
    "### Ejercicios"
   ]
  },
  {
   "cell_type": "markdown",
   "metadata": {},
   "source": [
    "Escriba un script que le solicita al usuario ingresar una palabra. \n",
    "Guarde la palabra en una variable, y luego imprima si la longitud del string es:\n",
    "1. menos de 5 caracteres\n",
    "2. mas de 5 caracteres\n",
    "3. igual a 5 caracteres\n",
    "\n",
    "Utilize las declaraciones `if`, `elif` y `else`."
   ]
  },
  {
   "cell_type": "markdown",
   "metadata": {},
   "source": [
    "## Reto: Encuentra los factores de un numero"
   ]
  },
  {
   "cell_type": "markdown",
   "metadata": {},
   "source": [
    "El factor de un numero positivo entero `n` es cualquier numero positivo entero que es:\n",
    "* igual o menor a `n`\n",
    "* divide `n` enteramente, sin restas\n",
    "\n",
    "Por ejemplo, `3` es un factor de `12` porque `12` es dividido entre `3` es `4`, sin  ningun monto restante. Sin embargo, `5` no es un factor de `12` porque `5` por `2` es `10` y queda un monto restante de `2`.\n",
    "\n",
    "Escribe un script `factors.py` que le solicita al usuario un numero positivo entero y luego imprime los factores de ese numero. \n",
    "\n",
    "Un ejemplo:\n",
    "\n",
    "Ingresa un numero positivo entero: 12\n",
    "* 1 es factor de 12\n",
    "* 2 es factor de 12\n",
    "* 3 es factor de 12\n",
    "* 4 es factor de 12\n",
    "* 6 es factor de 12\n",
    "* 12 es factor de 12\n",
    "\n",
    "Pista: el operador `%`"
   ]
  },
  {
   "cell_type": "markdown",
   "metadata": {},
   "source": [
    "## Rompiendo el patron"
   ]
  },
  {
   "cell_type": "markdown",
   "metadata": {},
   "source": [
    "Sabemos como repetir un bloque de codigo varias veces utilizando un `for` o `while` loop. Loops son utiles para repetir operaciones y procesar varios inputs.\n",
    "\n",
    "Combinando declaraciones `if` con `for` loops abre una serie de tecnicas para controlar como se ejecuta un codigo.\n",
    "\n",
    "En esta seccion aprenderemos a escribir declaraciones `if` que estan anidadas en `for` loops y aprenderemos de two (2) palabras - `break` y `continue` - que nos permiten controlar aun mas el flujo de ejecucion a atraves de un ciclo."
   ]
  },
  {
   "cell_type": "markdown",
   "metadata": {},
   "source": [
    "### `if` y `for` loops"
   ]
  },
  {
   "cell_type": "markdown",
   "metadata": {},
   "source": [
    "Un bloque de codigo en un `for` loop es como cualquier otro bloque de codigo. Es decir, podemos anidar un `if` en un `for` loop, tal como lo hariamos en cualquier otra parte del codigo."
   ]
  },
  {
   "cell_type": "code",
   "execution_count": null,
   "metadata": {},
   "outputs": [],
   "source": [
    "suma_de_pares = 0\n",
    "\n",
    "for n in range(1, 100):\n",
    "    if n % 2 == 0:  # si es par (divisible por 2)\n",
    "        suma_de_pares = suma_de_pares + n\n",
    "\n",
    "print(suma_de_pares)"
   ]
  },
  {
   "cell_type": "markdown",
   "metadata": {},
   "source": [
    "Primero, la `suma_de_pares` inicia en `0`. Luego el programa cicla sobre los numeros `1` a `99`, suma el par a la suma asignada a la `asuma_de_pares`, y luego hace lo mismo hasta llegar al numero 99. El valor final de `suma_de_pares` es `2450`."
   ]
  },
  {
   "cell_type": "markdown",
   "metadata": {},
   "source": [
    "## `break`"
   ]
  },
  {
   "cell_type": "markdown",
   "metadata": {},
   "source": [
    "La palabra `break` le dice a Python que literalmente rompa el ciclo, que salga del ciclo. Es decir, el ciclo se detiene completamente y el codigo despues del loop es ejecutado."
   ]
  },
  {
   "cell_type": "code",
   "execution_count": null,
   "metadata": {},
   "outputs": [],
   "source": [
    "for n in range(0, 4):\n",
    "    if n == 2:  # si el numero es igual a 2\n",
    "        break  # rompemos el ciclo, la siguiente linea no se ejecuta\n",
    "    print(n)\n",
    "\n",
    "print(f'Terminamos con n = {n}')"
   ]
  },
  {
   "cell_type": "markdown",
   "metadata": {},
   "source": [
    "## `continue`"
   ]
  },
  {
   "cell_type": "markdown",
   "metadata": {},
   "source": [
    "El palabra `continue` es utilizada para saltarse cualquier porcion restante de codigo en un ciclo y continuar a la proxima iteracion.  "
   ]
  },
  {
   "cell_type": "code",
   "execution_count": null,
   "metadata": {},
   "outputs": [],
   "source": [
    "for i in range(0, 4):\n",
    "    if i == 2:  # este no se imprime\n",
    "        continue\n",
    "    print(i)\n",
    "\n",
    "print(f'Terminamos con n = {n}')"
   ]
  },
  {
   "cell_type": "markdown",
   "metadata": {},
   "source": [
    "### `for`...`else`"
   ]
  },
  {
   "cell_type": "markdown",
   "metadata": {},
   "source": [
    "Loops pueden tener su propio `else` en Python, aunque esta estructura no es utilizada frecuentemente"
   ]
  },
  {
   "cell_type": "code",
   "execution_count": null,
   "metadata": {},
   "outputs": [],
   "source": [
    "frase = 'marca el lugar'\n",
    "\n",
    "for caracter in frase:\n",
    "    if caracter == 'X':\n",
    "        break\n",
    "else:  # ejecuta solo si el for loop termina sin que el break se ejecuta\n",
    "    print('Nunca hubo una X')"
   ]
  },
  {
   "cell_type": "code",
   "execution_count": null,
   "metadata": {},
   "outputs": [],
   "source": [
    "frase = 'X marca el lugar'\n",
    "\n",
    "for caracter in frase:\n",
    "    if caracter == 'X':\n",
    "        break\n",
    "else:  # ejecuta solo si el for loop termina sin que el break se ejecuta\n",
    "    print('Nunca hubo una X')"
   ]
  },
  {
   "cell_type": "code",
   "execution_count": null,
   "metadata": {},
   "outputs": [],
   "source": [
    "# ejemplo practico\n",
    "\n",
    "for n in range(3):\n",
    "    contraseña = input('Ingrese su contraseña: ')\n",
    "    if contraseña == 'I<3Panama':\n",
    "        break\n",
    "    print('Incorrecto')\n",
    "else:\n",
    "    print('Actividad sospechosa, las autoridades han sido alertadas.')"
   ]
  },
  {
   "cell_type": "markdown",
   "metadata": {},
   "source": [
    "## Ejercicios"
   ]
  },
  {
   "cell_type": "markdown",
   "metadata": {},
   "source": [
    "1. Utilizando `break`, escribe un programa que solicite al usuario dato de entrada, rompiendo el ciclo cuando el usuario ingrese `q` o `Q`.\n",
    "2. Utilizando `continue`, escribe un programa que cicle sobre los numeros `1` a `50` e imprime todos los numeros que no son multiples de `3`."
   ]
  },
  {
   "cell_type": "markdown",
   "metadata": {},
   "source": [
    "## Recuperacion de Errores"
   ]
  },
  {
   "cell_type": "markdown",
   "metadata": {},
   "source": [
    "A fin de crear programas robustos, necesitamos gestionar errores causados por datos de entrada del usuario o cualquier otra fuente impredecible. En este seccion aprenderemos como hacerlo."
   ]
  },
  {
   "cell_type": "markdown",
   "metadata": {},
   "source": [
    "### Un zoologico de excepcion"
   ]
  },
  {
   "cell_type": "markdown",
   "metadata": {},
   "source": [
    "Cuando nos encontramos con una error, que tambien se le conoce como excepcion, es util saber que fue lo que ocurrió. Python tiene un numero de tipos de excepciones incorporadas que describen una variedad de errores. Ya hemos visto algunos de esos errores anteriormente, no obstante, visitaremos los mas importantes."
   ]
  },
  {
   "cell_type": "markdown",
   "metadata": {},
   "source": [
    "#### ValueError"
   ]
  },
  {
   "cell_type": "markdown",
   "metadata": {},
   "source": [
    "Este error ocurre cuando una operacion se encuentra con un valor invalido."
   ]
  },
  {
   "cell_type": "code",
   "execution_count": null,
   "metadata": {},
   "outputs": [],
   "source": [
    "int('esto no es un numero')"
   ]
  },
  {
   "cell_type": "markdown",
   "metadata": {},
   "source": [
    "#### TypeError"
   ]
  },
  {
   "cell_type": "markdown",
   "metadata": {},
   "source": [
    "Occure cuando una operacion es realizada en un valor del tipo incorrecto."
   ]
  },
  {
   "cell_type": "code",
   "execution_count": null,
   "metadata": {},
   "outputs": [],
   "source": [
    "'1' + 2"
   ]
  },
  {
   "cell_type": "markdown",
   "metadata": {},
   "source": [
    "#### Name Error"
   ]
  },
  {
   "cell_type": "markdown",
   "metadata": {},
   "source": [
    "Ocurre ucuando se intenta usar un nombre de variable que no ha sido definido todavia"
   ]
  },
  {
   "cell_type": "code",
   "execution_count": null,
   "metadata": {},
   "outputs": [],
   "source": [
    "print(no_existe)"
   ]
  },
  {
   "cell_type": "markdown",
   "metadata": {},
   "source": [
    "#### ZeroDivisionError"
   ]
  },
  {
   "cell_type": "markdown",
   "metadata": {},
   "source": [
    "Ocurre cuando el divisor de una division es `0`"
   ]
  },
  {
   "cell_type": "code",
   "execution_count": null,
   "metadata": {},
   "outputs": [],
   "source": [
    "1 / 0"
   ]
  },
  {
   "cell_type": "markdown",
   "metadata": {},
   "source": [
    "#### OverflowError"
   ]
  },
  {
   "cell_type": "markdown",
   "metadata": {},
   "source": [
    "Ocurre cuando el resultado de una operacion aritmetica es muy grande. "
   ]
  },
  {
   "cell_type": "code",
   "execution_count": null,
   "metadata": {},
   "outputs": [],
   "source": [
    "pow(2.0, 1_000_000)"
   ]
  },
  {
   "cell_type": "markdown",
   "metadata": {},
   "source": [
    "### **try** y **except**"
   ]
  },
  {
   "cell_type": "markdown",
   "metadata": {},
   "source": [
    "En ocasiones debemos predecir que una excepcion o error pudiese ocurrir. En vez de dejar que el programa se detenga erroneamente, podemos agarrar el error si ocurre y podemos realizar alguna operacion como consecuencia del mismo.\n",
    "\n",
    "Por ejemplo, si un usuario ingresa un dato de entrada no deseado, debemos informarle que han ingresado un valor invalido. No obstante, para prevenir que el programa se detenga, debemos utilizar `try` y `except`, que se traduce a *intento* y *excepto*."
   ]
  },
  {
   "cell_type": "code",
   "execution_count": null,
   "metadata": {},
   "outputs": [],
   "source": [
    "try:\n",
    "    numero = int(input('Ingresa un numero: '))  # si no es un numero\n",
    "except ValueError:  # int() alza un error ValueError, aqui lo atrapamos\n",
    "    print('Eso no fue un numero')"
   ]
  },
  {
   "cell_type": "code",
   "execution_count": null,
   "metadata": {},
   "outputs": [],
   "source": [
    "def divide(num1, num2):\n",
    "    try:\n",
    "        print(num1 / num2)\n",
    "    except (TypeError, ZeroDivisionError):\n",
    "        print('encontramos un error')"
   ]
  },
  {
   "cell_type": "code",
   "execution_count": null,
   "metadata": {},
   "outputs": [],
   "source": [
    "divide(1,0)"
   ]
  },
  {
   "cell_type": "code",
   "execution_count": null,
   "metadata": {},
   "outputs": [],
   "source": [
    "divide(10, 5)"
   ]
  },
  {
   "cell_type": "code",
   "execution_count": null,
   "metadata": {},
   "outputs": [],
   "source": [
    "# en ocasiones es mejor agarrar cada error individualmente\n",
    "def divide(num1, num2):\n",
    "    try:\n",
    "        print(num1 / num2)\n",
    "    except TypeError:\n",
    "        print('Ambos argumentos deben ser un numero')\n",
    "    except ZeroDivisionError:\n",
    "        print('num2 no debe ser 0')"
   ]
  },
  {
   "cell_type": "code",
   "execution_count": null,
   "metadata": {},
   "outputs": [],
   "source": [
    "divide(1, 0)"
   ]
  },
  {
   "cell_type": "code",
   "execution_count": null,
   "metadata": {},
   "outputs": [],
   "source": [
    "divide('a', 0)"
   ]
  },
  {
   "cell_type": "code",
   "execution_count": null,
   "metadata": {},
   "outputs": [],
   "source": [
    "divide(0, 1)"
   ]
  },
  {
   "cell_type": "markdown",
   "metadata": {},
   "source": [
    "### Solo el `except`"
   ]
  },
  {
   "cell_type": "code",
   "execution_count": null,
   "metadata": {},
   "outputs": [],
   "source": [
    "# este patron no es buena practica porque es propenso a esconder todo error\n",
    "try:\n",
    "    # nuestro codigo\n",
    "except:\n",
    "    print(\"Algo pasó!\")"
   ]
  },
  {
   "cell_type": "markdown",
   "metadata": {},
   "source": [
    "### Ejercicios\n",
    "\n",
    "1. Escriba un script que repetidamente le solicita al usuario que ingrese un numero entero, mostrando un mensaje de \"intene nuevamente\" cuando se rescata el error `ValueError` que es alzado si el usuario no ingresa un numero entero. Si el usuario ingresa el numero, el programa debe mostrar el numero nuevamente.\n",
    "\n",
    "2. Escriba un programa que le solicita el usuario ingresar un string y un numero `n`. Luego muestre el caracter ubicado en el indice `n` del string. Haga uso de herramientas para la gestion de errores a fin de asegurar que el programa no se interrumpa cuando el usuario ingrese no ingrese un numero o cuando el indice queda fuera del rango del string. El programa deberia mostrar un mensaje diferente dependiendo del error que ocurra."
   ]
  },
  {
   "cell_type": "markdown",
   "metadata": {},
   "source": [
    "## Simulacion de Eventos y Calculo de Probabilidades"
   ]
  },
  {
   "cell_type": "markdown",
   "metadata": {},
   "source": [
    "En esta seccion, vamos aplicar algunos conceptos que hemos aprendido sobre ciclos y logica condicional a un problema real: simulando evento y calculando probabilidades.\n",
    "\n",
    "Vamos a ejecutar una simulacion conocida como el experimento **Monte Carlo**.\n",
    "\n",
    "Cada experimento consiste de una prueba u ensayo, que consiste en un proceso repetible - como lanzar una moneda - que genera un resultado, e.g. cara o sello. La prueba es repetida muchas veces a fin de calcular la probabilidad que algun resultado ocurra.\n",
    "\n",
    "Para lograrlo, necesitaremos agregar aleatoridad en nuestro codigo."
   ]
  },
  {
   "cell_type": "markdown",
   "metadata": {},
   "source": [
    "### El modulo `random`"
   ]
  },
  {
   "cell_type": "markdown",
   "metadata": {},
   "source": [
    "Python nos proporciona varias funciones para generar numeros aleatorios en el modulo **random**. Un **modulo** es una coleccion de codigo relacionado. La libreria estandar de Python es una coleccion organizada de modulos que podemos importar en nuestro codigo, a fin de resolver varios problemas."
   ]
  },
  {
   "cell_type": "code",
   "execution_count": null,
   "metadata": {},
   "outputs": [],
   "source": [
    "import random"
   ]
  },
  {
   "cell_type": "code",
   "execution_count": null,
   "metadata": {},
   "outputs": [],
   "source": [
    "random.randint(1, 10)"
   ]
  },
  {
   "cell_type": "markdown",
   "metadata": {},
   "source": [
    "`.randint()` es un metodo del modulo `random`, es por eso que escribimos `random` primero, luego un punto `.` y luego el metodo `randint()` con sus dos parametros. "
   ]
  },
  {
   "cell_type": "code",
   "execution_count": null,
   "metadata": {},
   "outputs": [],
   "source": [
    "help(random.randint)"
   ]
  },
  {
   "cell_type": "markdown",
   "metadata": {},
   "source": [
    "Este metodo `randint()` retorna un numero entero aleatorio en el rango `[a, b]`, incluyendo ambos extremos. Observamos que la firma de la funcion en la documentacion indica la presencia de dos (2) argumentos a y b."
   ]
  },
  {
   "cell_type": "code",
   "execution_count": null,
   "metadata": {},
   "outputs": [],
   "source": [
    "random.randint(1, 10)"
   ]
  },
  {
   "cell_type": "code",
   "execution_count": null,
   "metadata": {},
   "outputs": [],
   "source": [
    "random.randint(0, 1)  # 0 o 1"
   ]
  },
  {
   "cell_type": "markdown",
   "metadata": {},
   "source": [
    "### Lanzamiento de moneda"
   ]
  },
  {
   "cell_type": "markdown",
   "metadata": {},
   "source": [
    "Como podemos simular un lanzamiento? \n",
    "\n",
    "Una moneda tiene dos (2) lados: cara o sello. Si decimos que 0 es cara y 1 es sello, podemos utilizar `randint(0, 1)` para simular un lanzamiento."
   ]
  },
  {
   "cell_type": "code",
   "execution_count": null,
   "metadata": {},
   "outputs": [],
   "source": [
    "random.randint(0, 1)"
   ]
  },
  {
   "cell_type": "markdown",
   "metadata": {},
   "source": [
    "En este experimento, queremos saber, cual es la probabilidad de que salga cara o que salga sello. \n",
    "\n",
    "Necesitamos simular el lanzamiento muchas veces, para tener certeza de la probabilidad, y darle seguimiento a las veces que salga cara y de que salga sello.\n",
    "\n",
    "Cada prueba tiene dos etapas:\n",
    "1. Lanzamiento de moneda\n",
    "2. Determinar si salio cara, en cuyo caso sumar +1 a la variable que representa el numero de veces que sale cara, y en caso contrario, sumar +1 a la variable que representa el numero de veces que sale sello.\n",
    "\n",
    "Vamos a repetir esta prueba unas 10,000 veces (podemos utilizar `range(10_000)`).\n",
    "\n",
    "Empezemos escribiendo una funcion llamada `lanzamiento()` que aleatoriamente retorna el string `cara` o `sello`. "
   ]
  },
  {
   "cell_type": "code",
   "execution_count": null,
   "metadata": {},
   "outputs": [],
   "source": [
    "import random\n",
    "def lanzamiento():\n",
    "    \"\"\"Aleatoriamente retorna cara o sello\"\"\"\n",
    "    if random.randint(0, 1) == 0:\n",
    "        return \"cara\"\n",
    "    else:\n",
    "        return \"sello\""
   ]
  },
  {
   "cell_type": "code",
   "execution_count": null,
   "metadata": {},
   "outputs": [],
   "source": [
    "# ahora podemos escribir un ciclo que haga el lanzamiento 10,000 veces\n",
    "\n",
    "cara = 0\n",
    "sello = 0\n",
    "\n",
    "for prueba in range(100_000): # de 0 a 99,999\n",
    "    if lanzamiento() == 'cara':\n",
    "        cara = cara + 1\n",
    "    else:\n",
    "        sello = sello + 1"
   ]
  },
  {
   "cell_type": "code",
   "execution_count": null,
   "metadata": {},
   "outputs": [],
   "source": [
    "print(cara, sello)\n",
    "proporcion = cara / sello\n",
    "print(f'La probabilidad de cara a sello es de {proporcion:.2f}')"
   ]
  },
  {
   "cell_type": "markdown",
   "metadata": {},
   "source": [
    "### Ejercicios\n",
    "\n",
    "1. Escribe una funcion `dados()` que utiliza `randint()` para simular un lanzado de dados (de 1 a 6).\n",
    "2. Escribe un script que simula 10,000 lanzadas de dados y muestra el numero promedio lanzado."
   ]
  },
  {
   "cell_type": "markdown",
   "metadata": {},
   "source": [
    "## Reto: Simulacion de un lanzamiento de moneda\n",
    "\n",
    "En promedio, cuantos lanzamientos de moneda se necesitan para que la secuencia contenta cara y sello? En otras palabras, si lanazamos la moneda y sale cara, cuantas veces mas tenemos que lanzar para que salga sello? Por ejemplo, puede salir cara, cara y sello, lo que suman 3 lanzamientos. \n",
    "\n",
    "Escriba una simulacion de 10,000 pruebas e imprima el numero promedio de lanzamientos requeridos para que la secuencia tenga cara y sello."
   ]
  },
  {
   "cell_type": "code",
   "execution_count": null,
   "metadata": {},
   "outputs": [],
   "source": [
    "veces = []\n",
    "cara, sello = 0, 0\n",
    "for prueba in range(10_000): # de 0 a 99,999\n",
    "    cara_o_sello = lanzamiento()\n",
    "    if cara > 0 and sello > 0:\n",
    "        veces.append(cara + sello)\n",
    "        cara, sello = 0, 0\n",
    "    elif cara_o_sello == 'cara':\n",
    "        cara = cara + 1\n",
    "    else:\n",
    "        sello = sello + 1"
   ]
  },
  {
   "cell_type": "code",
   "execution_count": null,
   "metadata": {},
   "outputs": [],
   "source": [
    "import statistics\n",
    "help(statistics)"
   ]
  },
  {
   "cell_type": "code",
   "execution_count": null,
   "metadata": {},
   "outputs": [],
   "source": [
    "statistics.mode(veces)  # el numero que salió mas veces"
   ]
  },
  {
   "cell_type": "code",
   "execution_count": null,
   "metadata": {},
   "outputs": [],
   "source": [
    "statistics.mean(veces)  # la suma de las veces entre las veces que viró"
   ]
  },
  {
   "cell_type": "markdown",
   "metadata": {},
   "source": [
    "## Resumen"
   ]
  },
  {
   "cell_type": "markdown",
   "metadata": {},
   "source": [
    "En esta seccion hemos visto declaracion condicionales y logica condicional. Hemos visto como comparar valores utilizando operadores de comparaciones como <, >, <=, >=, != y ==. Tambien vimos como construir declaraciones complejas utilizando `and`, `or`, and `not`."
   ]
  },
  {
   "cell_type": "markdown",
   "metadata": {},
   "source": [
    "Vimos como controlar el flujo del programa utilizando `if`, y hemos aprendido como crear vertientes en el programa utilizando `if`, `else` o `if`, `elif` y `else`. Además, aprendimos como controlar la ejecucion del codigo adentro de un bloque `if` utilizando `break` y `continue`.\n",
    "\n",
    "Aun mas, aprendimos sobre `try` y `except` para la gestion de errores de ejecucion. Este es un patron sumamente util toda vez que permite que el programa maneje errores esperados y mantenga el programa andando.\n",
    "\n",
    "Finalmente, utilizamos el modulo `random` para simular el lanzamiento de una moneda."
   ]
  },
  {
   "cell_type": "markdown",
   "metadata": {},
   "source": [
    "> La logica es el comienzo de la sabiduria, no el fin.\n",
    "\n",
    "Spock, *Star Trek*"
   ]
  }
 ],
 "metadata": {
  "kernelspec": {
   "display_name": "Python 3",
   "language": "python",
   "name": "python3"
  },
  "language_info": {
   "codemirror_mode": {
    "name": "ipython",
    "version": 3
   },
   "file_extension": ".py",
   "mimetype": "text/x-python",
   "name": "python",
   "nbconvert_exporter": "python",
   "pygments_lexer": "ipython3",
   "version": "3.8.1"
  }
 },
 "nbformat": 4,
 "nbformat_minor": 4
}
