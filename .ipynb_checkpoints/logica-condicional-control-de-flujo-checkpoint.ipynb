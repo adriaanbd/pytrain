{
 "cells": [
  {
   "cell_type": "markdown",
   "metadata": {},
   "source": [
    "# Logica Condicional y Control de Flujo"
   ]
  },
  {
   "cell_type": "markdown",
   "metadata": {},
   "source": [
    "Hasta el momento, todo el codigo que hemos visto ha sido incondicional. El codigo no tuvo que tomar decision alguna. Cada linea de codigo es ejecutada en el orden que es escrita o en el orden en que las funciones han sido llamadas, con posibles repeticiones adentro del `loop`.\n",
    "\n",
    "En esta seccion aprenderemos como escribir programas que realizan distintas acciones a base de distintas condiciones, utilizando **logica condicional**.\n",
    "\n",
    "Vamos a:\n",
    "1. Comparar valores con dos o mas variables\n",
    "2. Escribir delcaraciones `if` para controlar el flujo de nuestro programa\n",
    "3. Gestionar errores con `try` y `except`\n",
    "4. Aplicar logica condicional para creat simulaciones simples"
   ]
  },
  {
   "cell_type": "markdown",
   "metadata": {},
   "source": [
    "## Comparacion de valores"
   ]
  },
  {
   "cell_type": "markdown",
   "metadata": {},
   "source": [
    "Logica condicional radica en la realizacion condicionada de distintas acciones. Condicionada porque la realizacion de las mismas depende si una expresion, llamada condicion, es veridica o no. \n",
    "\n",
    "Las condiciones en muchas ocasiones radican en comparar dos valores, e.g. si un valor es mas alto que el otro o si los dos valores son iguales. Un estandar de simbolos utilizado para este fin son los comparadores booleanos.\n",
    "\n",
    "\n",
    "|Comparador|Ejemplo|Significado|\n",
    "|---|---|---|\n",
    "|>|a > b|a es mayor que b|\n",
    "|<|a < b|a es menor que b|\n",
    "|>=|a >= b|a es mayor o igual a b|\n",
    "|<=|a <= b|a es menor o igual a b|\n",
    "|!=|a != b|a no es igual a b|\n",
    "|==|a == b|a es igual a b|"
   ]
  },
  {
   "cell_type": "code",
   "execution_count": 1,
   "metadata": {},
   "outputs": [
    {
     "data": {
      "text/plain": [
       "True"
      ]
     },
     "execution_count": 1,
     "metadata": {},
     "output_type": "execute_result"
    }
   ],
   "source": [
    "# mayor\n",
    "2 > 1"
   ]
  },
  {
   "cell_type": "code",
   "execution_count": 2,
   "metadata": {},
   "outputs": [
    {
     "data": {
      "text/plain": [
       "True"
      ]
     },
     "execution_count": 2,
     "metadata": {},
     "output_type": "execute_result"
    }
   ],
   "source": [
    "# menor\n",
    "1 < 2"
   ]
  },
  {
   "cell_type": "code",
   "execution_count": 3,
   "metadata": {},
   "outputs": [
    {
     "data": {
      "text/plain": [
       "True"
      ]
     },
     "execution_count": 3,
     "metadata": {},
     "output_type": "execute_result"
    }
   ],
   "source": [
    "# mayor o igual\n",
    "1 >= 1"
   ]
  },
  {
   "cell_type": "code",
   "execution_count": 4,
   "metadata": {},
   "outputs": [
    {
     "data": {
      "text/plain": [
       "True"
      ]
     },
     "execution_count": 4,
     "metadata": {},
     "output_type": "execute_result"
    }
   ],
   "source": [
    "# menor o igual\n",
    "1 <= 1"
   ]
  },
  {
   "cell_type": "code",
   "execution_count": 5,
   "metadata": {},
   "outputs": [
    {
     "data": {
      "text/plain": [
       "False"
      ]
     },
     "execution_count": 5,
     "metadata": {},
     "output_type": "execute_result"
    }
   ],
   "source": [
    "# anti-equivalencia\n",
    "1 != 1"
   ]
  },
  {
   "cell_type": "code",
   "execution_count": 6,
   "metadata": {},
   "outputs": [
    {
     "data": {
      "text/plain": [
       "True"
      ]
     },
     "execution_count": 6,
     "metadata": {},
     "output_type": "execute_result"
    }
   ],
   "source": [
    "# equivalencia\n",
    "1 == 1"
   ]
  },
  {
   "cell_type": "markdown",
   "metadata": {},
   "source": [
    "El termino **boolean** es derivado del apellido del Matematico ingles **George Boole**, cuyas obras sentaron las bases de la computacion moderna. En honor a Boole, la logica condicional es conocida como **logica booleana** y las condicionales son referidas como **expresiones booleanas**.\n",
    "\n",
    "Existe tambien un tipo de dato llamado **boolean** o formalmente `bool`, que consiste en dos valores: `True` y `False`"
   ]
  },
  {
   "cell_type": "code",
   "execution_count": 7,
   "metadata": {},
   "outputs": [
    {
     "data": {
      "text/plain": [
       "bool"
      ]
     },
     "execution_count": 7,
     "metadata": {},
     "output_type": "execute_result"
    }
   ],
   "source": [
    "type(True)"
   ]
  },
  {
   "cell_type": "code",
   "execution_count": 8,
   "metadata": {},
   "outputs": [
    {
     "data": {
      "text/plain": [
       "bool"
      ]
     },
     "execution_count": 8,
     "metadata": {},
     "output_type": "execute_result"
    }
   ],
   "source": [
    "type(False)"
   ]
  },
  {
   "cell_type": "code",
   "execution_count": 9,
   "metadata": {},
   "outputs": [
    {
     "data": {
      "text/plain": [
       "False"
      ]
     },
     "execution_count": 9,
     "metadata": {},
     "output_type": "execute_result"
    }
   ],
   "source": [
    "# evaluando una condicional siempre retorna un valor booleano\n",
    "3 > 5"
   ]
  },
  {
   "cell_type": "code",
   "execution_count": 10,
   "metadata": {},
   "outputs": [
    {
     "data": {
      "text/plain": [
       "True"
      ]
     },
     "execution_count": 10,
     "metadata": {},
     "output_type": "execute_result"
    }
   ],
   "source": [
    "# tambien podemos comparar caracteres\n",
    "'a' == 'a'"
   ]
  },
  {
   "cell_type": "code",
   "execution_count": 11,
   "metadata": {},
   "outputs": [
    {
     "data": {
      "text/plain": [
       "False"
      ]
     },
     "execution_count": 11,
     "metadata": {},
     "output_type": "execute_result"
    }
   ],
   "source": [
    "'a' == 'b'"
   ]
  },
  {
   "cell_type": "code",
   "execution_count": 12,
   "metadata": {},
   "outputs": [
    {
     "data": {
      "text/plain": [
       "True"
      ]
     },
     "execution_count": 12,
     "metadata": {},
     "output_type": "execute_result"
    }
   ],
   "source": [
    "# sorprendido?\n",
    "'a' < 'b'  # orden lexicografico"
   ]
  },
  {
   "cell_type": "code",
   "execution_count": 13,
   "metadata": {},
   "outputs": [
    {
     "data": {
      "text/plain": [
       "False"
      ]
     },
     "execution_count": 13,
     "metadata": {},
     "output_type": "execute_result"
    }
   ],
   "source": [
    "# la letra a no viene despues de la b\n",
    "'a' > 'b'"
   ]
  },
  {
   "cell_type": "code",
   "execution_count": 14,
   "metadata": {},
   "outputs": [
    {
     "data": {
      "text/plain": [
       "False"
      ]
     },
     "execution_count": 14,
     "metadata": {},
     "output_type": "execute_result"
    }
   ],
   "source": [
    "# el orden lexicografico se extiende a strings con dos o mas caracteres\n",
    "'arte' < 'arbol'"
   ]
  },
  {
   "cell_type": "markdown",
   "metadata": {},
   "source": [
    "### Ejercicios"
   ]
  },
  {
   "cell_type": "markdown",
   "metadata": {},
   "source": [
    "Adivinemos el resultado de las siguientes expresiones:\n",
    "\n",
    "```\n",
    "1 < = 1\n",
    "1 != 1\n",
    "1 != 2\n",
    "'bien' != 'mal'\n",
    "'bien' !- 'Bien'\n",
    "123 == '123'\n",
    "```"
   ]
  },
  {
   "cell_type": "markdown",
   "metadata": {},
   "source": [
    "Adivine el comparador booleano indicado para que la expresion evalue a True\n",
    "```\n",
    "3 _ 4\n",
    "10 _ 5\n",
    "'jorge' _ 'jose'\n",
    "42 _ '42'\n",
    "```"
   ]
  },
  {
   "cell_type": "markdown",
   "metadata": {},
   "source": [
    "##  Algo de logica"
   ]
  },
  {
   "cell_type": "markdown",
   "metadata": {},
   "source": [
    "En adicion a los comparadores booleanos, Python tiene palabras especiales llamadas **operadores logicos** que puede ser utilizados para combinar expresioens booleanas. Existen tres operadores logicos:\n",
    "1. `and`\n",
    "2. `or`\n",
    "3. `not`"
   ]
  },
  {
   "cell_type": "markdown",
   "metadata": {},
   "source": [
    "### La palabra `and`"
   ]
  },
  {
   "cell_type": "markdown",
   "metadata": {},
   "source": [
    "Considera la proxima declaracion:\n",
    "1. Gatos tienen cuatro patas\n",
    "2. Gatos tienen colas\n",
    "\n",
    "En general, ambas declaraciones son veridicas. Si unimos ambas declaraciones con la palabra `and`, la expresion booleada sigue siendo cierta porque ambas cosas son ciertas. Esta palabra retorna `True` si ambos lados de la palabra evaluan a `True`, de lo contrario retorna `False`"
   ]
  },
  {
   "cell_type": "code",
   "execution_count": 15,
   "metadata": {},
   "outputs": [
    {
     "data": {
      "text/plain": [
       "True"
      ]
     },
     "execution_count": 15,
     "metadata": {},
     "output_type": "execute_result"
    }
   ],
   "source": [
    "1 < 2 and 3 < 4  # ambos ciertos"
   ]
  },
  {
   "cell_type": "code",
   "execution_count": 16,
   "metadata": {},
   "outputs": [
    {
     "data": {
      "text/plain": [
       "False"
      ]
     },
     "execution_count": 16,
     "metadata": {},
     "output_type": "execute_result"
    }
   ],
   "source": [
    "1 < 2 and 3 > 4  # un cierto un falso"
   ]
  },
  {
   "cell_type": "code",
   "execution_count": null,
   "metadata": {},
   "outputs": [],
   "source": [
    "2 < 1 and 4 < 3  # ambos falsos"
   ]
  },
  {
   "cell_type": "code",
   "execution_count": 18,
   "metadata": {},
   "outputs": [
    {
     "data": {
      "text/plain": [
       "True"
      ]
     },
     "execution_count": 18,
     "metadata": {},
     "output_type": "execute_result"
    }
   ],
   "source": [
    "True and True"
   ]
  },
  {
   "cell_type": "code",
   "execution_count": 19,
   "metadata": {},
   "outputs": [
    {
     "data": {
      "text/plain": [
       "False"
      ]
     },
     "execution_count": 19,
     "metadata": {},
     "output_type": "execute_result"
    }
   ],
   "source": [
    "True and False"
   ]
  },
  {
   "cell_type": "code",
   "execution_count": 20,
   "metadata": {},
   "outputs": [
    {
     "data": {
      "text/plain": [
       "False"
      ]
     },
     "execution_count": 20,
     "metadata": {},
     "output_type": "execute_result"
    }
   ],
   "source": [
    "False and True"
   ]
  },
  {
   "cell_type": "code",
   "execution_count": 21,
   "metadata": {},
   "outputs": [
    {
     "data": {
      "text/plain": [
       "False"
      ]
     },
     "execution_count": 21,
     "metadata": {},
     "output_type": "execute_result"
    }
   ],
   "source": [
    "False and False"
   ]
  },
  {
   "cell_type": "markdown",
   "metadata": {},
   "source": [
    "### La palabra `or`"
   ]
  },
  {
   "cell_type": "code",
   "execution_count": 24,
   "metadata": {},
   "outputs": [
    {
     "data": {
      "text/plain": [
       "True"
      ]
     },
     "execution_count": 24,
     "metadata": {},
     "output_type": "execute_result"
    }
   ],
   "source": [
    "1 < 2 or 3 < 4  # True or True"
   ]
  },
  {
   "cell_type": "code",
   "execution_count": 22,
   "metadata": {},
   "outputs": [
    {
     "data": {
      "text/plain": [
       "True"
      ]
     },
     "execution_count": 22,
     "metadata": {},
     "output_type": "execute_result"
    }
   ],
   "source": [
    "1 < 2 or 2 < 1  # True or False"
   ]
  },
  {
   "cell_type": "code",
   "execution_count": 23,
   "metadata": {},
   "outputs": [
    {
     "data": {
      "text/plain": [
       "False"
      ]
     },
     "execution_count": 23,
     "metadata": {},
     "output_type": "execute_result"
    }
   ],
   "source": [
    "2 < 1 or 4 < 3  # False or False"
   ]
  },
  {
   "cell_type": "code",
   "execution_count": 26,
   "metadata": {},
   "outputs": [
    {
     "data": {
      "text/plain": [
       "True"
      ]
     },
     "execution_count": 26,
     "metadata": {},
     "output_type": "execute_result"
    }
   ],
   "source": [
    "2 < 1 or 3 < 4  # False or True"
   ]
  },
  {
   "cell_type": "markdown",
   "metadata": {},
   "source": [
    "### La palabra `not`"
   ]
  },
  {
   "cell_type": "markdown",
   "metadata": {},
   "source": [
    "Esta palabra revierte la veracidad de una expresion"
   ]
  },
  {
   "cell_type": "code",
   "execution_count": 27,
   "metadata": {},
   "outputs": [
    {
     "data": {
      "text/plain": [
       "False"
      ]
     },
     "execution_count": 27,
     "metadata": {},
     "output_type": "execute_result"
    }
   ],
   "source": [
    "not True"
   ]
  },
  {
   "cell_type": "code",
   "execution_count": 28,
   "metadata": {},
   "outputs": [
    {
     "data": {
      "text/plain": [
       "True"
      ]
     },
     "execution_count": 28,
     "metadata": {},
     "output_type": "execute_result"
    }
   ],
   "source": [
    "not False"
   ]
  },
  {
   "cell_type": "code",
   "execution_count": 29,
   "metadata": {},
   "outputs": [
    {
     "data": {
      "text/plain": [
       "True"
      ]
     },
     "execution_count": 29,
     "metadata": {},
     "output_type": "execute_result"
    }
   ],
   "source": [
    "not True == False"
   ]
  },
  {
   "cell_type": "code",
   "execution_count": 30,
   "metadata": {},
   "outputs": [
    {
     "ename": "SyntaxError",
     "evalue": "invalid syntax (<ipython-input-30-5b8b45763cf6>, line 1)",
     "output_type": "error",
     "traceback": [
      "\u001b[0;36m  File \u001b[0;32m\"<ipython-input-30-5b8b45763cf6>\"\u001b[0;36m, line \u001b[0;32m1\u001b[0m\n\u001b[0;31m    False == not True  # error por regla de precedencia de operador\u001b[0m\n\u001b[0m             ^\u001b[0m\n\u001b[0;31mSyntaxError\u001b[0m\u001b[0;31m:\u001b[0m invalid syntax\n"
     ]
    }
   ],
   "source": [
    "False == not True  # error por regla de precedencia de operador"
   ]
  },
  {
   "cell_type": "markdown",
   "metadata": {},
   "source": [
    "El orden de precedencia para operadores logicos y booleanos, de lo mas alto a lo mas bajo es:\n",
    "1. < <= == >= >\n",
    "2. not\n",
    "3. and\n",
    "4. or"
   ]
  },
  {
   "cell_type": "code",
   "execution_count": 32,
   "metadata": {},
   "outputs": [
    {
     "data": {
      "text/plain": [
       "True"
      ]
     },
     "execution_count": 32,
     "metadata": {},
     "output_type": "execute_result"
    }
   ],
   "source": [
    "# el problema anteriormente es que por precedencia, se evaluaba a False == not\n",
    "False == (not True)  # lo arreglamos con parentesis"
   ]
  },
  {
   "cell_type": "markdown",
   "metadata": {},
   "source": [
    "### Construyendo Expresiones Complejas"
   ]
  },
  {
   "cell_type": "markdown",
   "metadata": {},
   "source": [
    "Podemos combinar `and`, `or` y `not` con `True` y `False` para crear expresiones mas complejas. "
   ]
  },
  {
   "cell_type": "code",
   "execution_count": 1,
   "metadata": {},
   "outputs": [
    {
     "data": {
      "text/plain": [
       "True"
      ]
     },
     "execution_count": 1,
     "metadata": {},
     "output_type": "execute_result"
    }
   ],
   "source": [
    "# un ejemplo de una expresion mas compleja\n",
    "True and not (1 != 1)"
   ]
  },
  {
   "cell_type": "code",
   "execution_count": 2,
   "metadata": {},
   "outputs": [
    {
     "data": {
      "text/plain": [
       "True"
      ]
     },
     "execution_count": 2,
     "metadata": {},
     "output_type": "execute_result"
    }
   ],
   "source": [
    "# la anterior expresion se interpreta asi:\n",
    "True and not (False)"
   ]
  },
  {
   "cell_type": "code",
   "execution_count": 3,
   "metadata": {},
   "outputs": [
    {
     "data": {
      "text/plain": [
       "True"
      ]
     },
     "execution_count": 3,
     "metadata": {},
     "output_type": "execute_result"
    }
   ],
   "source": [
    "# luego asi\n",
    "True and True"
   ]
  },
  {
   "cell_type": "code",
   "execution_count": 4,
   "metadata": {},
   "outputs": [
    {
     "data": {
      "text/plain": [
       "True"
      ]
     },
     "execution_count": 4,
     "metadata": {},
     "output_type": "execute_result"
    }
   ],
   "source": [
    "(\"A\" != \"A\") or not (2 >= 3)"
   ]
  },
  {
   "cell_type": "code",
   "execution_count": 5,
   "metadata": {},
   "outputs": [
    {
     "data": {
      "text/plain": [
       "True"
      ]
     },
     "execution_count": 5,
     "metadata": {},
     "output_type": "execute_result"
    }
   ],
   "source": [
    "# se evalua asi:\n",
    "(False) or not (False)"
   ]
  },
  {
   "cell_type": "code",
   "execution_count": 6,
   "metadata": {},
   "outputs": [
    {
     "data": {
      "text/plain": [
       "True"
      ]
     },
     "execution_count": 6,
     "metadata": {},
     "output_type": "execute_result"
    }
   ],
   "source": [
    "# luego asi:\n",
    "False or True"
   ]
  },
  {
   "cell_type": "markdown",
   "metadata": {},
   "source": [
    "Finalmente, toda vez que cualquier expresion compuesta con `or` es `True` si una de las expresiones a la izquierda o derecha de `or` es `True`, podemos concluir que el resultado es `True`"
   ]
  },
  {
   "cell_type": "markdown",
   "metadata": {},
   "source": [
    "Agrupando expresiones on una declaracion condicional compuesta que tiene parentesis mejora la la lectura, pero a veces el parentesis es requerido para producir el resultado esperado."
   ]
  },
  {
   "cell_type": "code",
   "execution_count": 7,
   "metadata": {},
   "outputs": [
    {
     "data": {
      "text/plain": [
       "False"
      ]
     },
     "execution_count": 7,
     "metadata": {},
     "output_type": "execute_result"
    }
   ],
   "source": [
    "# por ejemplo, puede ser que esperamos que esto retorne True\n",
    "True and False == True and False"
   ]
  },
  {
   "cell_type": "markdown",
   "metadata": {},
   "source": [
    "La razon es que el operador `==` tiene precedencia ante `and`, entonces Python interpreta la expresion como:\n",
    "\n",
    "```\n",
    "True and (False == True) and False\n",
    "```\n",
    "\n",
    "Lo que se convierte en:\n",
    "\n",
    "```\n",
    "True and False and False\n",
    "```\n",
    "\n",
    "Lo que equivale a `False`"
   ]
  },
  {
   "cell_type": "code",
   "execution_count": 8,
   "metadata": {},
   "outputs": [
    {
     "data": {
      "text/plain": [
       "True"
      ]
     },
     "execution_count": 8,
     "metadata": {},
     "output_type": "execute_result"
    }
   ],
   "source": [
    "# si agregamos el parentesis\n",
    "(True and False) == (True and False)"
   ]
  },
  {
   "cell_type": "markdown",
   "metadata": {},
   "source": [
    "### Ejercicios"
   ]
  },
  {
   "cell_type": "markdown",
   "metadata": {},
   "source": [
    "Cual es el resultado de las siguientes expresiones?\n",
    "\n",
    "```\n",
    "(1 <= 1) and (1 != 1)\n",
    "not (1 != 2)\n",
    "(\"good\" != \"bad\") or False\n",
    "(\"good\" != \"Good\") and not (1 == 1)\n",
    "```"
   ]
  },
  {
   "cell_type": "markdown",
   "metadata": {},
   "source": [
    "Agrega parentesis donde sea necesario para que cada una de las siguientes expresiones evalue a `True`:\n",
    "\n",
    "```\n",
    "False == not True\n",
    "True and False == True and False\n",
    "not True and \"A\" == \"B\"\n",
    "```"
   ]
  },
  {
   "cell_type": "markdown",
   "metadata": {},
   "source": [
    "## Control de flujo de un programa"
   ]
  },
  {
   "cell_type": "markdown",
   "metadata": {},
   "source": [
    "Ahora que podemos comparar valores con comparadores booleanos y podemos construir declaraciones complejas con operadores logicos, vamos a agregar algo de logica a nuestro codigo para que realice diferentes acciones para diferentes condiciones."
   ]
  },
  {
   "cell_type": "markdown",
   "metadata": {},
   "source": [
    "### La declaracion `if`"
   ]
  },
  {
   "cell_type": "markdown",
   "metadata": {},
   "source": [
    "Una declaracion `if` le dice a Python que ejecute de forma exclusiva una porcion de codigo si una condicion se cumple. "
   ]
  },
  {
   "cell_type": "code",
   "execution_count": 9,
   "metadata": {},
   "outputs": [
    {
     "name": "stdout",
     "output_type": "stream",
     "text": [
      "2 + 2 = 4\n"
     ]
    }
   ],
   "source": [
    "# por ejemplo\n",
    "if 2 + 2 == 4:\n",
    "    print('2 + 2 = 4')"
   ]
  },
  {
   "cell_type": "markdown",
   "metadata": {},
   "source": [
    "Como el `while` loop, el `if` tiene tres partes:\n",
    "1. La palabra `if`\n",
    "2. La condicion de prueba, seguida por un colon\n",
    "3. Un bloque indentado que es ejecutado si una condicion es `True`"
   ]
  },
  {
   "cell_type": "code",
   "execution_count": 12,
   "metadata": {},
   "outputs": [
    {
     "name": "stdout",
     "output_type": "stream",
     "text": [
      "Esto si\n"
     ]
    }
   ],
   "source": [
    "# cuando la condicion es falsa\n",
    "if 2 + 2 == 5:\n",
    "    print('Esto no existe!')\n",
    "print('Esto si')"
   ]
  },
  {
   "cell_type": "code",
   "execution_count": 14,
   "metadata": {},
   "outputs": [
    {
     "name": "stdout",
     "output_type": "stream",
     "text": [
      "Pasaste la clase!\n",
      "Gracias por asistir.\n"
     ]
    }
   ],
   "source": [
    "nota = 4.5\n",
    "if nota >= 3.5:\n",
    "    print('Pasaste la clase!')\n",
    "print('Gracias por asistir.')"
   ]
  },
  {
   "cell_type": "code",
   "execution_count": 16,
   "metadata": {},
   "outputs": [
    {
     "name": "stdout",
     "output_type": "stream",
     "text": [
      "Te quedaste, lo siento!\n",
      "Gracias por asistir.\n"
     ]
    }
   ],
   "source": [
    "nota = 3.0\n",
    "\n",
    "if nota >= 3.5:\n",
    "    print('Pasaste!')\n",
    "    \n",
    "if nota < 3.5:\n",
    "    print('Te quedaste, lo siento!')\n",
    "\n",
    "print('Gracias por asistir.')"
   ]
  },
  {
   "cell_type": "markdown",
   "metadata": {},
   "source": [
    "### La palabra `else`"
   ]
  },
  {
   "cell_type": "markdown",
   "metadata": {},
   "source": [
    "**`else`** es utilizado despues de un **`if`**, a fin de ejecutar una porcion de codigo solo si la condicion del **`if`** no es veridica (no llega a ejecutarse)."
   ]
  },
  {
   "cell_type": "code",
   "execution_count": 19,
   "metadata": {},
   "outputs": [
    {
     "name": "stdout",
     "output_type": "stream",
     "text": [
      "Te quedaste, lo siento.\n",
      "Gracias por asistir.\n"
     ]
    }
   ],
   "source": [
    "nota = 3.0\n",
    "\n",
    "if nota >= 3.5:\n",
    "    print('Pasaste!')\n",
    "    \n",
    "else:\n",
    "    print('Te quedaste, lo siento.')\n",
    "\n",
    "print('Gracias por asistir.')"
   ]
  },
  {
   "cell_type": "markdown",
   "metadata": {},
   "source": [
    "Las palabras **`if`** y **`else`** funcionan bien cuando hay que revisar exactamente dos (2) estados / condiciones. Sin embargo, hay veces que necesitamos revisar tres (3) o mas condiciones. Para esto, utilizamos la palabra **`elif`**."
   ]
  },
  {
   "cell_type": "markdown",
   "metadata": {},
   "source": [
    "### La palabra `elif`"
   ]
  },
  {
   "cell_type": "markdown",
   "metadata": {},
   "source": [
    "La palabra `elif` es corto por `else if` y se puede utilizar para agregar condiciones adicionales despues del `if`. Como los `if`, los `elif` tienen tres (3) partes:\n",
    "1. La palabra `elif`\n",
    "2. La condicion de prueba, seguida por un colon\n",
    "3. Un bloque de codigo indentado que se ejecuta si la condicion evalua a `True`"
   ]
  },
  {
   "cell_type": "code",
   "execution_count": 25,
   "metadata": {},
   "outputs": [
    {
     "name": "stdout",
     "output_type": "stream",
     "text": [
      "Pasastes con buena nota, felicidades!\n",
      "Gracias por asistir.\n"
     ]
    }
   ],
   "source": [
    "nota = 4.0  # 1\n",
    "\n",
    "if nota >= 4.5:  # 2\n",
    "    print('Pasaste con cuadro de honor!')\n",
    "    \n",
    "elif nota >= 4.0:  # 3\n",
    "    print('Pasastes con buena nota, felicidades!')\n",
    "\n",
    "elif nota >= 3.5:  # 4\n",
    "    print('Pasastes, pero tienes que esforzarte mas')\n",
    "\n",
    "else:  # 5\n",
    "    print('Lo siento, no pasastes, nos vemos el proximo año misma clase misma hora!')\n",
    "    \n",
    "print('Gracias por asistir.')  #6"
   ]
  },
  {
   "cell_type": "markdown",
   "metadata": {},
   "source": [
    "## Declaraciones `if` anidadas"
   ]
  },
  {
   "cell_type": "markdown",
   "metadata": {},
   "source": [
    "Al igual que los `for` y `while` loops, tambien podemos anidar una declaracion `if` adentro de otra para crear estructuras de decisiones un poco mas complejas. \n",
    "\n",
    "Considera el proximo escenario. Dos personas juegan uno contra uno. Debemos decidir quien gana dependiendo de los puntajes y el deporte que estan jugando:\n",
    "1. Si los dos jugadores estan jugando baloncesto, el jugador con el puntaje mas alto gana.\n",
    "2. Si estan jugando golf, el jugador con el puntaje mas bajo gana.\n",
    "3. En cualquier de los dos deportes, si el puntaje es el mismo, es un empate."
   ]
  },
  {
   "cell_type": "code",
   "execution_count": 26,
   "metadata": {},
   "outputs": [
    {
     "name": "stdout",
     "output_type": "stream",
     "text": [
      "Ingresa un deporte: golf\n",
      "Ingresa el puntaje del jugador 1: -3\n",
      "Ingresa el puntaje del jugador 2: 0\n",
      "Ganador: Jugador 1!\n"
     ]
    }
   ],
   "source": [
    "deporte = input('Ingresa un deporte: ')\n",
    "puntaje_1 = input('Ingresa el puntaje del jugador 1: ')\n",
    "puntaje_2 = input('Ingresa el puntaje del jugador 2: ')\n",
    "\n",
    "# 1\n",
    "if deporte.lower() == 'baloncesto':\n",
    "    if puntaje_1 == puntaje_2:\n",
    "        print('Empate!')\n",
    "    elif puntaje_1 > puntaje_2:\n",
    "        print('Ganador: Jugador 1!')\n",
    "    else:\n",
    "        print('Ganador: Jugador 2!')\n",
    "        \n",
    "# 2\n",
    "elif deporte.lower() == 'golf':\n",
    "    if puntaje_1 == puntaje_2:\n",
    "        print('Empate!')\n",
    "    elif puntaje_1 > puntaje_2:\n",
    "        print('Ganador: Jugador 2!')\n",
    "    else:\n",
    "        print('Ganador: Jugador 1!')\n",
    "\n",
    "else:\n",
    "    print('Deporte desconocido.')\n",
    "\n",
    "# en total hay 7 posibles resultados"
   ]
  },
  {
   "cell_type": "code",
   "execution_count": null,
   "metadata": {},
   "outputs": [],
   "source": [
    "# simplifiquemoslo un poco mas\n",
    "\n",
    "# 1\n",
    "if puntaje_1 == puntaje_2:\n",
    "    print('Empate!')\n",
    "\n",
    "elif deporte.lower() == 'baloncesto':\n",
    "    elif puntaje_1 > puntaje_2:  # 2\n",
    "        print('Ganador: Jugador 2!')\n",
    "    else:  # 3\n",
    "        print('Ganador: Jugador 1!')\n",
    "        \n",
    "elif deporte.lower() == 'golf':\n",
    "    elif puntaje_1 > puntaje_2:  # 4\n",
    "        print('Ganador: Jugador 2!')\n",
    "    else:  # 5\n",
    "        print('Ganador: Jugador 1!')\n",
    "\n",
    "else:  # 6\n",
    "    print('Deporte desconocido.')\n",
    "\n",
    "    \n",
    "# 6 distintas posibilidades"
   ]
  },
  {
   "cell_type": "markdown",
   "metadata": {},
   "source": [
    "### Lo simplificamos aun mas?"
   ]
  },
  {
   "cell_type": "markdown",
   "metadata": {},
   "source": [
    "A ver:\n",
    "* El jugador 1 gana si el deporte es baloncesto y su puntaje es el mas alto\n",
    "* El jugador 1 gana si el deporte es golf y su puntaje es el mas bajo"
   ]
  },
  {
   "cell_type": "code",
   "execution_count": 27,
   "metadata": {},
   "outputs": [],
   "source": [
    "# lo anterior lo podemos representar de la siguiente manera:\n",
    "jugador_1_gana_baloncesto = deporte == 'baloncesto' and puntaje_1 > puntaje_2\n",
    "jugador_1_gana_golf = deporte == 'golf' and puntaje_1 < puntaje_2\n",
    "jugador_1_gana = jugador_1_gana_baloncesto or jugador_1_gana_golf"
   ]
  },
  {
   "cell_type": "code",
   "execution_count": 28,
   "metadata": {},
   "outputs": [
    {
     "data": {
      "text/plain": [
       "False"
      ]
     },
     "execution_count": 28,
     "metadata": {},
     "output_type": "execute_result"
    }
   ],
   "source": [
    "jugador_1_gana_baloncesto"
   ]
  },
  {
   "cell_type": "code",
   "execution_count": 29,
   "metadata": {},
   "outputs": [
    {
     "data": {
      "text/plain": [
       "True"
      ]
     },
     "execution_count": 29,
     "metadata": {},
     "output_type": "execute_result"
    }
   ],
   "source": [
    "jugador_1_gana_golf"
   ]
  },
  {
   "cell_type": "code",
   "execution_count": 30,
   "metadata": {},
   "outputs": [
    {
     "data": {
      "text/plain": [
       "True"
      ]
     },
     "execution_count": 30,
     "metadata": {},
     "output_type": "execute_result"
    }
   ],
   "source": [
    "jugador_1_gana"
   ]
  },
  {
   "cell_type": "code",
   "execution_count": 32,
   "metadata": {},
   "outputs": [
    {
     "name": "stdout",
     "output_type": "stream",
     "text": [
      "Ganador: Jugador 1!\n"
     ]
    }
   ],
   "source": [
    "if puntaje_1 == puntaje_2:\n",
    "    print('Empate!')  # 1\n",
    "\n",
    "elif deporte.lower() == 'baloncesto' or deporte.lower() == 'golf':\n",
    "    jugador_1_gana_baloncesto = deporte == 'baloncesto' and puntaje_1 > puntaje_2\n",
    "    jugador_1_gana_golf = deporte == 'golf' and puntaje_1 < puntaje_2\n",
    "    jugador_1_gana = jugador_1_gana_baloncesto or jugador_1_gana_golf\n",
    "    \n",
    "    if jugador_1_gana:\n",
    "        print('Ganador: Jugador 1!')  # 2\n",
    "    else:\n",
    "        print('Ganador: Jugador 2!')  # 3\n",
    "\n",
    "else:\n",
    "    print('Deporte desconocido')  # 4\n",
    "\n",
    "# solo hay 4 maneras en el cual el programa puede ejecutar"
   ]
  },
  {
   "cell_type": "markdown",
   "metadata": {},
   "source": [
    "### Ejercicios"
   ]
  },
  {
   "cell_type": "markdown",
   "metadata": {},
   "source": [
    "Escriba un script que le solicita al usuario ingresar una palabra. \n",
    "Guarde la palabra en una variable, y luego imprima si la longitud del string es:\n",
    "1. menos de 5 caracteres\n",
    "2. mas de 5 caracteres\n",
    "3. igual a 5 caracteres\n",
    "\n",
    "Utilize las declaraciones `if`, `elif` y `else`."
   ]
  },
  {
   "cell_type": "markdown",
   "metadata": {},
   "source": [
    "## Reto: Encuentra los factores de un numero"
   ]
  },
  {
   "cell_type": "markdown",
   "metadata": {},
   "source": [
    "El factor de un numero positivo entero `n` es cualquier numero positivo entero que es:\n",
    "* igual o menor a `n`\n",
    "* divide `n` enteramente, sin restas\n",
    "\n",
    "Por ejemplo, `3` es un factor de `12` porque `12` es dividido entre `3` es `4`, sin  ningun monto restante. Sin embargo, `5` no es un factor de `12` porque `5` por `2` es `10` y queda un monto restante de `2`."
   ]
  },
  {
   "cell_type": "code",
   "execution_count": null,
   "metadata": {},
   "outputs": [],
   "source": []
  },
  {
   "cell_type": "code",
   "execution_count": null,
   "metadata": {},
   "outputs": [],
   "source": []
  },
  {
   "cell_type": "code",
   "execution_count": null,
   "metadata": {},
   "outputs": [],
   "source": []
  },
  {
   "cell_type": "markdown",
   "metadata": {},
   "source": [
    "## Rompe el patron"
   ]
  },
  {
   "cell_type": "markdown",
   "metadata": {},
   "source": [
    "## Recuperacion de Errores"
   ]
  },
  {
   "cell_type": "markdown",
   "metadata": {},
   "source": [
    "## Simulacion de Eventos y Calculo de Probabilidades"
   ]
  },
  {
   "cell_type": "markdown",
   "metadata": {},
   "source": [
    "## Reto: Simulacion de un lanzamiento de moneda"
   ]
  },
  {
   "cell_type": "markdown",
   "metadata": {},
   "source": [
    "## Reto: Simulacion de una eleccion"
   ]
  },
  {
   "cell_type": "markdown",
   "metadata": {},
   "source": [
    "## Resumen"
   ]
  },
  {
   "cell_type": "code",
   "execution_count": null,
   "metadata": {},
   "outputs": [],
   "source": []
  }
 ],
 "metadata": {
  "kernelspec": {
   "display_name": "Python 3",
   "language": "python",
   "name": "python3"
  },
  "language_info": {
   "codemirror_mode": {
    "name": "ipython",
    "version": 3
   },
   "file_extension": ".py",
   "mimetype": "text/x-python",
   "name": "python",
   "nbconvert_exporter": "python",
   "pygments_lexer": "ipython3",
   "version": "3.8.1"
  }
 },
 "nbformat": 4,
 "nbformat_minor": 4
}
