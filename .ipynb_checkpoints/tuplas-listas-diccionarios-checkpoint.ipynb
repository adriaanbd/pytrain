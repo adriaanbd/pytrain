{
 "cells": [
  {
   "cell_type": "markdown",
   "metadata": {},
   "source": [
    "# Tuplas, Listas y Diccionarios"
   ]
  },
  {
   "cell_type": "markdown",
   "metadata": {},
   "source": [
    "Hasta ahora hemos trabajado con tipos de data como `str`, `int` y `float`. Muchos problemas comunes son mas facil de resolver cuando ciertos tipos de datos son combinados para crear estructuras de datos mas complejas."
   ]
  },
  {
   "cell_type": "markdown",
   "metadata": {},
   "source": [
    "Una **estructura de dato** modela una coleccion de data, como una lista de numeros, una fila de una hoja tabulada o un registro en una base de datos. Modelar la data que el programa utiliza, usando la estructura de dato correcta, es muchas veces la llave para escribir codigo simple y efectivo."
   ]
  },
  {
   "cell_type": "markdown",
   "metadata": {},
   "source": [
    "Python tiene tres estructuras de datos incorporadas que son el enfoque de este capitulo: tuplas, listas y diccionarios."
   ]
  },
  {
   "cell_type": "markdown",
   "metadata": {},
   "source": [
    "En esta seccion, aprendermos:\n",
    "* Como trabajar con tuplas, listas y diccionarios\n",
    "* Que es la immutabilidad y porque es importante\n",
    "* Cuando utilizar estructuras de datos distintas"
   ]
  },
  {
   "cell_type": "markdown",
   "metadata": {},
   "source": [
    "## Las tuplas son secuencias inmutables"
   ]
  },
  {
   "cell_type": "markdown",
   "metadata": {},
   "source": [
    "Una **secuencia** es una lista ordenada de valores. Cada elemento en una secuencia tiene un numero entero asignado, denominado **indice**, que terina el orden en el cual su valor aparece.\n",
    "\n",
    "Por ejemplo, las letras del alfabeto son una secuencia que empieza con la letra A y termina con la letra Z. Los strings tambien son secuencias. El string `Panama` tiene 6 elementos, comenzando con `P` en el indice `0` y terminando con `a` en el indice `5`.\n",
    "\n",
    "Algunos de los problemas realies de las secuencias incluyen valores emitidos por un sensor cada segundo, la secuencia de las notas estudiantiles, o la secuencia de los valores de las acciones en una empresa sobre un periodo de tiempo.\n",
    "\n",
    "En esta seccion aprenderemos como utilizar el tipo de dato incorporado `tuple`,para crear una secuencia de valores."
   ]
  },
  {
   "cell_type": "markdown",
   "metadata": {},
   "source": [
    "### Que es una tupla?\n",
    "\n",
    "La palabra proviene de la matematica, que es utilizado para describir una secuencia ordenada de valores. Usualmente los matematicos escriben tuplas ingresando cada elemento separado por una coma, dentor de un parentesis, e.g. (1, 2, 3) es una tupla que contiene 3 numeros enteros.\n",
    "\n",
    "Tuplas son ordenadas porque sus elementos aparecen en orden. El primero elemento de `(1, 2, 3)` es `1`, el segundo elemento es `2` y el tercero es `3`.\n",
    "\n",
    "Python utiliza el mismo nombre y manera de escribirla (notacion)"
   ]
  },
  {
   "cell_type": "markdown",
   "metadata": {},
   "source": [
    "### Como crear una Tupla"
   ]
  },
  {
   "cell_type": "markdown",
   "metadata": {},
   "source": [
    "Existen algunas maneras de crear una tupla en Python. Vamos a explicar dos de ellas:\n",
    "1. Literales de Tupla\n",
    "2. El incorporado `tuple()`"
   ]
  },
  {
   "cell_type": "markdown",
   "metadata": {},
   "source": [
    "### Literales de Tupla"
   ]
  },
  {
   "cell_type": "markdown",
   "metadata": {},
   "source": [
    "Asi como el literal string es un string que es explicitamente creado por rodear algo de texto con citas o comillas, un literal de tupla es una tupla que esta explicitamente escrita como una lista de valores separados con coma y rodeados de parentetis."
   ]
  },
  {
   "cell_type": "code",
   "execution_count": 2,
   "metadata": {},
   "outputs": [],
   "source": [
    "primera_tupla = (1, 2, 3)"
   ]
  },
  {
   "cell_type": "code",
   "execution_count": 3,
   "metadata": {},
   "outputs": [
    {
     "data": {
      "text/plain": [
       "tuple"
      ]
     },
     "execution_count": 3,
     "metadata": {},
     "output_type": "execute_result"
    }
   ],
   "source": [
    "type(primera_tupla)"
   ]
  },
  {
   "cell_type": "code",
   "execution_count": 4,
   "metadata": {},
   "outputs": [
    {
     "data": {
      "text/plain": [
       "(1, True, 'hola')"
      ]
     },
     "execution_count": 4,
     "metadata": {},
     "output_type": "execute_result"
    }
   ],
   "source": [
    "# las tuples pueden guardar cualquier tipo de elemento\n",
    "segunda_tupla = (1, True, 'hola')\n",
    "segunda_tupla"
   ]
  },
  {
   "cell_type": "code",
   "execution_count": 6,
   "metadata": {},
   "outputs": [
    {
     "data": {
      "text/plain": [
       "()"
      ]
     },
     "execution_count": 6,
     "metadata": {},
     "output_type": "execute_result"
    }
   ],
   "source": [
    "# tambien podemos tener una tupla vacia\n",
    "tupla_vacia = ()\n",
    "tupla_vacia"
   ]
  },
  {
   "cell_type": "code",
   "execution_count": 10,
   "metadata": {},
   "outputs": [
    {
     "data": {
      "text/plain": [
       "int"
      ]
     },
     "execution_count": 10,
     "metadata": {},
     "output_type": "execute_result"
    }
   ],
   "source": [
    "# esto no crea una tupla\n",
    "x = (1)\n",
    "type(x)"
   ]
  },
  {
   "cell_type": "code",
   "execution_count": 11,
   "metadata": {},
   "outputs": [
    {
     "data": {
      "text/plain": [
       "1"
      ]
     },
     "execution_count": 11,
     "metadata": {},
     "output_type": "execute_result"
    }
   ],
   "source": [
    "x"
   ]
  },
  {
   "cell_type": "code",
   "execution_count": 13,
   "metadata": {},
   "outputs": [
    {
     "data": {
      "text/plain": [
       "tuple"
      ]
     },
     "execution_count": 13,
     "metadata": {},
     "output_type": "execute_result"
    }
   ],
   "source": [
    "# necesitamos la coma\n",
    "x = (1,)\n",
    "type(x)"
   ]
  },
  {
   "cell_type": "code",
   "execution_count": 14,
   "metadata": {},
   "outputs": [
    {
     "data": {
      "text/plain": [
       "(1,)"
      ]
     },
     "execution_count": 14,
     "metadata": {},
     "output_type": "execute_result"
    }
   ],
   "source": [
    "x"
   ]
  },
  {
   "cell_type": "markdown",
   "metadata": {},
   "source": [
    "### `tuple()`"
   ]
  },
  {
   "cell_type": "code",
   "execution_count": 15,
   "metadata": {},
   "outputs": [
    {
     "data": {
      "text/plain": [
       "('P', 'a', 'n', 'a', 'm', 'a')"
      ]
     },
     "execution_count": 15,
     "metadata": {},
     "output_type": "execute_result"
    }
   ],
   "source": [
    "tuple('Panama')"
   ]
  },
  {
   "cell_type": "code",
   "execution_count": 16,
   "metadata": {},
   "outputs": [
    {
     "ename": "TypeError",
     "evalue": "tuple expected at most 1 argument, got 3",
     "output_type": "error",
     "traceback": [
      "\u001b[0;31m---------------------------------------------------------------------------\u001b[0m",
      "\u001b[0;31mTypeError\u001b[0m                                 Traceback (most recent call last)",
      "\u001b[0;32m<ipython-input-16-b13ab3c7d441>\u001b[0m in \u001b[0;36m<module>\u001b[0;34m\u001b[0m\n\u001b[1;32m      1\u001b[0m \u001b[0;31m# tuple acepta unicamente un solo parametro\u001b[0m\u001b[0;34m\u001b[0m\u001b[0;34m\u001b[0m\u001b[0;34m\u001b[0m\u001b[0m\n\u001b[0;32m----> 2\u001b[0;31m \u001b[0mtuple\u001b[0m\u001b[0;34m(\u001b[0m\u001b[0;36m1\u001b[0m\u001b[0;34m,\u001b[0m \u001b[0;36m2\u001b[0m\u001b[0;34m,\u001b[0m \u001b[0;36m3\u001b[0m\u001b[0;34m)\u001b[0m\u001b[0;34m\u001b[0m\u001b[0;34m\u001b[0m\u001b[0m\n\u001b[0m",
      "\u001b[0;31mTypeError\u001b[0m: tuple expected at most 1 argument, got 3"
     ]
    }
   ],
   "source": [
    "# tuple acepta unicamente un solo parametro\n",
    "tuple(1, 2, 3)"
   ]
  },
  {
   "cell_type": "code",
   "execution_count": 17,
   "metadata": {},
   "outputs": [
    {
     "ename": "TypeError",
     "evalue": "'int' object is not iterable",
     "output_type": "error",
     "traceback": [
      "\u001b[0;31m---------------------------------------------------------------------------\u001b[0m",
      "\u001b[0;31mTypeError\u001b[0m                                 Traceback (most recent call last)",
      "\u001b[0;32m<ipython-input-17-69b6b14cc30a>\u001b[0m in \u001b[0;36m<module>\u001b[0;34m\u001b[0m\n\u001b[0;32m----> 1\u001b[0;31m \u001b[0mtuple\u001b[0m\u001b[0;34m(\u001b[0m\u001b[0;36m1\u001b[0m\u001b[0;34m)\u001b[0m\u001b[0;34m\u001b[0m\u001b[0;34m\u001b[0m\u001b[0m\n\u001b[0m",
      "\u001b[0;31mTypeError\u001b[0m: 'int' object is not iterable"
     ]
    }
   ],
   "source": [
    "tuple(1)  # el parametro tiene que ser iterable / secuencia"
   ]
  },
  {
   "cell_type": "code",
   "execution_count": 18,
   "metadata": {},
   "outputs": [
    {
     "data": {
      "text/plain": [
       "()"
      ]
     },
     "execution_count": 18,
     "metadata": {},
     "output_type": "execute_result"
    }
   ],
   "source": [
    "# esto si sirve\n",
    "tuple()"
   ]
  },
  {
   "cell_type": "markdown",
   "metadata": {},
   "source": [
    "### Similitudes entre Tuplas y Strings"
   ]
  },
  {
   "cell_type": "markdown",
   "metadata": {},
   "source": [
    "Las Tuplas y los Strings tienen mucho en comun: a\n",
    "* ambos son tipos de secuencia con finita longitud, \n",
    "* ambos aceptan indexacion y segmentacion, \n",
    "* ambos son inmutables y \n",
    "* ambos pueden ser iterados en un ciclo. \n",
    "\n",
    "La diferencia principal entre strings y tuplas es que los elementos de las tuplas pueden ser de cualquier valor, meitnras que los elementos de un string solo pueden ser caracteres."
   ]
  },
  {
   "cell_type": "code",
   "execution_count": 19,
   "metadata": {},
   "outputs": [
    {
     "data": {
      "text/plain": [
       "3"
      ]
     },
     "execution_count": 19,
     "metadata": {},
     "output_type": "execute_result"
    }
   ],
   "source": [
    "# Tuplas tienen longitud\n",
    "numeros = (1, 2, 3)\n",
    "len(numeros)"
   ]
  },
  {
   "cell_type": "code",
   "execution_count": 22,
   "metadata": {},
   "outputs": [
    {
     "data": {
      "text/plain": [
       "5"
      ]
     },
     "execution_count": 22,
     "metadata": {},
     "output_type": "execute_result"
    }
   ],
   "source": [
    "# Tuplas tinen indexacion\n",
    "valores = (1, 3, 5, 7, 9)\n",
    "valores[2]"
   ]
  },
  {
   "cell_type": "code",
   "execution_count": 23,
   "metadata": {},
   "outputs": [
    {
     "data": {
      "text/plain": [
       "(5, 7)"
      ]
     },
     "execution_count": 23,
     "metadata": {},
     "output_type": "execute_result"
    }
   ],
   "source": [
    "# Tuplas tienen segmentacion\n",
    "valores[2:4]"
   ]
  },
  {
   "cell_type": "code",
   "execution_count": 24,
   "metadata": {},
   "outputs": [
    {
     "ename": "TypeError",
     "evalue": "'tuple' object does not support item assignment",
     "output_type": "error",
     "traceback": [
      "\u001b[0;31m---------------------------------------------------------------------------\u001b[0m",
      "\u001b[0;31mTypeError\u001b[0m                                 Traceback (most recent call last)",
      "\u001b[0;32m<ipython-input-24-503b63720143>\u001b[0m in \u001b[0;36m<module>\u001b[0;34m\u001b[0m\n\u001b[1;32m      1\u001b[0m \u001b[0;31m# Tuplas son inmutables\u001b[0m\u001b[0;34m\u001b[0m\u001b[0;34m\u001b[0m\u001b[0;34m\u001b[0m\u001b[0m\n\u001b[0;32m----> 2\u001b[0;31m \u001b[0mvalores\u001b[0m\u001b[0;34m[\u001b[0m\u001b[0;36m0\u001b[0m\u001b[0;34m]\u001b[0m \u001b[0;34m=\u001b[0m \u001b[0;36m2\u001b[0m\u001b[0;34m\u001b[0m\u001b[0;34m\u001b[0m\u001b[0m\n\u001b[0m",
      "\u001b[0;31mTypeError\u001b[0m: 'tuple' object does not support item assignment"
     ]
    }
   ],
   "source": [
    "# Tuplas son inmutables\n",
    "valores[0] = 2"
   ]
  },
  {
   "cell_type": "code",
   "execution_count": 26,
   "metadata": {},
   "outputs": [
    {
     "name": "stdout",
     "output_type": "stream",
     "text": [
      "A\n",
      "E\n",
      "I\n",
      "O\n",
      "U\n"
     ]
    }
   ],
   "source": [
    "# tuplas son iterables\n",
    "vocales = ('a', 'e', 'i', 'o', 'u')\n",
    "for vocal in vocales:\n",
    "    print(vocal.upper())"
   ]
  },
  {
   "cell_type": "code",
   "execution_count": 28,
   "metadata": {},
   "outputs": [
    {
     "data": {
      "text/plain": [
       "tuple"
      ]
     },
     "execution_count": 28,
     "metadata": {},
     "output_type": "execute_result"
    }
   ],
   "source": [
    "# empaque y desempaque de Tuplas\n",
    "coordenadas = 4.21, 9.29\n",
    "type(coordenadas)"
   ]
  },
  {
   "cell_type": "code",
   "execution_count": 29,
   "metadata": {},
   "outputs": [
    {
     "name": "stdout",
     "output_type": "stream",
     "text": [
      "4.21 9.29\n"
     ]
    }
   ],
   "source": [
    "x, y = coordenadas\n",
    "print(x, y)"
   ]
  },
  {
   "cell_type": "code",
   "execution_count": null,
   "metadata": {},
   "outputs": [],
   "source": [
    "nombre, edad, ocupacion = 'Adriaan', 34, 'programador'"
   ]
  },
  {
   "cell_type": "code",
   "execution_count": 31,
   "metadata": {},
   "outputs": [
    {
     "name": "stdout",
     "output_type": "stream",
     "text": [
      "Adriaan 34 programador\n"
     ]
    }
   ],
   "source": [
    "print(nombre, edad, ocupacion)"
   ]
  },
  {
   "cell_type": "markdown",
   "metadata": {},
   "source": [
    "Esto funciona porque los valores de la derecha son insertados en una Tupla y luego los valores son desempacados en tres variables: nombres, edad y ocupacion."
   ]
  },
  {
   "cell_type": "markdown",
   "metadata": {},
   "source": [
    "### Revisando la existencia de valores con `in`"
   ]
  },
  {
   "cell_type": "code",
   "execution_count": 32,
   "metadata": {},
   "outputs": [],
   "source": [
    "vocales = ('a', 'e', 'i', 'o', 'u')"
   ]
  },
  {
   "cell_type": "code",
   "execution_count": 33,
   "metadata": {},
   "outputs": [
    {
     "data": {
      "text/plain": [
       "True"
      ]
     },
     "execution_count": 33,
     "metadata": {},
     "output_type": "execute_result"
    }
   ],
   "source": [
    "'e' in vocales"
   ]
  },
  {
   "cell_type": "code",
   "execution_count": 34,
   "metadata": {},
   "outputs": [
    {
     "data": {
      "text/plain": [
       "False"
      ]
     },
     "execution_count": 34,
     "metadata": {},
     "output_type": "execute_result"
    }
   ],
   "source": [
    "'f' in vocales"
   ]
  },
  {
   "cell_type": "markdown",
   "metadata": {},
   "source": [
    "### Retornando multiples valores de una funcion"
   ]
  },
  {
   "cell_type": "code",
   "execution_count": 35,
   "metadata": {},
   "outputs": [],
   "source": [
    "# uso comun de de tuplas\n",
    "def agrega_resta(num1, num2):\n",
    "    return (num1 + num2), num1 - num2"
   ]
  },
  {
   "cell_type": "code",
   "execution_count": 36,
   "metadata": {},
   "outputs": [
    {
     "data": {
      "text/plain": [
       "(5, 1)"
      ]
     },
     "execution_count": 36,
     "metadata": {},
     "output_type": "execute_result"
    }
   ],
   "source": [
    "agrega_resta(3, 2)"
   ]
  },
  {
   "cell_type": "markdown",
   "metadata": {},
   "source": [
    "### Ejercicios"
   ]
  },
  {
   "cell_type": "markdown",
   "metadata": {},
   "source": [
    "1. Crea un literal de tupla llamado `numero_cardinales` que contiene los strings `primero`, `segundo` y `tercero` en ese orden.\n",
    "2. Utilizando el indice y `print()`, muestra el string en el indice `1` en `numero_cardinales`.\n",
    "3. Desempaca los valores en `numeros_cardinales` en tres (3) strings llamados `uno`, `dos`, `tres` en una lina de codigo, luego imprime cada valor en una linea separada.\n",
    "4. Crea una tupla llamada `mi_nombre` que contiene las letras de su nombre utilizando `tuple()` y un literal de string.\n",
    "5. Verifique si el caracter `x` esta en `mi_nombre` utilizando `in`.\n",
    "6. Crea una Tupla que contiene todas excepto la primera letra en `mi_nombre` con el metodo de segmentacion."
   ]
  },
  {
   "cell_type": "markdown",
   "metadata": {},
   "source": [
    "## Listas son Secuencias Mutables"
   ]
  },
  {
   "cell_type": "markdown",
   "metadata": {},
   "source": [
    "La estructura de dato `list` es otro tipo de secuencia en Python. Como los strings y las tuplas, las listan tambien contienen indices que empiezan desde `0`.\n",
    "\n",
    "Podemos indexar, segmentar, verificar la existencia de un elemento con `in`, y podemos iterar sobre listas con un `for` loop.\n",
    "\n",
    "A diferencia de las tuplas, sin embargo, las listas son **mutables**, por lo que el valor ubicado enun indice puede ser modificado despues que la lista haya sido creado.\n",
    "\n",
    "En esta seccion aprenderemos como crear listas y compararlas con las tuplas."
   ]
  },
  {
   "cell_type": "markdown",
   "metadata": {},
   "source": [
    "## Creando Listas"
   ]
  },
  {
   "cell_type": "markdown",
   "metadata": {},
   "source": [
    "Al igual que las tuplas, creamos listas con literales de lista y con el incorporado `list()`."
   ]
  },
  {
   "cell_type": "code",
   "execution_count": 38,
   "metadata": {},
   "outputs": [
    {
     "data": {
      "text/plain": [
       "['rojo', 'amarillo', 'verde', 'azul']"
      ]
     },
     "execution_count": 38,
     "metadata": {},
     "output_type": "execute_result"
    }
   ],
   "source": [
    "# se ve igual que una tupla, excepto se utilizan []\n",
    "colores = ['rojo', 'amarillo' , 'verde', 'azul']\n",
    "colores"
   ]
  },
  {
   "cell_type": "code",
   "execution_count": 39,
   "metadata": {},
   "outputs": [
    {
     "data": {
      "text/plain": [
       "['v', 'e', 'r', 'd', 'e']"
      ]
     },
     "execution_count": 39,
     "metadata": {},
     "output_type": "execute_result"
    }
   ],
   "source": [
    "# podemos crear una lista con list()\n",
    "list('verde')"
   ]
  },
  {
   "cell_type": "code",
   "execution_count": 40,
   "metadata": {},
   "outputs": [
    {
     "data": {
      "text/plain": [
       "['a', 'z', 'u', 'l']"
      ]
     },
     "execution_count": 40,
     "metadata": {},
     "output_type": "execute_result"
    }
   ],
   "source": [
    "# podemos crear una lista de un tuple\n",
    "list(tuple('azul'))"
   ]
  },
  {
   "cell_type": "code",
   "execution_count": 42,
   "metadata": {},
   "outputs": [
    {
     "data": {
      "text/plain": [
       "['cereal', 'avena', 'queso']"
      ]
     },
     "execution_count": 42,
     "metadata": {},
     "output_type": "execute_result"
    }
   ],
   "source": [
    "# tambien podemos crear un list desde un string, con str.split()\n",
    "cosas = 'cereal, avena, queso'\n",
    "lista_de_cosas = cosas.split(', ')  # ', ' es el separador\n",
    "lista_de_cosas"
   ]
  },
  {
   "cell_type": "markdown",
   "metadata": {},
   "source": [
    "## Operaciones basicas"
   ]
  },
  {
   "cell_type": "code",
   "execution_count": 43,
   "metadata": {},
   "outputs": [],
   "source": [
    "numeros = [1, 2, 3, 4]"
   ]
  },
  {
   "cell_type": "code",
   "execution_count": 44,
   "metadata": {},
   "outputs": [
    {
     "data": {
      "text/plain": [
       "2"
      ]
     },
     "execution_count": 44,
     "metadata": {},
     "output_type": "execute_result"
    }
   ],
   "source": [
    "numeros[1]"
   ]
  },
  {
   "cell_type": "code",
   "execution_count": 45,
   "metadata": {},
   "outputs": [
    {
     "data": {
      "text/plain": [
       "[2, 3]"
      ]
     },
     "execution_count": 45,
     "metadata": {},
     "output_type": "execute_result"
    }
   ],
   "source": [
    "numeros[1:3]"
   ]
  },
  {
   "cell_type": "code",
   "execution_count": 46,
   "metadata": {},
   "outputs": [
    {
     "data": {
      "text/plain": [
       "False"
      ]
     },
     "execution_count": 46,
     "metadata": {},
     "output_type": "execute_result"
    }
   ],
   "source": [
    "'7' in numeros"
   ]
  },
  {
   "cell_type": "code",
   "execution_count": 48,
   "metadata": {},
   "outputs": [
    {
     "data": {
      "text/plain": [
       "True"
      ]
     },
     "execution_count": 48,
     "metadata": {},
     "output_type": "execute_result"
    }
   ],
   "source": [
    "3 in numeros"
   ]
  },
  {
   "cell_type": "code",
   "execution_count": 55,
   "metadata": {},
   "outputs": [
    {
     "name": "stdout",
     "output_type": "stream",
     "text": [
      "1 es impar\n",
      "2 es par\n",
      "3 es impar\n",
      "4 es par\n"
     ]
    }
   ],
   "source": [
    "for numero in numeros:\n",
    "    if numero % 2 == 0:\n",
    "        print(f'{numero} es par')\n",
    "    else:\n",
    "        print(f'{numero} es impar')"
   ]
  },
  {
   "cell_type": "markdown",
   "metadata": {},
   "source": [
    "## Cambiando elementos en una lista"
   ]
  },
  {
   "cell_type": "markdown",
   "metadata": {},
   "source": [
    "Las listas son mutables, por tanto podemos alterar el contenido de la misma, cambiando sus elementos.\n",
    "\n",
    "Podemos pensar es una lista como una secuencia numerada de vacantes. Cada vacante sostiene un valor, y cada vacante debe estar llena en todo momento, pero podemos intercambiar un valor en una vacante por otro valor cuando queremos."
   ]
  },
  {
   "cell_type": "code",
   "execution_count": 53,
   "metadata": {},
   "outputs": [
    {
     "data": {
      "text/plain": [
       "['azul', 'rojo', 'blanco']"
      ]
     },
     "execution_count": 53,
     "metadata": {},
     "output_type": "execute_result"
    }
   ],
   "source": [
    "colores = ['amarillo', 'rojo', 'blanco']\n",
    "colores[0] = 'azul'\n",
    "colores"
   ]
  },
  {
   "cell_type": "code",
   "execution_count": 54,
   "metadata": {},
   "outputs": [
    {
     "data": {
      "text/plain": [
       "['azul', 'naranja', 'negro']"
      ]
     },
     "execution_count": 54,
     "metadata": {},
     "output_type": "execute_result"
    }
   ],
   "source": [
    "colores[1:] = ['naranja', 'negro']\n",
    "colores"
   ]
  },
  {
   "cell_type": "markdown",
   "metadata": {},
   "source": [
    "## Metodos para agregar y eliminar elementos"
   ]
  },
  {
   "cell_type": "markdown",
   "metadata": {},
   "source": [
    "`insert()`"
   ]
  },
  {
   "cell_type": "code",
   "execution_count": 56,
   "metadata": {},
   "outputs": [
    {
     "data": {
      "text/plain": [
       "['rojo', 'negro', 'azul', 'blanco']"
      ]
     },
     "execution_count": 56,
     "metadata": {},
     "output_type": "execute_result"
    }
   ],
   "source": [
    "# insert ingresa elementos individuales a la lista, tiene 2 parametros\n",
    "colores = ['rojo', 'azul', 'blanco']\n",
    "colores.insert(1, 'negro')  # el indice donde se ingresa, y el color\n",
    "colores"
   ]
  },
  {
   "cell_type": "markdown",
   "metadata": {},
   "source": [
    "`pop()`"
   ]
  },
  {
   "cell_type": "code",
   "execution_count": 57,
   "metadata": {},
   "outputs": [],
   "source": [
    "# pop elimina el elemento ubicado en el indice dado o en el ultimo\n",
    "color = colores.pop(1)"
   ]
  },
  {
   "cell_type": "code",
   "execution_count": 58,
   "metadata": {},
   "outputs": [
    {
     "data": {
      "text/plain": [
       "'negro'"
      ]
     },
     "execution_count": 58,
     "metadata": {},
     "output_type": "execute_result"
    }
   ],
   "source": [
    "color"
   ]
  },
  {
   "cell_type": "code",
   "execution_count": 59,
   "metadata": {},
   "outputs": [
    {
     "data": {
      "text/plain": [
       "['rojo', 'azul', 'blanco']"
      ]
     },
     "execution_count": 59,
     "metadata": {},
     "output_type": "execute_result"
    }
   ],
   "source": [
    "colores"
   ]
  },
  {
   "cell_type": "code",
   "execution_count": 60,
   "metadata": {},
   "outputs": [
    {
     "data": {
      "text/plain": [
       "'blanco'"
      ]
     },
     "execution_count": 60,
     "metadata": {},
     "output_type": "execute_result"
    }
   ],
   "source": [
    "# sin parametro, elimina el ultimo elemento\n",
    "colores.pop()"
   ]
  },
  {
   "cell_type": "code",
   "execution_count": 61,
   "metadata": {},
   "outputs": [
    {
     "data": {
      "text/plain": [
       "['rojo', 'azul']"
      ]
     },
     "execution_count": 61,
     "metadata": {},
     "output_type": "execute_result"
    }
   ],
   "source": [
    "colores"
   ]
  },
  {
   "cell_type": "markdown",
   "metadata": {},
   "source": [
    "`append()`"
   ]
  },
  {
   "cell_type": "code",
   "execution_count": 62,
   "metadata": {},
   "outputs": [
    {
     "data": {
      "text/plain": [
       "['rojo', 'azul', 'blanco']"
      ]
     },
     "execution_count": 62,
     "metadata": {},
     "output_type": "execute_result"
    }
   ],
   "source": [
    "# append() agrega un elemento al final de la lista\n",
    "colores.append('blanco')\n",
    "colores"
   ]
  },
  {
   "cell_type": "markdown",
   "metadata": {},
   "source": [
    "`extend()`"
   ]
  },
  {
   "cell_type": "code",
   "execution_count": 63,
   "metadata": {},
   "outputs": [
    {
     "data": {
      "text/plain": [
       "['rojo', 'azul', 'blanco', 'negro', 'gris']"
      ]
     },
     "execution_count": 63,
     "metadata": {},
     "output_type": "execute_result"
    }
   ],
   "source": [
    "# extend() se usa para agregar varios elementos al final de la lista\n",
    "colores.extend(['negro', 'gris'])\n",
    "colores"
   ]
  },
  {
   "cell_type": "markdown",
   "metadata": {},
   "source": [
    "## Lista de numeros"
   ]
  },
  {
   "cell_type": "code",
   "execution_count": 64,
   "metadata": {},
   "outputs": [
    {
     "data": {
      "text/plain": [
       "15"
      ]
     },
     "execution_count": 64,
     "metadata": {},
     "output_type": "execute_result"
    }
   ],
   "source": [
    "# obtengamos la suma de la lista\n",
    "numeros = [1, 2, 3, 4, 5]\n",
    "total = 0\n",
    "for numero in numeros:\n",
    "    total = total + numero\n",
    "total"
   ]
  },
  {
   "cell_type": "code",
   "execution_count": 65,
   "metadata": {},
   "outputs": [
    {
     "data": {
      "text/plain": [
       "15"
      ]
     },
     "execution_count": 65,
     "metadata": {},
     "output_type": "execute_result"
    }
   ],
   "source": [
    "# podemos utilizar la funcion incorporada sum()\n",
    "sum(numeros)  # sum() toma un iterable de numeros como parametro"
   ]
  },
  {
   "cell_type": "code",
   "execution_count": 66,
   "metadata": {},
   "outputs": [
    {
     "ename": "TypeError",
     "evalue": "unsupported operand type(s) for +: 'int' and 'str'",
     "output_type": "error",
     "traceback": [
      "\u001b[0;31m---------------------------------------------------------------------------\u001b[0m",
      "\u001b[0;31mTypeError\u001b[0m                                 Traceback (most recent call last)",
      "\u001b[0;32m<ipython-input-66-dd329d9da579>\u001b[0m in \u001b[0;36m<module>\u001b[0;34m\u001b[0m\n\u001b[0;32m----> 1\u001b[0;31m \u001b[0msum\u001b[0m\u001b[0;34m(\u001b[0m\u001b[0;34m[\u001b[0m\u001b[0;36m1\u001b[0m\u001b[0;34m,\u001b[0m \u001b[0;36m2\u001b[0m\u001b[0;34m,\u001b[0m \u001b[0;34m'letra'\u001b[0m\u001b[0;34m]\u001b[0m\u001b[0;34m)\u001b[0m  \u001b[0;31m# no funciona\u001b[0m\u001b[0;34m\u001b[0m\u001b[0;34m\u001b[0m\u001b[0m\n\u001b[0m",
      "\u001b[0;31mTypeError\u001b[0m: unsupported operand type(s) for +: 'int' and 'str'"
     ]
    }
   ],
   "source": [
    "sum([1, 2, 'letra'])  # no funciona"
   ]
  },
  {
   "cell_type": "code",
   "execution_count": 67,
   "metadata": {},
   "outputs": [
    {
     "data": {
      "text/plain": [
       "1"
      ]
     },
     "execution_count": 67,
     "metadata": {},
     "output_type": "execute_result"
    }
   ],
   "source": [
    "# obtener el valor minimo en una lista\n",
    "min(numeros)"
   ]
  },
  {
   "cell_type": "code",
   "execution_count": 69,
   "metadata": {},
   "outputs": [
    {
     "data": {
      "text/plain": [
       "5"
      ]
     },
     "execution_count": 69,
     "metadata": {},
     "output_type": "execute_result"
    }
   ],
   "source": [
    "# el maximo\n",
    "max(numeros)"
   ]
  },
  {
   "cell_type": "markdown",
   "metadata": {},
   "source": [
    "### Ejercicios\n",
    "1. Crea una lista llamada `comida` con dos elementos `arroz` y `lentejas`.\n",
    "2. Agrega el string `pollo` a comida utilizando `append()`\n",
    "3. Agrega el string `pan` y `pizza` a `comida` utilizando `extend()`\n",
    "4. Imprime los dos primeros elementos de `comida` utilizando `print()` y segmentacion.\n",
    "5. Imprime el ultimo elemento en la lista `comida` utilizando `print()` y el indice.\n",
    "6. Crea una lista `desayuno` del string `huevo, fruta, jugo` utilizando el metodo `.split()`.\n",
    "7. Verifica que `desayuno` tenga tres elementos usando `len()`"
   ]
  },
  {
   "cell_type": "markdown",
   "metadata": {},
   "source": [
    "## Anidando, Copiando y Ordenando Tuplas y Listas"
   ]
  },
  {
   "cell_type": "markdown",
   "metadata": {},
   "source": [
    "Ahora que haz aprendido lo que son las tuplas y las listas, como crearlas y como realizar algunas operaciones basicas, vamos a ver otros tres conceptos:\n",
    "1. Anidar\n",
    "2. Replicar\n",
    "3. Ordenar"
   ]
  },
  {
   "cell_type": "markdown",
   "metadata": {},
   "source": [
    "### Anidando listas y tuplas"
   ]
  },
  {
   "cell_type": "markdown",
   "metadata": {},
   "source": [
    "Listas y tuplas pueden contener valores de cualquier tipo. Es decir, las listas y las tuplas pueden contener listas y tuplas como valores. Una **lista anidada** o **tupla anidada** es una lista o una tupla que esta ubicada entro de otra lista o tupla."
   ]
  },
  {
   "cell_type": "code",
   "execution_count": 1,
   "metadata": {},
   "outputs": [],
   "source": [
    "dos_x_dos = [[1, 2], [3, 4]]"
   ]
  },
  {
   "cell_type": "code",
   "execution_count": 2,
   "metadata": {},
   "outputs": [
    {
     "data": {
      "text/plain": [
       "2"
      ]
     },
     "execution_count": 2,
     "metadata": {},
     "output_type": "execute_result"
    }
   ],
   "source": [
    "len(dos_x_dos)"
   ]
  },
  {
   "cell_type": "code",
   "execution_count": 3,
   "metadata": {},
   "outputs": [
    {
     "data": {
      "text/plain": [
       "[1, 2]"
      ]
     },
     "execution_count": 3,
     "metadata": {},
     "output_type": "execute_result"
    }
   ],
   "source": [
    "dos_x_dos[0]"
   ]
  },
  {
   "cell_type": "code",
   "execution_count": 4,
   "metadata": {},
   "outputs": [
    {
     "data": {
      "text/plain": [
       "[3, 4]"
      ]
     },
     "execution_count": 4,
     "metadata": {},
     "output_type": "execute_result"
    }
   ],
   "source": [
    "dos_x_dos[1]"
   ]
  },
  {
   "cell_type": "code",
   "execution_count": 5,
   "metadata": {},
   "outputs": [
    {
     "data": {
      "text/plain": [
       "2"
      ]
     },
     "execution_count": 5,
     "metadata": {},
     "output_type": "execute_result"
    }
   ],
   "source": [
    "# acceder al primer elemento de la primera lista\n",
    "dos_x_dos[0][1]"
   ]
  },
  {
   "cell_type": "markdown",
   "metadata": {},
   "source": [
    "### Copiando una Lista"
   ]
  },
  {
   "cell_type": "markdown",
   "metadata": {},
   "source": [
    "A veces tenemos que copiar una lista a otra variable. Sin embargo, no podemos re-asignar una objeto de lista a otro objeto de lista, porque obtendremos este resultado:"
   ]
  },
  {
   "cell_type": "code",
   "execution_count": 6,
   "metadata": {},
   "outputs": [],
   "source": [
    "animales = ['perro', 'gato']"
   ]
  },
  {
   "cell_type": "code",
   "execution_count": 7,
   "metadata": {},
   "outputs": [],
   "source": [
    "animales_de_finca = animales\n",
    "animales_de_finca.append('caballo')  # agreguemos caballo a la lista"
   ]
  },
  {
   "cell_type": "code",
   "execution_count": 8,
   "metadata": {},
   "outputs": [
    {
     "data": {
      "text/plain": [
       "['perro', 'gato', 'caballo']"
      ]
     },
     "execution_count": 8,
     "metadata": {},
     "output_type": "execute_result"
    }
   ],
   "source": [
    "# ahora esta variable tiene 'caballo' tambien. Porque?\n",
    "animales"
   ]
  },
  {
   "cell_type": "markdown",
   "metadata": {},
   "source": [
    "Una variable es una referencia a un objeto. No es el objeto, solo una referencia al mismo. Una referencia a la ubicacion exacta en la memoria de la computadora donde la variable reside. En vez de copiar todo el contenido de la lista y crear una nueva lista, `animales_de_finca = animales` solo asigna la referencia del objeto a la nueva variable. Es decir, las dos (2) variables hacen referencia al mismo objeto en memoria y cualquier cambio realizado en uno, afecta el otro.\n",
    "\n",
    "A fin de obtener una copia independiente e integra de `animales`, podemos segmentar o cortar todo el contenido de la lista e asignarlo a la nueva variable."
   ]
  },
  {
   "cell_type": "code",
   "execution_count": 9,
   "metadata": {},
   "outputs": [
    {
     "data": {
      "text/plain": [
       "['perro', 'gato', 'caballo']"
      ]
     },
     "execution_count": 9,
     "metadata": {},
     "output_type": "execute_result"
    }
   ],
   "source": [
    "animales = ['perro', 'gato']\n",
    "animales_de_finca = animales[:]  # de indice 0 al final de la lista\n",
    "animales_de_finca.append('caballo')\n",
    "animales_de_finca"
   ]
  },
  {
   "cell_type": "code",
   "execution_count": 10,
   "metadata": {},
   "outputs": [
    {
     "data": {
      "text/plain": [
       "['perro', 'gato']"
      ]
     },
     "execution_count": 10,
     "metadata": {},
     "output_type": "execute_result"
    }
   ],
   "source": [
    "animales"
   ]
  },
  {
   "cell_type": "code",
   "execution_count": 11,
   "metadata": {},
   "outputs": [],
   "source": [
    "# tambien podemos copiar una lista de listas\n",
    "matriz1 = [[1, 2], [3, 4]]\n",
    "matriz2 = matriz1[:]"
   ]
  },
  {
   "cell_type": "code",
   "execution_count": 12,
   "metadata": {},
   "outputs": [],
   "source": [
    "matriz2[0] = [5, 6]"
   ]
  },
  {
   "cell_type": "code",
   "execution_count": 13,
   "metadata": {},
   "outputs": [
    {
     "data": {
      "text/plain": [
       "[[5, 6], [3, 4]]"
      ]
     },
     "execution_count": 13,
     "metadata": {},
     "output_type": "execute_result"
    }
   ],
   "source": [
    "matriz2"
   ]
  },
  {
   "cell_type": "code",
   "execution_count": 14,
   "metadata": {},
   "outputs": [
    {
     "data": {
      "text/plain": [
       "[[1, 2], [3, 4]]"
      ]
     },
     "execution_count": 14,
     "metadata": {},
     "output_type": "execute_result"
    }
   ],
   "source": [
    "matriz1"
   ]
  },
  {
   "cell_type": "code",
   "execution_count": 16,
   "metadata": {},
   "outputs": [
    {
     "data": {
      "text/plain": [
       "[[5, 6], [1, 4]]"
      ]
     },
     "execution_count": 16,
     "metadata": {},
     "output_type": "execute_result"
    }
   ],
   "source": [
    "# cambiemos el primer elemento de la segunda lista\n",
    "matriz2[1][0] = 1\n",
    "matriz2"
   ]
  },
  {
   "cell_type": "code",
   "execution_count": 17,
   "metadata": {},
   "outputs": [
    {
     "data": {
      "text/plain": [
       "[[1, 2], [1, 4]]"
      ]
     },
     "execution_count": 17,
     "metadata": {},
     "output_type": "execute_result"
    }
   ],
   "source": [
    "# tambien cambió, porque?\n",
    "matriz1"
   ]
  },
  {
   "cell_type": "markdown",
   "metadata": {},
   "source": [
    "Los elementos de ambas listas cambiaron porque una lista realmente no contiene los objetos mismos, pero referencias a esos objetos en memoria. Cuando copiamos una lista utilizando el metodo de segmentacion `[:]`, una nueva lista es retornada conteniendo las mismas referencias contenidas en la lista original. A esto se le conoce como una **copia simple**.\n",
    "\n",
    "A fin de realizar una copia de la lista y todos los elementos que contiene, debemos utilizar algo conocido como una **copia profunda**. Este metodo de copiar esta fuera del alcance de esta seccion."
   ]
  },
  {
   "cell_type": "markdown",
   "metadata": {},
   "source": [
    "### Ordenando listas"
   ]
  },
  {
   "cell_type": "markdown",
   "metadata": {},
   "source": [
    "Las listas tienen un metodo llamado `.sort()`, que ordena todos los elementos de una lista en orden ascendente. "
   ]
  },
  {
   "cell_type": "code",
   "execution_count": 18,
   "metadata": {},
   "outputs": [
    {
     "data": {
      "text/plain": [
       "['azul', 'blanco', 'rojo']"
      ]
     },
     "execution_count": 18,
     "metadata": {},
     "output_type": "execute_result"
    }
   ],
   "source": [
    "colores = ['rojo', 'blanco', 'azul']\n",
    "colores.sort()  # este metodo cambia el estado de la lista\n",
    "colores  # ya esta ordenada"
   ]
  },
  {
   "cell_type": "code",
   "execution_count": 19,
   "metadata": {},
   "outputs": [
    {
     "data": {
      "text/plain": [
       "[1, 3, 5, 10]"
      ]
     },
     "execution_count": 19,
     "metadata": {},
     "output_type": "execute_result"
    }
   ],
   "source": [
    "numeros = [10, 1, 5, 3]\n",
    "numeros.sort()\n",
    "numeros"
   ]
  },
  {
   "cell_type": "markdown",
   "metadata": {},
   "source": [
    "### Ejercicios"
   ]
  },
  {
   "cell_type": "markdown",
   "metadata": {},
   "source": [
    "1. Crea una tupla `data` con dos (2) valores. El primer valor debe sera una tupla `(1, 2)` y el segundo valor debe ser una tupla `(3, 4)`.\n",
    "2. Escribe un ciclo `for` que cicla sobre `data` e imprime la suma de cada tupla anidada. El dato de salida debe ser algo asi:\n",
    "\n",
    "```\n",
    "Fila 1 suma: 3\n",
    "Fila 2 suma: 7\n",
    "```\n",
    "\n",
    "3. Crea una lista `[4, 3, 2, 1]` y asignale una variable `numeros`\n",
    "4. Crea una copia de la lista `numeros` utilizando el metodo de segmentacion `[:]`\n",
    "5. Ordena lost `numeros` en la lista en orden numerico utilizando `.sort()`"
   ]
  },
  {
   "cell_type": "markdown",
   "metadata": {},
   "source": [
    "## Reto: Haz un Poema"
   ]
  },
  {
   "cell_type": "markdown",
   "metadata": {},
   "source": [
    "Escribe un programa que contiene las siguientes lista de listas:\n",
    "\n",
    "```\n",
    "universidades = [\n",
    "    ['Universidad de Panama', 2000, 35000],\n",
    "    ['Universidad Tecnologica de Panama', 10000, 40000],\n",
    "]\n",
    "```\n",
    "\n",
    "Defina una funcion `estadistica_de_matriculas` que toma una lista de listas como parametro donde cada lista contiene tres elementos: \n",
    "* nombre\n",
    "* numero total de estudiantes matriculados\n",
    "* tasa anual de de matricula\n",
    "\n",
    "Defina una funcion `media()` y `mediana()`. Ambas funciones deben tomar la lista como argumento y retornar la media y la mediana de los valores en la lista. \n",
    "\n",
    "Utilizando `universidades`, las funciones `estadistica_de_matriculas()`, `media()`, y `mediana()` debe calcular: \n",
    "* el numero total de estudiantes\n",
    "* la matricula total\n",
    "* la media\n",
    "* la mediana del numero de estudiantes\n",
    "* la media y mediana de los valores de matricula\n",
    "\n",
    "Un ejemplo:\n",
    "\n",
    "```\n",
    "Total estudiantes: 12,000\n",
    "Total matricula: 80,000\n",
    "\n",
    "Media estudiante: 11, 040\n",
    "Mediana estudiante: 10, 566\n",
    "\n",
    "Media matricula: 38,800\n",
    "Mediana matricula: 39,850\n",
    "```"
   ]
  },
  {
   "cell_type": "markdown",
   "metadata": {},
   "source": [
    "## Guardando Relaciones en Diccionarios"
   ]
  },
  {
   "cell_type": "markdown",
   "metadata": {},
   "source": [
    "Una las estructuras de dato mas utiles en Python es el **diccionario**.\n",
    "\n",
    "En esta seccion aprenderemos lo que es un diccionario, que los distingue de las listas y tuplas, como definirlas y como utilizarlas."
   ]
  },
  {
   "cell_type": "markdown",
   "metadata": {},
   "source": [
    "### Que es un diccionario?"
   ]
  },
  {
   "cell_type": "markdown",
   "metadata": {},
   "source": [
    "Un diccionario en Python, como las listas y las tuplas, guardan colecciones de objetos. Sin embargo, en vez de guardar objetos en secuencia, los diccionarios guardan la informacion en una pareja de datos llamada **llave-valor**. Es decir, cada objeto en un diccionario tiene dos partes: una **llave** y un **valor**.\n",
    "\n",
    "La **llave** en un par **llave-valor** es un nombre unico que identifica el **valor** de la pareja. Comparando esto a un diccionario comun, la llave es la palabra que se define y el valor es la definicion.\n",
    "\n",
    "Por ejemplo, podemos utilizar un diccionaro para guardar nombres de provincias y su capital:\n",
    "\n",
    "```\n",
    "Chiriqui: David\n",
    "Cocle: Anton\n",
    "```\n",
    "\n",
    "Es como un mapa en donde la **llave** contiene el **valor**. Si sabes el nombre de la llave, puedes obtener el valor de la misma. "
   ]
  },
  {
   "cell_type": "code",
   "execution_count": 20,
   "metadata": {},
   "outputs": [],
   "source": [
    "capitales = {\n",
    "    'Panama': 'Panama',\n",
    "    'Costa Rica': 'San Jose',\n",
    "    'Colombia': 'Bogota'\n",
    "}"
   ]
  },
  {
   "cell_type": "code",
   "execution_count": 22,
   "metadata": {},
   "outputs": [],
   "source": [
    "# tambien podemos crearlo asi\n",
    "pareja_llave_valor = (\n",
    "    ('Panama', 'Panama'),\n",
    "    ('Costa Rica', 'San Jose'),\n",
    "    ('Colombia', 'Bogota')\n",
    ")\n",
    "\n",
    "capitales2 = dict(pareja_llave_valor)"
   ]
  },
  {
   "cell_type": "code",
   "execution_count": 23,
   "metadata": {},
   "outputs": [
    {
     "data": {
      "text/plain": [
       "{'Panama': 'Panama', 'Costa Rica': 'San Jose', 'Colombia': 'Bogota'}"
      ]
     },
     "execution_count": 23,
     "metadata": {},
     "output_type": "execute_result"
    }
   ],
   "source": [
    "capitales"
   ]
  },
  {
   "cell_type": "code",
   "execution_count": 24,
   "metadata": {},
   "outputs": [
    {
     "data": {
      "text/plain": [
       "{'Panama': 'Panama', 'Costa Rica': 'San Jose', 'Colombia': 'Bogota'}"
      ]
     },
     "execution_count": 24,
     "metadata": {},
     "output_type": "execute_result"
    }
   ],
   "source": [
    "capitales2"
   ]
  },
  {
   "cell_type": "markdown",
   "metadata": {},
   "source": [
    "### Accediento a los valores de un diccionario"
   ]
  },
  {
   "cell_type": "code",
   "execution_count": 25,
   "metadata": {},
   "outputs": [
    {
     "data": {
      "text/plain": [
       "'Panama'"
      ]
     },
     "execution_count": 25,
     "metadata": {},
     "output_type": "execute_result"
    }
   ],
   "source": [
    "capitales['Panama']  # se accede llamando la llave"
   ]
  },
  {
   "cell_type": "code",
   "execution_count": 26,
   "metadata": {},
   "outputs": [
    {
     "data": {
      "text/plain": [
       "'Bogota'"
      ]
     },
     "execution_count": 26,
     "metadata": {},
     "output_type": "execute_result"
    }
   ],
   "source": [
    "capitales['Colombia']  # no es un indice, es una palabra llave"
   ]
  },
  {
   "cell_type": "markdown",
   "metadata": {},
   "source": [
    "### Agregando y eliminando valores de un diccionario"
   ]
  },
  {
   "cell_type": "code",
   "execution_count": 27,
   "metadata": {},
   "outputs": [],
   "source": [
    "capitales['Brasil'] = 'Brasilia'"
   ]
  },
  {
   "cell_type": "code",
   "execution_count": 28,
   "metadata": {},
   "outputs": [
    {
     "data": {
      "text/plain": [
       "{'Panama': 'Panama',\n",
       " 'Costa Rica': 'San Jose',\n",
       " 'Colombia': 'Bogota',\n",
       " 'Brasil': 'Brasilia'}"
      ]
     },
     "execution_count": 28,
     "metadata": {},
     "output_type": "execute_result"
    }
   ],
   "source": [
    "capitales"
   ]
  },
  {
   "cell_type": "code",
   "execution_count": 29,
   "metadata": {},
   "outputs": [],
   "source": [
    "# eliminando un valor\n",
    "del capitales['Costa Rica']"
   ]
  },
  {
   "cell_type": "code",
   "execution_count": 30,
   "metadata": {},
   "outputs": [
    {
     "data": {
      "text/plain": [
       "{'Panama': 'Panama', 'Colombia': 'Bogota', 'Brasil': 'Brasilia'}"
      ]
     },
     "execution_count": 30,
     "metadata": {},
     "output_type": "execute_result"
    }
   ],
   "source": [
    "capitales  # ya no exista Costa Rica"
   ]
  },
  {
   "cell_type": "code",
   "execution_count": 31,
   "metadata": {},
   "outputs": [
    {
     "ename": "KeyError",
     "evalue": "'Costa Rica'",
     "output_type": "error",
     "traceback": [
      "\u001b[0;31m---------------------------------------------------------------------------\u001b[0m",
      "\u001b[0;31mKeyError\u001b[0m                                  Traceback (most recent call last)",
      "\u001b[0;32m<ipython-input-31-1f9705304578>\u001b[0m in \u001b[0;36m<module>\u001b[0;34m\u001b[0m\n\u001b[1;32m      1\u001b[0m \u001b[0;31m# intentemos obtener Costa Rica\u001b[0m\u001b[0;34m\u001b[0m\u001b[0;34m\u001b[0m\u001b[0;34m\u001b[0m\u001b[0m\n\u001b[0;32m----> 2\u001b[0;31m \u001b[0mcapitales\u001b[0m\u001b[0;34m[\u001b[0m\u001b[0;34m'Costa Rica'\u001b[0m\u001b[0;34m]\u001b[0m\u001b[0;34m\u001b[0m\u001b[0;34m\u001b[0m\u001b[0m\n\u001b[0m",
      "\u001b[0;31mKeyError\u001b[0m: 'Costa Rica'"
     ]
    }
   ],
   "source": [
    "# intentemos obtener Costa Rica\n",
    "capitales['Costa Rica']  # error de llave KeyError"
   ]
  },
  {
   "cell_type": "code",
   "execution_count": 41,
   "metadata": {},
   "outputs": [
    {
     "data": {
      "text/plain": [
       "True"
      ]
     },
     "execution_count": 41,
     "metadata": {},
     "output_type": "execute_result"
    }
   ],
   "source": [
    "# revisemos si una llave existe en el diccionario\n",
    "'Panama' in capitales"
   ]
  },
  {
   "cell_type": "code",
   "execution_count": 42,
   "metadata": {},
   "outputs": [
    {
     "data": {
      "text/plain": [
       "False"
      ]
     },
     "execution_count": 42,
     "metadata": {},
     "output_type": "execute_result"
    }
   ],
   "source": [
    "'Argentina' in capitales"
   ]
  },
  {
   "cell_type": "code",
   "execution_count": 48,
   "metadata": {},
   "outputs": [
    {
     "name": "stdout",
     "output_type": "stream",
     "text": [
      "La capital de Panama es Panama\n"
     ]
    }
   ],
   "source": [
    "# revisemos si existe, luego hacemos algo\n",
    "if 'Panama' in capitales:\n",
    "    print(f\"La capital de Panama es {capitales['Panama']}\")"
   ]
  },
  {
   "cell_type": "markdown",
   "metadata": {},
   "source": [
    "### Iterando sobre diccionarios"
   ]
  },
  {
   "cell_type": "code",
   "execution_count": 49,
   "metadata": {},
   "outputs": [
    {
     "name": "stdout",
     "output_type": "stream",
     "text": [
      "Panama\n",
      "Colombia\n",
      "Brasil\n"
     ]
    }
   ],
   "source": [
    "for llave in capitales:\n",
    "    print(llave)"
   ]
  },
  {
   "cell_type": "code",
   "execution_count": 50,
   "metadata": {},
   "outputs": [
    {
     "name": "stdout",
     "output_type": "stream",
     "text": [
      "La capital de Panama es Panama\n",
      "La capital de Colombia es Bogota\n",
      "La capital de Brasil es Brasilia\n"
     ]
    }
   ],
   "source": [
    "for pais in capitales:\n",
    "    print(f\"La capital de {pais} es {capitales[pais]}\")"
   ]
  },
  {
   "cell_type": "code",
   "execution_count": 52,
   "metadata": {},
   "outputs": [
    {
     "data": {
      "text/plain": [
       "dict_items([('Panama', 'Panama'), ('Colombia', 'Bogota'), ('Brasil', 'Brasilia')])"
      ]
     },
     "execution_count": 52,
     "metadata": {},
     "output_type": "execute_result"
    }
   ],
   "source": [
    "# hay una forma mas facil de hacerlo\n",
    "capitales.items()  # este metodo retorna algo parecido a una lista de objetos"
   ]
  },
  {
   "cell_type": "code",
   "execution_count": 54,
   "metadata": {},
   "outputs": [
    {
     "data": {
      "text/plain": [
       "dict_items"
      ]
     },
     "execution_count": 54,
     "metadata": {},
     "output_type": "execute_result"
    }
   ],
   "source": [
    "# no es una lista\n",
    "type(capitales.items())  # pero retorna la llave y su valor a la misma vez"
   ]
  },
  {
   "cell_type": "code",
   "execution_count": 56,
   "metadata": {},
   "outputs": [
    {
     "name": "stdout",
     "output_type": "stream",
     "text": [
      "La capital de Panama es Panama\n",
      "La capital de Colombia es Bogota\n",
      "La capital de Brasil es Brasilia\n"
     ]
    }
   ],
   "source": [
    "for pais, capital in capitales.items():  # cada iteracion produce llave, valor y se asigna\n",
    "    print(f\"La capital de {pais} es {capital}\")"
   ]
  },
  {
   "cell_type": "code",
   "execution_count": 57,
   "metadata": {},
   "outputs": [
    {
     "data": {
      "text/plain": [
       "{'Panama': 'Panama', 'Colombia': 'Bogota', 'Brasil': 'Brasilia', 10: 'Managua'}"
      ]
     },
     "execution_count": 57,
     "metadata": {},
     "output_type": "execute_result"
    }
   ],
   "source": [
    "b# las llaves del diccionario pueden ser de cualquier tipo inmutable\n",
    "capitales[10] = 'Managua'\n",
    "capitales"
   ]
  },
  {
   "cell_type": "code",
   "execution_count": 59,
   "metadata": {},
   "outputs": [
    {
     "ename": "TypeError",
     "evalue": "unhashable type: 'list'",
     "output_type": "error",
     "traceback": [
      "\u001b[0;31m---------------------------------------------------------------------------\u001b[0m",
      "\u001b[0;31mTypeError\u001b[0m                                 Traceback (most recent call last)",
      "\u001b[0;32m<ipython-input-59-330792078af7>\u001b[0m in \u001b[0;36m<module>\u001b[0;34m\u001b[0m\n\u001b[1;32m      1\u001b[0m \u001b[0;31m# una lista es mutable, no puede ser una llave\u001b[0m\u001b[0;34m\u001b[0m\u001b[0;34m\u001b[0m\u001b[0;34m\u001b[0m\u001b[0m\n\u001b[0;32m----> 2\u001b[0;31m \u001b[0mcapitales\u001b[0m\u001b[0;34m[\u001b[0m\u001b[0;34m[\u001b[0m\u001b[0;36m1\u001b[0m\u001b[0;34m,\u001b[0m \u001b[0;36m2\u001b[0m\u001b[0;34m,\u001b[0m \u001b[0;36m3\u001b[0m\u001b[0;34m]\u001b[0m\u001b[0;34m]\u001b[0m \u001b[0;34m=\u001b[0m \u001b[0;34m'invalido'\u001b[0m\u001b[0;34m\u001b[0m\u001b[0;34m\u001b[0m\u001b[0m\n\u001b[0m",
      "\u001b[0;31mTypeError\u001b[0m: unhashable type: 'list'"
     ]
    }
   ],
   "source": [
    "# una lista es mutable, no puede ser una llave\n",
    "capitales[[1, 2, 3]] = 'invalido'"
   ]
  },
  {
   "cell_type": "markdown",
   "metadata": {},
   "source": [
    "## Diccionarios Anidados"
   ]
  },
  {
   "cell_type": "markdown",
   "metadata": {},
   "source": [
    "Podemos anidar diccionarios en diccionarios, de la misma forma que anidamos tuplas en tuplas o listas en listas."
   ]
  },
  {
   "cell_type": "code",
   "execution_count": 60,
   "metadata": {},
   "outputs": [],
   "source": [
    "paises = {\n",
    "    'Panama': {\n",
    "        'capital': 'Panama',\n",
    "        'slogan': 'pro mundo beneficio',\n",
    "        'flor': 'espiritu santo'\n",
    "    }\n",
    "}"
   ]
  },
  {
   "cell_type": "code",
   "execution_count": 64,
   "metadata": {},
   "outputs": [
    {
     "data": {
      "text/plain": [
       "{'capital': 'Panama',\n",
       " 'slogan': 'pro mundo beneficio',\n",
       " 'flor': 'espiritu santo'}"
      ]
     },
     "execution_count": 64,
     "metadata": {},
     "output_type": "execute_result"
    }
   ],
   "source": [
    "paises['Panama']"
   ]
  },
  {
   "cell_type": "code",
   "execution_count": 61,
   "metadata": {},
   "outputs": [
    {
     "data": {
      "text/plain": [
       "'Panama'"
      ]
     },
     "execution_count": 61,
     "metadata": {},
     "output_type": "execute_result"
    }
   ],
   "source": [
    "paises['Panama']['capital']"
   ]
  },
  {
   "cell_type": "code",
   "execution_count": 62,
   "metadata": {},
   "outputs": [
    {
     "data": {
      "text/plain": [
       "'pro mundo beneficio'"
      ]
     },
     "execution_count": 62,
     "metadata": {},
     "output_type": "execute_result"
    }
   ],
   "source": [
    "paises['Panama']['slogan']"
   ]
  },
  {
   "cell_type": "code",
   "execution_count": 63,
   "metadata": {},
   "outputs": [
    {
     "data": {
      "text/plain": [
       "'espiritu santo'"
      ]
     },
     "execution_count": 63,
     "metadata": {},
     "output_type": "execute_result"
    }
   ],
   "source": [
    "paises['Panama']['flor']"
   ]
  },
  {
   "cell_type": "markdown",
   "metadata": {},
   "source": [
    "## Ejercicios"
   ]
  },
  {
   "cell_type": "markdown",
   "metadata": {},
   "source": [
    "1. Crea un diccionario vacio llamado `provincias`\n",
    "2. Ingresa el nombre de la provincia como llave y su ciudad principal como valor\n",
    "3. Crea un `for` loop para imprimir la provincia y la capital: `La capital de Cocle es Anton`\n",
    "4. Elimina una llave-valor del diccionario"
   ]
  },
  {
   "cell_type": "markdown",
   "metadata": {},
   "source": [
    "## Reto: Ciclando sobre Provincias"
   ]
  },
  {
   "cell_type": "markdown",
   "metadata": {},
   "source": [
    "Con un diccionario de las provincias de Panama con su principal ciudad, vamos a crear un programa que:\n",
    "1. Escoge una provincia al azar (`random`)\n",
    "2. Solicita al usuario que ingrese su capital\n",
    "3. Si la capital es incorrecta debe seguir solicitando la capital de la provincia hasta que se ingrese la correcta.\n",
    "4. Si el usuario escribe `salir`, el programa termina\n",
    "5. Si el usuario escribe la capital correcta, imprima `Correcto`\n",
    "6. Si el usuario sale del programa sin adivinar correctamente, imprima `Hasta luego`"
   ]
  },
  {
   "cell_type": "markdown",
   "metadata": {},
   "source": [
    "## Como escoger entre listas, tuplas o diccionarios"
   ]
  },
  {
   "cell_type": "markdown",
   "metadata": {},
   "source": [
    "**Usa una lista cuando**:\n",
    "1. Los datos tienen un orden\n",
    "2. Será necesario actualizar o alterar los datos durante el programa\n",
    "3. El propósito principal de la estructura de datos es la iteración\n",
    "\n",
    "**Usa una tupla cuando**:\n",
    "1. Los datos tiene un orden\n",
    "2. No será necesario actualizar o alterar los datos durante el programa\n",
    "3. El proposito principal de la estructura de datos es la iteración\n",
    "\n",
    "**Usa un diccionario cuando**:\n",
    "1. La data no está ordenada o el orden no importa\n",
    "2. No será necesario actualizar o alterar los datos durante el programa\n",
    "3. El propósito principal de la estructura de datos es buscar valores"
   ]
  },
  {
   "cell_type": "markdown",
   "metadata": {},
   "source": [
    "## Resumen"
   ]
  },
  {
   "cell_type": "markdown",
   "metadata": {},
   "source": [
    "Aprendimos sobre tres estructuras de datos: \n",
    "1. Listas\n",
    "2. Tuplas\n",
    "3. Diccionarios\n",
    "\n",
    "La listas, como `[1, 2, 3, 4]` son secuencias mutables de objetos. Podemos interactuar con listas utilizando varios metodos de listas, como `.append()`, `.remove()`, and `.extend()`. Las listas se pueden ordenar utilizando `.sort()`. Podemos acceder elementos individuales de una lista por indice `lista[indice]`. Podemos tambien obtener un segmento de una lista utilizando `lista[indice:indice]`.\n",
    "\n",
    "Las tuplas, como las listas, son secuencias de objetos. La diferencia primordial entre listas y tuplas es que las tuplas son inmutables. Una vez hemos creado una tupla, no podemos cambiarla. Al igual que las listas, podemos acceder a elementos por indice y podemos obtener un segmento de la tupla utilizando el concepto de segmentacion.\n",
    "\n",
    "Los diccionarios guardan datos en pareja llave-valor. No son secuencias, por tanto no podemos acceder sus elementos por indice, toda vez que se acceden por su llave. Los diccionarios son utilies para guardar relaciones o cuando necesitamos acceder a algun dato rapidamente. Como las listas, los diccionaros son mutables.\n",
    "\n",
    "Las listas, tuplas y diccionarios son todos iterables, por tanto podemos ciclar sobre las mismas."
   ]
  },
  {
   "cell_type": "markdown",
   "metadata": {},
   "source": [
    "## Prueba de conocimiento"
   ]
  },
  {
   "cell_type": "code",
   "execution_count": 2,
   "metadata": {},
   "outputs": [],
   "source": [
    "# tomando esto en consideracion:\n",
    "letras = ['a', 'b', 'c', 'd']"
   ]
  },
  {
   "cell_type": "code",
   "execution_count": null,
   "metadata": {},
   "outputs": [],
   "source": [
    "letras[2]  # cual es el resultado?"
   ]
  },
  {
   "cell_type": "code",
   "execution_count": null,
   "metadata": {},
   "outputs": [],
   "source": [
    "'e' in letras  # cual es el resultado?"
   ]
  },
  {
   "cell_type": "code",
   "execution_count": 3,
   "metadata": {},
   "outputs": [],
   "source": [
    "# tomando esto en consideracion:\n",
    "x = [10, [3.141, 20, [30, 'hola', 2.718]], '507']"
   ]
  },
  {
   "cell_type": "code",
   "execution_count": null,
   "metadata": {},
   "outputs": [],
   "source": [
    "# Como retornamos la \"o\" de \"hola\". Escriba el codigo abajo\n",
    "x =  # respuesta"
   ]
  },
  {
   "cell_type": "markdown",
   "metadata": {},
   "source": [
    "Cual es la principal diferencia entre listas y tuplas?\n",
    "1. las listas son mutables y las tuplas inmutables\n",
    "2. las listas son inmutables y las tuplas mutables\n",
    "3. las listas son mas rapidas y las tuplas mas lentas\n",
    "4. las listas pueden contener cualquier tipo de datos y las tuplas solo `int` y `str`"
   ]
  },
  {
   "cell_type": "code",
   "execution_count": null,
   "metadata": {},
   "outputs": [],
   "source": [
    "# Como asignamos una tupla de un valor a la variable \"a\"? Escriba el codigo abajo\n",
    "a =   # respuesta"
   ]
  },
  {
   "cell_type": "markdown",
   "metadata": {},
   "source": [
    "* Los diccionarios pueden tener objetos de cualquier tipo excepto otros diccionarios?\n",
    "* Los diccionarios pueden tener cualquier cantidad de objetos anidados?\n",
    "* Las llaves de un diccionario deben ser del mismot tipo?\n",
    "* Los elementos de un diccionario se acceden mediante indice o llave?\n",
    "* Los diccionarios son mutables o inmutables?"
   ]
  },
  {
   "cell_type": "code",
   "execution_count": 4,
   "metadata": {},
   "outputs": [],
   "source": [
    "empleado = {\n",
    "  \"id\": 1001,\n",
    "  \"name\": \"Jaime Diaz\",\n",
    "  \"email\": \"jaimito@diaz.com\",\n",
    "  \"cargo\": \"Gerente\"\n",
    "}"
   ]
  },
  {
   "cell_type": "code",
   "execution_count": null,
   "metadata": {},
   "outputs": [],
   "source": [
    "# como obtenemos el email de Jaime? Escriba el codigo abajo.\n"
   ]
  }
 ],
 "metadata": {
  "kernelspec": {
   "display_name": "Python 3",
   "language": "python",
   "name": "python3"
  },
  "language_info": {
   "codemirror_mode": {
    "name": "ipython",
    "version": 3
   },
   "file_extension": ".py",
   "mimetype": "text/x-python",
   "name": "python",
   "nbconvert_exporter": "python",
   "pygments_lexer": "ipython3",
   "version": "3.8.1"
  }
 },
 "nbformat": 4,
 "nbformat_minor": 4
}
