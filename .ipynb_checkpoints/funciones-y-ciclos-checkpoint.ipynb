{
 "cells": [
  {
   "cell_type": "markdown",
   "metadata": {},
   "source": [
    "# Funciones y Ciclos"
   ]
  },
  {
   "cell_type": "markdown",
   "metadata": {},
   "source": [
    "## Que es una funcion?"
   ]
  },
  {
   "cell_type": "markdown",
   "metadata": {},
   "source": [
    "En los ultimos capítulos hemos utilizados funcioens como `print()` y `len()` para mostrar texto y determinar la longitud de una cadena de caracteres (string). Pero qué es una función, realmente?\n",
    "\n",
    "En esta sección vamos a observar más de cerca la función `len()` a fin de aprender sobre qué es una función y como es ejecutada."
   ]
  },
  {
   "cell_type": "markdown",
   "metadata": {},
   "source": [
    "### Las funciones son valores"
   ]
  },
  {
   "cell_type": "markdown",
   "metadata": {},
   "source": [
    "Una de las características más importantes de una función en Python es que las funciones son valores que pueden ser asignadas a una variable."
   ]
  },
  {
   "cell_type": "code",
   "execution_count": null,
   "metadata": {},
   "outputs": [],
   "source": [
    "print(len)"
   ]
  },
  {
   "cell_type": "code",
   "execution_count": null,
   "metadata": {},
   "outputs": [],
   "source": [
    "type(len)"
   ]
  },
  {
   "cell_type": "code",
   "execution_count": null,
   "metadata": {},
   "outputs": [],
   "source": [
    "# podemos asignar cualqueir valor a len:\n",
    "len = 'no soy el len que buscas'\n",
    "len"
   ]
  },
  {
   "cell_type": "code",
   "execution_count": null,
   "metadata": {},
   "outputs": [],
   "source": [
    "type(len)  # cambió el tipo"
   ]
  },
  {
   "cell_type": "markdown",
   "metadata": {},
   "source": [
    "La variable `len` es una palabra reservada en Python, y aunque podemos cambiar su valor, es usualmente una mala idea hacerlo, toda vez que puede ocasionar errores por confusión entre la función incorporada `len()` y la nueva variable `len`."
   ]
  },
  {
   "cell_type": "code",
   "execution_count": null,
   "metadata": {},
   "outputs": [],
   "source": [
    "# descvinculemos la variable len del valor asignado\n",
    "del len"
   ]
  },
  {
   "cell_type": "code",
   "execution_count": null,
   "metadata": {},
   "outputs": [],
   "source": [
    "len"
   ]
  },
  {
   "cell_type": "code",
   "execution_count": null,
   "metadata": {},
   "outputs": [],
   "source": [
    "# si hubieramos hecho lo mismo, pasaria lo siguiente:\n",
    "a = 1\n",
    "print(a)"
   ]
  },
  {
   "cell_type": "code",
   "execution_count": null,
   "metadata": {},
   "outputs": [],
   "source": [
    "del a\n",
    "print(a)"
   ]
  },
  {
   "cell_type": "markdown",
   "metadata": {},
   "source": [
    "### Ejecucion de Funciones en Python "
   ]
  },
  {
   "cell_type": "code",
   "execution_count": null,
   "metadata": {},
   "outputs": [],
   "source": [
    "# escribiendo el nombre no ejecuta la funcion\n",
    "len"
   ]
  },
  {
   "cell_type": "code",
   "execution_count": null,
   "metadata": {},
   "outputs": [],
   "source": [
    "# debemos llamar la funcion (call), con parenthesis\n",
    "len()  # error porque len espera un argumento"
   ]
  },
  {
   "cell_type": "code",
   "execution_count": null,
   "metadata": {},
   "outputs": [],
   "source": [
    "help(len)"
   ]
  },
  {
   "cell_type": "markdown",
   "metadata": {},
   "source": [
    "Un argumento es un valor que se ingresa en la función como dato de entrada. Algunas funciones pueden ser llamadas sin ningún argumento, y otras permiten una variedad de argumentos. No obstante, `len()` requiere exactamente un (1) argumento.\n",
    "\n",
    "Cuando una función termina de ejecutarse, **retorna** un valor como dato de salida. El valor retornado usualmente depende del valor de los argumentos ingresados a la funcion, pero no siempre.\n",
    "\n",
    "El proceso de ejecución de una función puede ser resumido en tres pasos:\n",
    "1. La función es llamada, y cualquier argumento(s) es pasada a la función como dato de entrada.\n",
    "2. La función es ejecutada, y alguna acción es realizada con los argumentos proporcionados.\n",
    "3. La ejecución retorna, y el llamado original de la función es reemplazado con el valor de retorno."
   ]
  },
  {
   "cell_type": "code",
   "execution_count": null,
   "metadata": {},
   "outputs": [],
   "source": [
    "num_letras = len('cinco')  # 5 asignado a num_letras debido a retorno"
   ]
  },
  {
   "cell_type": "code",
   "execution_count": null,
   "metadata": {},
   "outputs": [],
   "source": [
    "# la funcion len() fue llamada, la longitud es calculada y retorna 5\n",
    "num_letras"
   ]
  },
  {
   "cell_type": "markdown",
   "metadata": {},
   "source": [
    "### Efectos secundarios de las funciones"
   ]
  },
  {
   "cell_type": "markdown",
   "metadata": {},
   "source": [
    "Aprendimos como hacer el llamado de una function y que la misma retorna un valor cuando terminan de ejecutar. A veces, sin embargo, funciones hacen más que solo retornar un valor. Como cuando una función cambia o afecta algo externo a la misma, y se crea una especie de **efecto secundario**. Esto lo podemos apreciar con la función `print()`."
   ]
  },
  {
   "cell_type": "code",
   "execution_count": null,
   "metadata": {},
   "outputs": [],
   "source": [
    "valor_retornado = print('Que valor retorno?')"
   ]
  },
  {
   "cell_type": "code",
   "execution_count": null,
   "metadata": {},
   "outputs": [],
   "source": [
    "valor_retornado  # nada"
   ]
  },
  {
   "cell_type": "markdown",
   "metadata": {},
   "source": [
    "Cuando hacemos el llamado a `print('cadena')` con una cadena de caracteres como argumento, esta cadena es mostrada en la consola o ventana interactiva, pero `print()` retorna nada, como pudimos observar anteriormente.\n",
    "\n",
    "En realidad, cuando se dice que `print()` no retorna algo, es correcto pero impreciso. Todas las funciones retornan algo, aunque no retornen explicitamente algo, toda vez que la ausencia de valor es representada por un valor especial llamado `None`, que indica la ausencia de datos. `None` es de tipo `NoneType`."
   ]
  },
  {
   "cell_type": "code",
   "execution_count": null,
   "metadata": {},
   "outputs": [],
   "source": [
    "type(valor_retornado)"
   ]
  },
  {
   "cell_type": "markdown",
   "metadata": {},
   "source": [
    "Cuando utilizamos `print()`, el texto que se muestra no es el valor retornado por la función, sino un *efecto secundario* de la misma."
   ]
  },
  {
   "cell_type": "markdown",
   "metadata": {},
   "source": [
    "Ahora que sabemos que las funcioens son valores, asi como las cadenas (strings) y los numeros, y que sabemos como las funciones son llamadas y ejecutadas, vamos a ver como podemos crear nuestras propias funciones."
   ]
  },
  {
   "cell_type": "markdown",
   "metadata": {},
   "source": [
    "## Escribe tu propia funcion"
   ]
  },
  {
   "cell_type": "markdown",
   "metadata": {},
   "source": [
    "Mientras escribimos programas mas complejos y mas largos, nos encontramos repitiendo las mismas lineas de codigo. Quizas necesitamos calcular la misma formula con valores distintos varias veces. \n",
    "\n",
    "La solución a este problema, desde un punto de vista pragmatico, si no sabemos sobre la existencia de funciones, es copiar y pegar el mismo codigo por todo el programa.\n",
    "\n",
    "El problema con eso es que codigo repetitivo se torna en una pesadilla para la persona que le toca mantener el programa. Si se encuentra un error en algun lado que has copiado y pegado en otras partes, pues tendras que cambiarlo en todos los otros lados tambien. Eso no es una buena idea.\n",
    "\n",
    "Es esta seccion, vamos aprender como definir nuestras propias funcioens para evitar la repetición de codigo cuando necesitamos reutilizar el mismo."
   ]
  },
  {
   "cell_type": "markdown",
   "metadata": {},
   "source": [
    "### La anatomia de una funcion"
   ]
  },
  {
   "cell_type": "markdown",
   "metadata": {},
   "source": [
    "Las funciones tienen dos (2) partes:\n",
    "1. La firma de la función, que define su nombre y los datos de entrada o argumentos que espera.\n",
    "2. El cuerpo de la función, que contiene el codigo que se ejecuta cada vez que la función es utilizada."
   ]
  },
  {
   "cell_type": "code",
   "execution_count": null,
   "metadata": {},
   "outputs": [],
   "source": [
    "def mutiplica(x, y):  # firma\n",
    "    # cuerpo\n",
    "    producto = x * y\n",
    "    return producto"
   ]
  },
  {
   "cell_type": "markdown",
   "metadata": {},
   "source": [
    "Por supuesto que esta función no es práctica y es solo de uso demostrativo, toda vez que podemos multiplicar con el operador `*`."
   ]
  },
  {
   "cell_type": "markdown",
   "metadata": {},
   "source": [
    "#### La firma de la función"
   ]
  },
  {
   "cell_type": "markdown",
   "metadata": {},
   "source": [
    "La primera linea de la función se conoce como la firma.\n",
    "Siempre empieza con la palabra reservada `def`, que abrevia la palabra *define* o *definir*: `def multiply(x, y):`\n",
    "\n",
    "L firma tiene cuatro partes:\n",
    "1. La palabra `def`\n",
    "2. El nombre de la funcion `multiplica`\n",
    "3. Los argumentos / parametros / datos de entrada: `(x, y)`\n",
    "4. Un colon `(:)`\n",
    "\n",
    "Los nombres pueden llegar a ser variables, asi que las mismas siguen las mismas reglas de nombres. El nombre de una funcion solo puede contener numeros, letras y guion bajo, y no pueden empezar con un numero.\n",
    "\n",
    "La lista de parametros es una lista de nombres de parametros rodeados por el parentesis de apertura y clausura. `(x, y)` es la lista de parametros para la función `multiplica`. \n",
    "\n",
    "Un parametro es como una variable, pero no tiene valor. Es como un plantilla para los valores actuales que son proporcionados cuando la función es llamado con uno o mas paremetros / argumentos.\n",
    "\n",
    "Código en el cuerpo de la función podrá utilizar los parametros como si fuesen valores. Por ejemplo, la el cuerpo de la función puede contener una linea de código con la expresión `x * y`.\n",
    "\n",
    "Como `x` y `y` no tienen valor, `x * y` no tiene valor. Python guarda la expresion como una plantilla y llena los valores que hacen falta cuando la función es ejecutada.\n",
    "\n",
    "Un función puede tener cualquier numero de parametros, incluyendo ningún parametro."
   ]
  },
  {
   "cell_type": "markdown",
   "metadata": {},
   "source": [
    "#### El cuerpo"
   ]
  },
  {
   "cell_type": "markdown",
   "metadata": {},
   "source": [
    "El cuerpo de una función es compuesto por el código que se ejecuta cada vez que la función es utilizada en el programa. "
   ]
  },
  {
   "cell_type": "code",
   "execution_count": null,
   "metadata": {},
   "outputs": [],
   "source": [
    "def multiplica(x, y):\n",
    "    # cuerpo\n",
    "    producto = x * y\n",
    "    return producto"
   ]
  },
  {
   "cell_type": "markdown",
   "metadata": {},
   "source": [
    "Es una función sencilla. Su cuerpo solo tiene 2 lineas de código.\n",
    "\n",
    "La primera linea crea una variable denominada `producto` y le asigna un valor a `x * y`. Toda vez que `x` o `y` no tienen valores todavia, esta linea es realmente una plantilla para el valor `producto`, que se le asigna el resultado de la operación cuando la función es ejecutada.\n",
    "\n",
    "La segunda linea de codigo se conoce como la **declaración de retorno**. Comienza cuando con la palabra `retorno` y termina con la variable `producto`. Cuando Python llega a la declaración de retorno, detiene la ejecución de la función y retorna el valor de `producto`.\n",
    "\n",
    "Observemos tambien que ambas lineas de codigo en la funcion estan indentadas a la derecha. Esto es de vital importancia. Cada linea indentada abajo de la firma de la funcion, se entiende que es parte del cuerpo de la funcion."
   ]
  },
  {
   "cell_type": "code",
   "execution_count": null,
   "metadata": {},
   "outputs": [],
   "source": [
    "def multiplica(x, y):\n",
    "    # cuerpo\n",
    "    producto = x * y\n",
    "    return producto\n",
    "print('Donde estoy?')  # no es parte del cuerpo de la funcion"
   ]
  },
  {
   "cell_type": "code",
   "execution_count": null,
   "metadata": {},
   "outputs": [],
   "source": [
    "def multiplica(x, y):\n",
    "    # cuerpo\n",
    "    producto = x * y\n",
    "    return producto\n",
    "    print('Donde estoy?')  # ahora si es parte del cuerpo"
   ]
  },
  {
   "cell_type": "code",
   "execution_count": null,
   "metadata": {},
   "outputs": [],
   "source": [
    "# la indentacion debe mantener el mismo numero de espacios\n",
    "def multiplica(x, y):\n",
    "    producto = x * y\n",
    "     return producto"
   ]
  },
  {
   "cell_type": "code",
   "execution_count": null,
   "metadata": {},
   "outputs": [],
   "source": [
    "# la indentacion debe mantener el mismo numero de espacios\n",
    "def multiplica(x, y):\n",
    "     producto = x * y\n",
    "    return producto"
   ]
  },
  {
   "cell_type": "code",
   "execution_count": null,
   "metadata": {},
   "outputs": [],
   "source": [
    "# la recomendacion oficial es indentar con 4 espacios\n",
    "def multiplica(x, y):\n",
    "    producto = x * y\n",
    "    return producto"
   ]
  },
  {
   "cell_type": "code",
   "execution_count": null,
   "metadata": {},
   "outputs": [],
   "source": [
    "# la ejecución de la función se detiene despues que retorna\n",
    "def multiplica(x, y):\n",
    "    producto = x * y\n",
    "    return producto\n",
    "    print('No me puedes ver')  # esta linea no es ejecutada"
   ]
  },
  {
   "cell_type": "code",
   "execution_count": null,
   "metadata": {},
   "outputs": [],
   "source": [
    "multiplica(2, 2)"
   ]
  },
  {
   "cell_type": "markdown",
   "metadata": {},
   "source": [
    "### Llamando una defición definida por el usuario"
   ]
  },
  {
   "cell_type": "code",
   "execution_count": null,
   "metadata": {},
   "outputs": [],
   "source": [
    "# el nombre de la funcion con sus datos de entrada / argumentos\n",
    "multiplica(2, 4)"
   ]
  },
  {
   "cell_type": "markdown",
   "metadata": {},
   "source": [
    "Las funciones definidas por el usuario no son disponibles sino hasta hayan sido definidas. Esto es distinto a las funciones incorporadas como `len()` o `print()`, que por eso se le dicen funcion **incorporada**, porque ya esta incorporada y disponible automaticamente por Python."
   ]
  },
  {
   "cell_type": "code",
   "execution_count": null,
   "metadata": {},
   "outputs": [],
   "source": [
    "num = suma(2, 4)  # no lo reconoce\n",
    "print(num)\n",
    "\n",
    "def suma(x, y):\n",
    "    resultado = x + y\n",
    "    return resultado"
   ]
  },
  {
   "cell_type": "code",
   "execution_count": null,
   "metadata": {},
   "outputs": [],
   "source": [
    "def suma(x, y):\n",
    "    resultado = x + y\n",
    "    return resultado\n",
    "\n",
    "num = suma(2, 4)  # ahora si\n",
    "print(num)"
   ]
  },
  {
   "cell_type": "markdown",
   "metadata": {},
   "source": [
    "### Funciones sin declaracion de retorno"
   ]
  },
  {
   "cell_type": "markdown",
   "metadata": {},
   "source": [
    "Todas las funciones en Python retornan un valor, aunque ese valor sea `None`. Recordemos que `None` es del tipo `NoneType` y representa ausencia de valor. \n",
    "\n",
    "No todas las funciones necesitan una declaracion de retorno."
   ]
  },
  {
   "cell_type": "code",
   "execution_count": null,
   "metadata": {},
   "outputs": [],
   "source": [
    "def saludo(nombre):\n",
    "    print(f'Hola {nombre}!')  # no hay retorno"
   ]
  },
  {
   "cell_type": "code",
   "execution_count": null,
   "metadata": {},
   "outputs": [],
   "source": [
    "saludo('Adriaan')"
   ]
  },
  {
   "cell_type": "code",
   "execution_count": null,
   "metadata": {},
   "outputs": [],
   "source": [
    "# aunque no tiene retorno, todavia retorna un valor\n",
    "retorno = saludo('Adriaan')  # si no esperabas que saludara, has presenciado un efecto secundario"
   ]
  },
  {
   "cell_type": "code",
   "execution_count": null,
   "metadata": {},
   "outputs": [],
   "source": [
    "print(retorno)"
   ]
  },
  {
   "cell_type": "markdown",
   "metadata": {},
   "source": [
    "### Documentando tus funciones"
   ]
  },
  {
   "cell_type": "code",
   "execution_count": null,
   "metadata": {},
   "outputs": [],
   "source": [
    "# podemos obtener ayuda con una opcion utilizando help()\n",
    "help(len)"
   ]
  },
  {
   "cell_type": "code",
   "execution_count": null,
   "metadata": {},
   "outputs": [],
   "source": [
    "# que pasa si pedimos ayuda en la funcion suma\n",
    "help(suma)  # no hay info"
   ]
  },
  {
   "cell_type": "markdown",
   "metadata": {},
   "source": [
    "Para documentar nuestras funciones, se utiliza un string de triple citas ubicado en la primera linea del cuerpo de la funcion. A esto se le llama **docstring** o cadena de caracteres de documentacion. Docstrings son utilizados para documentar que hace una funcion que parametros espera."
   ]
  },
  {
   "cell_type": "code",
   "execution_count": null,
   "metadata": {},
   "outputs": [],
   "source": [
    "def suma(a, b):\n",
    "    '''Retorna el resultado de la suma de a y b'''\n",
    "    resultado = a + b\n",
    "    return resultado"
   ]
  },
  {
   "cell_type": "code",
   "execution_count": null,
   "metadata": {},
   "outputs": [],
   "source": [
    "help(suma)  # ahora si existe por lo menos una descripcion de la funcion"
   ]
  },
  {
   "cell_type": "markdown",
   "metadata": {},
   "source": [
    "### Ejercicios"
   ]
  },
  {
   "cell_type": "markdown",
   "metadata": {},
   "source": [
    "1. Esribe una función llamada `cubo()` que toma un parametro numero y retorna el valor de ese numero al poder de tres (3). Prueba que funciona con distintos numeros.\n",
    "2. Escribe una funcion llamada `greet()` que toma un parametro string llamado `nombre` y muestra el texto `'Hola <nombre>!'`, donde `<nombre>` es reemplazado con el valor del parametro `nombre`."
   ]
  },
  {
   "cell_type": "markdown",
   "metadata": {},
   "source": [
    "## Reto: Convierte Temperaturas\n",
    "\n",
    "Escribe un script llamado `temperatura.py` que define dos (2) funciones:\n",
    "1. `convierte_cel_a_far()` que toma un parametro `float` que representa Celsius y retorna un `float` representando la misma temperatura en Fahrenheit, utilizano la foruma `F = C * 9/5 + 32`.\n",
    "2. `convierte_far_a_cel()`, que define un parametro `float` que representa los grados Fahrenheit y retorna un `float` que representa la misma temperatura en Celsius, utilizando la siguiente formula: `C = (F - 32) * 5 / 9`. "
   ]
  },
  {
   "cell_type": "markdown",
   "metadata": {},
   "source": [
    "El script deberia solicitarle al usuario que ingrese:\n",
    "* una temperatura Fahrenheit, para luego mostrar la temperatura en Centigrados.\n",
    "* una temperatura Centigrados, para luego mostrar la temperatura en Fahrenheit.\n",
    "\n",
    "Todas las temperaturas convertidas deben ser redondeadas a dos (2) puntos decimales.\n",
    "\n",
    "Este es un ejemplo:\n",
    "\n",
    "```\n",
    "Ingrese una temperatura F: 72\n",
    "72 grados F = 22.22 grados C\n",
    "\n",
    "Ingrese una temperatura C: 37\n",
    "37 grados C = 98.60 grados F\n",
    "```"
   ]
  },
  {
   "cell_type": "markdown",
   "metadata": {},
   "source": [
    "## Corre en circulos"
   ]
  },
  {
   "cell_type": "markdown",
   "metadata": {},
   "source": [
    "Una de las mejores cosas sobre las computadoras es que podemos hacer que hagan la misma cosa indefinidamente.\n",
    "\n",
    "Un **ciclo** o **loop** es un bloque de codigo que se repite indefinidamente o un numero especifico de veces o hasta que una condición de cumpla. \n",
    "\n",
    "Existen dos (2) tipos de ciclos en Python:\n",
    "* ciclos `while`\n",
    "* ciclos `for`"
   ]
  },
  {
   "cell_type": "markdown",
   "metadata": {},
   "source": [
    "### El ciclo `while`\n",
    "\n",
    "Este ciclo repite una sección de código mientras una condición sea verdadera. \n",
    "\n",
    "Existen dos partes en todo ciclo:\n",
    "1. La decleracion `while` que empieza con la palabra `while`, seguida por una condicion de prueba, y termina con un colon `:`.\n",
    "2. El curepo del ciclo, que contiene el codigo que se repite en cada paso del ciclo. Cada linea esta indentada 4 espacios.\n",
    "\n",
    "Cuando un ciclo `while` se ejecuta, Python evalua la condicion de prueba y determina si es veridica o no. \n",
    "Si la condicion de prueba es veridica, entonces el codigo del curepo del ciclo se ejecuta. Si la condicion no es veridica, ese pedazo de codigo en el cuerpo del ciclo es ignorada y el resto del programa es ejecutado.\n",
    "\n",
    "Si la condicion de prueba es veridica y el cuerpo del ciclo es ejecutado, entonces Python arriba al final del cuerpo del ciclo, y regresa nuevamente a la declaracion `while` y re-evalua la condicion de prueba. Si la condicion todavia es veridica, entonces el cuerpo es ejecutado nuevamente; si es falsa, el cuerpo es ignorado. Este proceso se repite indefinidamente hasta que la condicion de prueba no sea veridica."
   ]
  },
  {
   "cell_type": "code",
   "execution_count": null,
   "metadata": {},
   "outputs": [],
   "source": [
    "n = 1\n",
    "while n < 5:  # n es menor que 5?\n",
    "    print(n)\n",
    "    n = n + 1  # n incrementa +1"
   ]
  },
  {
   "cell_type": "markdown",
   "metadata": {},
   "source": [
    "|Paso|Valor de `n`|Condicion de Prueba|Que sucede|\n",
    "|---|---|---|---|\n",
    "|1|1|1 < 5 (True)|`1` se imprime; `n` incrementado a `2`|\n",
    "|2|2|2 < 5 (True)|`2` se imprime; `n` incrementado a `2`|\n",
    "|3|3|3 < 5 (True)|`3` se imprime; `n` incrementado a `2`|\n",
    "|4|4|4 < 5 (True)|`4` se imprime; `n` incrementado a `2`|\n",
    "|5|5|5 < 5 (False)|Nada se imprime; el ciclo termina|"
   ]
  },
  {
   "cell_type": "code",
   "execution_count": null,
   "metadata": {},
   "outputs": [],
   "source": [
    "# podemos crear un ciclo infinito\n",
    "n = 1\n",
    "while n < 5:\n",
    "    print(n)"
   ]
  },
  {
   "cell_type": "markdown",
   "metadata": {},
   "source": [
    "Porque se produce un ciclo infinito?"
   ]
  },
  {
   "cell_type": "markdown",
   "metadata": {},
   "source": [
    "Un ciclo infinito no es inherentemente malo. A veces es justo el tipo de ciclo que necesitamos. Por ejemplo, codigo que interactua con hardware puede utilizar un ciclo infinito para constantemente revisar si un boton o switch ha sido activado. \n",
    "\n",
    "Si entramos a un programa que ejecuta un ciclo infinito, podemos forzar la salida del mismo presionando `Ctrl + C`, lo cual ocasiona un `KeyboardInterrupt` o interrupción de teclado."
   ]
  },
  {
   "cell_type": "markdown",
   "metadata": {},
   "source": [
    "Veamos un ejemplod de un `while` loop (ciclo) en practica. Uno de los usos del `while` loop es revisar si el dato de entrada proporcionado por el usuario cumple con cierta condicion. Si no cumple con la condicion, el programa le sigue solicitando que ingrese dato de entrada hasta que la condicion sea satisfecha."
   ]
  },
  {
   "cell_type": "code",
   "execution_count": 1,
   "metadata": {},
   "outputs": [
    {
     "name": "stdout",
     "output_type": "stream",
     "text": [
      "Ingresa un numero positivo: -1\n",
      "Eso no es un numero positivo\n",
      "Ingresa un numero positivo: -5\n",
      "Eso no es un numero positivo\n",
      "Ingresa un numero positivo: 5\n"
     ]
    }
   ],
   "source": [
    "prompt = \"Ingresa un numero positivo: \"\n",
    "num = float(input(prompt))\n",
    "while num <= 0:\n",
    "    print(\"Eso no es un numero positivo\")\n",
    "    num = float(input(prompt))"
   ]
  },
  {
   "cell_type": "markdown",
   "metadata": {},
   "source": [
    "Los `while` loops son excelente para repetir una seccion de codigo mientras una condicion se cumpla. Sin embargo, no son buenos para repetir una seccion de codigo un numero especifico de veces. Para eso tenemos el `for` loop.\n",
    "\n",
    "Acordemonos que `loop` es igual a `ciclo`."
   ]
  },
  {
   "cell_type": "markdown",
   "metadata": {},
   "source": [
    "### El `for` loop"
   ]
  },
  {
   "cell_type": "markdown",
   "metadata": {},
   "source": [
    "Un `for` loop ejecuta una seccion de codigo una vez por cada element en una coleccion de elementos. El numero de veces que el codigo es ejecutado es determinado por el numero de elementos en la coleccion.\n",
    "\n",
    "Como su contraparte `while`, el `for` loop tiene dos partes principales:\n",
    "1. La declaracion `for` empieza con la palabra `for`, seguida por la **expresion de membresia**,y termina en un colon `:`.\n",
    "2. El cuerpo del ciclo, que contiene el codigo a ser ejecutado en cada paso del ciclo, y es indentado a cuatro espacios."
   ]
  },
  {
   "cell_type": "code",
   "execution_count": 2,
   "metadata": {},
   "outputs": [
    {
     "name": "stdout",
     "output_type": "stream",
     "text": [
      "P\n",
      "y\n",
      "t\n",
      "h\n",
      "o\n",
      "n\n"
     ]
    }
   ],
   "source": [
    "# imprime cada letra del string \"Python\" una vez\n",
    "for letra in 'Python':\n",
    "    print(letra)"
   ]
  },
  {
   "cell_type": "markdown",
   "metadata": {},
   "source": [
    "La declaracion `for` es `for letra in 'Python'`. La expresion de membresia es `letra in 'Python'`. \n",
    "\n",
    "En cada etada del loop, la variable `letra`1 es asignada la proxima letra en el string `'Python'`, y luego el valor de la `letra` es impresa.\n",
    "\n",
    "El loop se ejecuta una vez por cada letra en el string `'Python'`, por tanto el loop se ejecuta seis (6) veces.\n",
    "\n",
    "|Paso|Valor `letra`|Que sucede|\n",
    "|---|---|---|\n",
    "|1|'P'|`P` se imprime|\n",
    "|2|'y'|`y` se imprime|\n",
    "|3|'t'|`t` se imprime|\n",
    "|4|'h'|`h` se imprime|\n",
    "|5|'o'|`o` se imprime|\n",
    "|6|'n'|`n` se imprime|"
   ]
  },
  {
   "cell_type": "markdown",
   "metadata": {},
   "source": [
    "Para que veamos porque los `for` loops son mejores para ciclar encima de una coleccion de elementos, vamos a rescribir el `for` loop del ejemplo previo como un `while` loop. \n",
    "\n",
    "Podemos utilizar una variable para guardar el indice del proximo caracter del string. En cada etapa del loop, vamos a imprimir el indice actual y luego vamos a incrementar el indice.\n",
    "\n",
    "El ciclo se detendra una vez que el valor de la variable asignada al indice es igual a la longitud del string. Como recorderis, los indices empiezan en `0`, por tanto el ultimo indice de 'Python' es 5."
   ]
  },
  {
   "cell_type": "code",
   "execution_count": 3,
   "metadata": {},
   "outputs": [
    {
     "name": "stdout",
     "output_type": "stream",
     "text": [
      "P\n",
      "y\n",
      "t\n",
      "h\n",
      "o\n",
      "n\n"
     ]
    }
   ],
   "source": [
    "palabra = \"Python\"\n",
    "indice = 0\n",
    "while indice < len(palabra):\n",
    "    print(palabra[indice])\n",
    "    indice = indice + 1"
   ]
  },
  {
   "cell_type": "markdown",
   "metadata": {},
   "source": [
    "Es un poco mas complejo que el equivalente utilizando el `for` loop, cierto?"
   ]
  },
  {
   "cell_type": "markdown",
   "metadata": {},
   "source": [
    "A veces es util ciclar sobre un rango de numeros. Python tiene una funcion incorporada para eso, llamada `range()`, que produce un rango de numeros. Por ejemplo, `range(3)` retorna un rando de numeros enteros empezando en `0` hasta, pero no incluyendo, `3`. Es decir, `range(3)` es el rango de numeros `0`, `1` y `2`."
   ]
  },
  {
   "cell_type": "markdown",
   "metadata": {},
   "source": [
    "Podemos utilizar `range(n)` donde `n` es cualquier numero positivo, para ejecutar un ciclo / loop exactamente `n` veces."
   ]
  },
  {
   "cell_type": "code",
   "execution_count": 4,
   "metadata": {},
   "outputs": [
    {
     "name": "stdout",
     "output_type": "stream",
     "text": [
      "Python\n",
      "Python\n",
      "Python\n"
     ]
    }
   ],
   "source": [
    "for n in range(3):\n",
    "    print('Python')"
   ]
  },
  {
   "cell_type": "code",
   "execution_count": 8,
   "metadata": {},
   "outputs": [
    {
     "name": "stdout",
     "output_type": "stream",
     "text": [
      "10\n",
      "11\n",
      "12\n",
      "13\n",
      "14\n",
      "15\n",
      "16\n",
      "17\n",
      "18\n",
      "19\n"
     ]
    }
   ],
   "source": [
    "# tambien podemos indicar el numero de partida\n",
    "for n in range(10, 20):\n",
    "    print(n)"
   ]
  },
  {
   "cell_type": "markdown",
   "metadata": {},
   "source": [
    "Veamos un ejemplo un poco más práctico. Todos hemos pasado por ese momento con los amigos o familia en el restaurante donde toca pagar la cuenta y hay que sacar la cuenta."
   ]
  },
  {
   "cell_type": "code",
   "execution_count": 6,
   "metadata": {},
   "outputs": [
    {
     "name": "stdout",
     "output_type": "stream",
     "text": [
      "Ingresa un monto: 27.88\n",
      "2 personas: $13.94 cada una\n",
      "3 personas: $9.29 cada una\n",
      "4 personas: $6.97 cada una\n",
      "5 personas: $5.58 cada una\n"
     ]
    }
   ],
   "source": [
    "monto = float(input('Ingresa un monto: '))\n",
    "for num_de_personas in range(2, 6):\n",
    "    print(f'{num_de_personas} personas: ${monto / num_de_personas:.2f} cada una')"
   ]
  },
  {
   "cell_type": "markdown",
   "metadata": {},
   "source": [
    "### Ciclos anidados (nested loops)"
   ]
  },
  {
   "cell_type": "markdown",
   "metadata": {},
   "source": [
    "Siempre que hemos indentado el codigo correctamente, podemos poner ciclos adentro de otros ciclos."
   ]
  },
  {
   "cell_type": "code",
   "execution_count": 9,
   "metadata": {},
   "outputs": [
    {
     "name": "stdout",
     "output_type": "stream",
     "text": [
      "n = 1 y j = 4\n",
      "n = 1 y j = 5\n",
      "n = 1 y j = 6\n",
      "n = 2 y j = 4\n",
      "n = 2 y j = 5\n",
      "n = 2 y j = 6\n",
      "n = 3 y j = 4\n",
      "n = 3 y j = 5\n",
      "n = 3 y j = 6\n"
     ]
    }
   ],
   "source": [
    "for n in range(1, 4):\n",
    "    for j in range(4, 7):\n",
    "        print(f\"n = {n} y j = {j}\")"
   ]
  },
  {
   "cell_type": "markdown",
   "metadata": {},
   "source": [
    "Cyabdi Python entra al cuerpo del primer ciclo, la variable `n` es asignada el valor `1`. Luego el cuerpo del segundo ciclo es ejecutado y `j` es asignada el valor `4`. Lo primera que se imprime es `n = 1 y j = 4`. Despues de ejecutar la funcion `print()`, Python regresa el ciclo anidado o interior (inner loop), hace la asignacion de `j` a `5`, e imprime `n = 1 y j = 5`. Python no sale del ciclo exterior porque el ciclo interior, que esta adentro del cuerpo del ciclo exterior, no ha terminado de ejecutar. \n",
    "\n",
    "Luego, `j` es asignado el valor `6` y Python imprime `n = 1 y j = 6`. En este punto, el ciclo interior / anidado termina de ejecutar y el control regresa al ciclo exterior. La variable `n` es asignada a valor `2`, y el ciclo interno se ejecuta una segunda vez. Es decir, `j` el valor `4` y se imprime `n = 2 y j = 4`. \n",
    "\n",
    "Los dos ciclos se siguen ejecutando de la misma manera, es decir, entramos al ciclo exterior, luego al ciclo interior, nos quedamos ciclando ahi hasta que termine de ejecutar, luego regresamos al ciclo externo, y repetimos el proceso hasta que el ambos el ciclo interno y el ciclo externo terminen de ejecutar."
   ]
  },
  {
   "cell_type": "markdown",
   "metadata": {},
   "source": [
    "Es importante mencionar que el uso de ciclos anidados es bastante comun, sin embargo, la anidacion de ciclos incrementa la complejidad del codigo, toda vez que el numero de pasos requeridos para que se termine de ejecutar incrementa dramaticamente. Para ser mas precisos incrementa `n**2` donde `n` representa el numero de elementos en el ciclo externo, por lo cual se dice que el tiempo de complejidad es quadratico relativos al numero de elementos en una coleccion. Por tanto, la anidacion de ciclos es algo que debemos utilizar solo si es estrictamente necesario o si el numero de elementos en la coleccion sobre el cual se construye el ciclo externo o interno no es considerablemente grande. Imaginense tener 10 elementos en el ciclo externo y 10 elementos en el ciclo interno, eso es ejecutar 100 pasos. Ya se pueden imaginar si incrementamos el numero a 20, es solo el doble de 10, el numero quadriplica. Esta es la razon que la complejidad de tiempo es quadratica.\n",
    "\n",
    "Los ciclos son herramientas poderosas. Hacen uso de una de las grandes ventajas que nos proporcionan las computadoras: la habilidad de repetir la misma operacion varias veces."
   ]
  },
  {
   "cell_type": "markdown",
   "metadata": {},
   "source": [
    "### Ejercicios"
   ]
  },
  {
   "cell_type": "markdown",
   "metadata": {},
   "source": [
    "1. Escribe un `for` loop que imprime los numeros enteros de `2` hasta `10` en una nueva linea, utilizando la funcion incorporadad `range()`.\n",
    "2. Utiliza el `hile` loop para imporimir los numeros de `2` hasta `10`. Consejo: debemos crear un numero primero.\n",
    "3. Escribe una funcion llamada `dobles()` que toma un numero como argumento / parametro y dobla este numero. Luego utiliza esta funcion `dobles()` en un ciclo para doblar el numero `2` tres (3) veces, mostrando el resultado en cada linea separada. Aqui hay un ejemplo:\n",
    "```\n",
    "4\n",
    "8\n",
    "16\n",
    "```"
   ]
  },
  {
   "cell_type": "code",
   "execution_count": null,
   "metadata": {},
   "outputs": [],
   "source": [
    "## Reto> "
   ]
  }
 ],
 "metadata": {
  "kernelspec": {
   "display_name": "Python 3",
   "language": "python",
   "name": "python3"
  },
  "language_info": {
   "codemirror_mode": {
    "name": "ipython",
    "version": 3
   },
   "file_extension": ".py",
   "mimetype": "text/x-python",
   "name": "python",
   "nbconvert_exporter": "python",
   "pygments_lexer": "ipython3",
   "version": "3.8.1"
  }
 },
 "nbformat": 4,
 "nbformat_minor": 4
}
