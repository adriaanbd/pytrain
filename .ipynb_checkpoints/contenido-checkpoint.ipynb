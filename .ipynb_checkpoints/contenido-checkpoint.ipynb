{
 "cells": [
  {
   "cell_type": "markdown",
   "metadata": {},
   "source": [
    "# Tabla de Contenido"
   ]
  },
  {
   "cell_type": "markdown",
   "metadata": {},
   "source": [
    "## Introduccion\n",
    "### Que es Python?\n",
    "### Escribe un script\n",
    "### La ventana interactiva (IDLE)\n",
    "### La ventana del script"
   ]
  },
  {
   "cell_type": "markdown",
   "metadata": {},
   "source": [
    "## Variables\n",
    "### Tipos de Variables en Python\n",
    "### Referencias a Objetos\n",
    "### Identidad de un Objeto\n",
    "### Nombres de Variables\n",
    "### Palabras reservadas"
   ]
  },
  {
   "cell_type": "markdown",
   "metadata": {},
   "source": [
    "## Strings y Metodos de Strings\n",
    "### Que es un string?\n",
    "### Metodos para manipular strings\n",
    "### Interaccion con dato de entrada del usuario\n",
    "### Reto: Manipular dato de entrada del usuario\n",
    "### Trabajando con Strings y Numeros\n",
    "### Variaciones de la declaracion `print()`\n",
    "### Reto: Modificacion del dato de entrada del usuario \n",
    "### Encuentra un string en un string\n",
    "### Reto: transforma el dato de entrada de usuario\n",
    "### Resumen"
   ]
  },
  {
   "cell_type": "markdown",
   "metadata": {},
   "source": [
    "## Numeros y Matematica\n",
    "### Numeros enteros y de punto flotantes\n",
    "### Operadores aritmeticos y Expresiones\n",
    "### Reto: Realiza Calculaciones con el Dato de Entrada del Usuario\n",
    "### Python miente\n",
    "### Imprime numeros con estilo\n",
    "### Numeros complejos\n",
    "### Resumen"
   ]
  },
  {
   "cell_type": "markdown",
   "metadata": {},
   "source": [
    "## Funciones y Ciclos (Loops)\n",
    "### Que es una funcion?\n",
    "### Escribe tus propias funciones\n",
    "### Reto: Convierte Temperaturas\n",
    "### Ciclos\n",
    "### Reto: Dandole Seguimiento a las Inversiones\n",
    "### Comprendiendo el Alcance (Scope) en Python\n",
    "### Resumen"
   ]
  },
  {
   "cell_type": "markdown",
   "metadata": {},
   "source": [
    "## Encontrando y corregiendo errores\n",
    "### El uso de la ventana de control de depuracion\n",
    "### Elimina algunos errores\n",
    "### Resumen"
   ]
  },
  {
   "cell_type": "markdown",
   "metadata": {},
   "source": [
    "## Logica Condicional y Control de Flujo\n",
    "### Comparando valores\n",
    "### Agregando logica\n",
    "### Control del flujo de un programa\n",
    "### Reto: Encuentra los Factores de un Numero\n",
    "### Rompiendo un ciclo\n",
    "### Recuperacion de errores\n",
    "### Simulacion de eventos y calculacion de probabilidades\n",
    "### Reto: Simulacion de un lanzamiento de moneda\n",
    "### Reto: Simulacion de una eleccion\n",
    "### Resumen"
   ]
  },
  {
   "cell_type": "markdown",
   "metadata": {},
   "source": [
    "## Proyecto: Crea un Juego de Aventura\n",
    "\n",
    "Vamos a crear un juego corto con algunas opciones que se le dan al usuario para que escoga. \n",
    "\n",
    "### Los requisitos:\n",
    "* El juego le da al jugador una descripcion de lo que esta pasando y luego le permite tomar una decision.\n",
    "* Algo distinto pasa dependiendo de la decision del usuario.\n",
    "* El juego incluye algunos factores que se determinan al azar.\n",
    "* El juego tiene condiciones para ganar y perder.\n",
    "* Cuando el juego se termina, le pregunta al jugador si quiere volver a jugar."
   ]
  },
  {
   "cell_type": "markdown",
   "metadata": {},
   "source": [
    "#### Imprime descripciones de lo que esta sucediendo\n",
    "\n",
    "Por ejemplo:\n",
    "\n",
    "\"Te encuentras en un callejon oscuro.\"\n",
    "\"Al frente tuyo hay dos calles.\""
   ]
  },
  {
   "cell_type": "markdown",
   "metadata": {},
   "source": [
    "#### Controla el tiempo de ejecucion del `print()`\n",
    "\n",
    "Cuando tienes muchas declaraciones `print()`, todas se imprimen a la misma vez; sin embargo, podemos controlar el tiempo de ejecucion utilizando un modulo llamado `time`:"
   ]
  },
  {
   "cell_type": "code",
   "execution_count": 3,
   "metadata": {},
   "outputs": [
    {
     "name": "stdout",
     "output_type": "stream",
     "text": [
      "Hola\n",
      "Chiriqui!\n"
     ]
    }
   ],
   "source": [
    "print('Hola')\n",
    "print('Chiriqui!')"
   ]
  },
  {
   "cell_type": "code",
   "execution_count": 4,
   "metadata": {},
   "outputs": [
    {
     "name": "stdout",
     "output_type": "stream",
     "text": [
      "Hola\n",
      "Chiriqui!\n"
     ]
    }
   ],
   "source": [
    "import time\n",
    "print('Hola')\n",
    "time.sleep(2)  # esto causa un retraso de dos segundos\n",
    "print('Chiriqui!')"
   ]
  },
  {
   "cell_type": "markdown",
   "metadata": {},
   "source": [
    "#### Dandole al jugado algunas opciones\n",
    "\n",
    "Por ejemplo:\n",
    "\n",
    "Presiona 1 para tocar el timbre de la casa\n",
    "Presiona 2 para gritar el nombre del dueño de la casa\n",
    "\n",
    "#### Asegurate que el jugador entregue un dato de entrada valido\n",
    "\n",
    "Por ejemplo:\n",
    "\n",
    "Presiona 1 para tocar el timbre de la casa\n",
    "`>>> 10`\n",
    "Presiona 1 para tocar el timbre de la casa\n",
    "`>>> hola`\n",
    "\n",
    "#### Agrega funciones al codigo\n",
    "\n",
    "Si te encuentras repitiendo la misma cosa multiples veces, es mejor que lo pongas en una funcion.\n",
    "\n",
    "Por ejemplo:\n",
    "\n",
    "```\n",
    "print('Te encuentras en una cueva oscura')\n",
    "time.sleep(1)\n",
    "print('Hay 2 callejones al frente tuyo')\n",
    "time.sleep(1)\n",
    "print('Cual callejon escoges?')\n",
    "time.sleep(1)\n",
    "```\n",
    "\n",
    "Esto es sumamente repetitivo porque usamos `print` y `time.sleep` todas las veces. Pudieramos crear una funcion que solo toma el mensaje como dato de entrada y la misma se encarga de que se haga una pausa con `time.sleep`:\n",
    "\n",
    "```\n",
    "impresion_pausada('Te encuentras en una cueva muy oscura')\n",
    "impresion_pausada('Hay 2 callejones al frente tuyo')\n",
    "impresion_pausada('Cual callejon escoges?')\n",
    "```\n",
    "\n",
    "Ademas, tambien puedes definir funciones para cada lugar que el usuario visite. Por ejemplo:\n",
    "\n",
    "```\n",
    "def casa():\n",
    "    # cosas que pasan en la casa\n",
    "\n",
    "def cueva():\n",
    "    # cosas que pasan en la cueva\n",
    "\n",
    "def camp():\n",
    "    # cosas que pasan en el campo\n",
    "```\n",
    "\n",
    "#### Utiliza la aleatoridad en el juego\n",
    "\n",
    "Podemos hacer que algunas cosas que aparecen en el juego se escogan al azar, como por ejemplo, el tipo de animal puede ser aleatorio entre leon, lobo o murcielagos; el tipo de arma que el usuario tiene puede ser aleatorio entre un cuchillo, una pieda o una varita magica, e incluso el daño que el usuario le hace a un monstro puede ser aleatorio, asumiendo que el monstro tiene una vida de 100 el daño puede ser de cualquier numero.\n",
    "\n",
    "Para la aleatoridad, podemos usar el modulo `random` y sus metodos `random.choice` y `random.randint`\n",
    "\n",
    "#### Crea situaciones para ganar y perder.\n",
    "\n",
    "Al resultado del juego debe estar influenciado por las deciciones del jugador y quizas algun grado de aleatoridad, aunque la aleatoridad es mejor usarla de modo que tenga una influencia parcial en el resultado, a fin que el usuario tenga control sobre el mismo.\n",
    "\n",
    "#### Revisa si el jugador quiere jugar nuevamente\n",
    "\n",
    "Cuando se termina el script, podemos tener algo como:\n",
    "\n",
    "```\n",
    "Se acabó el juego\n",
    "Quieres jugar nuevamente? (si/no)\n",
    "\n",
    "```\n",
    "\n",
    "#### Asegurate de haber jugado el juego varias veces\n",
    "\n",
    "Para que sepas con certeza que tu juego funciona, por favor asegurate de que lo hayas jugado varias veces"
   ]
  },
  {
   "cell_type": "markdown",
   "metadata": {},
   "source": [
    "## Tuples, Lists y Dictionaries\n",
    "### Las tuplas son secuencias inmutables\n",
    "### Las listas son secuencias mutables\n",
    "### Anidando, copiando y ordenando\n",
    "### Reto: Lista de Listas\n",
    "### Reto: Genera un Poema\n",
    "### Guarda relaciones en Diccionarios\n",
    "### Reto: Ciclando la ciudad Capital\n",
    "### Como escoger una Estructura de Dato\n",
    "### Reto: Gatos con Sombreros\n",
    "### Resumen"
   ]
  },
  {
   "cell_type": "markdown",
   "metadata": {},
   "source": [
    "## Programacion Orientada a Objetos (OOP)\n",
    "### Define una Clase\n",
    "### Instanciar un Objeto\n",
    "### Hereda de otras Clases\n",
    "### Reto: Modela una Granja\n",
    "### Resumen"
   ]
  },
  {
   "cell_type": "markdown",
   "metadata": {},
   "source": [
    "## File Input and Output\n",
    "### Lectura y Escritura de Archivos\n",
    "### Trabajando con Rutas en Python\n",
    "### Reto: Utilizando Patrones para Eliminar Archivos\n",
    "### Reto: Creando una Lista de Altas Puntuaciones\n",
    "### Reto: Divide un archivo CSV\n",
    "### Resumen"
   ]
  },
  {
   "cell_type": "markdown",
   "metadata": {},
   "source": [
    "## Proyecto: Investigando Textos y Llamadas\n",
    "\n",
    "En este proyecto vamos a completar cinco (5) tareas a base en una lista de llamadas y textos intercambiados entre Septiembre de 2016. Utilizarás Python para analizar y responder algunas preguntas sobre los textos y llamadas contenidas en el set de datos."
   ]
  },
  {
   "cell_type": "markdown",
   "metadata": {},
   "source": [
    "## Generadores\n",
    "### Iteracion en Python\n",
    "### Funciones Generadoras\n",
    "### Patrones de Generadores\n",
    "### Python esta lleno de Iteradores\n",
    "### El Protocolo de Iteracion"
   ]
  },
  {
   "cell_type": "markdown",
   "metadata": {},
   "source": [
    "## Creando Colecciones con Comprensiones\n",
    "### Lista de Comprensiones (list comprehensions)\n",
    "### Fuentes Multiples y Filtros\n",
    "### Comprensiones y Generadores\n",
    "### Diccionarios, Sets, y Tuplas\n",
    "### Limites de las Comprensiones"
   ]
  },
  {
   "cell_type": "markdown",
   "metadata": {},
   "source": [
    "## Funciones Avanzadas\n",
    "### Pasando multiples argumentos a una funcion\n",
    "### Utilizando la variables `args` de una funcion\n",
    "### Utilizando la variable `kwargs` de una funcion\n",
    "### Ordenando argumentos en una funcion\n",
    "### Desempacando argumentos\n",
    "### Resumen"
   ]
  },
  {
   "cell_type": "markdown",
   "metadata": {},
   "source": [
    "## Decoradores\n",
    "### Funciones como objetos de primera clase\n",
    "### Funciones internas\n",
    "### Retornando funciones desde funciones\n",
    "### Decoradores simples\n",
    "#### Azucar sintactica\n",
    "#### Reutilizando decoradores\n",
    "#### Decorando funciones con argumentos\n",
    "#### Retornando valores desde funciones decoradas\n",
    "#### Quien eres, realmente? Una breve introspeccion.\n",
    "### Algunos ejemplos reales\n",
    "#### El patron comun\n",
    "#### Funciones de medicion de tiempo"
   ]
  },
  {
   "cell_type": "markdown",
   "metadata": {},
   "source": [
    "## Pruebas Automatizadas y Desarrollo Impulsado por Pruebas (TDD)\n",
    "### Que es TDD?\n",
    "### Pruebas unitarias y afirmaciones simples"
   ]
  }
 ],
 "metadata": {
  "kernelspec": {
   "display_name": "Python 3",
   "language": "python",
   "name": "python3"
  },
  "language_info": {
   "codemirror_mode": {
    "name": "ipython",
    "version": 3
   },
   "file_extension": ".py",
   "mimetype": "text/x-python",
   "name": "python",
   "nbconvert_exporter": "python",
   "pygments_lexer": "ipython3",
   "version": "3.8.1"
  }
 },
 "nbformat": 4,
 "nbformat_minor": 4
}
