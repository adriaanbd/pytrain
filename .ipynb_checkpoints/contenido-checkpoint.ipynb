{
 "cells": [
  {
   "cell_type": "markdown",
   "metadata": {},
   "source": [
    "# Tabla de Contenido"
   ]
  },
  {
   "cell_type": "markdown",
   "metadata": {},
   "source": [
    "## Introduccion\n",
    "### Que es Python?\n",
    "### Escribe un script\n",
    "### La ventana interactiva (IDLE)\n",
    "### La ventana del script"
   ]
  },
  {
   "cell_type": "markdown",
   "metadata": {},
   "source": [
    "## Variables\n",
    "### Referencias a Objetos\n",
    "### Identidad de un Objeto\n",
    "### Nombres de Variables\n",
    "### Palabras reservadas"
   ]
  },
  {
   "cell_type": "markdown",
   "metadata": {},
   "source": [
    "## Strings y Metodos de Strings\n",
    "### Que es un string?\n",
    "### Metodos para manipular strings\n",
    "### Interaccion con dato de entrada del usuario\n",
    "### Reto: Manipular dato de entrada del usuario\n",
    "### Trabajando con Strings y Numeros\n",
    "### Variaciones de la declaracion `print()`\n",
    "### Reto: Modificacion del dato de entrada del usuario \n",
    "### Encuentra un string en un string\n",
    "### Reto: transforma el dato de entrada de usuario\n",
    "### Resumen"
   ]
  },
  {
   "cell_type": "markdown",
   "metadata": {},
   "source": [
    "## Numeros y Matematica\n",
    "### Numeros enteros y de punto flotantes\n",
    "### Operadores aritmeticos y Expresiones\n",
    "### Reto: Realiza Calculaciones con el Dato de Entrada del Usuario\n",
    "### Python miente\n",
    "### Imprime numeros con estilo\n",
    "### Numeros complejos\n",
    "### Resumen"
   ]
  },
  {
   "cell_type": "markdown",
   "metadata": {},
   "source": [
    "## Funciones y Ciclos (Loops)\n",
    "### Que es una funcion?\n",
    "### Escribe tus propias funciones\n",
    "### Reto: Convierte Temperaturas\n",
    "### Ciclos\n",
    "### Reto: Dandole Seguimiento a las Inversiones\n",
    "### Comprendiendo el Alcance (Scope) en Python\n",
    "### Resumen"
   ]
  },
  {
   "cell_type": "markdown",
   "metadata": {},
   "source": [
    "## Encontrando y corregiendo errores\n",
    "### El uso de la ventana de control de depuracion\n",
    "### Elimina algunos errores\n",
    "### Resumen"
   ]
  },
  {
   "cell_type": "markdown",
   "metadata": {},
   "source": [
    "## Logica Condicional y Control de Flujo\n",
    "### Comparando valores\n",
    "### Agregando logica\n",
    "### Control del flujo de un programa\n",
    "### Reto: Encuentra los Factores de un Numero\n",
    "### Rompiendo un ciclo\n",
    "### Recuperacion de errores\n",
    "### Simulacion de eventos y calculacion de probabilidades\n",
    "### Reto: Simulacion de un lanzamiento de moneda\n",
    "### Reto: Simulacion de una eleccion\n",
    "### Resumen"
   ]
  },
  {
   "cell_type": "markdown",
   "metadata": {},
   "source": [
    "## Proyecto: Crea un Juego de Aventura"
   ]
  },
  {
   "cell_type": "markdown",
   "metadata": {},
   "source": [
    "## Tuplas, Listas y Dictionaries\n",
    "### Las tuplas son secuencias inmutables\n",
    "### Las listas son secuencias mutables\n",
    "### Anidando, copiando y ordenando\n",
    "### Reto: Lista de Listas\n",
    "### Reto: Genera un Poema\n",
    "### Guarda relaciones en Diccionarios\n",
    "### Reto: Ciclando la ciudad Capital\n",
    "### Como escoger una Estructura de Dato\n",
    "### Reto: Gatos con Sombreros\n",
    "### Resumen"
   ]
  },
  {
   "cell_type": "markdown",
   "metadata": {},
   "source": [
    "## Programacion Orientada a Objetos (OOP)\n",
    "### Define una Clase\n",
    "### Instanciar un Objeto\n",
    "### Hereda de otras Clases\n",
    "### Reto: Modela una Granja\n",
    "### Resumen"
   ]
  },
  {
   "cell_type": "markdown",
   "metadata": {},
   "source": [
    "## File Input and Output\n",
    "### Lectura y Escritura de Archivos\n",
    "### Trabajando con Rutas en Python\n",
    "### Reto: Utilizando Patrones para Eliminar Archivos\n",
    "### Reto: Creando una Lista de Altas Puntuaciones\n",
    "### Reto: Divide un archivo CSV\n",
    "### Resumen"
   ]
  },
  {
   "cell_type": "markdown",
   "metadata": {},
   "source": [
    "## Proyecto: Investigando Textos y Llamadas"
   ]
  },
  {
   "cell_type": "markdown",
   "metadata": {},
   "source": [
    "## Generadores\n",
    "### Iteracion en Python\n",
    "### Funciones Generadoras\n",
    "### Patrones de Generadores\n",
    "### Python esta lleno de Iteradores\n",
    "### El Protocolo de Iteracion"
   ]
  },
  {
   "cell_type": "markdown",
   "metadata": {},
   "source": [
    "## Creando Colecciones con Comprensiones\n",
    "### Lista de Comprensiones (list comprehensions)\n",
    "### Fuentes Multiples y Filtros\n",
    "### Comprensiones y Generadores\n",
    "### Diccionarios, Sets, y Tuplas\n",
    "### Limites de las Comprensiones"
   ]
  },
  {
   "cell_type": "markdown",
   "metadata": {},
   "source": [
    "## Funciones Avanzadas\n",
    "### Pasando multiples argumentos a una funcion\n",
    "### Utilizando la variables `args` de una funcion\n",
    "### Utilizando la variable `kwargs` de una funcion\n",
    "### Ordenando argumentos en una funcion\n",
    "### Desempacando argumentos\n",
    "### Reto: Escribe una funcion que acepta cualquier numero de objetos y retorna el tamaño de los mismos\n",
    "### Resumen"
   ]
  },
  {
   "cell_type": "markdown",
   "metadata": {},
   "source": [
    "## Decoradores\n",
    "### Funciones como objetos de primera clase\n",
    "### Funciones internas\n",
    "### Retornando funciones desde funciones\n",
    "### Decoradores simples\n",
    "#### Azucar sintactica\n",
    "#### Reutilizando decoradores\n",
    "#### Decorando funciones con argumentos\n",
    "#### Retornando valores desde funciones decoradas\n",
    "#### Quien eres, realmente? Una breve introspeccion.\n",
    "### Algunos ejemplos reales\n",
    "#### El patron comun\n",
    "#### Funciones de medicion de tiempo"
   ]
  },
  {
   "cell_type": "markdown",
   "metadata": {},
   "source": [
    "## Pruebas Automatizadas y Desarrollo Impulsado por Pruebas (TDD)\n",
    "### Que es TDD?\n",
    "### Pruebas unitarias y afirmaciones simples"
   ]
  }
 ],
 "metadata": {
  "kernelspec": {
   "display_name": "Python 3",
   "language": "python",
   "name": "python3"
  },
  "language_info": {
   "codemirror_mode": {
    "name": "ipython",
    "version": 3
   },
   "file_extension": ".py",
   "mimetype": "text/x-python",
   "name": "python",
   "nbconvert_exporter": "python",
   "pygments_lexer": "ipython3",
   "version": "3.8.1"
  }
 },
 "nbformat": 4,
 "nbformat_minor": 4
}
