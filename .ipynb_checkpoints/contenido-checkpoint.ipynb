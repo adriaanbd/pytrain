{
 "cells": [
  {
   "cell_type": "markdown",
   "metadata": {},
   "source": [
    "# Contenido"
   ]
  },
  {
   "cell_type": "markdown",
   "metadata": {},
   "source": [
    "1. Introduccion\n",
    "    - Que es Python?\n",
    "    - Escribe un script\n",
    "    - La ventana interactiva (IDLE)\n",
    "    - La ventana del script\n",
    "2. Variables\n",
    "    - Referencias a objetos\n",
    "    - Identidad de un objeto\n",
    "    - Nombres de variables\n",
    "    - Palabras reservadas\n",
    "3. Cadenas\n",
    "    - Que es una cadena?\n",
    "    - Concatenacion, indexacion y segmentacion\n",
    "    - Metodos de manipulacion de cadenas\n",
    "    - Interaccion con dato de entrada de l usuario\n",
    "    - Reto: manipulacion de dato de entrada de usuario\n",
    "    - Trabajando con cadenas y numeros\n",
    "    - Variaciones de la declaracion `print()`\n",
    "    - Encuentra una cadena adentro de una cadena\n",
    "    - Reto: multiples reemplazos\n",
    "4. Numeros y matematica\n",
    "    - Numeros enteros y de punto flotante\n",
    "    - Operadores aritmeticos y expresiones\n",
    "    - Reto: calculaciones con el dato de entrada de usuario\n",
    "    - Python miente\n",
    "    - Imprimer numeros con estilo\n",
    "5. Ciclos y funciones\n",
    "    - Que es una funcion?\n",
    "    - Escribe tus propias funciones\n",
    "    - Reto: convierte temperaturas\n",
    "    - Ciclos\n",
    "    - Reto: gestion de inversiones\n",
    "    - Comprendiendo el concepto de alcance\n",
    "6. Encontrar y corregir errores\n",
    "    - El uso de la ventana de control de depuracion\n",
    "    - Elimina algunos errores\n",
    "7. Logica condicional y control de flujo\n",
    "    - Comparacion de valores\n",
    "    - Agregando logica\n",
    "    - Control de flujo de un programa\n",
    "    - Recuperacion de errores\n",
    "    - Simulacion de eventos y calculo de probabilidades\n",
    "    - Reto: simulacion de un lanzamiento de moneda\n",
    "8. Tuplas, Listas y Diccionarios\n",
    "    - Tuplas son secuencias inmutables\n",
    "    - Listas son secuencias mutables\n",
    "    - Anidando, copiando y ordenando\n",
    "    - Reto: lista de listas\n",
    "    - Guardando relaciones en diccionarios\n",
    "    - Reto: ciclando la ciudad capital\n",
    "    - Como escoger una estructura de dato\n",
    "9. Programacion Orientada a Objetos\n",
    "    - Define una clase\n",
    "    - Instancia un objeto\n",
    "    - Hereda de otra clase\n",
    "    - Reto: modela una granja \n",
    "10. Archivo (Entrada y Salida)\n",
    "    - Lectura y escritura de archivos\n",
    "    - Trabajando con rutas en Python\n",
    "    - Lectura y escritura de archivos CSV\n",
    "    - Reto: analisis de llamadas en CSV\n",
    "    - Reto: puntos de acceso a la red nacional de internet\n",
    "11. Proyecto: Un Juego de Aventura"
   ]
  }
 ],
 "metadata": {
  "kernelspec": {
   "display_name": "Python 3",
   "language": "python",
   "name": "python3"
  },
  "language_info": {
   "codemirror_mode": {
    "name": "ipython",
    "version": 3
   },
   "file_extension": ".py",
   "mimetype": "text/x-python",
   "name": "python",
   "nbconvert_exporter": "python",
   "pygments_lexer": "ipython3",
   "version": "3.8.1"
  }
 },
 "nbformat": 4,
 "nbformat_minor": 4
}
