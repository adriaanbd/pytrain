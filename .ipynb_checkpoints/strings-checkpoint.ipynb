{
 "cells": [
  {
   "cell_type": "markdown",
   "metadata": {},
   "source": [
    "# Fundamentos: Cadena de Letras (Strings) y Metodos"
   ]
  },
  {
   "cell_type": "markdown",
   "metadata": {},
   "source": [
    "## Que es un string?"
   ]
  },
  {
   "cell_type": "markdown",
   "metadata": {},
   "source": [
    "### String Data Type"
   ]
  },
  {
   "cell_type": "markdown",
   "metadata": {},
   "source": [
    "### String Literals"
   ]
  },
  {
   "cell_type": "markdown",
   "metadata": {},
   "source": [
    "### Multiline Strings"
   ]
  },
  {
   "cell_type": "markdown",
   "metadata": {},
   "source": [
    "## Concatenar, Indexar y Cortar"
   ]
  },
  {
   "cell_type": "markdown",
   "metadata": {},
   "source": [
    "### Concatenar"
   ]
  },
  {
   "cell_type": "markdown",
   "metadata": {},
   "source": [
    "### Indexar"
   ]
  },
  {
   "cell_type": "markdown",
   "metadata": {},
   "source": [
    "### Cortar"
   ]
  },
  {
   "cell_type": "code",
   "execution_count": 1,
   "metadata": {},
   "outputs": [],
   "source": [
    "# Como ya hemos observado, podemos escribir una cadena de caracteres poniendo citas al principio y al fin\n",
    "# Todas las siguientes lineas son variables de cadena de caracteres\n",
    "frase = 'Hola Mundo'\n",
    "numeros = '123'\n",
    "conversacion = 'Yo dije, \"Ponlo en su lugar por favor.\"'"
   ]
  },
  {
   "cell_type": "code",
   "execution_count": 2,
   "metadata": {},
   "outputs": [
    {
     "name": "stdout",
     "output_type": "stream",
     "text": [
      "Esta cadena de caracteres \n",
      "tiene dos lineas\n"
     ]
    }
   ],
   "source": [
    "# Tambien podemos crear strings de varias lineas, usando tres citas\n",
    "largo = '''Esta cadena de caracteres \n",
    "tiene dos lineas'''\n",
    "print(largo)"
   ]
  },
  {
   "cell_type": "code",
   "execution_count": 4,
   "metadata": {},
   "outputs": [
    {
     "name": "stdout",
     "output_type": "stream",
     "text": [
      "Esto ocupa\n",
      "varias\n",
      "lineas\n"
     ]
    }
   ],
   "source": [
    "# Puedes imprimir en varias lineas\n",
    "print('''Esto ocupa\n",
    "varias\n",
    "lineas''')"
   ]
  },
  {
   "cell_type": "markdown",
   "metadata": {},
   "source": [
    "Ejercicios\n",
    "1. Imprima un string que use doble citas \"\" en el string\n",
    "2. Imprima un string que use una cita '' en el string\n",
    "3. Imprima un string que contenga multiples lineas"
   ]
  },
  {
   "cell_type": "code",
   "execution_count": 5,
   "metadata": {},
   "outputs": [
    {
     "name": "stdout",
     "output_type": "stream",
     "text": [
      "3\n"
     ]
    }
   ],
   "source": [
    "# Python tiene herramientas para obtener informacion y manipular strings\n",
    "letras = 'abc'\n",
    "cuantas_letras = len(letras)\n",
    "print(cuantas_letras)"
   ]
  },
  {
   "cell_type": "code",
   "execution_count": 6,
   "metadata": {},
   "outputs": [
    {
     "name": "stdout",
     "output_type": "stream",
     "text": [
      "abracadabra\n"
     ]
    }
   ],
   "source": [
    "# Concatenacion de strings\n",
    "string1 = 'abra'\n",
    "string2 = 'cadabra'\n",
    "magia = string1 + string2\n",
    "print(magia)"
   ]
  },
  {
   "cell_type": "code",
   "execution_count": 7,
   "metadata": {},
   "outputs": [
    {
     "name": "stdout",
     "output_type": "stream",
     "text": [
      "abracadabra\n"
     ]
    }
   ],
   "source": [
    "# Tambien se puede concatenar directamente en el print\n",
    "print('abra' + 'cadabra')"
   ]
  },
  {
   "cell_type": "code",
   "execution_count": 8,
   "metadata": {},
   "outputs": [
    {
     "name": "stdout",
     "output_type": "stream",
     "text": [
      "abra cadabra\n"
     ]
    }
   ],
   "source": [
    "# Podemos imprimir varias palabras a la vez\n",
    "print('abra', 'cadabra')"
   ]
  },
  {
   "cell_type": "code",
   "execution_count": 9,
   "metadata": {},
   "outputs": [
    {
     "name": "stdout",
     "output_type": "stream",
     "text": [
      "n\n"
     ]
    }
   ],
   "source": [
    "# Un string es una secuencia de caracteres; por tanto, podemos acceder a cada caracter de manera individual\n",
    "fruta = 'manzana'\n",
    "print(fruta[2])"
   ]
  },
  {
   "cell_type": "code",
   "execution_count": 10,
   "metadata": {},
   "outputs": [
    {
     "name": "stdout",
     "output_type": "stream",
     "text": [
      "m\n"
     ]
    }
   ],
   "source": [
    "# En Python, se empieza a contar desde cero\n",
    "print(fruta[0])"
   ]
  },
  {
   "cell_type": "code",
   "execution_count": 11,
   "metadata": {},
   "outputs": [
    {
     "name": "stdout",
     "output_type": "stream",
     "text": [
      "0 m\n",
      "1 a\n",
      "2 n\n",
      "3 z\n",
      "4 a\n",
      "5 n\n",
      "6 a\n"
     ]
    }
   ],
   "source": [
    "# El numero que usamos para acceder a un caracter conforme a su posicion se llama indice o index\n",
    "for indice, letra in enumerate(fruta):\n",
    "    print(indice, letra)"
   ]
  },
  {
   "cell_type": "code",
   "execution_count": 12,
   "metadata": {},
   "outputs": [
    {
     "name": "stdout",
     "output_type": "stream",
     "text": [
      "man\n"
     ]
    }
   ],
   "source": [
    "# Podemos extraer una seccion de la secuencia, de un indice al otro (esto se llama slicing o slice)\n",
    "print(fruta[0:3])  # comenzamos en 0 y paramos justo antes de 3"
   ]
  },
  {
   "cell_type": "code",
   "execution_count": 16,
   "metadata": {},
   "outputs": [
    {
     "name": "stdout",
     "output_type": "stream",
     "text": [
      "manza na manzana\n"
     ]
    }
   ],
   "source": [
    "# Si omitimos el primer o segundo numero, Python asume que es uno de los dos extremos\n",
    "print(fruta[:5], fruta[5:], fruta[:])"
   ]
  },
  {
   "cell_type": "code",
   "execution_count": 17,
   "metadata": {},
   "outputs": [
    {
     "ename": "TypeError",
     "evalue": "'str' object does not support item assignment",
     "output_type": "error",
     "traceback": [
      "\u001b[0;31m---------------------------------------------------------------------------\u001b[0m",
      "\u001b[0;31mTypeError\u001b[0m                                 Traceback (most recent call last)",
      "\u001b[0;32m<ipython-input-17-6ad05f9d00ce>\u001b[0m in \u001b[0;36m<module>\u001b[0;34m\u001b[0m\n\u001b[1;32m      1\u001b[0m \u001b[0;31m# Strings son inmutables, por lo que no se puede cambiar un pedazo del mismo\u001b[0m\u001b[0;34m\u001b[0m\u001b[0;34m\u001b[0m\u001b[0;34m\u001b[0m\u001b[0m\n\u001b[0;32m----> 2\u001b[0;31m \u001b[0mfruta\u001b[0m\u001b[0;34m[\u001b[0m\u001b[0;36m0\u001b[0m\u001b[0;34m]\u001b[0m \u001b[0;34m=\u001b[0m \u001b[0;34m'l'\u001b[0m\u001b[0;34m\u001b[0m\u001b[0;34m\u001b[0m\u001b[0m\n\u001b[0m",
      "\u001b[0;31mTypeError\u001b[0m: 'str' object does not support item assignment"
     ]
    }
   ],
   "source": [
    "# Strings son inmutables, por lo que no se puede cambiar un pedazo del mismo\n",
    "fruta[0] = 'l'"
   ]
  },
  {
   "cell_type": "code",
   "execution_count": 18,
   "metadata": {},
   "outputs": [
    {
     "name": "stdout",
     "output_type": "stream",
     "text": [
      "lanza\n"
     ]
    }
   ],
   "source": [
    "# Para poder hacerlo, debemos crear un nuevo string\n",
    "nuevo = 'l' + fruta[1:5]\n",
    "print(nuevo)"
   ]
  },
  {
   "cell_type": "markdown",
   "metadata": {},
   "source": [
    "Ejercicios\n",
    "1. Crea un nuevo string e imprime el numero de caracteres\n",
    "2. Crea dos strings, concatenalos e imprime la combinacion de los dos\n",
    "3. Crea dos variables con strings e imprime uno depues de otro con un espacio en el medio\n",
    "4. Imprime la palabra \"riqui\" utilizando slicing sobre la palabra \"Chiriqui\""
   ]
  },
  {
   "cell_type": "markdown",
   "metadata": {},
   "source": [
    "## Utilizando objetos y metodos"
   ]
  },
  {
   "cell_type": "markdown",
   "metadata": {},
   "source": [
    "Python es un lenguage que utiliza la Programacion Orientada a Objetos (Object Oriented Programming). Esto significa que podemos guardar informacion en objetos. En Python, un string es un objeto simple, toda vez que solamente guarda un pedazo de informacion (su valor), sin embargo, un objeto puede llegar a ser muy complejo. Objetos puede guardar otros objetos. Esto permite darle estructura y organizacion a nuestra programacion. "
   ]
  },
  {
   "cell_type": "markdown",
   "metadata": {},
   "source": [
    "Si quisieramos modelar un carro, pudieramos crear un objeto Carro que guardaria informacion descriptiva del mismo. Esta informacion serian sus atributos, como por ejemplo su color y su modelo. Ademas, pudiese incluir otros objetos como Llantas, Puertas y un Motor, que tambien tendran sus atributos."
   ]
  },
  {
   "cell_type": "markdown",
   "metadata": {},
   "source": [
    "Diferentes objetos tienen diferentes capacidades, lo cual se denominan metodos. En este sentido, nuestro objeto Carro pudiese tener un metodo para conducir llamado `conduce()` y un metodo para estacionarse llamado `estacionar()`. Ya que estos objetos pertenecen a un carro, podemos ejecutarlos al colocarlos despues del objeto, con un punto entre medio: `carro.estacionar()`."
   ]
  },
  {
   "cell_type": "markdown",
   "metadata": {},
   "source": [
    "Como han podido observar, los metodos tienen unos parentesis, porque a veces los metodos toman algunos datos de entrada. Por ejemplo, si quisieramos manejar un carro por una distancia de 50km, ponemos este dato de entrada en parentesis: `carro.conduce(50)`."
   ]
  },
  {
   "cell_type": "markdown",
   "metadata": {},
   "source": [
    "Existen ciertos metodos que pertenecen a los objetos de tipo String. Por ejemplo, hay un metodo llamado `upper()` que crea una version del string con todas las letras mayusculas; y otro metodo `lower()` que hace lo contrario."
   ]
  },
  {
   "cell_type": "code",
   "execution_count": 19,
   "metadata": {},
   "outputs": [
    {
     "name": "stdout",
     "output_type": "stream",
     "text": [
      "ME ESCUCHAS?\n"
     ]
    }
   ],
   "source": [
    "altavoz = 'Me escuchas?'\n",
    "print(altavoz.upper())"
   ]
  },
  {
   "cell_type": "markdown",
   "metadata": {},
   "source": [
    "Cuando un metodo pertenece a un objeto, utilizamos la convencion del `objeto.metodo()`. No obstante, como pudimos observar con el metodo de uso general `len(objeto)`, este no sigue esa convencion, ya que es un metodo aplicable a muchos distintos tipos de objetos, incluyendo strings."
   ]
  },
  {
   "cell_type": "markdown",
   "metadata": {},
   "source": [
    "Hagamos algo interactivo al introducir otro metodo de uso general llamado `input()`. Este metodo obtiene datos del usuario y toma como dato de entrada el texto que queremos que el usuario vea."
   ]
  },
  {
   "cell_type": "code",
   "execution_count": 21,
   "metadata": {},
   "outputs": [
    {
     "name": "stdout",
     "output_type": "stream",
     "text": [
      "Hola, como estas?Bien, gracias!\n",
      "Dijiste: Bien, gracias!\n"
     ]
    }
   ],
   "source": [
    "texto = 'Hola, como estas?'\n",
    "dato_de_usuario = input(texto)\n",
    "print(f'Dijiste: {dato_de_usuario}')"
   ]
  },
  {
   "cell_type": "code",
   "execution_count": 22,
   "metadata": {},
   "outputs": [
    {
     "name": "stdout",
     "output_type": "stream",
     "text": [
      "Que deberia gritar?aloooooo\n",
      "Bueno, si insistes... ALOOOOOO\n"
     ]
    }
   ],
   "source": [
    "# Combinemos el metodo input() con el metodo de string upper()\n",
    "respuesta = input('Que deberia gritar?')\n",
    "respuesta = respuesta.upper()\n",
    "print('Bueno, si insistes...', respuesta)"
   ]
  },
  {
   "cell_type": "markdown",
   "metadata": {},
   "source": [
    "## Ejercicios\n",
    "1. Toma datos de entrada del usuario e imprimelo\n",
    "2. Toma datos de entrada del usuario y retorna una version del string con todas las letras mayusculas.\n",
    "3. Toma datos de entrada del usuario y retorna una version del string con la primera letra mayuscula."
   ]
  }
 ],
 "metadata": {
  "kernelspec": {
   "display_name": "Python 3",
   "language": "python",
   "name": "python3"
  },
  "language_info": {
   "codemirror_mode": {
    "name": "ipython",
    "version": 3
   },
   "file_extension": ".py",
   "mimetype": "text/x-python",
   "name": "python",
   "nbconvert_exporter": "python",
   "pygments_lexer": "ipython3",
   "version": "3.8.1"
  }
 },
 "nbformat": 4,
 "nbformat_minor": 4
}
