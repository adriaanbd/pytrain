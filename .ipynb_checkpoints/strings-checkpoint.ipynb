{
 "cells": [
  {
   "cell_type": "markdown",
   "metadata": {},
   "source": [
    "# Fundamentos: Cadena de Letras (Strings) y Metodos"
   ]
  },
  {
   "cell_type": "markdown",
   "metadata": {},
   "source": [
    "## Que es un string?"
   ]
  },
  {
   "cell_type": "markdown",
   "metadata": {},
   "source": [
    "En el modulo anterior, creamos un string `Hola Mundo` y lo imprimimos en la ventana interactiva utilizando la función `print()`. En este sección vamos a aprender lo que es un string y las distintas maneras de crearlos en Python."
   ]
  },
  {
   "cell_type": "markdown",
   "metadata": {},
   "source": [
    "### El String como Tipo de Dato"
   ]
  },
  {
   "cell_type": "markdown",
   "metadata": {},
   "source": [
    "El string o cadena de caracteres es un tipo de dato fundamental en Python. La frase *tipo de dato* hace referencia al tipo de dato que representa un valor determinado. En ese sentido, los strings son utilizados para representar texto. Hay que destacar que existen otro tipo de datos, como los que representan numeros por ejemplo, lo cual veremos mas adelante.\n",
    "\n",
    "Decimos que es un tipo de dato **fundamental** porque no puede ser descompuesto en valores mas pequeños de otro tipo. No obstante, no todos los tipos de datos son fundamentales. Tambien existen los tipos de datos compuestos, conocidos como estructuras de datos.\n",
    "\n",
    "El string tiene una abreviacion especial en Python: `str`.\n",
    "\n",
    "Utlizemos la función incorporada `type()` para determinar el tipo de dato de un valor."
   ]
  },
  {
   "cell_type": "code",
   "execution_count": 4,
   "metadata": {},
   "outputs": [
    {
     "name": "stdout",
     "output_type": "stream",
     "text": [
      "<class 'str'>\n"
     ]
    }
   ],
   "source": [
    "print(type('Hola Mundo'))"
   ]
  },
  {
   "cell_type": "code",
   "execution_count": 3,
   "metadata": {},
   "outputs": [
    {
     "name": "stdout",
     "output_type": "stream",
     "text": [
      "<class 'str'>\n"
     ]
    }
   ],
   "source": [
    "frase = 'Hola Mundo'\n",
    "print(type(frase))"
   ]
  },
  {
   "cell_type": "code",
   "execution_count": 5,
   "metadata": {},
   "outputs": [
    {
     "data": {
      "text/plain": [
       "str"
      ]
     },
     "execution_count": 5,
     "metadata": {},
     "output_type": "execute_result"
    }
   ],
   "source": [
    "type(frase)"
   ]
  },
  {
   "cell_type": "markdown",
   "metadata": {},
   "source": [
    "Los strings contienen tres propiedades que exploraremos en las próximas secciones:\n",
    "1. Contienen caracteres\n",
    "2. Tienen un tamaño, determinado por el numero de caracteres\n",
    "3. Los caracteres aparecen en una secuencia (cada numero tiene una posición númerica determinada)"
   ]
  },
  {
   "cell_type": "markdown",
   "metadata": {},
   "source": [
    "### String Literals"
   ]
  },
  {
   "cell_type": "markdown",
   "metadata": {},
   "source": [
    "Como ya han podido observar, podemos crear strings al rodearlos por citas sencillas o comillas dobles:\n",
    "\n",
    "```\n",
    "string1 = 'Hola'\n",
    "string2 = \"Mundo\"\n",
    "```\n",
    "\n",
    "Cada vez que creamos un string de esta forma, el string se le llama **string literal** o **literal de cadena de caracteres**. Esto quiere decir que el string esta literalmente escrito en el codigo.\n",
    "\n",
    "Las citas o comillas alrededor de un string son llamados **delimiters** o delimitadores, toda vez que marcan los limites de un string, comunicandole a Python donde empieza y donde termina. Cuando un tipo de citas es utilizada como delimitador, el otro tipo de citas puede ser utilizado dentro del string:\n",
    "\n",
    "```\n",
    "string3 = \"'Hola', dijo Adriaan\"\n",
    "string4 = 'Yo respondi \"Hola\" también'\n",
    "```\n",
    "\n",
    "Como es esto posible? Python lee el primer delimitador, y todos los caracteres despues del mismo son considerados parte del string hasta encontrar el segundo delimitador. Por tanto, no podemos utilizar el mismo delimitador varias veces dentro de un string."
   ]
  },
  {
   "cell_type": "code",
   "execution_count": 6,
   "metadata": {},
   "outputs": [
    {
     "ename": "SyntaxError",
     "evalue": "invalid syntax (<ipython-input-6-2765d32575e3>, line 1)",
     "output_type": "error",
     "traceback": [
      "\u001b[0;36m  File \u001b[0;32m\"<ipython-input-6-2765d32575e3>\"\u001b[0;36m, line \u001b[0;32m1\u001b[0m\n\u001b[0;31m    texto = \"Ella preguntó, \"Qué hora es?\"\"\u001b[0m\n\u001b[0m                             ^\u001b[0m\n\u001b[0;31mSyntaxError\u001b[0m\u001b[0;31m:\u001b[0m invalid syntax\n"
     ]
    }
   ],
   "source": [
    "texto = \"Ella preguntó, \"Qué hora es?\"\"  # Python no sabe como interpretarlo"
   ]
  },
  {
   "cell_type": "markdown",
   "metadata": {},
   "source": [
    "**Consejo**: Apeguense a una forma de escribir un string en un proyecto. Es considerada mala practica escribir strings de las dos formas en el mismo proyecto."
   ]
  },
  {
   "cell_type": "markdown",
   "metadata": {},
   "source": [
    "### La longitud de un string"
   ]
  },
  {
   "cell_type": "markdown",
   "metadata": {},
   "source": [
    "La longitud de un string esta compuesto por el numero de caracteres, incluyendo espacios, contenidos en el mismo. Por ejemplo, el string `abc` tiene una longitud de `3`. Para determinar la longitud de un string, podemos utilizar la funcion incorporada `len()`."
   ]
  },
  {
   "cell_type": "code",
   "execution_count": 7,
   "metadata": {},
   "outputs": [
    {
     "data": {
      "text/plain": [
       "3"
      ]
     },
     "execution_count": 7,
     "metadata": {},
     "output_type": "execute_result"
    }
   ],
   "source": [
    "len('abc')"
   ]
  },
  {
   "cell_type": "code",
   "execution_count": 8,
   "metadata": {},
   "outputs": [
    {
     "data": {
      "text/plain": [
       "3"
      ]
     },
     "execution_count": 8,
     "metadata": {},
     "output_type": "execute_result"
    }
   ],
   "source": [
    "letras = 'abc'\n",
    "len(letras)"
   ]
  },
  {
   "cell_type": "code",
   "execution_count": 10,
   "metadata": {},
   "outputs": [
    {
     "data": {
      "text/plain": [
       "3"
      ]
     },
     "execution_count": 10,
     "metadata": {},
     "output_type": "execute_result"
    }
   ],
   "source": [
    "num_letras = len(letras)\n",
    "num_letras"
   ]
  },
  {
   "cell_type": "markdown",
   "metadata": {},
   "source": [
    "### Strings Multilineales"
   ]
  },
  {
   "cell_type": "markdown",
   "metadata": {},
   "source": [
    "Conforme a la guía oficial de estilo de Python, cada linea de Python puede contener hasta 79 caracteres incluyendo espacios. Sin embargo, muchos programadores piensan que este limite es muy corto y, por tanto, incrementan el limite. \n",
    "\n",
    "A veces tenemos que crear strings muy largos, que se exceden del limite. Para manejar esta limitante, podemos romper el string en varias lineas.\n",
    "\n",
    "Una manera de crear un string multilinear, se hace insertando un `\\` al final de cada linea."
   ]
  },
  {
   "cell_type": "code",
   "execution_count": 13,
   "metadata": {},
   "outputs": [
    {
     "name": "stdout",
     "output_type": "stream",
     "text": [
      "Alcanzamos por fin la victoria en el campo feliz de la unión; con ardientes fulgores de gloria se ilumina la nueva nación.\n"
     ]
    }
   ],
   "source": [
    "parrafo =  \"Alcanzamos por fin la victoria \\\n",
    "en el campo feliz de la unión; \\\n",
    "con ardientes fulgores de gloria \\\n",
    "se ilumina la nueva nación.\"\n",
    "\n",
    "print(parrafo)"
   ]
  },
  {
   "cell_type": "markdown",
   "metadata": {},
   "source": [
    "Observemos:\n",
    "* no tuvimos que insertar una cita al final de cada linea\n",
    "* la impresion del parrafo se refleja en una sola linea"
   ]
  },
  {
   "cell_type": "markdown",
   "metadata": {},
   "source": [
    "Strings multilineales tambien puede ser escritos utilizando triple citas, a fin de conservar los espacios."
   ]
  },
  {
   "cell_type": "code",
   "execution_count": 14,
   "metadata": {},
   "outputs": [
    {
     "name": "stdout",
     "output_type": "stream",
     "text": [
      "Alcanzamos por fin la victoria\n",
      "en el campo feliz de la unión;\n",
      "con ardientes fulgores de gloria\n",
      "se ilumina la nueva nación.\n"
     ]
    }
   ],
   "source": [
    "parrafo =  \"\"\"Alcanzamos por fin la victoria\n",
    "en el campo feliz de la unión;\n",
    "con ardientes fulgores de gloria\n",
    "se ilumina la nueva nación.\"\"\"\n",
    "print(parrafo)"
   ]
  },
  {
   "cell_type": "code",
   "execution_count": 15,
   "metadata": {},
   "outputs": [
    {
     "name": "stdout",
     "output_type": "stream",
     "text": [
      "Alcanzamos por fin la victoria\n",
      "en el campo feliz de la unión;\n",
      "con ardientes fulgores de gloria\n",
      "se ilumina la nueva nación.\n"
     ]
    }
   ],
   "source": [
    "parrafo =  '''Alcanzamos por fin la victoria\n",
    "en el campo feliz de la unión;\n",
    "con ardientes fulgores de gloria\n",
    "se ilumina la nueva nación.'''\n",
    "print(parrafo)"
   ]
  },
  {
   "cell_type": "markdown",
   "metadata": {},
   "source": [
    "### Ejercicios\n",
    "1. Imprime un string que utilize comillas adentro de un string.\n",
    "2. Imprime un string que utiliza una apostrofe adentreo de un string.\n",
    "3. Imprime un string multilinear, que conserve el espacio.\n",
    "4. Imprime un string multilinear pero que no sonserve el espacio."
   ]
  },
  {
   "cell_type": "markdown",
   "metadata": {},
   "source": [
    "## Concatenar, Indexar y Cortar"
   ]
  },
  {
   "cell_type": "markdown",
   "metadata": {},
   "source": [
    "Ahora que sabemos lo que es un string y como declararlo, vamos a explorar algunas cosas que podemos hacer con ellos. En este seccion, aprenderemos tres operaciones básicas:\n",
    "* Concatenación, es decir, la unión de dos strings.\n",
    "* Indexación, es decir, la obtención de un caracter de un string.\n",
    "* Segmentación, es decir, la obtención de varios caracteres de un string."
   ]
  },
  {
   "cell_type": "markdown",
   "metadata": {},
   "source": [
    "### Concatenar"
   ]
  },
  {
   "cell_type": "code",
   "execution_count": 1,
   "metadata": {},
   "outputs": [
    {
     "name": "stdout",
     "output_type": "stream",
     "text": [
      "abracadabra\n"
     ]
    }
   ],
   "source": [
    "# Concatenacion de strings\n",
    "string1 = 'abra'\n",
    "string2 = 'cadabra'\n",
    "magia = string1 + string2\n",
    "print(magia)  # notemos que no hay espacio entre medio"
   ]
  },
  {
   "cell_type": "code",
   "execution_count": 3,
   "metadata": {},
   "outputs": [
    {
     "name": "stdout",
     "output_type": "stream",
     "text": [
      "Adriaan Beiertz\n"
     ]
    }
   ],
   "source": [
    "nombre = 'Adriaan'\n",
    "apellido = 'Beiertz'\n",
    "nombre_completo = nombre + ' ' + apellido\n",
    "print(nombre_completo)"
   ]
  },
  {
   "cell_type": "code",
   "execution_count": null,
   "metadata": {},
   "outputs": [],
   "source": [
    "# Tambien se puede concatenar directamente en el print\n",
    "print('abra' + 'cadabra')"
   ]
  },
  {
   "cell_type": "code",
   "execution_count": 8,
   "metadata": {},
   "outputs": [
    {
     "name": "stdout",
     "output_type": "stream",
     "text": [
      "abra cadabra\n"
     ]
    }
   ],
   "source": [
    "# Podemos imprimir varias palabras a la vez\n",
    "print('abra', 'cadabra')"
   ]
  },
  {
   "cell_type": "markdown",
   "metadata": {},
   "source": [
    "### Indexar"
   ]
  },
  {
   "cell_type": "markdown",
   "metadata": {},
   "source": [
    "Cada caracter en un string tiene un posición numerada llamada un índice. Podemos acceder al caracter en una determinada posición insertando el numero entre corchetes."
   ]
  },
  {
   "cell_type": "code",
   "execution_count": 5,
   "metadata": {},
   "outputs": [
    {
     "name": "stdout",
     "output_type": "stream",
     "text": [
      "n\n"
     ]
    }
   ],
   "source": [
    "# Un string es una secuencia de caracteres; por tanto, podemos acceder a cada caracter de manera individual\n",
    "fruta = 'manzana'\n",
    "print(fruta[2])"
   ]
  },
  {
   "cell_type": "code",
   "execution_count": 6,
   "metadata": {},
   "outputs": [
    {
     "name": "stdout",
     "output_type": "stream",
     "text": [
      "m\n"
     ]
    }
   ],
   "source": [
    "# En Python, se empieza a contar desde cero\n",
    "print(fruta[0])"
   ]
  },
  {
   "cell_type": "code",
   "execution_count": 7,
   "metadata": {},
   "outputs": [
    {
     "name": "stdout",
     "output_type": "stream",
     "text": [
      "0 m\n",
      "1 a\n",
      "2 n\n",
      "3 z\n",
      "4 a\n",
      "5 n\n",
      "6 a\n"
     ]
    }
   ],
   "source": [
    "# El numero que usamos para acceder a un caracter conforme a su posicion se llama indice o index\n",
    "for indice, letra in enumerate(fruta):\n",
    "    print(indice, letra)"
   ]
  },
  {
   "cell_type": "code",
   "execution_count": 8,
   "metadata": {},
   "outputs": [
    {
     "ename": "IndexError",
     "evalue": "string index out of range",
     "output_type": "error",
     "traceback": [
      "\u001b[0;31m---------------------------------------------------------------------------\u001b[0m",
      "\u001b[0;31mIndexError\u001b[0m                                Traceback (most recent call last)",
      "\u001b[0;32m<ipython-input-8-4e4d4d1c1b94>\u001b[0m in \u001b[0;36m<module>\u001b[0;34m\u001b[0m\n\u001b[1;32m      1\u001b[0m \u001b[0;31m# Intentemos obtener el indice 7\u001b[0m\u001b[0;34m\u001b[0m\u001b[0;34m\u001b[0m\u001b[0;34m\u001b[0m\u001b[0m\n\u001b[0;32m----> 2\u001b[0;31m \u001b[0mfruta\u001b[0m\u001b[0;34m[\u001b[0m\u001b[0;36m7\u001b[0m\u001b[0;34m]\u001b[0m\u001b[0;34m\u001b[0m\u001b[0;34m\u001b[0m\u001b[0m\n\u001b[0m",
      "\u001b[0;31mIndexError\u001b[0m: string index out of range"
     ]
    }
   ],
   "source": [
    "# Intentemos obtener el indice 7\n",
    "fruta[7]"
   ]
  },
  {
   "cell_type": "code",
   "execution_count": 9,
   "metadata": {},
   "outputs": [
    {
     "data": {
      "text/plain": [
       "7"
      ]
     },
     "execution_count": 9,
     "metadata": {},
     "output_type": "execute_result"
    }
   ],
   "source": [
    "# El indice mas alto en un string siempre es uno menos que la longitud del mismo\n",
    "len(fruta)"
   ]
  },
  {
   "cell_type": "code",
   "execution_count": 10,
   "metadata": {},
   "outputs": [
    {
     "data": {
      "text/plain": [
       "'a'"
      ]
     },
     "execution_count": 10,
     "metadata": {},
     "output_type": "execute_result"
    }
   ],
   "source": [
    "fruta[6]"
   ]
  },
  {
   "cell_type": "code",
   "execution_count": 11,
   "metadata": {},
   "outputs": [
    {
     "data": {
      "text/plain": [
       "'a'"
      ]
     },
     "execution_count": 11,
     "metadata": {},
     "output_type": "execute_result"
    }
   ],
   "source": [
    "# Podemos acceder al ultimo índice con -1\n",
    "fruta[-1]"
   ]
  },
  {
   "cell_type": "code",
   "execution_count": 13,
   "metadata": {},
   "outputs": [
    {
     "name": "stdout",
     "output_type": "stream",
     "text": [
      "a n a z\n"
     ]
    }
   ],
   "source": [
    "# Podemos seguir accediendo a todos los numero desde fin a principio con -1, -2, -3, etc...\n",
    "print(fruta[-1], fruta[-2], fruta[-3], fruta[-4])"
   ]
  },
  {
   "cell_type": "code",
   "execution_count": 16,
   "metadata": {},
   "outputs": [
    {
     "name": "stdout",
     "output_type": "stream",
     "text": [
      "-1 => a\n",
      "-2 => n\n",
      "-3 => a\n",
      "-4 => z\n",
      "-5 => n\n",
      "-6 => a\n",
      "-7 => m\n"
     ]
    }
   ],
   "source": [
    "posicion = -1\n",
    "for letra in fruta[::-1]:\n",
    "    print(f'{posicion} => {letra}')\n",
    "    posicion -= 1"
   ]
  },
  {
   "cell_type": "markdown",
   "metadata": {},
   "source": [
    "### Segmentar"
   ]
  },
  {
   "cell_type": "markdown",
   "metadata": {},
   "source": [
    "Supongamos que necesitas solamente las tres primeras letras de un string. Podemos acceder cada caracter por indice y concatenarlos."
   ]
  },
  {
   "cell_type": "code",
   "execution_count": 18,
   "metadata": {},
   "outputs": [
    {
     "data": {
      "text/plain": [
       "'man'"
      ]
     },
     "execution_count": 18,
     "metadata": {},
     "output_type": "execute_result"
    }
   ],
   "source": [
    "tres_primeras = fruta[0] + fruta[1] + fruta [2]\n",
    "tres_primeras"
   ]
  },
  {
   "cell_type": "markdown",
   "metadata": {},
   "source": [
    "Si necesitamos mas caracteres, estamos claro que hacer esto por cada uno de ellos es algo manual, repetitivo y tedioso. Debe existir una mejor manera de hacerlo, cierto? Para extraer una porcion o segmento de un string, a lo cual se le conoce como un **substring**, debemos insertar un colon entre los dos indices adentro de una corcheta. Este metodo de extraer un segmento de un string se le llama **slicing** (acción de cortar en pedazos)."
   ]
  },
  {
   "cell_type": "code",
   "execution_count": 19,
   "metadata": {},
   "outputs": [
    {
     "data": {
      "text/plain": [
       "'man'"
      ]
     },
     "execution_count": 19,
     "metadata": {},
     "output_type": "execute_result"
    }
   ],
   "source": [
    "# Podemos extraer una seccion de la secuencia, de un indice al otro (esto se llama slicing o slice)\n",
    "fruta[0:3]  # comenzamos en 0 y paramos justo antes de 3"
   ]
  },
  {
   "cell_type": "code",
   "execution_count": 17,
   "metadata": {},
   "outputs": [
    {
     "name": "stdout",
     "output_type": "stream",
     "text": [
      "0 m\n",
      "1 a\n",
      "2 n\n",
      "3 z\n",
      "4 a\n",
      "5 n\n",
      "6 a\n"
     ]
    }
   ],
   "source": [
    "for indice, letra in enumerate(fruta):\n",
    "    print(indice, letra)"
   ]
  },
  {
   "cell_type": "code",
   "execution_count": 16,
   "metadata": {},
   "outputs": [
    {
     "name": "stdout",
     "output_type": "stream",
     "text": [
      "manza na manzana\n"
     ]
    }
   ],
   "source": [
    "# Si omitimos el primer o segundo numero, Python asume que es uno de los dos extremos\n",
    "print(fruta[:5], fruta[5:], fruta[:])"
   ]
  },
  {
   "cell_type": "code",
   "execution_count": 20,
   "metadata": {},
   "outputs": [
    {
     "data": {
      "text/plain": [
       "''"
      ]
     },
     "execution_count": 20,
     "metadata": {},
     "output_type": "execute_result"
    }
   ],
   "source": [
    "# si intentas cortar un segmento que no existe\n",
    "fruta[7:9]"
   ]
  },
  {
   "cell_type": "code",
   "execution_count": 22,
   "metadata": {},
   "outputs": [
    {
     "data": {
      "text/plain": [
       "'anzan'"
      ]
     },
     "execution_count": 22,
     "metadata": {},
     "output_type": "execute_result"
    }
   ],
   "source": [
    "# tambien podemos usar los numeros negativos \n",
    "fruta[-6:-1]"
   ]
  },
  {
   "cell_type": "code",
   "execution_count": 23,
   "metadata": {},
   "outputs": [
    {
     "data": {
      "text/plain": [
       "''"
      ]
     },
     "execution_count": 23,
     "metadata": {},
     "output_type": "execute_result"
    }
   ],
   "source": [
    "# no podemos cortar de derecha a izquierda\n",
    "fruta[-6:0]"
   ]
  },
  {
   "cell_type": "code",
   "execution_count": 17,
   "metadata": {},
   "outputs": [
    {
     "ename": "TypeError",
     "evalue": "'str' object does not support item assignment",
     "output_type": "error",
     "traceback": [
      "\u001b[0;31m---------------------------------------------------------------------------\u001b[0m",
      "\u001b[0;31mTypeError\u001b[0m                                 Traceback (most recent call last)",
      "\u001b[0;32m<ipython-input-17-6ad05f9d00ce>\u001b[0m in \u001b[0;36m<module>\u001b[0;34m\u001b[0m\n\u001b[1;32m      1\u001b[0m \u001b[0;31m# Strings son inmutables, por lo que no se puede cambiar un pedazo del mismo\u001b[0m\u001b[0;34m\u001b[0m\u001b[0;34m\u001b[0m\u001b[0;34m\u001b[0m\u001b[0m\n\u001b[0;32m----> 2\u001b[0;31m \u001b[0mfruta\u001b[0m\u001b[0;34m[\u001b[0m\u001b[0;36m0\u001b[0m\u001b[0;34m]\u001b[0m \u001b[0;34m=\u001b[0m \u001b[0;34m'l'\u001b[0m\u001b[0;34m\u001b[0m\u001b[0;34m\u001b[0m\u001b[0m\n\u001b[0m",
      "\u001b[0;31mTypeError\u001b[0m: 'str' object does not support item assignment"
     ]
    }
   ],
   "source": [
    "# Strings son inmutables, por lo que no se puede cambiar un pedazo del mismo\n",
    "fruta[0] = 'l'"
   ]
  },
  {
   "cell_type": "code",
   "execution_count": 18,
   "metadata": {},
   "outputs": [
    {
     "name": "stdout",
     "output_type": "stream",
     "text": [
      "lanza\n"
     ]
    }
   ],
   "source": [
    "# Para poder hacerlo, debemos crear un nuevo string\n",
    "nuevo = 'l' + fruta[1:5]\n",
    "print(nuevo)"
   ]
  },
  {
   "cell_type": "markdown",
   "metadata": {},
   "source": [
    "Ejercicios\n",
    "1. Crea un nuevo string e imprime el numero de caracteres\n",
    "2. Crea dos strings, concatenalos e imprime la combinacion de los dos\n",
    "3. Crea dos variables con strings e imprime uno depues de otro con un espacio en el medio\n",
    "4. Imprime la palabra \"riqui\" utilizando slicing sobre la palabra \"Chiriqui\""
   ]
  },
  {
   "cell_type": "markdown",
   "metadata": {},
   "source": [
    "## Metodos para la Manipulación de Strings"
   ]
  },
  {
   "cell_type": "markdown",
   "metadata": {},
   "source": [
    "Strings vienen con funciones especiales llamadas **string methods** o metodos de strings, que se utilizan para trabajar y manipular strings. Existen muchos metodos disponibles, sin embargo, nos enfocaremos en los mas populares.\n",
    "\n",
    "En esta sección aprenderemos a:\n",
    "* Convertir un string en mayuscula o minuscula\n",
    "* Eliminar espacios en un string\n",
    "* Determinar si un string empieza o termina con un ciertos caracteres"
   ]
  },
  {
   "cell_type": "markdown",
   "metadata": {},
   "source": [
    "### Mayusculas o minusculas"
   ]
  },
  {
   "cell_type": "markdown",
   "metadata": {},
   "source": [
    "Para convertir todos los caracteres de un string en minusculas, podemos utilizar el metodo `.lower()`. Se utiliza agregando `.lower()` al final del string."
   ]
  },
  {
   "cell_type": "code",
   "execution_count": 24,
   "metadata": {},
   "outputs": [
    {
     "data": {
      "text/plain": [
       "'adriaan beiertz'"
      ]
     },
     "execution_count": 24,
     "metadata": {},
     "output_type": "execute_result"
    }
   ],
   "source": [
    "'Adriaan Beiertz'.lower()"
   ]
  },
  {
   "cell_type": "markdown",
   "metadata": {},
   "source": [
    "El punto `.` le dice a Python que lo que sigue es un metodo. Los metodos de strings funcionan con variables cuyo valor es un string."
   ]
  },
  {
   "cell_type": "code",
   "execution_count": 25,
   "metadata": {},
   "outputs": [
    {
     "data": {
      "text/plain": [
       "'adriaan beiertz'"
      ]
     },
     "execution_count": 25,
     "metadata": {},
     "output_type": "execute_result"
    }
   ],
   "source": [
    "nombre = 'Adriaan Beiertz'\n",
    "nombre.lower()"
   ]
  },
  {
   "cell_type": "code",
   "execution_count": 26,
   "metadata": {},
   "outputs": [
    {
     "data": {
      "text/plain": [
       "'ADRIAAN BEIERTZ'"
      ]
     },
     "execution_count": 26,
     "metadata": {},
     "output_type": "execute_result"
    }
   ],
   "source": [
    "# podemos convertirlo a mayusculas tambien\n",
    "nombre.upper()"
   ]
  },
  {
   "cell_type": "markdown",
   "metadata": {},
   "source": [
    "Comparemos los metodos `.upper()` y `.lower()` con la función incorporada `len()` que vimos anteriormente. Aparte de que producen resultados distintos, la distincion primordial radica en como son utilizados. La funcion `len()` es una función independiente. Si queremos obtener la longitud de un string, podemos ejecutar la funcion directamente."
   ]
  },
  {
   "cell_type": "code",
   "execution_count": 27,
   "metadata": {},
   "outputs": [
    {
     "data": {
      "text/plain": [
       "15"
      ]
     },
     "execution_count": 27,
     "metadata": {},
     "output_type": "execute_result"
    }
   ],
   "source": [
    "len(nombre)"
   ]
  },
  {
   "cell_type": "code",
   "execution_count": 28,
   "metadata": {},
   "outputs": [
    {
     "data": {
      "text/plain": [
       "'adriaan beiertz'"
      ]
     },
     "execution_count": 28,
     "metadata": {},
     "output_type": "execute_result"
    }
   ],
   "source": [
    "# sin embargo, .lower() o upper() se ejecutan agregandolo a un string\n",
    "nombre.lower()"
   ]
  },
  {
   "cell_type": "markdown",
   "metadata": {},
   "source": [
    "### Eliminando el espacio en un string"
   ]
  },
  {
   "cell_type": "markdown",
   "metadata": {},
   "source": [
    "El espacio es un caracter que se imprime como un espacio en blanco / transparente entre dos caracteres. A veces, necesitamos eliminar el espacio ubicado al principio o al final de un string. Esto es util cuando trabajamos con datos de entrada del usuario, donde los espacios adicionales se pudieron haber introducido por accidente.\n",
    "\n",
    "Existen tres metodos de string para eliminar espacios en los mismos:\n",
    "* `.rstrip()` => Right Strip. Elimina espacio ubicado a la derecha del string.\n",
    "* `.lstrip()` => Left Strip. Elimina espacio ubicado a la izquierda del string.\n",
    "* `.strip()` => Strip. Elimina espacio en ambos lados del string"
   ]
  },
  {
   "cell_type": "code",
   "execution_count": 36,
   "metadata": {},
   "outputs": [],
   "source": [
    "oracion = 'Tengo espacios a mi derecha.       '"
   ]
  },
  {
   "cell_type": "code",
   "execution_count": 37,
   "metadata": {},
   "outputs": [
    {
     "data": {
      "text/plain": [
       "'Ya no Tengo espacios a mi derecha.'"
      ]
     },
     "execution_count": 37,
     "metadata": {},
     "output_type": "execute_result"
    }
   ],
   "source": [
    "negacion = 'Ya no'\n",
    "negacion + ' ' + oracion.rstrip()"
   ]
  },
  {
   "cell_type": "code",
   "execution_count": 38,
   "metadata": {},
   "outputs": [],
   "source": [
    "oracion = '    Tengo espacios a mi izquierda.'"
   ]
  },
  {
   "cell_type": "code",
   "execution_count": 39,
   "metadata": {},
   "outputs": [
    {
     "data": {
      "text/plain": [
       "'Ya no Tengo espacios a mi izquierda.'"
      ]
     },
     "execution_count": 39,
     "metadata": {},
     "output_type": "execute_result"
    }
   ],
   "source": [
    "negacion + ' ' + oracion.lstrip()"
   ]
  },
  {
   "cell_type": "code",
   "execution_count": 40,
   "metadata": {},
   "outputs": [
    {
     "data": {
      "text/plain": [
       "'Ya no Tengo espacios en ambos lados'"
      ]
     },
     "execution_count": 40,
     "metadata": {},
     "output_type": "execute_result"
    }
   ],
   "source": [
    "oracion = '   Tengo espacios en ambos lados   '\n",
    "negacion + ' ' + oracion.strip()"
   ]
  },
  {
   "cell_type": "markdown",
   "metadata": {},
   "source": [
    "Es importante destacar que ninguno de los metodos elimina los espacios en el medio."
   ]
  },
  {
   "cell_type": "markdown",
   "metadata": {},
   "source": [
    "### Determina si un string empieza o termina con un string particular\n",
    "\n",
    "Cuando trabajamos con texto, a veces necesitamos determinar si un string empieza o termina con ciertos caracteres. Podemos utilizar dos metodos para resolver este problema: `.startswith()` y `.endswith()`."
   ]
  },
  {
   "cell_type": "code",
   "execution_count": 41,
   "metadata": {},
   "outputs": [
    {
     "data": {
      "text/plain": [
       "False"
      ]
     },
     "execution_count": 41,
     "metadata": {},
     "output_type": "execute_result"
    }
   ],
   "source": [
    "pais = 'Panamá'\n",
    "pais.startswith('pa')  # False"
   ]
  },
  {
   "cell_type": "code",
   "execution_count": 42,
   "metadata": {},
   "outputs": [
    {
     "data": {
      "text/plain": [
       "True"
      ]
     },
     "execution_count": 42,
     "metadata": {},
     "output_type": "execute_result"
    }
   ],
   "source": [
    "pais.startswith('Pa')"
   ]
  },
  {
   "cell_type": "code",
   "execution_count": 43,
   "metadata": {},
   "outputs": [
    {
     "data": {
      "text/plain": [
       "False"
      ]
     },
     "execution_count": 43,
     "metadata": {},
     "output_type": "execute_result"
    }
   ],
   "source": [
    "pais.endswith('ma')"
   ]
  },
  {
   "cell_type": "code",
   "execution_count": 44,
   "metadata": {},
   "outputs": [
    {
     "data": {
      "text/plain": [
       "True"
      ]
     },
     "execution_count": 44,
     "metadata": {},
     "output_type": "execute_result"
    }
   ],
   "source": [
    "pais.endswith('má')"
   ]
  },
  {
   "cell_type": "markdown",
   "metadata": {},
   "source": [
    "### Metodos de Strings e Inmutabilidad\n",
    "\n",
    "Recordemos que strings son inmutables, toda vez que no pueden ser modificados una vez hayan sido creados. La mayoria de los metodos que modifican un string, como `.upper()` o `.lower()`, en realidad retornan copias del string original con las modificaciones apropiadas. "
   ]
  },
  {
   "cell_type": "code",
   "execution_count": 45,
   "metadata": {},
   "outputs": [],
   "source": [
    "nombre = 'Adriaan'"
   ]
  },
  {
   "cell_type": "code",
   "execution_count": 46,
   "metadata": {},
   "outputs": [
    {
     "data": {
      "text/plain": [
       "'ADRIAAN'"
      ]
     },
     "execution_count": 46,
     "metadata": {},
     "output_type": "execute_result"
    }
   ],
   "source": [
    "nombre.upper()"
   ]
  },
  {
   "cell_type": "code",
   "execution_count": 47,
   "metadata": {},
   "outputs": [
    {
     "data": {
      "text/plain": [
       "'Adriaan'"
      ]
     },
     "execution_count": 47,
     "metadata": {},
     "output_type": "execute_result"
    }
   ],
   "source": [
    "nombre  # nada cambió"
   ]
  },
  {
   "cell_type": "code",
   "execution_count": 48,
   "metadata": {},
   "outputs": [
    {
     "ename": "SyntaxError",
     "evalue": "invalid syntax (<ipython-input-48-63383df29e8b>, line 2)",
     "output_type": "error",
     "traceback": [
      "\u001b[0;36m  File \u001b[0;32m\"<ipython-input-48-63383df29e8b>\"\u001b[0;36m, line \u001b[0;32m2\u001b[0m\n\u001b[0;31m    nombre.  # espera unos momentos y saldrá una lista de metodos disponibles\u001b[0m\n\u001b[0m             ^\u001b[0m\n\u001b[0;31mSyntaxError\u001b[0m\u001b[0;31m:\u001b[0m invalid syntax\n"
     ]
    }
   ],
   "source": [
    "# puedes descubrir metodos adicionales\n",
    "nombre.  # espera unos momentos o presiona TAB y saldrá una lista de metodos disponibles"
   ]
  },
  {
   "cell_type": "code",
   "execution_count": null,
   "metadata": {},
   "outputs": [],
   "source": [
    "nombre.u  # presiona TAB para que el metodo se auto complete"
   ]
  },
  {
   "cell_type": "code",
   "execution_count": 54,
   "metadata": {},
   "outputs": [
    {
     "name": "stdout",
     "output_type": "stream",
     "text": [
      "capitalize\n",
      "casefold\n",
      "center\n",
      "count\n",
      "encode\n",
      "endswith\n",
      "expandtabs\n",
      "find\n",
      "format\n",
      "format_map\n",
      "index\n",
      "isalnum\n",
      "isalpha\n",
      "isascii\n",
      "isdecimal\n",
      "isdigit\n",
      "isidentifier\n",
      "islower\n",
      "isnumeric\n",
      "isprintable\n",
      "isspace\n",
      "istitle\n",
      "isupper\n",
      "join\n",
      "ljust\n",
      "lower\n",
      "lstrip\n",
      "maketrans\n",
      "partition\n",
      "replace\n",
      "rfind\n",
      "rindex\n",
      "rjust\n",
      "rpartition\n",
      "rsplit\n",
      "rstrip\n",
      "split\n",
      "splitlines\n",
      "startswith\n",
      "strip\n",
      "swapcase\n",
      "title\n",
      "translate\n",
      "upper\n",
      "zfill\n"
     ]
    }
   ],
   "source": [
    "for metodo in dir(nombre):\n",
    "    if not metodo.startswith('_'):\n",
    "        print(metodo)"
   ]
  },
  {
   "cell_type": "code",
   "execution_count": null,
   "metadata": {},
   "outputs": [],
   "source": [
    "# tambien puedes pedir ayuda\n",
    "help(str)"
   ]
  },
  {
   "cell_type": "markdown",
   "metadata": {},
   "source": [
    "Ejercicios:\n",
    "1. Escribe un script the convierte algunas palabras a letra minuscula\n",
    "2. Repite el ejercicio anterior pero a letras mayusculas.\n",
    "3. Escribe un script que elimina el espacio a la izquierda de una palabra\n",
    "4. Escribe un script que elimina el espacio a la derecha de una palabra\n",
    "5. Escribe un script que elimina el espacio en ambos lados de la palabra\n",
    "6. Escribe un script que diga si una palabra empieza con un determinado string"
   ]
  },
  {
   "cell_type": "markdown",
   "metadata": {},
   "source": [
    "## Interactuando con Dato de Entrada del Usuario"
   ]
  },
  {
   "cell_type": "markdown",
   "metadata": {},
   "source": [
    "En esta seccion vamos a aprender como obtener datos de entrada del usuario con la funcion incorporada `input()`. Vamos a escribir un programa que pregunta por dato de entrada de usuario y luego imprime el texto en mayuscula. "
   ]
  },
  {
   "cell_type": "code",
   "execution_count": 56,
   "metadata": {},
   "outputs": [
    {
     "name": "stdout",
     "output_type": "stream",
     "text": [
      "Hola, como estas?\n",
      "Bien\n",
      "Dijiste Bien\n"
     ]
    }
   ],
   "source": [
    "texto = 'Hola, como estas?\\n'\n",
    "dato_de_usuario = input(texto)\n",
    "print('Dijiste:', dato_de_usuario)"
   ]
  },
  {
   "cell_type": "code",
   "execution_count": 57,
   "metadata": {},
   "outputs": [
    {
     "name": "stdout",
     "output_type": "stream",
     "text": [
      "Que deberia gritar?Hola\n",
      "Bueno, si insistes... HOLA\n"
     ]
    }
   ],
   "source": [
    "# Combinemos el metodo input() con el metodo de string upper()\n",
    "respuesta = input('Que deberia gritar?\\n')\n",
    "respuesta = respuesta.upper()\n",
    "print('Bueno, si insistes...', respuesta)"
   ]
  },
  {
   "cell_type": "markdown",
   "metadata": {},
   "source": [
    "## Ejercicios\n",
    "1. Toma datos de entrada del usuario e imprimelo\n",
    "2. Toma datos de entrada del usuario y retorna una version del string con todas las letras mayusculas.\n",
    "3. Toma datos de entrada del usuario y retorna una version del string con la primera letra mayuscula."
   ]
  },
  {
   "cell_type": "markdown",
   "metadata": {},
   "source": [
    "## Reto: Manipulacion del Dato de Entrada del Usuario"
   ]
  },
  {
   "cell_type": "markdown",
   "metadata": {},
   "source": [
    "Escribe un script llamado `primera_letra.py` que le pide al usuario su contraseña. El programa deberia:\n",
    "* convertir la primera letra del dato de entrada en mayuscula\n",
    "* imprimir \"La primera letra que ingresaste fue:\" seguido por la letra"
   ]
  },
  {
   "cell_type": "markdown",
   "metadata": {},
   "source": [
    "## Trabajando con Strings y Numeros\n",
    "\n",
    "Cuando obtenemos datos de entrada del usuario utilizando la funcion `input()`, el resultado siempre es un string. Sin embargo, existen otras veces cuando el dato de entrada contiene numeros en los cuales se le debe hacer algunas operaciones / calculaciones.\n",
    "\n",
    "En esta seccion aprenderemos a trabajar con strings de numeros. Vamos a ver como trabajan los operadores aritmeticos en strings y como pueden llevarnos a algunos resultados sorprendentes. Tambien aprenderemos como convertir entre strings y numeros."
   ]
  },
  {
   "cell_type": "markdown",
   "metadata": {},
   "source": [
    "### Strings y Operadores Aritmeticos"
   ]
  },
  {
   "cell_type": "markdown",
   "metadata": {},
   "source": [
    "Los strings pueden tener una gran variedad de caracteres, incluyendo numeros. Sin embargo, no confundamos numeros en un string con umeros actuales."
   ]
  },
  {
   "cell_type": "code",
   "execution_count": 58,
   "metadata": {},
   "outputs": [],
   "source": [
    "num = '2'"
   ]
  },
  {
   "cell_type": "code",
   "execution_count": 59,
   "metadata": {},
   "outputs": [
    {
     "data": {
      "text/plain": [
       "'22'"
      ]
     },
     "execution_count": 59,
     "metadata": {},
     "output_type": "execute_result"
    }
   ],
   "source": [
    "num + num  # cual será el resultado de esta operación?"
   ]
  },
  {
   "cell_type": "markdown",
   "metadata": {},
   "source": [
    "El operador aritmeticos hace una concatenación de ambos strings. Asimismo, strings pueden ser *multiplicados* por un numero siempre y cuando ese numero sea un numero entero."
   ]
  },
  {
   "cell_type": "code",
   "execution_count": 60,
   "metadata": {},
   "outputs": [
    {
     "data": {
      "text/plain": [
       "'222'"
      ]
     },
     "execution_count": 60,
     "metadata": {},
     "output_type": "execute_result"
    }
   ],
   "source": [
    "num * 3  # cual será el resultado?"
   ]
  },
  {
   "cell_type": "code",
   "execution_count": 61,
   "metadata": {},
   "outputs": [
    {
     "ename": "TypeError",
     "evalue": "can't multiply sequence by non-int of type 'str'",
     "output_type": "error",
     "traceback": [
      "\u001b[0;31m---------------------------------------------------------------------------\u001b[0m",
      "\u001b[0;31mTypeError\u001b[0m                                 Traceback (most recent call last)",
      "\u001b[0;32m<ipython-input-61-ae501cc910b0>\u001b[0m in \u001b[0;36m<module>\u001b[0;34m\u001b[0m\n\u001b[0;32m----> 1\u001b[0;31m \u001b[0;34m'2'\u001b[0m \u001b[0;34m*\u001b[0m \u001b[0;34m'3'\u001b[0m  \u001b[0;31m# cual será el resultado?\u001b[0m\u001b[0;34m\u001b[0m\u001b[0;34m\u001b[0m\u001b[0m\n\u001b[0m",
      "\u001b[0;31mTypeError\u001b[0m: can't multiply sequence by non-int of type 'str'"
     ]
    }
   ],
   "source": [
    "'2' * '3'  # cual será el resultado?"
   ]
  },
  {
   "cell_type": "markdown",
   "metadata": {},
   "source": [
    "Python eleva un error de `TypeError` toda vez que no se puede multiplicar una secuencia por algo que no se aun numero entero de tipo integer o `int`."
   ]
  },
  {
   "cell_type": "markdown",
   "metadata": {},
   "source": [
    "Una secuencia es un objeto que permite acceder sus elementos por indice. Por tanto, strings son secuencias. Mas adelante veremos otro tipo de secuencias."
   ]
  },
  {
   "cell_type": "code",
   "execution_count": 62,
   "metadata": {},
   "outputs": [
    {
     "data": {
      "text/plain": [
       "int"
      ]
     },
     "execution_count": 62,
     "metadata": {},
     "output_type": "execute_result"
    }
   ],
   "source": [
    "type(3)"
   ]
  },
  {
   "cell_type": "code",
   "execution_count": 63,
   "metadata": {},
   "outputs": [
    {
     "ename": "TypeError",
     "evalue": "can only concatenate str (not \"int\") to str",
     "output_type": "error",
     "traceback": [
      "\u001b[0;31m---------------------------------------------------------------------------\u001b[0m",
      "\u001b[0;31mTypeError\u001b[0m                                 Traceback (most recent call last)",
      "\u001b[0;32m<ipython-input-63-b91289f03597>\u001b[0m in \u001b[0;36m<module>\u001b[0;34m\u001b[0m\n\u001b[1;32m      1\u001b[0m \u001b[0;31m# que sucede si agregamos un string con un numero?\u001b[0m\u001b[0;34m\u001b[0m\u001b[0;34m\u001b[0m\u001b[0;34m\u001b[0m\u001b[0m\n\u001b[0;32m----> 2\u001b[0;31m \u001b[0;34m'3'\u001b[0m \u001b[0;34m+\u001b[0m \u001b[0;36m3\u001b[0m\u001b[0;34m\u001b[0m\u001b[0;34m\u001b[0m\u001b[0m\n\u001b[0m",
      "\u001b[0;31mTypeError\u001b[0m: can only concatenate str (not \"int\") to str"
     ]
    }
   ],
   "source": [
    "# que sucede si agregamos un string con un numero?\n",
    "'3' + 3"
   ]
  },
  {
   "cell_type": "markdown",
   "metadata": {},
   "source": [
    "Python eleva `TypeError` porque el operador `+` exige que ambos lados de la operación sean de tipo string."
   ]
  },
  {
   "cell_type": "markdown",
   "metadata": {},
   "source": [
    "### Convirtiendo Strings a Numeros"
   ]
  },
  {
   "cell_type": "code",
   "execution_count": 64,
   "metadata": {},
   "outputs": [
    {
     "name": "stdout",
     "output_type": "stream",
     "text": [
      "Ingrese un numero para que sea doblado: 5\n"
     ]
    }
   ],
   "source": [
    "num = input('Ingrese un numero para que sea doblado: ')"
   ]
  },
  {
   "cell_type": "code",
   "execution_count": 66,
   "metadata": {},
   "outputs": [
    {
     "name": "stdout",
     "output_type": "stream",
     "text": [
      "55\n"
     ]
    }
   ],
   "source": [
    "numero_doblado = num * 2\n",
    "print(numero_doblado)  # cual será el resultado?"
   ]
  },
  {
   "cell_type": "markdown",
   "metadata": {},
   "source": [
    "Para poder realizar operaciones aritmeticas en numeros que son strings, primero debemos convertirlos al tipo de dato indicado: numero. Existen dos maneras de lograrlo: `int()` y `float()`. \n",
    "\n",
    "* `int()` representa **integer** o numero entero\n",
    "* `float()` representa **floating-point-number** o numero de punto flotante (con puntos decimales)."
   ]
  },
  {
   "cell_type": "code",
   "execution_count": 67,
   "metadata": {},
   "outputs": [
    {
     "data": {
      "text/plain": [
       "31"
      ]
     },
     "execution_count": 67,
     "metadata": {},
     "output_type": "execute_result"
    }
   ],
   "source": [
    "int('31')"
   ]
  },
  {
   "cell_type": "code",
   "execution_count": 68,
   "metadata": {},
   "outputs": [
    {
     "data": {
      "text/plain": [
       "31.0"
      ]
     },
     "execution_count": 68,
     "metadata": {},
     "output_type": "execute_result"
    }
   ],
   "source": [
    "float('31')  # Python le agrega un punto cero"
   ]
  },
  {
   "cell_type": "markdown",
   "metadata": {},
   "source": [
    "Los numeros de punto flotante siempre tienen por lo menos un punto decimal de precision. Por esta razón, no podemos convertir un string que se ve como un numero de punto flotante a un numero entero de tipo `int` porque perderíamos todo despues del punto decimal."
   ]
  },
  {
   "cell_type": "code",
   "execution_count": 69,
   "metadata": {},
   "outputs": [
    {
     "ename": "ValueError",
     "evalue": "invalid literal for int() with base 10: '31.0'",
     "output_type": "error",
     "traceback": [
      "\u001b[0;31m---------------------------------------------------------------------------\u001b[0m",
      "\u001b[0;31mValueError\u001b[0m                                Traceback (most recent call last)",
      "\u001b[0;32m<ipython-input-69-93693ac29684>\u001b[0m in \u001b[0;36m<module>\u001b[0;34m\u001b[0m\n\u001b[0;32m----> 1\u001b[0;31m \u001b[0mint\u001b[0m\u001b[0;34m(\u001b[0m\u001b[0;34m'31.0'\u001b[0m\u001b[0;34m)\u001b[0m\u001b[0;34m\u001b[0m\u001b[0;34m\u001b[0m\u001b[0m\n\u001b[0m",
      "\u001b[0;31mValueError\u001b[0m: invalid literal for int() with base 10: '31.0'"
     ]
    }
   ],
   "source": [
    "int('31.0')"
   ]
  },
  {
   "cell_type": "code",
   "execution_count": 70,
   "metadata": {},
   "outputs": [
    {
     "name": "stdout",
     "output_type": "stream",
     "text": [
      "Ingrese un numero para que sea doblado: 5\n",
      "55\n"
     ]
    }
   ],
   "source": [
    "# volvamos a nuestro programa inicial\n",
    "num = input('Ingrese un numero para que sea doblado: ')\n",
    "numero_doblado = num * 2\n",
    "print(numero_doblado) "
   ]
  },
  {
   "cell_type": "code",
   "execution_count": null,
   "metadata": {},
   "outputs": [],
   "source": [
    "# como podemos arreglar el problema?\n",
    "num = input('Ingrese un numero para que sea doblado: ')\n",
    "numero_doblado = num * 2  # esta linea debe ser modificada\n",
    "print(numero_doblado) "
   ]
  },
  {
   "cell_type": "markdown",
   "metadata": {},
   "source": [
    "### Transformando numeros a strings\n",
    "\n",
    "A veces debemos convertir un numero a un string."
   ]
  },
  {
   "cell_type": "code",
   "execution_count": 71,
   "metadata": {},
   "outputs": [
    {
     "ename": "TypeError",
     "evalue": "can only concatenate str (not \"int\") to str",
     "output_type": "error",
     "traceback": [
      "\u001b[0;31m---------------------------------------------------------------------------\u001b[0m",
      "\u001b[0;31mTypeError\u001b[0m                                 Traceback (most recent call last)",
      "\u001b[0;32m<ipython-input-71-1d6616b11f80>\u001b[0m in \u001b[0;36m<module>\u001b[0;34m\u001b[0m\n\u001b[1;32m      1\u001b[0m \u001b[0mnum_tortillas\u001b[0m \u001b[0;34m=\u001b[0m \u001b[0;36m5\u001b[0m\u001b[0;34m\u001b[0m\u001b[0;34m\u001b[0m\u001b[0m\n\u001b[0;32m----> 2\u001b[0;31m \u001b[0;34m'Me voy a comer '\u001b[0m \u001b[0;34m+\u001b[0m \u001b[0mnum_tortillas\u001b[0m \u001b[0;34m+\u001b[0m \u001b[0;34m'tortillas!'\u001b[0m\u001b[0;34m\u001b[0m\u001b[0;34m\u001b[0m\u001b[0m\n\u001b[0m",
      "\u001b[0;31mTypeError\u001b[0m: can only concatenate str (not \"int\") to str"
     ]
    }
   ],
   "source": [
    "num_tortillas = 5\n",
    "'Me voy a comer ' + num_tortillas + 'tortillas!'"
   ]
  },
  {
   "cell_type": "code",
   "execution_count": 73,
   "metadata": {},
   "outputs": [
    {
     "data": {
      "text/plain": [
       "'Me voy a comer 5 tortillas!'"
      ]
     },
     "execution_count": 73,
     "metadata": {},
     "output_type": "execute_result"
    }
   ],
   "source": [
    "# tenemos que convertir el numero a un string utilizando str()\n",
    "num_tortillas = 5\n",
    "'Me voy a comer ' + str(num_tortillas) + ' tortillas!'"
   ]
  },
  {
   "cell_type": "code",
   "execution_count": 75,
   "metadata": {},
   "outputs": [
    {
     "data": {
      "text/plain": [
       "'Nada mas quedan 2 tortillas!'"
      ]
     },
     "execution_count": 75,
     "metadata": {},
     "output_type": "execute_result"
    }
   ],
   "source": [
    "# tambien podemos realizar operaciones aritmeticas adentro de str()\n",
    "num_tortillas = 5\n",
    "tortillas_comidas = 3\n",
    "'Nada mas quedan ' + str(num_tortillas - tortillas_comidas) + ' tortillas!'"
   ]
  },
  {
   "cell_type": "code",
   "execution_count": 76,
   "metadata": {},
   "outputs": [
    {
     "data": {
      "text/plain": [
       "'<built-in function print>'"
      ]
     },
     "execution_count": 76,
     "metadata": {},
     "output_type": "execute_result"
    }
   ],
   "source": [
    "# podemos pasarle todo tipo de objetos a str()\n",
    "str(print)"
   ]
  },
  {
   "cell_type": "code",
   "execution_count": 77,
   "metadata": {},
   "outputs": [
    {
     "data": {
      "text/plain": [
       "\"<class 'int'>\""
      ]
     },
     "execution_count": 77,
     "metadata": {},
     "output_type": "execute_result"
    }
   ],
   "source": [
    "str(int)"
   ]
  },
  {
   "cell_type": "code",
   "execution_count": 78,
   "metadata": {},
   "outputs": [
    {
     "data": {
      "text/plain": [
       "\"<class 'float'>\""
      ]
     },
     "execution_count": 78,
     "metadata": {},
     "output_type": "execute_result"
    }
   ],
   "source": [
    "str(float)"
   ]
  },
  {
   "cell_type": "markdown",
   "metadata": {},
   "source": [
    "Ejercicios:\n",
    "1. Crea un string que contiene un numero, luego convierte ese numero a un `int()`. Comprueba que el numero es realmente un numero multiplicandolo por otro numero.\n",
    "2. Repite el ejercicio anterior utilizando un numero de punto flotante `float()`\n",
    "3. Crear un string y un integer, luego imprimeles con `print()` utilizando le funcion `str()`\n",
    "4. Escribe un script que obtiene 2 numeros del usuario utilizando `input()` 2 veces, multiplica los numeros e imprime el resultado."
   ]
  },
  {
   "cell_type": "markdown",
   "metadata": {},
   "source": [
    "## Agilicemos las declaraciones `print()`"
   ]
  },
  {
   "cell_type": "markdown",
   "metadata": {},
   "source": [
    "Supongamos que tenemos un string con `nombre = 'Monstro'` y dos integers `cabezas = 2`, `brazos = 3`. Queremos que se impriman en la siguiente linea `Monstro tiene 2 cabezas y 3 brazos`. A esto lo llamamos **string interpolation** o **interpolacion de strings**\n",
    "\n",
    "Ya hemos visto dos formas de hacerlo:\n",
    "1. Utilizando comas para separar cada string en un `print()`\n",
    "2. Utilizando el operador `+` para concatenar strings"
   ]
  },
  {
   "cell_type": "code",
   "execution_count": 86,
   "metadata": {},
   "outputs": [],
   "source": [
    "nombre = 'Monstro'\n",
    "cabezas = '2'\n",
    "brazos = '3'"
   ]
  },
  {
   "cell_type": "code",
   "execution_count": 80,
   "metadata": {},
   "outputs": [
    {
     "name": "stdout",
     "output_type": "stream",
     "text": [
      "Monstro tiene 2 cabezas y 3 brazos\n"
     ]
    }
   ],
   "source": [
    "print(nombre, 'tiene', str(cabezas), 'cabezas y', str(brazos), 'brazos')"
   ]
  },
  {
   "cell_type": "code",
   "execution_count": 81,
   "metadata": {},
   "outputs": [
    {
     "name": "stdout",
     "output_type": "stream",
     "text": [
      "Monstro tiene 2 cabezas y 3 brazos\n"
     ]
    }
   ],
   "source": [
    "print(nombre + ' tiene ' + str(cabezas) + ' cabezas y ' + str(brazos) + ' brazos')"
   ]
  },
  {
   "cell_type": "markdown",
   "metadata": {},
   "source": [
    "Ambas tecnicas producen codigo que es dificil de leer, toda vez que el lector debe acordarse que va adentro o afuera de comillas. Afortunadamente, existe una tercer forma de combinar strings: **formatted string literals** o **literales de cadena de caracteres con formato**, conocidos como **f-strings**."
   ]
  },
  {
   "cell_type": "code",
   "execution_count": 82,
   "metadata": {},
   "outputs": [
    {
     "data": {
      "text/plain": [
       "'Monstro tiene 2 cabezas y 3 brazos'"
      ]
     },
     "execution_count": 82,
     "metadata": {},
     "output_type": "execute_result"
    }
   ],
   "source": [
    "f'{nombre} tiene {cabezas} cabezas y {brazos} brazos'"
   ]
  },
  {
   "cell_type": "code",
   "execution_count": 83,
   "metadata": {},
   "outputs": [
    {
     "name": "stdout",
     "output_type": "stream",
     "text": [
      "Monstro tiene 2 cabezas y 3 brazos\n"
     ]
    }
   ],
   "source": [
    "print(f'{nombre} tiene {cabezas} cabezas y {brazos} brazos')"
   ]
  },
  {
   "cell_type": "markdown",
   "metadata": {},
   "source": [
    "Importante destacar dos cosas:\n",
    "* El literal de cadena de caracteres empieza con la letra `f` antes de la apertura de citas\n",
    "* Los nombres de variables estan rodeados por llaves `{}` y son remplazados por su valor correspondiente sin la necesidad de utilizar `str()`"
   ]
  },
  {
   "cell_type": "code",
   "execution_count": 85,
   "metadata": {},
   "outputs": [
    {
     "data": {
      "text/plain": [
       "'3 por 4 es igual a 12'"
      ]
     },
     "execution_count": 85,
     "metadata": {},
     "output_type": "execute_result"
    }
   ],
   "source": [
    "# tambien podemos insertar expresiones entre las llaves\n",
    "x = 3\n",
    "y = 4\n",
    "f'{x} por {y} es igual a {x * y}'"
   ]
  },
  {
   "cell_type": "markdown",
   "metadata": {},
   "source": [
    "Los **f-strings** pueden ser utilizados desde la version 3.6 de Python. En versiones anteriores, se utilizaba el metodo `.format()` para obtener los mismos resultados."
   ]
  },
  {
   "cell_type": "code",
   "execution_count": 87,
   "metadata": {},
   "outputs": [
    {
     "data": {
      "text/plain": [
       "'Monstro tiene 2 cabezas y 3 brazos'"
      ]
     },
     "execution_count": 87,
     "metadata": {},
     "output_type": "execute_result"
    }
   ],
   "source": [
    "'{} tiene {} cabezas y {} brazos'.format(nombre, cabezas, brazos)"
   ]
  },
  {
   "cell_type": "markdown",
   "metadata": {},
   "source": [
    "### Ejercicios\n"
   ]
  },
  {
   "cell_type": "markdown",
   "metadata": {},
   "source": [
    "1. Crea un objeto de punto flotante `float` llamado `peso` con un valor de `3.9` y luego crea un objeto de tipo `str` llamado `animal` con un valor `gato`. Utiliza estos objetos para imprimir el siguiente string, utilizando concatenacion: `3.9kg es el peso de un gato dómestico`\n",
    "2. Imprime el mismo string utilizando el metodo `.format()`\n",
    "3. Imprime el mismo string utilizando **f-strings**"
   ]
  }
 ],
 "metadata": {
  "kernelspec": {
   "display_name": "Python 3",
   "language": "python",
   "name": "python3"
  },
  "language_info": {
   "codemirror_mode": {
    "name": "ipython",
    "version": 3
   },
   "file_extension": ".py",
   "mimetype": "text/x-python",
   "name": "python",
   "nbconvert_exporter": "python",
   "pygments_lexer": "ipython3",
   "version": "3.8.1"
  }
 },
 "nbformat": 4,
 "nbformat_minor": 4
}
