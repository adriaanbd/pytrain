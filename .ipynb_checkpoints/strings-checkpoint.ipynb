{
 "cells": [
  {
   "cell_type": "markdown",
   "metadata": {},
   "source": [
    "# Fundamentos: Cadena de Letras (Strings) y Metodos"
   ]
  },
  {
   "cell_type": "markdown",
   "metadata": {},
   "source": [
    "## Que es un string?"
   ]
  },
  {
   "cell_type": "markdown",
   "metadata": {},
   "source": [
    "En el modulo anterior, creamos un string `Hola Mundo` y lo imprimimos en la ventana interactiva utilizando la función `print()`. En este sección vamos a aprender lo que es un string y las distintas maneras de crearlos en Python."
   ]
  },
  {
   "cell_type": "markdown",
   "metadata": {},
   "source": [
    "### El String como Tipo de Dato"
   ]
  },
  {
   "cell_type": "markdown",
   "metadata": {},
   "source": [
    "El string o cadena de caracteres es un tipo de dato fundamental en Python. La frase *tipo de dato* hace referencia al tipo de dato que representa un valor determinado. En ese sentido, los strings son utilizados para representar texto. Hay que destacar que existen otro tipo de datos, como los que representan numeros por ejemplo, lo cual veremos mas adelante.\n",
    "\n",
    "Decimos que es un tipo de dato **fundamental** porque no puede ser descompuesto en valores mas pequeños de otro tipo. No obstante, no todos los tipos de datos son fundamentales. Tambien existen los tipos de datos compuestos, conocidos como estructuras de datos.\n",
    "\n",
    "El string tiene una abreviacion especial en Python: `str`.\n",
    "\n",
    "Utlizemos la función incorporada `type()` para determinar el tipo de dato de un valor."
   ]
  },
  {
   "cell_type": "code",
   "execution_count": 4,
   "metadata": {},
   "outputs": [
    {
     "name": "stdout",
     "output_type": "stream",
     "text": [
      "<class 'str'>\n"
     ]
    }
   ],
   "source": [
    "print(type('Hola Mundo'))"
   ]
  },
  {
   "cell_type": "code",
   "execution_count": 3,
   "metadata": {},
   "outputs": [
    {
     "name": "stdout",
     "output_type": "stream",
     "text": [
      "<class 'str'>\n"
     ]
    }
   ],
   "source": [
    "frase = 'Hola Mundo'\n",
    "print(type(frase))"
   ]
  },
  {
   "cell_type": "code",
   "execution_count": 5,
   "metadata": {},
   "outputs": [
    {
     "data": {
      "text/plain": [
       "str"
      ]
     },
     "execution_count": 5,
     "metadata": {},
     "output_type": "execute_result"
    }
   ],
   "source": [
    "type(frase)"
   ]
  },
  {
   "cell_type": "markdown",
   "metadata": {},
   "source": [
    "Los strings contienen tres propiedades que exploraremos en las próximas secciones:\n",
    "1. Contienen caracteres\n",
    "2. Tienen un tamaño, determinado por el numero de caracteres\n",
    "3. Los caracteres aparecen en una secuencia (cada numero tiene una posición númerica determinada)"
   ]
  },
  {
   "cell_type": "markdown",
   "metadata": {},
   "source": [
    "### String Literals"
   ]
  },
  {
   "cell_type": "markdown",
   "metadata": {},
   "source": [
    "Como ya han podido observar, podemos crear strings al rodearlos por citas sencillas o comillas dobles:\n",
    "\n",
    "```\n",
    "string1 = 'Hola'\n",
    "string2 = \"Mundo\"\n",
    "```\n",
    "\n",
    "Cada vez que creamos un string de esta forma, el string se le llama **string literal** o **literal de cadena de caracteres**. Esto quiere decir que el string esta literalmente escrito en el codigo.\n",
    "\n",
    "Las citas o comillas alrededor de un string son llamados **delimiters** o delimitadores, toda vez que marcan los limites de un string, comunicandole a Python donde empieza y donde termina. Cuando un tipo de citas es utilizada como delimitador, el otro tipo de citas puede ser utilizado dentro del string:\n",
    "\n",
    "```\n",
    "string3 = \"'Hola', dijo Adriaan\"\n",
    "string4 = 'Yo respondi \"Hola\" también'\n",
    "```\n",
    "\n",
    "Como es esto posible? Python lee el primer delimitador, y todos los caracteres despues del mismo son considerados parte del string hasta encontrar el segundo delimitador. Por tanto, no podemos utilizar el mismo delimitador varias veces dentro de un string."
   ]
  },
  {
   "cell_type": "code",
   "execution_count": 6,
   "metadata": {},
   "outputs": [
    {
     "ename": "SyntaxError",
     "evalue": "invalid syntax (<ipython-input-6-2765d32575e3>, line 1)",
     "output_type": "error",
     "traceback": [
      "\u001b[0;36m  File \u001b[0;32m\"<ipython-input-6-2765d32575e3>\"\u001b[0;36m, line \u001b[0;32m1\u001b[0m\n\u001b[0;31m    texto = \"Ella preguntó, \"Qué hora es?\"\"\u001b[0m\n\u001b[0m                             ^\u001b[0m\n\u001b[0;31mSyntaxError\u001b[0m\u001b[0;31m:\u001b[0m invalid syntax\n"
     ]
    }
   ],
   "source": [
    "texto = \"Ella preguntó, \"Qué hora es?\"\"  # Python no sabe como interpretarlo"
   ]
  },
  {
   "cell_type": "markdown",
   "metadata": {},
   "source": [
    "**Consejo**: Apeguense a una forma de escribir un string en un proyecto. Es considerada mala practica escribir strings de las dos formas en el mismo proyecto."
   ]
  },
  {
   "cell_type": "markdown",
   "metadata": {},
   "source": [
    "### La longitud de un string"
   ]
  },
  {
   "cell_type": "markdown",
   "metadata": {},
   "source": [
    "La longitud de un string esta compuesto por el numero de caracteres, incluyendo espacios, contenidos en el mismo. Por ejemplo, el string `abc` tiene una longitud de `3`. Para determinar la longitud de un string, podemos utilizar la funcion incorporada `len()`."
   ]
  },
  {
   "cell_type": "code",
   "execution_count": 7,
   "metadata": {},
   "outputs": [
    {
     "data": {
      "text/plain": [
       "3"
      ]
     },
     "execution_count": 7,
     "metadata": {},
     "output_type": "execute_result"
    }
   ],
   "source": [
    "len('abc')"
   ]
  },
  {
   "cell_type": "code",
   "execution_count": 8,
   "metadata": {},
   "outputs": [
    {
     "data": {
      "text/plain": [
       "3"
      ]
     },
     "execution_count": 8,
     "metadata": {},
     "output_type": "execute_result"
    }
   ],
   "source": [
    "letras = 'abc'\n",
    "len(letras)"
   ]
  },
  {
   "cell_type": "code",
   "execution_count": 10,
   "metadata": {},
   "outputs": [
    {
     "data": {
      "text/plain": [
       "3"
      ]
     },
     "execution_count": 10,
     "metadata": {},
     "output_type": "execute_result"
    }
   ],
   "source": [
    "num_letras = len(letras)\n",
    "num_letras"
   ]
  },
  {
   "cell_type": "markdown",
   "metadata": {},
   "source": [
    "### Strings Multilineales"
   ]
  },
  {
   "cell_type": "markdown",
   "metadata": {},
   "source": [
    "Conforme a la guía oficial de estilo de Python, cada linea de Python puede contener hasta 79 caracteres incluyendo espacios. Sin embargo, muchos programadores piensan que este limite es muy corto y, por tanto, incrementan el limite. \n",
    "\n",
    "A veces tenemos que crear strings muy largos, que se exceden del limite. Para manejar esta limitante, podemos romper el string en varias lineas.\n",
    "\n",
    "Una manera de crear un string multilinear, se hace insertando un `\\` al final de cada linea."
   ]
  },
  {
   "cell_type": "code",
   "execution_count": 13,
   "metadata": {},
   "outputs": [
    {
     "name": "stdout",
     "output_type": "stream",
     "text": [
      "Alcanzamos por fin la victoria en el campo feliz de la unión; con ardientes fulgores de gloria se ilumina la nueva nación.\n"
     ]
    }
   ],
   "source": [
    "parrafo =  \"Alcanzamos por fin la victoria \\\n",
    "en el campo feliz de la unión; \\\n",
    "con ardientes fulgores de gloria \\\n",
    "se ilumina la nueva nación.\"\n",
    "\n",
    "print(parrafo)"
   ]
  },
  {
   "cell_type": "markdown",
   "metadata": {},
   "source": [
    "Observemos:\n",
    "* no tuvimos que insertar una cita al final de cada linea\n",
    "* la impresion del parrafo se refleja en una sola linea"
   ]
  },
  {
   "cell_type": "markdown",
   "metadata": {},
   "source": [
    "Strings multilineales tambien puede ser escritos utilizando triple citas, a fin de conservar los espacios."
   ]
  },
  {
   "cell_type": "code",
   "execution_count": 14,
   "metadata": {},
   "outputs": [
    {
     "name": "stdout",
     "output_type": "stream",
     "text": [
      "Alcanzamos por fin la victoria\n",
      "en el campo feliz de la unión;\n",
      "con ardientes fulgores de gloria\n",
      "se ilumina la nueva nación.\n"
     ]
    }
   ],
   "source": [
    "parrafo =  \"\"\"Alcanzamos por fin la victoria\n",
    "en el campo feliz de la unión;\n",
    "con ardientes fulgores de gloria\n",
    "se ilumina la nueva nación.\"\"\"\n",
    "print(parrafo)"
   ]
  },
  {
   "cell_type": "code",
   "execution_count": 15,
   "metadata": {},
   "outputs": [
    {
     "name": "stdout",
     "output_type": "stream",
     "text": [
      "Alcanzamos por fin la victoria\n",
      "en el campo feliz de la unión;\n",
      "con ardientes fulgores de gloria\n",
      "se ilumina la nueva nación.\n"
     ]
    }
   ],
   "source": [
    "parrafo =  '''Alcanzamos por fin la victoria\n",
    "en el campo feliz de la unión;\n",
    "con ardientes fulgores de gloria\n",
    "se ilumina la nueva nación.'''\n",
    "print(parrafo)"
   ]
  },
  {
   "cell_type": "markdown",
   "metadata": {},
   "source": [
    "### Ejercicios\n",
    "1. Imprime un string que utilize comillas adentro de un string.\n",
    "2. Imprime un string que utiliza una apostrofe adentreo de un string.\n",
    "3. Imprime un string multilinear, que conserve el espacio.\n",
    "4. Imprime un string multilinear pero que no sonserve el espacio."
   ]
  },
  {
   "cell_type": "markdown",
   "metadata": {},
   "source": [
    "## Concatenar, Indexar y Cortar"
   ]
  },
  {
   "cell_type": "markdown",
   "metadata": {},
   "source": [
    "Ahora que sabemos lo que es un string y como declararlo, vamos a explorar algunas cosas que podemos hacer con ellos. En este seccion, aprenderemos tres operaciones básicas:\n",
    "* Concatenación, es decir, la unión de dos strings.\n",
    "* Indexación, es decir, la obtención de un caracter de un string.\n",
    "* Segmentación, es decir, la obtención de varios caracteres de un string."
   ]
  },
  {
   "cell_type": "markdown",
   "metadata": {},
   "source": [
    "### Concatenar"
   ]
  },
  {
   "cell_type": "code",
   "execution_count": 1,
   "metadata": {},
   "outputs": [
    {
     "name": "stdout",
     "output_type": "stream",
     "text": [
      "abracadabra\n"
     ]
    }
   ],
   "source": [
    "# Concatenacion de strings\n",
    "string1 = 'abra'\n",
    "string2 = 'cadabra'\n",
    "magia = string1 + string2\n",
    "print(magia)  # notemos que no hay espacio entre medio"
   ]
  },
  {
   "cell_type": "code",
   "execution_count": 3,
   "metadata": {},
   "outputs": [
    {
     "name": "stdout",
     "output_type": "stream",
     "text": [
      "Adriaan Beiertz\n"
     ]
    }
   ],
   "source": [
    "nombre = 'Adriaan'\n",
    "apellido = 'Beiertz'\n",
    "nombre_completo = nombre + ' ' + apellido\n",
    "print(nombre_completo)"
   ]
  },
  {
   "cell_type": "code",
   "execution_count": null,
   "metadata": {},
   "outputs": [],
   "source": [
    "# Tambien se puede concatenar directamente en el print\n",
    "print('abra' + 'cadabra')"
   ]
  },
  {
   "cell_type": "code",
   "execution_count": 8,
   "metadata": {},
   "outputs": [
    {
     "name": "stdout",
     "output_type": "stream",
     "text": [
      "abra cadabra\n"
     ]
    }
   ],
   "source": [
    "# Podemos imprimir varias palabras a la vez\n",
    "print('abra', 'cadabra')"
   ]
  },
  {
   "cell_type": "markdown",
   "metadata": {},
   "source": [
    "### Indexar"
   ]
  },
  {
   "cell_type": "markdown",
   "metadata": {},
   "source": [
    "Cada caracter en un string tiene un posición numerada llamada un índice. Podemos acceder al caracter en una determinada posición insertando el numero entre corchetes."
   ]
  },
  {
   "cell_type": "code",
   "execution_count": 5,
   "metadata": {},
   "outputs": [
    {
     "name": "stdout",
     "output_type": "stream",
     "text": [
      "n\n"
     ]
    }
   ],
   "source": [
    "# Un string es una secuencia de caracteres; por tanto, podemos acceder a cada caracter de manera individual\n",
    "fruta = 'manzana'\n",
    "print(fruta[2])"
   ]
  },
  {
   "cell_type": "code",
   "execution_count": 6,
   "metadata": {},
   "outputs": [
    {
     "name": "stdout",
     "output_type": "stream",
     "text": [
      "m\n"
     ]
    }
   ],
   "source": [
    "# En Python, se empieza a contar desde cero\n",
    "print(fruta[0])"
   ]
  },
  {
   "cell_type": "code",
   "execution_count": 7,
   "metadata": {},
   "outputs": [
    {
     "name": "stdout",
     "output_type": "stream",
     "text": [
      "0 m\n",
      "1 a\n",
      "2 n\n",
      "3 z\n",
      "4 a\n",
      "5 n\n",
      "6 a\n"
     ]
    }
   ],
   "source": [
    "# El numero que usamos para acceder a un caracter conforme a su posicion se llama indice o index\n",
    "for indice, letra in enumerate(fruta):\n",
    "    print(indice, letra)"
   ]
  },
  {
   "cell_type": "code",
   "execution_count": 8,
   "metadata": {},
   "outputs": [
    {
     "ename": "IndexError",
     "evalue": "string index out of range",
     "output_type": "error",
     "traceback": [
      "\u001b[0;31m---------------------------------------------------------------------------\u001b[0m",
      "\u001b[0;31mIndexError\u001b[0m                                Traceback (most recent call last)",
      "\u001b[0;32m<ipython-input-8-4e4d4d1c1b94>\u001b[0m in \u001b[0;36m<module>\u001b[0;34m\u001b[0m\n\u001b[1;32m      1\u001b[0m \u001b[0;31m# Intentemos obtener el indice 7\u001b[0m\u001b[0;34m\u001b[0m\u001b[0;34m\u001b[0m\u001b[0;34m\u001b[0m\u001b[0m\n\u001b[0;32m----> 2\u001b[0;31m \u001b[0mfruta\u001b[0m\u001b[0;34m[\u001b[0m\u001b[0;36m7\u001b[0m\u001b[0;34m]\u001b[0m\u001b[0;34m\u001b[0m\u001b[0;34m\u001b[0m\u001b[0m\n\u001b[0m",
      "\u001b[0;31mIndexError\u001b[0m: string index out of range"
     ]
    }
   ],
   "source": [
    "# Intentemos obtener el indice 7\n",
    "fruta[7]"
   ]
  },
  {
   "cell_type": "code",
   "execution_count": 9,
   "metadata": {},
   "outputs": [
    {
     "data": {
      "text/plain": [
       "7"
      ]
     },
     "execution_count": 9,
     "metadata": {},
     "output_type": "execute_result"
    }
   ],
   "source": [
    "# El indice mas alto en un string siempre es uno menos que la longitud del mismo\n",
    "len(fruta)"
   ]
  },
  {
   "cell_type": "code",
   "execution_count": 10,
   "metadata": {},
   "outputs": [
    {
     "data": {
      "text/plain": [
       "'a'"
      ]
     },
     "execution_count": 10,
     "metadata": {},
     "output_type": "execute_result"
    }
   ],
   "source": [
    "fruta[6]"
   ]
  },
  {
   "cell_type": "code",
   "execution_count": 11,
   "metadata": {},
   "outputs": [
    {
     "data": {
      "text/plain": [
       "'a'"
      ]
     },
     "execution_count": 11,
     "metadata": {},
     "output_type": "execute_result"
    }
   ],
   "source": [
    "# Podemos acceder al ultimo índice con -1\n",
    "fruta[-1]"
   ]
  },
  {
   "cell_type": "code",
   "execution_count": 13,
   "metadata": {},
   "outputs": [
    {
     "name": "stdout",
     "output_type": "stream",
     "text": [
      "a n a z\n"
     ]
    }
   ],
   "source": [
    "# Podemos seguir accediendo a todos los numero desde fin a principio con -1, -2, -3, etc...\n",
    "print(fruta[-1], fruta[-2], fruta[-3], fruta[-4])"
   ]
  },
  {
   "cell_type": "code",
   "execution_count": 16,
   "metadata": {},
   "outputs": [
    {
     "name": "stdout",
     "output_type": "stream",
     "text": [
      "-1 => a\n",
      "-2 => n\n",
      "-3 => a\n",
      "-4 => z\n",
      "-5 => n\n",
      "-6 => a\n",
      "-7 => m\n"
     ]
    }
   ],
   "source": [
    "posicion = -1\n",
    "for letra in fruta[::-1]:\n",
    "    print(f'{posicion} => {letra}')\n",
    "    posicion -= 1"
   ]
  },
  {
   "cell_type": "markdown",
   "metadata": {},
   "source": [
    "### Segmentar"
   ]
  },
  {
   "cell_type": "markdown",
   "metadata": {},
   "source": [
    "Supongamos que necesitas solamente las tres primeras letras de un string. Podemos acceder cada caracter por indice y concatenarlos."
   ]
  },
  {
   "cell_type": "code",
   "execution_count": 18,
   "metadata": {},
   "outputs": [
    {
     "data": {
      "text/plain": [
       "'man'"
      ]
     },
     "execution_count": 18,
     "metadata": {},
     "output_type": "execute_result"
    }
   ],
   "source": [
    "tres_primeras = fruta[0] + fruta[1] + fruta [2]\n",
    "tres_primeras"
   ]
  },
  {
   "cell_type": "markdown",
   "metadata": {},
   "source": [
    "Si necesitamos mas caracteres, estamos claro que hacer esto por cada uno de ellos es algo manual, repetitivo y tedioso. Debe existir una mejor manera de hacerlo, cierto? Para extraer una porcion o segmento de un string, a lo cual se le conoce como un **substring**, debemos insertar un colon entre los dos indices adentro de una corcheta. Este metodo de extraer un segmento de un string se le llama **slicing** (acción de cortar en pedazos)."
   ]
  },
  {
   "cell_type": "code",
   "execution_count": 19,
   "metadata": {},
   "outputs": [
    {
     "data": {
      "text/plain": [
       "'man'"
      ]
     },
     "execution_count": 19,
     "metadata": {},
     "output_type": "execute_result"
    }
   ],
   "source": [
    "# Podemos extraer una seccion de la secuencia, de un indice al otro (esto se llama slicing o slice)\n",
    "fruta[0:3]  # comenzamos en 0 y paramos justo antes de 3"
   ]
  },
  {
   "cell_type": "code",
   "execution_count": 17,
   "metadata": {},
   "outputs": [
    {
     "name": "stdout",
     "output_type": "stream",
     "text": [
      "0 m\n",
      "1 a\n",
      "2 n\n",
      "3 z\n",
      "4 a\n",
      "5 n\n",
      "6 a\n"
     ]
    }
   ],
   "source": [
    "for indice, letra in enumerate(fruta):\n",
    "    print(indice, letra)"
   ]
  },
  {
   "cell_type": "code",
   "execution_count": 16,
   "metadata": {},
   "outputs": [
    {
     "name": "stdout",
     "output_type": "stream",
     "text": [
      "manza na manzana\n"
     ]
    }
   ],
   "source": [
    "# Si omitimos el primer o segundo numero, Python asume que es uno de los dos extremos\n",
    "print(fruta[:5], fruta[5:], fruta[:])"
   ]
  },
  {
   "cell_type": "code",
   "execution_count": 20,
   "metadata": {},
   "outputs": [
    {
     "data": {
      "text/plain": [
       "''"
      ]
     },
     "execution_count": 20,
     "metadata": {},
     "output_type": "execute_result"
    }
   ],
   "source": [
    "# si intentas cortar un segmento que no existe\n",
    "fruta[7:9]"
   ]
  },
  {
   "cell_type": "code",
   "execution_count": 22,
   "metadata": {},
   "outputs": [
    {
     "data": {
      "text/plain": [
       "'anzan'"
      ]
     },
     "execution_count": 22,
     "metadata": {},
     "output_type": "execute_result"
    }
   ],
   "source": [
    "# tambien podemos usar los numeros negativos \n",
    "fruta[-6:-1]"
   ]
  },
  {
   "cell_type": "code",
   "execution_count": 23,
   "metadata": {},
   "outputs": [
    {
     "data": {
      "text/plain": [
       "''"
      ]
     },
     "execution_count": 23,
     "metadata": {},
     "output_type": "execute_result"
    }
   ],
   "source": [
    "# no podemos cortar de derecha a izquierda\n",
    "fruta[-6:0]"
   ]
  },
  {
   "cell_type": "code",
   "execution_count": 17,
   "metadata": {},
   "outputs": [
    {
     "ename": "TypeError",
     "evalue": "'str' object does not support item assignment",
     "output_type": "error",
     "traceback": [
      "\u001b[0;31m---------------------------------------------------------------------------\u001b[0m",
      "\u001b[0;31mTypeError\u001b[0m                                 Traceback (most recent call last)",
      "\u001b[0;32m<ipython-input-17-6ad05f9d00ce>\u001b[0m in \u001b[0;36m<module>\u001b[0;34m\u001b[0m\n\u001b[1;32m      1\u001b[0m \u001b[0;31m# Strings son inmutables, por lo que no se puede cambiar un pedazo del mismo\u001b[0m\u001b[0;34m\u001b[0m\u001b[0;34m\u001b[0m\u001b[0;34m\u001b[0m\u001b[0m\n\u001b[0;32m----> 2\u001b[0;31m \u001b[0mfruta\u001b[0m\u001b[0;34m[\u001b[0m\u001b[0;36m0\u001b[0m\u001b[0;34m]\u001b[0m \u001b[0;34m=\u001b[0m \u001b[0;34m'l'\u001b[0m\u001b[0;34m\u001b[0m\u001b[0;34m\u001b[0m\u001b[0m\n\u001b[0m",
      "\u001b[0;31mTypeError\u001b[0m: 'str' object does not support item assignment"
     ]
    }
   ],
   "source": [
    "# Strings son inmutables, por lo que no se puede cambiar un pedazo del mismo\n",
    "fruta[0] = 'l'"
   ]
  },
  {
   "cell_type": "code",
   "execution_count": 18,
   "metadata": {},
   "outputs": [
    {
     "name": "stdout",
     "output_type": "stream",
     "text": [
      "lanza\n"
     ]
    }
   ],
   "source": [
    "# Para poder hacerlo, debemos crear un nuevo string\n",
    "nuevo = 'l' + fruta[1:5]\n",
    "print(nuevo)"
   ]
  },
  {
   "cell_type": "markdown",
   "metadata": {},
   "source": [
    "Ejercicios\n",
    "1. Crea un nuevo string e imprime el numero de caracteres\n",
    "2. Crea dos strings, concatenalos e imprime la combinacion de los dos\n",
    "3. Crea dos variables con strings e imprime uno depues de otro con un espacio en el medio\n",
    "4. Imprime la palabra \"riqui\" utilizando slicing sobre la palabra \"Chiriqui\""
   ]
  },
  {
   "cell_type": "markdown",
   "metadata": {},
   "source": [
    "## Metodos para la Manipulación de Strings"
   ]
  },
  {
   "cell_type": "markdown",
   "metadata": {},
   "source": [
    "Strings vienen con funciones especiales llamadas **string methods** o metodos de strings, que se utilizan para trabajar y manipular strings. Existen muchos metodos disponibles, sin embargo, nos enfocaremos en los mas populares.\n",
    "\n",
    "En esta sección aprenderemos a:\n",
    "* Convertir un string en mayuscula o minuscula\n",
    "* Eliminar espacios en un string\n",
    "* Determinar si un string empieza o termina con un ciertos caracteres"
   ]
  },
  {
   "cell_type": "markdown",
   "metadata": {},
   "source": [
    "### Mayusculas o minusculas"
   ]
  },
  {
   "cell_type": "markdown",
   "metadata": {},
   "source": [
    "Para convertir todos los caracteres de un string en minusculas, podemos utilizar el metodo `.lower()`. Se utiliza agregando `.lower()` al final del string."
   ]
  },
  {
   "cell_type": "code",
   "execution_count": 24,
   "metadata": {},
   "outputs": [
    {
     "data": {
      "text/plain": [
       "'adriaan beiertz'"
      ]
     },
     "execution_count": 24,
     "metadata": {},
     "output_type": "execute_result"
    }
   ],
   "source": [
    "'Adriaan Beiertz'.lower()"
   ]
  },
  {
   "cell_type": "markdown",
   "metadata": {},
   "source": [
    "El punto `.` le dice a Python que lo que sigue es un metodo. Los metodos de strings funcionan con variables cuyo valor es un string."
   ]
  },
  {
   "cell_type": "code",
   "execution_count": 25,
   "metadata": {},
   "outputs": [
    {
     "data": {
      "text/plain": [
       "'adriaan beiertz'"
      ]
     },
     "execution_count": 25,
     "metadata": {},
     "output_type": "execute_result"
    }
   ],
   "source": [
    "nombre = 'Adriaan Beiertz'\n",
    "nombre.lower()"
   ]
  },
  {
   "cell_type": "code",
   "execution_count": 26,
   "metadata": {},
   "outputs": [
    {
     "data": {
      "text/plain": [
       "'ADRIAAN BEIERTZ'"
      ]
     },
     "execution_count": 26,
     "metadata": {},
     "output_type": "execute_result"
    }
   ],
   "source": [
    "# podemos convertirlo a mayusculas tambien\n",
    "nombre.upper()"
   ]
  },
  {
   "cell_type": "markdown",
   "metadata": {},
   "source": [
    "Comparemos los metodos `.upper()` y `.lower()` con la función incorporada `len()` que vimos anteriormente. Aparte de que producen resultados distintos, la distincion primordial radica en como son utilizados. La funcion `len()` es una función independiente. Si queremos obtener la longitud de un string, podemos ejecutar la funcion directamente."
   ]
  },
  {
   "cell_type": "code",
   "execution_count": 27,
   "metadata": {},
   "outputs": [
    {
     "data": {
      "text/plain": [
       "15"
      ]
     },
     "execution_count": 27,
     "metadata": {},
     "output_type": "execute_result"
    }
   ],
   "source": [
    "len(nombre)"
   ]
  },
  {
   "cell_type": "code",
   "execution_count": 28,
   "metadata": {},
   "outputs": [
    {
     "data": {
      "text/plain": [
       "'adriaan beiertz'"
      ]
     },
     "execution_count": 28,
     "metadata": {},
     "output_type": "execute_result"
    }
   ],
   "source": [
    "# sin embargo, .lower() o upper() se ejecutan agregandolo a un string\n",
    "nombre.lower()"
   ]
  },
  {
   "cell_type": "markdown",
   "metadata": {},
   "source": [
    "### Eliminando el espacio en un string"
   ]
  },
  {
   "cell_type": "markdown",
   "metadata": {},
   "source": [
    "El espacio es un caracter que se imprime como un espacio en blanco / transparente entre dos caracteres. A veces, necesitamos eliminar el espacio ubicado al principio o al final de un string. Esto es util cuando trabajamos con datos de entrada del usuario, donde los espacios adicionales se pudieron haber introducido por accidente.\n",
    "\n",
    "Existen tres metodos de string para eliminar espacios en los mismos:\n",
    "* `.rstrip()` => Right Strip. Elimina espacio ubicado a la derecha del string.\n",
    "* `.lstrip()` => Left Strip. Elimina espacio ubicado a la izquierda del string.\n",
    "* `.strip()` => Strip. Elimina espacio en ambos lados del string"
   ]
  },
  {
   "cell_type": "code",
   "execution_count": 36,
   "metadata": {},
   "outputs": [],
   "source": [
    "oracion = 'Tengo espacios a mi derecha.       '"
   ]
  },
  {
   "cell_type": "code",
   "execution_count": 37,
   "metadata": {},
   "outputs": [
    {
     "data": {
      "text/plain": [
       "'Ya no Tengo espacios a mi derecha.'"
      ]
     },
     "execution_count": 37,
     "metadata": {},
     "output_type": "execute_result"
    }
   ],
   "source": [
    "negacion = 'Ya no'\n",
    "negacion + ' ' + oracion.rstrip()"
   ]
  },
  {
   "cell_type": "code",
   "execution_count": 38,
   "metadata": {},
   "outputs": [],
   "source": [
    "oracion = '    Tengo espacios a mi izquierda.'"
   ]
  },
  {
   "cell_type": "code",
   "execution_count": 39,
   "metadata": {},
   "outputs": [
    {
     "data": {
      "text/plain": [
       "'Ya no Tengo espacios a mi izquierda.'"
      ]
     },
     "execution_count": 39,
     "metadata": {},
     "output_type": "execute_result"
    }
   ],
   "source": [
    "negacion + ' ' + oracion.lstrip()"
   ]
  },
  {
   "cell_type": "code",
   "execution_count": 40,
   "metadata": {},
   "outputs": [
    {
     "data": {
      "text/plain": [
       "'Ya no Tengo espacios en ambos lados'"
      ]
     },
     "execution_count": 40,
     "metadata": {},
     "output_type": "execute_result"
    }
   ],
   "source": [
    "oracion = '   Tengo espacios en ambos lados   '\n",
    "negacion + ' ' + oracion.strip()"
   ]
  },
  {
   "cell_type": "markdown",
   "metadata": {},
   "source": [
    "Es importante destacar que ninguno de los metodos elimina los espacios en el medio."
   ]
  },
  {
   "cell_type": "markdown",
   "metadata": {},
   "source": [
    "### Determina si un string empieza o termina con un string particular\n",
    "\n",
    "Cuando trabajamos con texto, a veces necesitamos determinar si un string empieza o termina con ciertos caracteres. Podemos utilizar dos metodos para resolver este problema: `.startswith()` y `.endswith()`."
   ]
  },
  {
   "cell_type": "code",
   "execution_count": 41,
   "metadata": {},
   "outputs": [
    {
     "data": {
      "text/plain": [
       "False"
      ]
     },
     "execution_count": 41,
     "metadata": {},
     "output_type": "execute_result"
    }
   ],
   "source": [
    "pais = 'Panamá'\n",
    "pais.startswith('pa')  # False"
   ]
  },
  {
   "cell_type": "code",
   "execution_count": 42,
   "metadata": {},
   "outputs": [
    {
     "data": {
      "text/plain": [
       "True"
      ]
     },
     "execution_count": 42,
     "metadata": {},
     "output_type": "execute_result"
    }
   ],
   "source": [
    "pais.startswith('Pa')"
   ]
  },
  {
   "cell_type": "code",
   "execution_count": 43,
   "metadata": {},
   "outputs": [
    {
     "data": {
      "text/plain": [
       "False"
      ]
     },
     "execution_count": 43,
     "metadata": {},
     "output_type": "execute_result"
    }
   ],
   "source": [
    "pais.endswith('ma')"
   ]
  },
  {
   "cell_type": "code",
   "execution_count": 44,
   "metadata": {},
   "outputs": [
    {
     "data": {
      "text/plain": [
       "True"
      ]
     },
     "execution_count": 44,
     "metadata": {},
     "output_type": "execute_result"
    }
   ],
   "source": [
    "pais.endswith('má')"
   ]
  },
  {
   "cell_type": "markdown",
   "metadata": {},
   "source": [
    "### Metodos de Strings e Inmutabilidad\n",
    "\n",
    "Recordemos que strings son inmutables, toda vez que no pueden ser modificados una vez hayan sido creados. La mayoria de los metodos que modifican un string, como `.upper()` o `.lower()`, en realidad retornan copias del string original con las modificaciones apropiadas. "
   ]
  },
  {
   "cell_type": "code",
   "execution_count": 45,
   "metadata": {},
   "outputs": [],
   "source": [
    "nombre = 'Adriaan'"
   ]
  },
  {
   "cell_type": "code",
   "execution_count": 46,
   "metadata": {},
   "outputs": [
    {
     "data": {
      "text/plain": [
       "'ADRIAAN'"
      ]
     },
     "execution_count": 46,
     "metadata": {},
     "output_type": "execute_result"
    }
   ],
   "source": [
    "nombre.upper()"
   ]
  },
  {
   "cell_type": "code",
   "execution_count": 47,
   "metadata": {},
   "outputs": [
    {
     "data": {
      "text/plain": [
       "'Adriaan'"
      ]
     },
     "execution_count": 47,
     "metadata": {},
     "output_type": "execute_result"
    }
   ],
   "source": [
    "nombre  # nada cambió"
   ]
  },
  {
   "cell_type": "code",
   "execution_count": 48,
   "metadata": {},
   "outputs": [
    {
     "ename": "SyntaxError",
     "evalue": "invalid syntax (<ipython-input-48-63383df29e8b>, line 2)",
     "output_type": "error",
     "traceback": [
      "\u001b[0;36m  File \u001b[0;32m\"<ipython-input-48-63383df29e8b>\"\u001b[0;36m, line \u001b[0;32m2\u001b[0m\n\u001b[0;31m    nombre.  # espera unos momentos y saldrá una lista de metodos disponibles\u001b[0m\n\u001b[0m             ^\u001b[0m\n\u001b[0;31mSyntaxError\u001b[0m\u001b[0;31m:\u001b[0m invalid syntax\n"
     ]
    }
   ],
   "source": [
    "# puedes descubrir metodos adicionales\n",
    "nombre.  # espera unos momentos o presiona TAB y saldrá una lista de metodos disponibles"
   ]
  },
  {
   "cell_type": "code",
   "execution_count": null,
   "metadata": {},
   "outputs": [],
   "source": [
    "nombre.u  # presiona TAB para que el metodo se auto complete"
   ]
  },
  {
   "cell_type": "code",
   "execution_count": 54,
   "metadata": {},
   "outputs": [
    {
     "name": "stdout",
     "output_type": "stream",
     "text": [
      "capitalize\n",
      "casefold\n",
      "center\n",
      "count\n",
      "encode\n",
      "endswith\n",
      "expandtabs\n",
      "find\n",
      "format\n",
      "format_map\n",
      "index\n",
      "isalnum\n",
      "isalpha\n",
      "isascii\n",
      "isdecimal\n",
      "isdigit\n",
      "isidentifier\n",
      "islower\n",
      "isnumeric\n",
      "isprintable\n",
      "isspace\n",
      "istitle\n",
      "isupper\n",
      "join\n",
      "ljust\n",
      "lower\n",
      "lstrip\n",
      "maketrans\n",
      "partition\n",
      "replace\n",
      "rfind\n",
      "rindex\n",
      "rjust\n",
      "rpartition\n",
      "rsplit\n",
      "rstrip\n",
      "split\n",
      "splitlines\n",
      "startswith\n",
      "strip\n",
      "swapcase\n",
      "title\n",
      "translate\n",
      "upper\n",
      "zfill\n"
     ]
    }
   ],
   "source": [
    "for metodo in dir(nombre):\n",
    "    if not metodo.startswith('_'):\n",
    "        print(metodo)"
   ]
  },
  {
   "cell_type": "code",
   "execution_count": null,
   "metadata": {},
   "outputs": [],
   "source": [
    "# tambien puedes pedir ayuda\n",
    "help(str)"
   ]
  },
  {
   "cell_type": "markdown",
   "metadata": {},
   "source": [
    "Ejercicios:\n",
    "1. Escribe un script the convierte algunas palabras a letra minuscula\n",
    "2. Repite el ejercicio anterior pero a letras mayusculas.\n",
    "3. Escribe un script que elimina el espacio a la izquierda de una palabra\n",
    "4. Escribe un script que elimina el espacio a la derecha de una palabra\n",
    "5. Escribe un script que elimina el espacio en ambos lados de la palabra\n",
    "6. Escribe un script que diga si una palabra empieza con un determinado string"
   ]
  },
  {
   "cell_type": "markdown",
   "metadata": {},
   "source": [
    "## Interactuando con Dato de Entrada del Usuario"
   ]
  },
  {
   "cell_type": "markdown",
   "metadata": {},
   "source": [
    "En esta seccion vamos a aprender como obtener datos de entrada del usuario con la funcion incorporada `input()`. Vamos a escribir un programa que pregunta por dato de entrada de usuario y luego imprime el texto en mayuscula. "
   ]
  },
  {
   "cell_type": "code",
   "execution_count": 56,
   "metadata": {},
   "outputs": [
    {
     "name": "stdout",
     "output_type": "stream",
     "text": [
      "Hola, como estas?\n",
      "Bien\n",
      "Dijiste Bien\n"
     ]
    }
   ],
   "source": [
    "texto = 'Hola, como estas?\\n'\n",
    "dato_de_usuario = input(texto)\n",
    "print('Dijiste:', dato_de_usuario)"
   ]
  },
  {
   "cell_type": "code",
   "execution_count": 57,
   "metadata": {},
   "outputs": [
    {
     "name": "stdout",
     "output_type": "stream",
     "text": [
      "Que deberia gritar?Hola\n",
      "Bueno, si insistes... HOLA\n"
     ]
    }
   ],
   "source": [
    "# Combinemos el metodo input() con el metodo de string upper()\n",
    "respuesta = input('Que deberia gritar?\\n')\n",
    "respuesta = respuesta.upper()\n",
    "print('Bueno, si insistes...', respuesta)"
   ]
  },
  {
   "cell_type": "markdown",
   "metadata": {},
   "source": [
    "## Ejercicios\n",
    "1. Toma datos de entrada del usuario e imprimelo\n",
    "2. Toma datos de entrada del usuario y retorna una version del string con todas las letras mayusculas.\n",
    "3. Toma datos de entrada del usuario y retorna una version del string con la primera letra mayuscula."
   ]
  },
  {
   "cell_type": "markdown",
   "metadata": {},
   "source": [
    "## Reto: Manipulacion del Dato de Entrada del Usuario"
   ]
  },
  {
   "cell_type": "markdown",
   "metadata": {},
   "source": [
    "Escribe un script llamado `primera_letra.py` que le pide al usuario su contraseña. El programa deberia:\n",
    "* convertir la primera letra del dato de entrada en mayuscula\n",
    "* imprimir \"La primera letra que ingresaste fue:\" seguido por la letra"
   ]
  },
  {
   "cell_type": "markdown",
   "metadata": {},
   "source": [
    "## Trabajando con Strings y Numeros\n",
    "\n",
    "Cuando obtenemos datos de entrada del usuario utilizando la funcion `input()`, el resultado siempre es un string. Sin embargo, existen otras veces cuando el dato de entrada contiene numeros en los cuales se le debe hacer algunas operaciones / calculaciones.\n",
    "\n",
    "En esta seccion aprenderemos a trabajar con strings de numeros. Vamos a ver como trabajan los operadores aritmeticos en strings y como pueden llevarnos a algunos resultados sorprendentes. Tambien aprenderemos como convertir entre strings y numeros."
   ]
  },
  {
   "cell_type": "markdown",
   "metadata": {},
   "source": [
    "### Strings y Operadores Aritmeticos"
   ]
  },
  {
   "cell_type": "code",
   "execution_count": null,
   "metadata": {},
   "outputs": [],
   "source": []
  }
 ],
 "metadata": {
  "kernelspec": {
   "display_name": "Python 3",
   "language": "python",
   "name": "python3"
  },
  "language_info": {
   "codemirror_mode": {
    "name": "ipython",
    "version": 3
   },
   "file_extension": ".py",
   "mimetype": "text/x-python",
   "name": "python",
   "nbconvert_exporter": "python",
   "pygments_lexer": "ipython3",
   "version": "3.8.1"
  }
 },
 "nbformat": 4,
 "nbformat_minor": 4
}
