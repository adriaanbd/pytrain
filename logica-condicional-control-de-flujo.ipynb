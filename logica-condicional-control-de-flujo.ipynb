{
 "cells": [
  {
   "cell_type": "markdown",
   "metadata": {},
   "source": [
    "# Logica Condicional y Control de Flujo"
   ]
  },
  {
   "cell_type": "markdown",
   "metadata": {},
   "source": [
    "Hasta el momento, todo el codigo que hemos visto ha sido incondicional. El codigo no tuvo que tomar decision alguna. Cada linea de codigo es ejecutada en el orden que es escrita o en el orden en que las funciones han sido llamadas, con posibles repeticiones adentro del `loop`.\n",
    "\n",
    "En esta seccion aprenderemos como escribir programas que realizan distintas acciones a base de distintas condiciones, utilizando **logica condicional**.\n",
    "\n",
    "Vamos a:\n",
    "1. Comparar valores con dos o mas variables\n",
    "2. Escribir declaraciones `if` para controlar el flujo de nuestro programa\n",
    "3. Gestionar errores con `try` y `except`\n",
    "4. Aplicar logica condicional para crear simulaciones simples"
   ]
  },
  {
   "cell_type": "markdown",
   "metadata": {},
   "source": [
    "## Comparacion de valores"
   ]
  },
  {
   "cell_type": "markdown",
   "metadata": {},
   "source": [
    "Logica condicional radica en la realizacion condicionada de distintas acciones. Condicionada porque la realizacion de las mismas depende si una expresion, llamada condicion, es veridica o no. \n",
    "\n",
    "Las condiciones en muchas ocasiones radican en comparar dos valores, e.g. si un valor es mas alto que el otro o si los dos valores son iguales. Un estandar de simbolos utilizado para este fin son los comparadores booleanos.\n",
    "\n",
    "\n",
    "|Comparador|Ejemplo|Significado|\n",
    "|---|---|---|\n",
    "|>|a > b|a es mayor que b|\n",
    "|<|a < b|a es menor que b|\n",
    "|>=|a >= b|a es mayor o igual a b|\n",
    "|<=|a <= b|a es menor o igual a b|\n",
    "|!=|a != b|a no es igual a b|\n",
    "|==|a == b|a es igual a b|"
   ]
  },
  {
   "cell_type": "code",
   "execution_count": 1,
   "metadata": {},
   "outputs": [
    {
     "data": {
      "text/plain": [
       "True"
      ]
     },
     "execution_count": 1,
     "metadata": {},
     "output_type": "execute_result"
    }
   ],
   "source": [
    "# mayor\n",
    "2 > 1"
   ]
  },
  {
   "cell_type": "code",
   "execution_count": 2,
   "metadata": {},
   "outputs": [
    {
     "data": {
      "text/plain": [
       "True"
      ]
     },
     "execution_count": 2,
     "metadata": {},
     "output_type": "execute_result"
    }
   ],
   "source": [
    "# menor\n",
    "1 < 2"
   ]
  },
  {
   "cell_type": "code",
   "execution_count": 3,
   "metadata": {},
   "outputs": [
    {
     "data": {
      "text/plain": [
       "True"
      ]
     },
     "execution_count": 3,
     "metadata": {},
     "output_type": "execute_result"
    }
   ],
   "source": [
    "# mayor o igual\n",
    "1 >= 1"
   ]
  },
  {
   "cell_type": "code",
   "execution_count": 4,
   "metadata": {},
   "outputs": [
    {
     "data": {
      "text/plain": [
       "True"
      ]
     },
     "execution_count": 4,
     "metadata": {},
     "output_type": "execute_result"
    }
   ],
   "source": [
    "# menor o igual\n",
    "1 <= 1"
   ]
  },
  {
   "cell_type": "code",
   "execution_count": 5,
   "metadata": {},
   "outputs": [
    {
     "data": {
      "text/plain": [
       "False"
      ]
     },
     "execution_count": 5,
     "metadata": {},
     "output_type": "execute_result"
    }
   ],
   "source": [
    "# anti-equivalencia\n",
    "1 != 1"
   ]
  },
  {
   "cell_type": "code",
   "execution_count": 6,
   "metadata": {},
   "outputs": [
    {
     "data": {
      "text/plain": [
       "True"
      ]
     },
     "execution_count": 6,
     "metadata": {},
     "output_type": "execute_result"
    }
   ],
   "source": [
    "# equivalencia\n",
    "1 == 1"
   ]
  },
  {
   "cell_type": "markdown",
   "metadata": {},
   "source": [
    "El termino **boolean** es derivado del apellido del Matematico ingles **George Boole**, cuyas obras sentaron las bases de la computacion moderna. En honor a Boole, la logica condicional es conocida como **logica booleana** y las condicionales son referidas como **expresiones booleanas**.\n",
    "\n",
    "Existe tambien un tipo de dato llamado **boolean** o formalmente `bool`, que consiste en dos valores: `True` y `False`"
   ]
  },
  {
   "cell_type": "code",
   "execution_count": 7,
   "metadata": {},
   "outputs": [
    {
     "data": {
      "text/plain": [
       "bool"
      ]
     },
     "execution_count": 7,
     "metadata": {},
     "output_type": "execute_result"
    }
   ],
   "source": [
    "type(True)"
   ]
  },
  {
   "cell_type": "code",
   "execution_count": 8,
   "metadata": {},
   "outputs": [
    {
     "data": {
      "text/plain": [
       "bool"
      ]
     },
     "execution_count": 8,
     "metadata": {},
     "output_type": "execute_result"
    }
   ],
   "source": [
    "type(False)"
   ]
  },
  {
   "cell_type": "code",
   "execution_count": 9,
   "metadata": {},
   "outputs": [
    {
     "data": {
      "text/plain": [
       "False"
      ]
     },
     "execution_count": 9,
     "metadata": {},
     "output_type": "execute_result"
    }
   ],
   "source": [
    "# evaluando una condicional siempre retorna un valor booleano\n",
    "3 > 5"
   ]
  },
  {
   "cell_type": "code",
   "execution_count": 10,
   "metadata": {},
   "outputs": [
    {
     "data": {
      "text/plain": [
       "True"
      ]
     },
     "execution_count": 10,
     "metadata": {},
     "output_type": "execute_result"
    }
   ],
   "source": [
    "# tambien podemos comparar caracteres\n",
    "'a' == 'a'"
   ]
  },
  {
   "cell_type": "code",
   "execution_count": 11,
   "metadata": {},
   "outputs": [
    {
     "data": {
      "text/plain": [
       "False"
      ]
     },
     "execution_count": 11,
     "metadata": {},
     "output_type": "execute_result"
    }
   ],
   "source": [
    "'a' == 'b'"
   ]
  },
  {
   "cell_type": "code",
   "execution_count": 12,
   "metadata": {},
   "outputs": [
    {
     "data": {
      "text/plain": [
       "True"
      ]
     },
     "execution_count": 12,
     "metadata": {},
     "output_type": "execute_result"
    }
   ],
   "source": [
    "# sorprendido?\n",
    "'a' < 'b'  # orden lexicografico"
   ]
  },
  {
   "cell_type": "code",
   "execution_count": 13,
   "metadata": {},
   "outputs": [
    {
     "data": {
      "text/plain": [
       "False"
      ]
     },
     "execution_count": 13,
     "metadata": {},
     "output_type": "execute_result"
    }
   ],
   "source": [
    "# la letra a no viene despues de la b\n",
    "'a' > 'b'"
   ]
  },
  {
   "cell_type": "code",
   "execution_count": 14,
   "metadata": {},
   "outputs": [
    {
     "data": {
      "text/plain": [
       "False"
      ]
     },
     "execution_count": 14,
     "metadata": {},
     "output_type": "execute_result"
    }
   ],
   "source": [
    "# el orden lexicografico se extiende a strings con dos o mas caracteres\n",
    "'arte' < 'arbol'"
   ]
  },
  {
   "cell_type": "markdown",
   "metadata": {},
   "source": [
    "### Ejercicios"
   ]
  },
  {
   "cell_type": "markdown",
   "metadata": {},
   "source": [
    "Adivinemos el resultado de las siguientes expresiones:\n",
    "\n",
    "```\n",
    "1 < = 1\n",
    "1 != 1\n",
    "1 != 2\n",
    "'bien' != 'mal'\n",
    "'bien' != 'Bien'\n",
    "123 == '123'\n",
    "```"
   ]
  },
  {
   "cell_type": "markdown",
   "metadata": {},
   "source": [
    "Adivine el comparador booleano indicado para que la expresion evalue a True\n",
    "```\n",
    "3 < 4\n",
    "10 > 5\n",
    "'jorge' != 'jose'\n",
    "42 != '42'\n",
    "```"
   ]
  },
  {
   "cell_type": "markdown",
   "metadata": {},
   "source": [
    "##  Algo de logica"
   ]
  },
  {
   "cell_type": "markdown",
   "metadata": {},
   "source": [
    "En adicion a los comparadores booleanos, Python tiene palabras especiales llamadas **operadores logicos** que puede ser utilizados para combinar expresioens booleanas. Existen tres operadores logicos:\n",
    "1. `and`\n",
    "2. `or`\n",
    "3. `not`"
   ]
  },
  {
   "cell_type": "markdown",
   "metadata": {},
   "source": [
    "### La palabra `and`"
   ]
  },
  {
   "cell_type": "markdown",
   "metadata": {},
   "source": [
    "Considera la proxima declaracion:\n",
    "1. Gatos tienen cuatro patas\n",
    "2. Gatos tienen colas\n",
    "\n",
    "En general, ambas declaraciones son veridicas. Si unimos ambas declaraciones con la palabra `and`, la expresion booleada sigue siendo cierta porque ambas cosas son ciertas. Esta palabra retorna `True` si ambos lados de la palabra evaluan a `True`, de lo contrario retorna `False`"
   ]
  },
  {
   "cell_type": "code",
   "execution_count": null,
   "metadata": {},
   "outputs": [],
   "source": [
    "1 < 2 and 3 < 4  # ambos ciertos"
   ]
  },
  {
   "cell_type": "code",
   "execution_count": null,
   "metadata": {},
   "outputs": [],
   "source": [
    "1 < 2 and 3 > 4  # un cierto un falso"
   ]
  },
  {
   "cell_type": "code",
   "execution_count": null,
   "metadata": {},
   "outputs": [],
   "source": [
    "2 < 1 and 4 < 3  # ambos falsos"
   ]
  },
  {
   "cell_type": "code",
   "execution_count": 15,
   "metadata": {},
   "outputs": [
    {
     "data": {
      "text/plain": [
       "True"
      ]
     },
     "execution_count": 15,
     "metadata": {},
     "output_type": "execute_result"
    }
   ],
   "source": [
    "True and True"
   ]
  },
  {
   "cell_type": "code",
   "execution_count": 16,
   "metadata": {},
   "outputs": [
    {
     "data": {
      "text/plain": [
       "False"
      ]
     },
     "execution_count": 16,
     "metadata": {},
     "output_type": "execute_result"
    }
   ],
   "source": [
    "True and False"
   ]
  },
  {
   "cell_type": "code",
   "execution_count": 17,
   "metadata": {},
   "outputs": [
    {
     "data": {
      "text/plain": [
       "False"
      ]
     },
     "execution_count": 17,
     "metadata": {},
     "output_type": "execute_result"
    }
   ],
   "source": [
    "False and True"
   ]
  },
  {
   "cell_type": "code",
   "execution_count": 18,
   "metadata": {},
   "outputs": [
    {
     "data": {
      "text/plain": [
       "False"
      ]
     },
     "execution_count": 18,
     "metadata": {},
     "output_type": "execute_result"
    }
   ],
   "source": [
    "False and False"
   ]
  },
  {
   "cell_type": "markdown",
   "metadata": {},
   "source": [
    "### La palabra `or`"
   ]
  },
  {
   "cell_type": "code",
   "execution_count": 19,
   "metadata": {},
   "outputs": [
    {
     "data": {
      "text/plain": [
       "True"
      ]
     },
     "execution_count": 19,
     "metadata": {},
     "output_type": "execute_result"
    }
   ],
   "source": [
    "1 < 2 or 3 < 4  # True or True"
   ]
  },
  {
   "cell_type": "code",
   "execution_count": 20,
   "metadata": {},
   "outputs": [
    {
     "data": {
      "text/plain": [
       "True"
      ]
     },
     "execution_count": 20,
     "metadata": {},
     "output_type": "execute_result"
    }
   ],
   "source": [
    "1 < 2 or 2 < 1  # True or False"
   ]
  },
  {
   "cell_type": "code",
   "execution_count": 21,
   "metadata": {},
   "outputs": [
    {
     "data": {
      "text/plain": [
       "False"
      ]
     },
     "execution_count": 21,
     "metadata": {},
     "output_type": "execute_result"
    }
   ],
   "source": [
    "2 < 1 or 4 < 3  # False or False"
   ]
  },
  {
   "cell_type": "code",
   "execution_count": 22,
   "metadata": {},
   "outputs": [
    {
     "data": {
      "text/plain": [
       "True"
      ]
     },
     "execution_count": 22,
     "metadata": {},
     "output_type": "execute_result"
    }
   ],
   "source": [
    "2 < 1 or 3 < 4  # False or True"
   ]
  },
  {
   "cell_type": "markdown",
   "metadata": {},
   "source": [
    "### La palabra `not`"
   ]
  },
  {
   "cell_type": "markdown",
   "metadata": {},
   "source": [
    "Esta palabra revierte la veracidad de una expresion"
   ]
  },
  {
   "cell_type": "code",
   "execution_count": 23,
   "metadata": {},
   "outputs": [
    {
     "data": {
      "text/plain": [
       "False"
      ]
     },
     "execution_count": 23,
     "metadata": {},
     "output_type": "execute_result"
    }
   ],
   "source": [
    "not True"
   ]
  },
  {
   "cell_type": "code",
   "execution_count": 24,
   "metadata": {},
   "outputs": [
    {
     "data": {
      "text/plain": [
       "True"
      ]
     },
     "execution_count": 24,
     "metadata": {},
     "output_type": "execute_result"
    }
   ],
   "source": [
    "not False"
   ]
  },
  {
   "cell_type": "code",
   "execution_count": 25,
   "metadata": {},
   "outputs": [
    {
     "data": {
      "text/plain": [
       "True"
      ]
     },
     "execution_count": 25,
     "metadata": {},
     "output_type": "execute_result"
    }
   ],
   "source": [
    "not True == False"
   ]
  },
  {
   "cell_type": "code",
   "execution_count": 26,
   "metadata": {},
   "outputs": [
    {
     "ename": "SyntaxError",
     "evalue": "invalid syntax (<ipython-input-26-5b8b45763cf6>, line 1)",
     "output_type": "error",
     "traceback": [
      "\u001b[0;36m  File \u001b[0;32m\"<ipython-input-26-5b8b45763cf6>\"\u001b[0;36m, line \u001b[0;32m1\u001b[0m\n\u001b[0;31m    False == not True  # error por regla de precedencia de operador\u001b[0m\n\u001b[0m             ^\u001b[0m\n\u001b[0;31mSyntaxError\u001b[0m\u001b[0;31m:\u001b[0m invalid syntax\n"
     ]
    }
   ],
   "source": [
    "False == not True  # error por regla de precedencia de operador"
   ]
  },
  {
   "cell_type": "markdown",
   "metadata": {},
   "source": [
    "El orden de precedencia para operadores logicos y booleanos, de lo mas alto a lo mas bajo es:\n",
    "1. < <= == >= >\n",
    "2. not\n",
    "3. and\n",
    "4. or"
   ]
  },
  {
   "cell_type": "code",
   "execution_count": 27,
   "metadata": {},
   "outputs": [
    {
     "data": {
      "text/plain": [
       "True"
      ]
     },
     "execution_count": 27,
     "metadata": {},
     "output_type": "execute_result"
    }
   ],
   "source": [
    "# el problema anteriormente es que por precedencia, se evaluaba a False == not\n",
    "False == (not True)  # lo arreglamos con parentesis"
   ]
  },
  {
   "cell_type": "markdown",
   "metadata": {},
   "source": [
    "### Construyendo Expresiones Complejas"
   ]
  },
  {
   "cell_type": "markdown",
   "metadata": {},
   "source": [
    "Podemos combinar `and`, `or` y `not` con `True` y `False` para crear expresiones mas complejas. "
   ]
  },
  {
   "cell_type": "code",
   "execution_count": 28,
   "metadata": {},
   "outputs": [
    {
     "data": {
      "text/plain": [
       "True"
      ]
     },
     "execution_count": 28,
     "metadata": {},
     "output_type": "execute_result"
    }
   ],
   "source": [
    "# un ejemplo de una expresion mas compleja\n",
    "True and not (1 != 1)"
   ]
  },
  {
   "cell_type": "code",
   "execution_count": 29,
   "metadata": {},
   "outputs": [
    {
     "data": {
      "text/plain": [
       "True"
      ]
     },
     "execution_count": 29,
     "metadata": {},
     "output_type": "execute_result"
    }
   ],
   "source": [
    "# la anterior expresion se interpreta asi:\n",
    "True and not (False)"
   ]
  },
  {
   "cell_type": "code",
   "execution_count": 30,
   "metadata": {},
   "outputs": [
    {
     "data": {
      "text/plain": [
       "True"
      ]
     },
     "execution_count": 30,
     "metadata": {},
     "output_type": "execute_result"
    }
   ],
   "source": [
    "# luego asi\n",
    "True and True"
   ]
  },
  {
   "cell_type": "code",
   "execution_count": 31,
   "metadata": {},
   "outputs": [
    {
     "data": {
      "text/plain": [
       "True"
      ]
     },
     "execution_count": 31,
     "metadata": {},
     "output_type": "execute_result"
    }
   ],
   "source": [
    "(\"A\" != \"A\") or not (2 >= 3)"
   ]
  },
  {
   "cell_type": "code",
   "execution_count": 32,
   "metadata": {},
   "outputs": [
    {
     "data": {
      "text/plain": [
       "True"
      ]
     },
     "execution_count": 32,
     "metadata": {},
     "output_type": "execute_result"
    }
   ],
   "source": [
    "# se evalua asi:\n",
    "(False) or not (False)"
   ]
  },
  {
   "cell_type": "code",
   "execution_count": 33,
   "metadata": {},
   "outputs": [
    {
     "data": {
      "text/plain": [
       "True"
      ]
     },
     "execution_count": 33,
     "metadata": {},
     "output_type": "execute_result"
    }
   ],
   "source": [
    "# luego asi:\n",
    "False or True"
   ]
  },
  {
   "cell_type": "markdown",
   "metadata": {},
   "source": [
    "Finalmente, toda vez que cualquier expresion compuesta con `or` es `True` si una de las expresiones a la izquierda o derecha de `or` es `True`, podemos concluir que el resultado es `True`"
   ]
  },
  {
   "cell_type": "markdown",
   "metadata": {},
   "source": [
    "Agrupando expresiones on una declaracion condicional compuesta que tiene parentesis mejora la la lectura, pero a veces el parentesis es requerido para producir el resultado esperado."
   ]
  },
  {
   "cell_type": "code",
   "execution_count": 34,
   "metadata": {},
   "outputs": [
    {
     "data": {
      "text/plain": [
       "False"
      ]
     },
     "execution_count": 34,
     "metadata": {},
     "output_type": "execute_result"
    }
   ],
   "source": [
    "# por ejemplo, puede ser que esperamos que esto retorne True\n",
    "True and False == True and False"
   ]
  },
  {
   "cell_type": "markdown",
   "metadata": {},
   "source": [
    "La razon es que el operador `==` tiene precedencia ante `and`, entonces Python interpreta la expresion como:\n",
    "\n",
    "```\n",
    "True and (False == True) and False\n",
    "```\n",
    "\n",
    "Lo que se convierte en:\n",
    "\n",
    "```\n",
    "True and False and False\n",
    "```\n",
    "\n",
    "Lo que equivale a `False`"
   ]
  },
  {
   "cell_type": "code",
   "execution_count": 35,
   "metadata": {},
   "outputs": [
    {
     "data": {
      "text/plain": [
       "True"
      ]
     },
     "execution_count": 35,
     "metadata": {},
     "output_type": "execute_result"
    }
   ],
   "source": [
    "# si agregamos el parentesis\n",
    "(True and False) == (True and False)"
   ]
  },
  {
   "cell_type": "markdown",
   "metadata": {},
   "source": [
    "### Ejercicios"
   ]
  },
  {
   "cell_type": "markdown",
   "metadata": {},
   "source": [
    "Cual es el resultado de las siguientes expresiones?\n",
    "\n",
    "```\n",
    "(1 <= 1) and (1 != 1)\n",
    "not (1 != 2)\n",
    "(\"good\" != \"bad\") or False\n",
    "(\"good\" != \"Good\") and not (1 == 1)\n",
    "```"
   ]
  },
  {
   "cell_type": "markdown",
   "metadata": {},
   "source": [
    "Agrega parentesis donde sea necesario para que cada una de las siguientes expresiones evalue a `True`:\n",
    "\n",
    "```\n",
    "False == not True\n",
    "True and False == True and False\n",
    "not True and \"A\" == \"B\"\n",
    "```"
   ]
  },
  {
   "cell_type": "code",
   "execution_count": 36,
   "metadata": {},
   "outputs": [
    {
     "data": {
      "text/plain": [
       "True"
      ]
     },
     "execution_count": 36,
     "metadata": {},
     "output_type": "execute_result"
    }
   ],
   "source": [
    "not (True and \"A\" == \"B\")"
   ]
  },
  {
   "cell_type": "markdown",
   "metadata": {},
   "source": [
    "## Control de flujo de un programa"
   ]
  },
  {
   "cell_type": "markdown",
   "metadata": {},
   "source": [
    "Ahora que podemos comparar valores con comparadores booleanos y podemos construir declaraciones complejas con operadores logicos, vamos a agregar algo de logica a nuestro codigo para que realice diferentes acciones para diferentes condiciones."
   ]
  },
  {
   "cell_type": "markdown",
   "metadata": {},
   "source": [
    "### La declaracion `if`"
   ]
  },
  {
   "cell_type": "markdown",
   "metadata": {},
   "source": [
    "Una declaracion `if` le dice a Python que ejecute de forma exclusiva una porcion de codigo si una condicion se cumple. "
   ]
  },
  {
   "cell_type": "code",
   "execution_count": 37,
   "metadata": {},
   "outputs": [
    {
     "name": "stdout",
     "output_type": "stream",
     "text": [
      "2 + 2 = 4\n"
     ]
    }
   ],
   "source": [
    "# por ejemplo\n",
    "if 2 + 2 == 4:\n",
    "    print('2 + 2 = 4')"
   ]
  },
  {
   "cell_type": "markdown",
   "metadata": {},
   "source": [
    "Como el `while` loop, el `if` tiene tres partes:\n",
    "1. La palabra `if`\n",
    "2. La condicion de prueba, seguida por un colon\n",
    "3. Un bloque indentado que es ejecutado si una condicion es `True`"
   ]
  },
  {
   "cell_type": "code",
   "execution_count": 38,
   "metadata": {},
   "outputs": [
    {
     "name": "stdout",
     "output_type": "stream",
     "text": [
      "Esto si\n"
     ]
    }
   ],
   "source": [
    "# cuando la condicion es falsa\n",
    "if 2 + 2 == 5:\n",
    "    print('Esto no existe!')\n",
    "print('Esto si')"
   ]
  },
  {
   "cell_type": "code",
   "execution_count": 39,
   "metadata": {},
   "outputs": [
    {
     "name": "stdout",
     "output_type": "stream",
     "text": [
      "Pasaste la clase!\n",
      "Gracias por asistir.\n"
     ]
    }
   ],
   "source": [
    "nota = 4.5\n",
    "if nota >= 3.5:\n",
    "    print('Pasaste la clase!')\n",
    "print('Gracias por asistir.')"
   ]
  },
  {
   "cell_type": "code",
   "execution_count": 41,
   "metadata": {},
   "outputs": [
    {
     "name": "stdout",
     "output_type": "stream",
     "text": [
      "Pasaste!\n",
      "Gracias por asistir.\n"
     ]
    }
   ],
   "source": [
    "nota = 3.5\n",
    "\n",
    "if nota >= 3.5:\n",
    "    print('Pasaste!')\n",
    "    \n",
    "if nota < 3.5:\n",
    "    print('Te quedaste, lo siento!')\n",
    "\n",
    "print('Gracias por asistir.')"
   ]
  },
  {
   "cell_type": "markdown",
   "metadata": {},
   "source": [
    "### La palabra `else`"
   ]
  },
  {
   "cell_type": "markdown",
   "metadata": {},
   "source": [
    "**`else`** es utilizado despues de un **`if`**, a fin de ejecutar una porcion de codigo solo si la condicion del **`if`** no es veridica (no llega a ejecutarse)."
   ]
  },
  {
   "cell_type": "code",
   "execution_count": 42,
   "metadata": {},
   "outputs": [
    {
     "name": "stdout",
     "output_type": "stream",
     "text": [
      "Te quedaste, lo siento.\n",
      "Gracias por asistir.\n"
     ]
    }
   ],
   "source": [
    "nota = 3.0\n",
    "\n",
    "if nota >= 3.5:\n",
    "    print('Pasaste!')\n",
    "    \n",
    "else:\n",
    "    print('Te quedaste, lo siento.')\n",
    "\n",
    "print('Gracias por asistir.')"
   ]
  },
  {
   "cell_type": "markdown",
   "metadata": {},
   "source": [
    "Las palabras **`if`** y **`else`** funcionan bien cuando hay que revisar exactamente dos (2) estados / condiciones. Sin embargo, hay veces que necesitamos revisar tres (3) o mas condiciones. Para esto, utilizamos la palabra **`elif`**."
   ]
  },
  {
   "cell_type": "markdown",
   "metadata": {},
   "source": [
    "### La palabra `elif`"
   ]
  },
  {
   "cell_type": "markdown",
   "metadata": {},
   "source": [
    "La palabra `elif` es corto por `else if` y se puede utilizar para agregar condiciones adicionales despues del `if`. Como los `if`, los `elif` tienen tres (3) partes:\n",
    "1. La palabra `elif`\n",
    "2. La condicion de prueba, seguida por un colon\n",
    "3. Un bloque de codigo indentado que se ejecuta si la condicion evalua a `True`"
   ]
  },
  {
   "cell_type": "code",
   "execution_count": 43,
   "metadata": {},
   "outputs": [
    {
     "name": "stdout",
     "output_type": "stream",
     "text": [
      "Pasastes con buena nota, felicidades!\n",
      "Gracias por asistir.\n"
     ]
    }
   ],
   "source": [
    "nota = 4.0  # 1\n",
    "\n",
    "if nota >= 4.5:  # 2\n",
    "    print('Pasaste con cuadro de honor!')\n",
    "    \n",
    "elif nota >= 4.0:  # 3\n",
    "    print('Pasastes con buena nota, felicidades!')\n",
    "\n",
    "elif nota >= 3.5:  # 4\n",
    "    print('Pasastes, pero tienes que esforzarte mas')\n",
    "\n",
    "else:  # 5\n",
    "    print('Lo siento, no pasastes, nos vemos el proximo año misma clase misma hora!')\n",
    "    \n",
    "print('Gracias por asistir.')  #6"
   ]
  },
  {
   "cell_type": "markdown",
   "metadata": {},
   "source": [
    "## Declaraciones `if` anidadas"
   ]
  },
  {
   "cell_type": "markdown",
   "metadata": {},
   "source": [
    "Al igual que los `for` y `while` loops, tambien podemos anidar una declaracion `if` adentro de otra para crear estructuras de decisiones un poco mas complejas. \n",
    "\n",
    "Considera el proximo escenario. Dos personas juegan uno contra uno. Debemos decidir quien gana dependiendo de los puntajes y el deporte que estan jugando:\n",
    "1. Si los dos jugadores estan jugando baloncesto, el jugador con el puntaje mas alto gana.\n",
    "2. Si estan jugando golf, el jugador con el puntaje mas bajo gana.\n",
    "3. En cualquier de los dos deportes, si el puntaje es el mismo, es un empate."
   ]
  },
  {
   "cell_type": "code",
   "execution_count": 44,
   "metadata": {},
   "outputs": [
    {
     "name": "stdout",
     "output_type": "stream",
     "text": [
      "Ingresa un deporte: golf\n",
      "Ingresa el puntaje del jugador 1: 3\n",
      "Ingresa el puntaje del jugador 2: 0\n",
      "Ganador: Jugador 2!\n"
     ]
    }
   ],
   "source": [
    "deporte = input('Ingresa un deporte: ')\n",
    "puntaje_1 = input('Ingresa el puntaje del jugador 1: ')\n",
    "puntaje_2 = input('Ingresa el puntaje del jugador 2: ')\n",
    "\n",
    "# 1\n",
    "if deporte.lower() == 'baloncesto':\n",
    "    if puntaje_1 == puntaje_2:\n",
    "        print('Empate!')\n",
    "    elif puntaje_1 > puntaje_2:\n",
    "        print('Ganador: Jugador 1!')\n",
    "    else:\n",
    "        print('Ganador: Jugador 2!')\n",
    "        \n",
    "# 2\n",
    "elif deporte.lower() == 'golf':\n",
    "    if puntaje_1 == puntaje_2:\n",
    "        print('Empate!')\n",
    "    elif puntaje_1 > puntaje_2:\n",
    "        print('Ganador: Jugador 2!')\n",
    "    else:\n",
    "        print('Ganador: Jugador 1!')\n",
    "\n",
    "else:\n",
    "    print('Deporte desconocido.')\n",
    "\n",
    "# en total hay 7 posibles resultados"
   ]
  },
  {
   "cell_type": "code",
   "execution_count": 45,
   "metadata": {},
   "outputs": [
    {
     "ename": "SyntaxError",
     "evalue": "invalid syntax (<ipython-input-45-e1390312f592>, line 8)",
     "output_type": "error",
     "traceback": [
      "\u001b[0;36m  File \u001b[0;32m\"<ipython-input-45-e1390312f592>\"\u001b[0;36m, line \u001b[0;32m8\u001b[0m\n\u001b[0;31m    elif puntaje_1 > puntaje_2:  # 2\u001b[0m\n\u001b[0m    ^\u001b[0m\n\u001b[0;31mSyntaxError\u001b[0m\u001b[0;31m:\u001b[0m invalid syntax\n"
     ]
    }
   ],
   "source": [
    "# simplifiquemoslo un poco mas\n",
    "\n",
    "# 1\n",
    "if puntaje_1 == puntaje_2:\n",
    "    print('Empate!')\n",
    "\n",
    "elif deporte.lower() == 'baloncesto':\n",
    "    elif puntaje_1 > puntaje_2:  # 2\n",
    "        print('Ganador: Jugador 2!')\n",
    "    else:  # 3\n",
    "        print('Ganador: Jugador 1!')\n",
    "        \n",
    "elif deporte.lower() == 'golf':\n",
    "    elif puntaje_1 > puntaje_2:  # 4\n",
    "        print('Ganador: Jugador 2!')\n",
    "    else:  # 5\n",
    "        print('Ganador: Jugador 1!')\n",
    "\n",
    "else:  # 6\n",
    "    print('Deporte desconocido.')\n",
    "\n",
    "    \n",
    "# 6 distintas posibilidades"
   ]
  },
  {
   "cell_type": "markdown",
   "metadata": {},
   "source": [
    "### Lo simplificamos aun mas?"
   ]
  },
  {
   "cell_type": "markdown",
   "metadata": {},
   "source": [
    "A ver:\n",
    "* El jugador 1 gana si el deporte es baloncesto y su puntaje es el mas alto\n",
    "* El jugador 1 gana si el deporte es golf y su puntaje es el mas bajo"
   ]
  },
  {
   "cell_type": "code",
   "execution_count": null,
   "metadata": {},
   "outputs": [],
   "source": [
    "# lo anterior lo podemos representar de la siguiente manera:\n",
    "jugador_1_gana_baloncesto = deporte == 'baloncesto' and puntaje_1 > puntaje_2\n",
    "jugador_1_gana_golf = deporte == 'golf' and puntaje_1 < puntaje_2\n",
    "jugador_1_gana = jugador_1_gana_baloncesto or jugador_1_gana_golf"
   ]
  },
  {
   "cell_type": "code",
   "execution_count": 46,
   "metadata": {},
   "outputs": [
    {
     "ename": "NameError",
     "evalue": "name 'jugador_1_gana_baloncesto' is not defined",
     "output_type": "error",
     "traceback": [
      "\u001b[0;31m---------------------------------------------------------------------------\u001b[0m",
      "\u001b[0;31mNameError\u001b[0m                                 Traceback (most recent call last)",
      "\u001b[0;32m<ipython-input-46-6308b30ebbe6>\u001b[0m in \u001b[0;36m<module>\u001b[0;34m\u001b[0m\n\u001b[0;32m----> 1\u001b[0;31m \u001b[0mjugador_1_gana_baloncesto\u001b[0m\u001b[0;34m\u001b[0m\u001b[0;34m\u001b[0m\u001b[0m\n\u001b[0m",
      "\u001b[0;31mNameError\u001b[0m: name 'jugador_1_gana_baloncesto' is not defined"
     ]
    }
   ],
   "source": [
    "jugador_1_gana_baloncesto"
   ]
  },
  {
   "cell_type": "code",
   "execution_count": null,
   "metadata": {},
   "outputs": [],
   "source": [
    "jugador_1_gana_golf"
   ]
  },
  {
   "cell_type": "code",
   "execution_count": null,
   "metadata": {},
   "outputs": [],
   "source": [
    "jugador_1_gana"
   ]
  },
  {
   "cell_type": "code",
   "execution_count": null,
   "metadata": {},
   "outputs": [],
   "source": [
    "if puntaje_1 == puntaje_2:\n",
    "    print('Empate!')  # 1\n",
    "\n",
    "elif deporte.lower() == 'baloncesto' or deporte.lower() == 'golf':\n",
    "    jugador_1_gana_baloncesto = deporte == 'baloncesto' and puntaje_1 > puntaje_2\n",
    "    jugador_1_gana_golf = deporte == 'golf' and puntaje_1 < puntaje_2\n",
    "    jugador_1_gana = jugador_1_gana_baloncesto or jugador_1_gana_golf\n",
    "    \n",
    "    if jugador_1_gana:\n",
    "        print('Ganador: Jugador 1!')  # 2\n",
    "    else:\n",
    "        print('Ganador: Jugador 2!')  # 3\n",
    "\n",
    "else:\n",
    "    print('Deporte desconocido')  # 4\n",
    "\n",
    "# solo hay 4 maneras en el cual el programa puede ejecutar"
   ]
  },
  {
   "cell_type": "code",
   "execution_count": 47,
   "metadata": {},
   "outputs": [
    {
     "name": "stdout",
     "output_type": "stream",
     "text": [
      "Ingrese una palabra: manzana\n",
      "Palabra tiene mas de 5 caracteres\n"
     ]
    }
   ],
   "source": [
    "palabra = input('Ingrese una palabra: ')\n",
    "n = len(palabra)\n",
    "if n < 5:\n",
    "    print('Palabra tiene menos de 5 caracteres')\n",
    "elif n > 5:\n",
    "    print('Palabra tiene mas de 5 caracteres')\n",
    "else:\n",
    "    print('Palabra tiene 5 caracteres')"
   ]
  },
  {
   "cell_type": "markdown",
   "metadata": {},
   "source": [
    "### Ejercicios"
   ]
  },
  {
   "cell_type": "markdown",
   "metadata": {},
   "source": [
    "Escriba un script que le solicita al usuario ingresar una palabra. \n",
    "Guarde la palabra en una variable, y luego imprima si la longitud del string es:\n",
    "1. menos de 5 caracteres\n",
    "2. mas de 5 caracteres\n",
    "3. igual a 5 caracteres\n",
    "\n",
    "Utilize las declaraciones `if`, `elif` y `else`."
   ]
  },
  {
   "cell_type": "markdown",
   "metadata": {},
   "source": [
    "## Reto: Encuentra los factores de un numero"
   ]
  },
  {
   "cell_type": "markdown",
   "metadata": {},
   "source": [
    "El factor de un numero positivo entero `n` es cualquier numero positivo entero que es:\n",
    "* igual o menor a `n`\n",
    "* divide `n` enteramente\n",
    "\n",
    "Por ejemplo, `3` es un factor de `12` porque `12` dividido entre `3` es `4`, sin  ningun monto restante. Sin embargo, `5` no es un factor de `12` porque `5` por `2` es `10` y queda un monto restante de `2`.\n",
    "\n",
    "Escribe un script `factores.py` que le solicita al usuario un numero positivo entero y luego imprime los factores de ese numero. \n",
    "\n",
    "Un ejemplo:\n",
    "\n",
    "Ingresa un numero positivo entero: 12\n",
    "* 1 es factor de 12\n",
    "* 2 es factor de 12\n",
    "* 3 es factor de 12\n",
    "* 4 es factor de 12\n",
    "* 6 es factor de 12\n",
    "* 12 es factor de 12\n",
    "\n",
    "Pista: el operador `%`"
   ]
  },
  {
   "cell_type": "markdown",
   "metadata": {},
   "source": [
    "## Rompiendo el patron"
   ]
  },
  {
   "cell_type": "markdown",
   "metadata": {},
   "source": [
    "Sabemos como repetir un bloque de codigo varias veces utilizando un `for` o `while` loop. Loops son utiles para repetir operaciones y procesar varios inputs.\n",
    "\n",
    "Combinando declaraciones `if` con `for` loops abre una serie de tecnicas para controlar como se ejecuta un codigo.\n",
    "\n",
    "En esta seccion aprenderemos a escribir declaraciones `if` que estan anidadas en `for` loops y aprenderemos de two (2) palabras - `break` y `continue` - que nos permiten controlar aun mas el flujo de ejecucion a atraves de un ciclo."
   ]
  },
  {
   "cell_type": "markdown",
   "metadata": {},
   "source": [
    "### `if` y `for` loops"
   ]
  },
  {
   "cell_type": "markdown",
   "metadata": {},
   "source": [
    "Un bloque de codigo en un `for` loop es como cualquier otro bloque de codigo. Es decir, podemos anidar un `if` en un `for` loop, tal como lo hariamos en cualquier otra parte del codigo."
   ]
  },
  {
   "cell_type": "code",
   "execution_count": 50,
   "metadata": {},
   "outputs": [
    {
     "name": "stdout",
     "output_type": "stream",
     "text": [
      "50\n"
     ]
    }
   ],
   "source": [
    "suma_de_pares = 0\n",
    "\n",
    "for n in range(1, 101):\n",
    "    if n % 2 == 0:  # si es par (divisible por 2)\n",
    "        suma_de_pares = suma_de_pares + 1\n",
    "\n",
    "print(suma_de_pares)"
   ]
  },
  {
   "cell_type": "markdown",
   "metadata": {},
   "source": [
    "Primero, la `suma_de_pares` inicia en `0`. Luego el programa cicla sobre los numeros `1` a `99`, suma el par a la suma asignada a la `asuma_de_pares`, y luego hace lo mismo hasta llegar al numero 99. El valor final de `suma_de_pares` es `2450`."
   ]
  },
  {
   "cell_type": "markdown",
   "metadata": {},
   "source": [
    "## `break`"
   ]
  },
  {
   "cell_type": "markdown",
   "metadata": {},
   "source": [
    "La palabra `break` le dice a Python que literalmente rompa el ciclo, que salga del ciclo. Es decir, el ciclo se detiene completamente y el codigo despues del loop es ejecutado."
   ]
  },
  {
   "cell_type": "code",
   "execution_count": 51,
   "metadata": {},
   "outputs": [
    {
     "name": "stdout",
     "output_type": "stream",
     "text": [
      "0\n",
      "1\n",
      "Terminamos con n = 2\n"
     ]
    }
   ],
   "source": [
    "for n in range(0, 4):\n",
    "    if n == 2:  # si el numero es igual a 2\n",
    "        break  # rompemos el ciclo, la siguiente linea no se ejecuta\n",
    "    print(n)\n",
    "\n",
    "print(f'Terminamos con n = {n}')"
   ]
  },
  {
   "cell_type": "markdown",
   "metadata": {},
   "source": [
    "## `continue`"
   ]
  },
  {
   "cell_type": "markdown",
   "metadata": {},
   "source": [
    "El palabra `continue` es utilizada para saltarse cualquier porcion restante de codigo en un ciclo y continuar a la proxima iteracion.  "
   ]
  },
  {
   "cell_type": "code",
   "execution_count": 53,
   "metadata": {},
   "outputs": [
    {
     "name": "stdout",
     "output_type": "stream",
     "text": [
      "0\n",
      "1\n",
      "3\n",
      "Terminamos con i = 3\n"
     ]
    }
   ],
   "source": [
    "for i in range(0, 4):\n",
    "    if i == 2:  # este no se imprime\n",
    "        continue\n",
    "    print(i)\n",
    "\n",
    "print(f'Terminamos con i = {i}')"
   ]
  },
  {
   "cell_type": "markdown",
   "metadata": {},
   "source": [
    "### `for`...`else`"
   ]
  },
  {
   "cell_type": "markdown",
   "metadata": {},
   "source": [
    "Loops pueden tener su propio `else` en Python, aunque esta estructura no es utilizada frecuentemente"
   ]
  },
  {
   "cell_type": "code",
   "execution_count": 54,
   "metadata": {},
   "outputs": [
    {
     "name": "stdout",
     "output_type": "stream",
     "text": [
      "Nunca hubo una X\n"
     ]
    }
   ],
   "source": [
    "frase = 'marca el lugar'\n",
    "\n",
    "for caracter in frase:\n",
    "    if caracter == 'X':\n",
    "        break\n",
    "else:  # ejecuta solo si el for loop termina sin que el break se ejecuta\n",
    "    print('Nunca hubo una X')"
   ]
  },
  {
   "cell_type": "code",
   "execution_count": null,
   "metadata": {},
   "outputs": [],
   "source": [
    "# ejemplo practico\n",
    "\n",
    "for n in range(3):\n",
    "    contraseña = input('Ingrese su contraseña: ')\n",
    "    if contraseña == 'I<3Panama':\n",
    "        break\n",
    "    print('Incorrecto')\n",
    "else:\n",
    "    print('Actividad sospechosa, las autoridades han sido alertadas.')"
   ]
  },
  {
   "cell_type": "code",
   "execution_count": 57,
   "metadata": {},
   "outputs": [
    {
     "name": "stdout",
     "output_type": "stream",
     "text": [
      "Ingrese algo: algo\n",
      "Ingrese algo: algo\n",
      "Ingrese algo: f\n",
      "Ingrese algo: d\n",
      "Ingrese algo: s\n",
      "Ingrese algo: Q\n"
     ]
    }
   ],
   "source": [
    "entrada = input('Ingrese algo: ')\n",
    "while entrada.lower() != 'q':\n",
    "    if entrada.lower() == 'q':\n",
    "        break\n",
    "    entrada = input('Ingrese algo: ')"
   ]
  },
  {
   "cell_type": "code",
   "execution_count": 60,
   "metadata": {},
   "outputs": [
    {
     "data": {
      "text/plain": [
       "1"
      ]
     },
     "execution_count": 60,
     "metadata": {},
     "output_type": "execute_result"
    }
   ],
   "source": [
    "3 % 2"
   ]
  },
  {
   "cell_type": "code",
   "execution_count": 63,
   "metadata": {},
   "outputs": [
    {
     "name": "stdout",
     "output_type": "stream",
     "text": [
      "3\n",
      "6\n",
      "9\n",
      "12\n",
      "15\n",
      "18\n",
      "21\n",
      "24\n",
      "27\n",
      "30\n",
      "33\n",
      "36\n",
      "39\n",
      "42\n",
      "45\n",
      "48\n"
     ]
    }
   ],
   "source": [
    "for i in range(1, 51):\n",
    "    if i % 3 != 0:\n",
    "        continue\n",
    "    print(i)"
   ]
  },
  {
   "cell_type": "markdown",
   "metadata": {},
   "source": [
    "## Ejercicios"
   ]
  },
  {
   "cell_type": "markdown",
   "metadata": {},
   "source": [
    "1. Utilizando `break`, escribe un programa que solicite al usuario dato de entrada, rompiendo el ciclo cuando el usuario ingrese `q` o `Q`.\n",
    "2. Utilizando `continue`, escribe un programa que cicle sobre los numeros `1` a `50` e imprime todos los numeros que no son multiples de `3`."
   ]
  },
  {
   "cell_type": "markdown",
   "metadata": {},
   "source": [
    "## Recuperacion de Errores"
   ]
  },
  {
   "cell_type": "markdown",
   "metadata": {},
   "source": [
    "A fin de crear programas robustos, necesitamos gestionar errores causados por datos de entrada del usuario o cualquier otra fuente impredecible. En este seccion aprenderemos como hacerlo."
   ]
  },
  {
   "cell_type": "markdown",
   "metadata": {},
   "source": [
    "### Un zoologico de excepciones"
   ]
  },
  {
   "cell_type": "markdown",
   "metadata": {},
   "source": [
    "Cuando nos encontramos con una error, que tambien se le conoce como excepcion, es util saber que fue lo que ocurrió. Python tiene un numero de tipos de excepciones incorporadas que describen una variedad de errores. Ya hemos visto algunos de esos errores anteriormente, no obstante, visitaremos los mas importantes."
   ]
  },
  {
   "cell_type": "markdown",
   "metadata": {},
   "source": [
    "#### ValueError"
   ]
  },
  {
   "cell_type": "markdown",
   "metadata": {},
   "source": [
    "Este error ocurre cuando una operacion se encuentra con un valor invalido."
   ]
  },
  {
   "cell_type": "code",
   "execution_count": null,
   "metadata": {},
   "outputs": [],
   "source": [
    "int('esto no es un numero')"
   ]
  },
  {
   "cell_type": "markdown",
   "metadata": {},
   "source": [
    "#### TypeError"
   ]
  },
  {
   "cell_type": "markdown",
   "metadata": {},
   "source": [
    "Occure cuando una operacion es realizada en un valor del tipo incorrecto."
   ]
  },
  {
   "cell_type": "code",
   "execution_count": null,
   "metadata": {},
   "outputs": [],
   "source": [
    "'1' + 2"
   ]
  },
  {
   "cell_type": "markdown",
   "metadata": {},
   "source": [
    "#### Name Error"
   ]
  },
  {
   "cell_type": "markdown",
   "metadata": {},
   "source": [
    "Ocurre ucuando se intenta usar un nombre de variable que no ha sido definido todavia"
   ]
  },
  {
   "cell_type": "code",
   "execution_count": null,
   "metadata": {},
   "outputs": [],
   "source": [
    "print(no_existe)"
   ]
  },
  {
   "cell_type": "markdown",
   "metadata": {},
   "source": [
    "#### ZeroDivisionError"
   ]
  },
  {
   "cell_type": "markdown",
   "metadata": {},
   "source": [
    "Ocurre cuando el divisor de una division es `0`"
   ]
  },
  {
   "cell_type": "code",
   "execution_count": null,
   "metadata": {},
   "outputs": [],
   "source": [
    "1 / 0"
   ]
  },
  {
   "cell_type": "markdown",
   "metadata": {},
   "source": [
    "#### OverflowError"
   ]
  },
  {
   "cell_type": "markdown",
   "metadata": {},
   "source": [
    "Ocurre cuando el resultado de una operacion aritmetica es muy grande. "
   ]
  },
  {
   "cell_type": "code",
   "execution_count": null,
   "metadata": {},
   "outputs": [],
   "source": [
    "pow(2.0, 1_000_000)"
   ]
  },
  {
   "cell_type": "markdown",
   "metadata": {},
   "source": [
    "### **try** y **except**"
   ]
  },
  {
   "cell_type": "markdown",
   "metadata": {},
   "source": [
    "En ocasiones debemos predecir que una excepcion o error pudiese ocurrir. En vez de dejar que el programa se detenga erroneamente, podemos agarrar el error si ocurre y podemos realizar alguna operacion como consecuencia del mismo.\n",
    "\n",
    "Por ejemplo, si un usuario ingresa un dato de entrada no deseado, debemos informarle que han ingresado un valor invalido. No obstante, para prevenir que el programa se detenga, debemos utilizar `try` y `except`, que se traduce a *intento* y *excepto*."
   ]
  },
  {
   "cell_type": "code",
   "execution_count": null,
   "metadata": {},
   "outputs": [],
   "source": [
    "try:\n",
    "    numero = int(input('Ingresa un numero: '))  # si no es un numero\n",
    "except ValueError:  # int() alza un error ValueError, aqui lo atrapamos\n",
    "    print('Eso no fue un numero')"
   ]
  },
  {
   "cell_type": "code",
   "execution_count": null,
   "metadata": {},
   "outputs": [],
   "source": [
    "def divide(num1, num2):\n",
    "    try:\n",
    "        print(num1 / num2)\n",
    "    except (TypeError, ZeroDivisionError):\n",
    "        print('encontramos un error')"
   ]
  },
  {
   "cell_type": "code",
   "execution_count": null,
   "metadata": {},
   "outputs": [],
   "source": [
    "divide(1,0)"
   ]
  },
  {
   "cell_type": "code",
   "execution_count": null,
   "metadata": {},
   "outputs": [],
   "source": [
    "divide(10, 5)"
   ]
  },
  {
   "cell_type": "code",
   "execution_count": null,
   "metadata": {},
   "outputs": [],
   "source": [
    "# en ocasiones es mejor agarrar cada error individualmente\n",
    "def divide(num1, num2):\n",
    "    try:\n",
    "        print(num1 / num2)\n",
    "    except TypeError:\n",
    "        print('Ambos argumentos deben ser un numero')\n",
    "    except ZeroDivisionError:\n",
    "        print('num2 no debe ser 0')"
   ]
  },
  {
   "cell_type": "code",
   "execution_count": null,
   "metadata": {},
   "outputs": [],
   "source": [
    "divide(1, 0)"
   ]
  },
  {
   "cell_type": "code",
   "execution_count": null,
   "metadata": {},
   "outputs": [],
   "source": [
    "divide('a', 0)"
   ]
  },
  {
   "cell_type": "code",
   "execution_count": null,
   "metadata": {},
   "outputs": [],
   "source": [
    "divide(0, 1)"
   ]
  },
  {
   "cell_type": "markdown",
   "metadata": {},
   "source": [
    "### Solo el `except`"
   ]
  },
  {
   "cell_type": "code",
   "execution_count": null,
   "metadata": {},
   "outputs": [],
   "source": [
    "# este patron no es buena practica porque es propenso a esconder todo error\n",
    "try:\n",
    "    # nuestro codigo\n",
    "except:\n",
    "    print(\"Algo pasó!\")"
   ]
  },
  {
   "cell_type": "markdown",
   "metadata": {},
   "source": [
    "### Ejercicios\n",
    "\n",
    "1. Escriba un script que repetidamente le solicita al usuario que ingrese un numero entero, mostrando un mensaje de \"intene nuevamente\" cuando se rescata el error `ValueError` que es alzado si el usuario no ingresa un numero entero. Si el usuario ingresa el numero, el programa debe mostrar el numero nuevamente.\n",
    "\n",
    "2. Escriba un programa que le solicita el usuario ingresar un string y un numero `n`. Luego muestre el caracter ubicado en el indice `n` del string. Haga uso de herramientas para la gestion de errores a fin de asegurar que el programa no se interrumpa cuando el usuario ingrese no ingrese un numero o cuando el indice queda fuera del rango del string. El programa deberia mostrar un mensaje diferente dependiendo del error que ocurra."
   ]
  },
  {
   "cell_type": "markdown",
   "metadata": {},
   "source": [
    "## Simulacion de Eventos y Calculo de Probabilidades"
   ]
  },
  {
   "cell_type": "markdown",
   "metadata": {},
   "source": [
    "En esta seccion, vamos aplicar algunos conceptos que hemos aprendido sobre ciclos y logica condicional a un problema real: simulando evento y calculando probabilidades.\n",
    "\n",
    "Vamos a ejecutar una simulacion conocida como el experimento **Monte Carlo**.\n",
    "\n",
    "Cada experimento consiste de una prueba u ensayo, que consiste en un proceso repetible - como lanzar una moneda - que genera un resultado, e.g. cara o sello. La prueba es repetida muchas veces a fin de calcular la probabilidad que algun resultado ocurra.\n",
    "\n",
    "Para lograrlo, necesitaremos agregar aleatoridad en nuestro codigo."
   ]
  },
  {
   "cell_type": "markdown",
   "metadata": {},
   "source": [
    "### El modulo `random`"
   ]
  },
  {
   "cell_type": "markdown",
   "metadata": {},
   "source": [
    "Python nos proporciona varias funciones para generar numeros aleatorios en el modulo **random**. Un **modulo** es una coleccion de codigo relacionado. La libreria estandar de Python es una coleccion organizada de modulos que podemos importar en nuestro codigo, a fin de resolver varios problemas."
   ]
  },
  {
   "cell_type": "code",
   "execution_count": 64,
   "metadata": {},
   "outputs": [],
   "source": [
    "import random"
   ]
  },
  {
   "cell_type": "code",
   "execution_count": 92,
   "metadata": {},
   "outputs": [
    {
     "data": {
      "text/plain": [
       "6"
      ]
     },
     "execution_count": 92,
     "metadata": {},
     "output_type": "execute_result"
    }
   ],
   "source": [
    "random.randint(1, 10)"
   ]
  },
  {
   "cell_type": "markdown",
   "metadata": {},
   "source": [
    "`.randint()` es un metodo del modulo `random`, es por eso que escribimos `random` primero, luego un punto `.` y luego el metodo `randint()` con sus dos parametros. "
   ]
  },
  {
   "cell_type": "code",
   "execution_count": 93,
   "metadata": {},
   "outputs": [
    {
     "name": "stdout",
     "output_type": "stream",
     "text": [
      "Help on method randint in module random:\n",
      "\n",
      "randint(a, b) method of random.Random instance\n",
      "    Return random integer in range [a, b], including both end points.\n",
      "\n"
     ]
    }
   ],
   "source": [
    "help(random.randint)"
   ]
  },
  {
   "cell_type": "markdown",
   "metadata": {},
   "source": [
    "Este metodo `randint()` retorna un numero entero aleatorio en el rango `[a, b]`, incluyendo ambos extremos. Observamos que la firma de la funcion en la documentacion indica la presencia de dos (2) argumentos a y b."
   ]
  },
  {
   "cell_type": "code",
   "execution_count": null,
   "metadata": {},
   "outputs": [],
   "source": [
    "random.randint(1, 10)"
   ]
  },
  {
   "cell_type": "code",
   "execution_count": null,
   "metadata": {},
   "outputs": [],
   "source": [
    "random.randint(0, 1)  # 0 o 1"
   ]
  },
  {
   "cell_type": "markdown",
   "metadata": {},
   "source": [
    "### Lanzamiento de moneda"
   ]
  },
  {
   "cell_type": "markdown",
   "metadata": {},
   "source": [
    "Como podemos simular un lanzamiento? \n",
    "\n",
    "Una moneda tiene dos (2) lados: cara o sello. Si decimos que 0 es cara y 1 es sello, podemos utilizar `randint(0, 1)` para simular un lanzamiento."
   ]
  },
  {
   "cell_type": "code",
   "execution_count": 102,
   "metadata": {},
   "outputs": [
    {
     "data": {
      "text/plain": [
       "1"
      ]
     },
     "execution_count": 102,
     "metadata": {},
     "output_type": "execute_result"
    }
   ],
   "source": [
    "random.randint(0, 1)"
   ]
  },
  {
   "cell_type": "markdown",
   "metadata": {},
   "source": [
    "En este experimento, queremos saber, cual es la probabilidad de que salga cara o que salga sello. \n",
    "\n",
    "Necesitamos simular el lanzamiento muchas veces, para tener certeza de la probabilidad, y darle seguimiento a las veces que salga cara y de que salga sello.\n",
    "\n",
    "Cada prueba tiene dos etapas:\n",
    "1. Lanzamiento de moneda\n",
    "2. Determinar si salio cara, en cuyo caso sumar +1 a la variable que representa el numero de veces que sale cara, y en caso contrario, sumar +1 a la variable que representa el numero de veces que sale sello.\n",
    "\n",
    "Vamos a repetir esta prueba unas 10,000 veces (podemos utilizar `range(10_000)`).\n",
    "\n",
    "Empezemos escribiendo una funcion llamada `lanzamiento()` que aleatoriamente retorna el string `cara` o `sello`. "
   ]
  },
  {
   "cell_type": "code",
   "execution_count": 103,
   "metadata": {},
   "outputs": [],
   "source": [
    "import random\n",
    "def lanzamiento():\n",
    "    \"\"\"Aleatoriamente retorna cara o sello\"\"\"\n",
    "    if random.randint(0, 1) == 0:\n",
    "        return \"cara\"\n",
    "    else:\n",
    "        return \"sello\""
   ]
  },
  {
   "cell_type": "code",
   "execution_count": 114,
   "metadata": {},
   "outputs": [],
   "source": [
    "# ahora podemos escribir un ciclo que haga el lanzamiento 10,000 veces\n",
    "\n",
    "cara = 0\n",
    "sello = 0\n",
    "\n",
    "for prueba in range(10): # de 0 a 99,999\n",
    "    if lanzamiento() == 'cara':\n",
    "        cara = cara + 1\n",
    "    else:\n",
    "        sello = sello + 1"
   ]
  },
  {
   "cell_type": "code",
   "execution_count": 115,
   "metadata": {},
   "outputs": [
    {
     "name": "stdout",
     "output_type": "stream",
     "text": [
      "4 6\n",
      "La probabilidad de cara a sello es de 0.67\n"
     ]
    }
   ],
   "source": [
    "print(cara, sello)\n",
    "proporcion = cara / sello\n",
    "print(f'La probabilidad de cara a sello es de {proporcion:.2f}')"
   ]
  },
  {
   "cell_type": "code",
   "execution_count": 134,
   "metadata": {},
   "outputs": [],
   "source": [
    "def dados(num_lanzamientos):\n",
    "    uno, dos, tres, cuatro, cinco, seis = 0, 0, 0, 0, 0, 0\n",
    "    for i in range(num_lanzamientos):\n",
    "        lanzamiento = random.randint(1, 6)\n",
    "        if lanzamiento == 1:\n",
    "            uno += 1\n",
    "        elif lanzamiento == 2:\n",
    "            dos += 1\n",
    "        elif lanzamiento == 3:\n",
    "            tres += 1\n",
    "        elif lanzamiento == 4:\n",
    "            cuatro += 1\n",
    "        elif lanzamiento == 5:\n",
    "            cinco += 1\n",
    "        else:\n",
    "            seis += 1\n",
    "    \n",
    "    p1 = uno / num_lanzamientos\n",
    "    p2 = dos / num_lanzamientos\n",
    "    p3 = tres / num_lanzamientos\n",
    "    p4 = cuatro / num_lanzamientos\n",
    "    p5 = cinco / num_lanzamientos\n",
    "    p6 = seis / num_lanzamientos\n",
    "    \n",
    "    print(uno, dos, tres, cuatro, cinco, seis)\n",
    "    print(p1, p2, p3, p4, p5, p6)"
   ]
  },
  {
   "cell_type": "code",
   "execution_count": 133,
   "metadata": {},
   "outputs": [
    {
     "name": "stdout",
     "output_type": "stream",
     "text": [
      "(0.2, 0.16, 0.1, 0.16, 0.24, 0.14)\n"
     ]
    }
   ],
   "source": [
    "print(dados(50))"
   ]
  },
  {
   "cell_type": "markdown",
   "metadata": {},
   "source": [
    "### Ejercicios\n",
    "\n",
    "1. Escribe una funcion `dados()` que utiliza `randint()` para simular un lanzado de dados (de 1 a 6).\n",
    "2. Escribe un script que simula 10,000 lanzadas de dados y muestra el numero promedio lanzado."
   ]
  },
  {
   "cell_type": "markdown",
   "metadata": {},
   "source": [
    "## Reto: Simulacion de un lanzamiento de moneda\n",
    "\n",
    "En promedio, cuantos lanzamientos de moneda se necesitan para que la secuencia contenta cara y sello? En otras palabras, si lanazamos la moneda y sale cara, cuantas veces mas tenemos que lanzar para que salga sello? Por ejemplo, puede salir cara, cara y sello, lo que suman 3 lanzamientos. \n",
    "\n",
    "Escriba una simulacion de 10,000 pruebas e imprima el numero promedio de lanzamientos requeridos para que la secuencia tenga cara y sello."
   ]
  },
  {
   "cell_type": "code",
   "execution_count": 135,
   "metadata": {},
   "outputs": [],
   "source": [
    "veces = []\n",
    "cara, sello = 0, 0\n",
    "for prueba in range(10_000): # de 0 a 99,999\n",
    "    cara_o_sello = lanzamiento()\n",
    "    if cara > 0 and sello > 0:\n",
    "        veces.append(cara + sello)\n",
    "        cara, sello = 0, 0\n",
    "    elif cara_o_sello == 'cara':\n",
    "        cara = cara + 1\n",
    "    else:\n",
    "        sello = sello + 1"
   ]
  },
  {
   "cell_type": "code",
   "execution_count": 136,
   "metadata": {},
   "outputs": [
    {
     "name": "stdout",
     "output_type": "stream",
     "text": [
      "Help on module statistics:\n",
      "\n",
      "NAME\n",
      "    statistics - Basic statistics module.\n",
      "\n",
      "MODULE REFERENCE\n",
      "    https://docs.python.org/3.8/library/statistics\n",
      "    \n",
      "    The following documentation is automatically generated from the Python\n",
      "    source files.  It may be incomplete, incorrect or include features that\n",
      "    are considered implementation detail and may vary between Python\n",
      "    implementations.  When in doubt, consult the module reference at the\n",
      "    location listed above.\n",
      "\n",
      "DESCRIPTION\n",
      "    This module provides functions for calculating statistics of data, including\n",
      "    averages, variance, and standard deviation.\n",
      "    \n",
      "    Calculating averages\n",
      "    --------------------\n",
      "    \n",
      "    ==================  ==================================================\n",
      "    Function            Description\n",
      "    ==================  ==================================================\n",
      "    mean                Arithmetic mean (average) of data.\n",
      "    fmean               Fast, floating point arithmetic mean.\n",
      "    geometric_mean      Geometric mean of data.\n",
      "    harmonic_mean       Harmonic mean of data.\n",
      "    median              Median (middle value) of data.\n",
      "    median_low          Low median of data.\n",
      "    median_high         High median of data.\n",
      "    median_grouped      Median, or 50th percentile, of grouped data.\n",
      "    mode                Mode (most common value) of data.\n",
      "    multimode           List of modes (most common values of data).\n",
      "    quantiles           Divide data into intervals with equal probability.\n",
      "    ==================  ==================================================\n",
      "    \n",
      "    Calculate the arithmetic mean (\"the average\") of data:\n",
      "    \n",
      "    >>> mean([-1.0, 2.5, 3.25, 5.75])\n",
      "    2.625\n",
      "    \n",
      "    \n",
      "    Calculate the standard median of discrete data:\n",
      "    \n",
      "    >>> median([2, 3, 4, 5])\n",
      "    3.5\n",
      "    \n",
      "    \n",
      "    Calculate the median, or 50th percentile, of data grouped into class intervals\n",
      "    centred on the data values provided. E.g. if your data points are rounded to\n",
      "    the nearest whole number:\n",
      "    \n",
      "    >>> median_grouped([2, 2, 3, 3, 3, 4])  #doctest: +ELLIPSIS\n",
      "    2.8333333333...\n",
      "    \n",
      "    This should be interpreted in this way: you have two data points in the class\n",
      "    interval 1.5-2.5, three data points in the class interval 2.5-3.5, and one in\n",
      "    the class interval 3.5-4.5. The median of these data points is 2.8333...\n",
      "    \n",
      "    \n",
      "    Calculating variability or spread\n",
      "    ---------------------------------\n",
      "    \n",
      "    ==================  =============================================\n",
      "    Function            Description\n",
      "    ==================  =============================================\n",
      "    pvariance           Population variance of data.\n",
      "    variance            Sample variance of data.\n",
      "    pstdev              Population standard deviation of data.\n",
      "    stdev               Sample standard deviation of data.\n",
      "    ==================  =============================================\n",
      "    \n",
      "    Calculate the standard deviation of sample data:\n",
      "    \n",
      "    >>> stdev([2.5, 3.25, 5.5, 11.25, 11.75])  #doctest: +ELLIPSIS\n",
      "    4.38961843444...\n",
      "    \n",
      "    If you have previously calculated the mean, you can pass it as the optional\n",
      "    second argument to the four \"spread\" functions to avoid recalculating it:\n",
      "    \n",
      "    >>> data = [1, 2, 2, 4, 4, 4, 5, 6]\n",
      "    >>> mu = mean(data)\n",
      "    >>> pvariance(data, mu)\n",
      "    2.5\n",
      "    \n",
      "    \n",
      "    Exceptions\n",
      "    ----------\n",
      "    \n",
      "    A single exception is defined: StatisticsError is a subclass of ValueError.\n",
      "\n",
      "CLASSES\n",
      "    builtins.ValueError(builtins.Exception)\n",
      "        StatisticsError\n",
      "    builtins.object\n",
      "        NormalDist\n",
      "    \n",
      "    class NormalDist(builtins.object)\n",
      "     |  NormalDist(mu=0.0, sigma=1.0)\n",
      "     |  \n",
      "     |  Normal distribution of a random variable\n",
      "     |  \n",
      "     |  Methods defined here:\n",
      "     |  \n",
      "     |  __add__(x1, x2)\n",
      "     |      Add a constant or another NormalDist instance.\n",
      "     |      \n",
      "     |      If *other* is a constant, translate mu by the constant,\n",
      "     |      leaving sigma unchanged.\n",
      "     |      \n",
      "     |      If *other* is a NormalDist, add both the means and the variances.\n",
      "     |      Mathematically, this works only if the two distributions are\n",
      "     |      independent or if they are jointly normally distributed.\n",
      "     |  \n",
      "     |  __eq__(x1, x2)\n",
      "     |      Two NormalDist objects are equal if their mu and sigma are both equal.\n",
      "     |  \n",
      "     |  __hash__(self)\n",
      "     |      NormalDist objects hash equal if their mu and sigma are both equal.\n",
      "     |  \n",
      "     |  __init__(self, mu=0.0, sigma=1.0)\n",
      "     |      NormalDist where mu is the mean and sigma is the standard deviation.\n",
      "     |  \n",
      "     |  __mul__(x1, x2)\n",
      "     |      Multiply both mu and sigma by a constant.\n",
      "     |      \n",
      "     |      Used for rescaling, perhaps to change measurement units.\n",
      "     |      Sigma is scaled with the absolute value of the constant.\n",
      "     |  \n",
      "     |  __neg__(x1)\n",
      "     |      Negates mu while keeping sigma the same.\n",
      "     |  \n",
      "     |  __pos__(x1)\n",
      "     |      Return a copy of the instance.\n",
      "     |  \n",
      "     |  __radd__ = __add__(x1, x2)\n",
      "     |  \n",
      "     |  __repr__(self)\n",
      "     |      Return repr(self).\n",
      "     |  \n",
      "     |  __rmul__ = __mul__(x1, x2)\n",
      "     |  \n",
      "     |  __rsub__(x1, x2)\n",
      "     |      Subtract a NormalDist from a constant or another NormalDist.\n",
      "     |  \n",
      "     |  __sub__(x1, x2)\n",
      "     |      Subtract a constant or another NormalDist instance.\n",
      "     |      \n",
      "     |      If *other* is a constant, translate by the constant mu,\n",
      "     |      leaving sigma unchanged.\n",
      "     |      \n",
      "     |      If *other* is a NormalDist, subtract the means and add the variances.\n",
      "     |      Mathematically, this works only if the two distributions are\n",
      "     |      independent or if they are jointly normally distributed.\n",
      "     |  \n",
      "     |  __truediv__(x1, x2)\n",
      "     |      Divide both mu and sigma by a constant.\n",
      "     |      \n",
      "     |      Used for rescaling, perhaps to change measurement units.\n",
      "     |      Sigma is scaled with the absolute value of the constant.\n",
      "     |  \n",
      "     |  cdf(self, x)\n",
      "     |      Cumulative distribution function.  P(X <= x)\n",
      "     |  \n",
      "     |  inv_cdf(self, p)\n",
      "     |      Inverse cumulative distribution function.  x : P(X <= x) = p\n",
      "     |      \n",
      "     |      Finds the value of the random variable such that the probability of\n",
      "     |      the variable being less than or equal to that value equals the given\n",
      "     |      probability.\n",
      "     |      \n",
      "     |      This function is also called the percent point function or quantile\n",
      "     |      function.\n",
      "     |  \n",
      "     |  overlap(self, other)\n",
      "     |      Compute the overlapping coefficient (OVL) between two normal distributions.\n",
      "     |      \n",
      "     |      Measures the agreement between two normal probability distributions.\n",
      "     |      Returns a value between 0.0 and 1.0 giving the overlapping area in\n",
      "     |      the two underlying probability density functions.\n",
      "     |      \n",
      "     |          >>> N1 = NormalDist(2.4, 1.6)\n",
      "     |          >>> N2 = NormalDist(3.2, 2.0)\n",
      "     |          >>> N1.overlap(N2)\n",
      "     |          0.8035050657330205\n",
      "     |  \n",
      "     |  pdf(self, x)\n",
      "     |      Probability density function.  P(x <= X < x+dx) / dx\n",
      "     |  \n",
      "     |  quantiles(self, n=4)\n",
      "     |      Divide into *n* continuous intervals with equal probability.\n",
      "     |      \n",
      "     |      Returns a list of (n - 1) cut points separating the intervals.\n",
      "     |      \n",
      "     |      Set *n* to 4 for quartiles (the default).  Set *n* to 10 for deciles.\n",
      "     |      Set *n* to 100 for percentiles which gives the 99 cuts points that\n",
      "     |      separate the normal distribution in to 100 equal sized groups.\n",
      "     |  \n",
      "     |  samples(self, n, *, seed=None)\n",
      "     |      Generate *n* samples for a given mean and standard deviation.\n",
      "     |  \n",
      "     |  ----------------------------------------------------------------------\n",
      "     |  Class methods defined here:\n",
      "     |  \n",
      "     |  from_samples(data) from builtins.type\n",
      "     |      Make a normal distribution instance from sample data.\n",
      "     |  \n",
      "     |  ----------------------------------------------------------------------\n",
      "     |  Readonly properties defined here:\n",
      "     |  \n",
      "     |  mean\n",
      "     |      Arithmetic mean of the normal distribution.\n",
      "     |  \n",
      "     |  median\n",
      "     |      Return the median of the normal distribution\n",
      "     |  \n",
      "     |  mode\n",
      "     |      Return the mode of the normal distribution\n",
      "     |      \n",
      "     |      The mode is the value x where which the probability density\n",
      "     |      function (pdf) takes its maximum value.\n",
      "     |  \n",
      "     |  stdev\n",
      "     |      Standard deviation of the normal distribution.\n",
      "     |  \n",
      "     |  variance\n",
      "     |      Square of the standard deviation.\n",
      "    \n",
      "    class StatisticsError(builtins.ValueError)\n",
      "     |  Inappropriate argument value (of correct type).\n",
      "     |  \n",
      "     |  Method resolution order:\n",
      "     |      StatisticsError\n",
      "     |      builtins.ValueError\n",
      "     |      builtins.Exception\n",
      "     |      builtins.BaseException\n",
      "     |      builtins.object\n",
      "     |  \n",
      "     |  Data descriptors defined here:\n",
      "     |  \n",
      "     |  __weakref__\n",
      "     |      list of weak references to the object (if defined)\n",
      "     |  \n",
      "     |  ----------------------------------------------------------------------\n",
      "     |  Methods inherited from builtins.ValueError:\n",
      "     |  \n",
      "     |  __init__(self, /, *args, **kwargs)\n",
      "     |      Initialize self.  See help(type(self)) for accurate signature.\n",
      "     |  \n",
      "     |  ----------------------------------------------------------------------\n",
      "     |  Static methods inherited from builtins.ValueError:\n",
      "     |  \n",
      "     |  __new__(*args, **kwargs) from builtins.type\n",
      "     |      Create and return a new object.  See help(type) for accurate signature.\n",
      "     |  \n",
      "     |  ----------------------------------------------------------------------\n",
      "     |  Methods inherited from builtins.BaseException:\n",
      "     |  \n",
      "     |  __delattr__(self, name, /)\n",
      "     |      Implement delattr(self, name).\n",
      "     |  \n",
      "     |  __getattribute__(self, name, /)\n",
      "     |      Return getattr(self, name).\n",
      "     |  \n",
      "     |  __reduce__(...)\n",
      "     |      Helper for pickle.\n",
      "     |  \n",
      "     |  __repr__(self, /)\n",
      "     |      Return repr(self).\n",
      "     |  \n",
      "     |  __setattr__(self, name, value, /)\n",
      "     |      Implement setattr(self, name, value).\n",
      "     |  \n",
      "     |  __setstate__(...)\n",
      "     |  \n",
      "     |  __str__(self, /)\n",
      "     |      Return str(self).\n",
      "     |  \n",
      "     |  with_traceback(...)\n",
      "     |      Exception.with_traceback(tb) --\n",
      "     |      set self.__traceback__ to tb and return self.\n",
      "     |  \n",
      "     |  ----------------------------------------------------------------------\n",
      "     |  Data descriptors inherited from builtins.BaseException:\n",
      "     |  \n",
      "     |  __cause__\n",
      "     |      exception cause\n",
      "     |  \n",
      "     |  __context__\n",
      "     |      exception context\n",
      "     |  \n",
      "     |  __dict__\n",
      "     |  \n",
      "     |  __suppress_context__\n",
      "     |  \n",
      "     |  __traceback__\n",
      "     |  \n",
      "     |  args\n",
      "\n",
      "FUNCTIONS\n",
      "    fmean(data)\n",
      "        Convert data to floats and compute the arithmetic mean.\n",
      "        \n",
      "        This runs faster than the mean() function and it always returns a float.\n",
      "        If the input dataset is empty, it raises a StatisticsError.\n",
      "        \n",
      "        >>> fmean([3.5, 4.0, 5.25])\n",
      "        4.25\n",
      "    \n",
      "    geometric_mean(data)\n",
      "        Convert data to floats and compute the geometric mean.\n",
      "        \n",
      "        Raises a StatisticsError if the input dataset is empty,\n",
      "        if it contains a zero, or if it contains a negative value.\n",
      "        \n",
      "        No special efforts are made to achieve exact results.\n",
      "        (However, this may change in the future.)\n",
      "        \n",
      "        >>> round(geometric_mean([54, 24, 36]), 9)\n",
      "        36.0\n",
      "    \n",
      "    harmonic_mean(data)\n",
      "        Return the harmonic mean of data.\n",
      "        \n",
      "        The harmonic mean, sometimes called the subcontrary mean, is the\n",
      "        reciprocal of the arithmetic mean of the reciprocals of the data,\n",
      "        and is often appropriate when averaging quantities which are rates\n",
      "        or ratios, for example speeds. Example:\n",
      "        \n",
      "        Suppose an investor purchases an equal value of shares in each of\n",
      "        three companies, with P/E (price/earning) ratios of 2.5, 3 and 10.\n",
      "        What is the average P/E ratio for the investor's portfolio?\n",
      "        \n",
      "        >>> harmonic_mean([2.5, 3, 10])  # For an equal investment portfolio.\n",
      "        3.6\n",
      "        \n",
      "        Using the arithmetic mean would give an average of about 5.167, which\n",
      "        is too high.\n",
      "        \n",
      "        If ``data`` is empty, or any element is less than zero,\n",
      "        ``harmonic_mean`` will raise ``StatisticsError``.\n",
      "    \n",
      "    mean(data)\n",
      "        Return the sample arithmetic mean of data.\n",
      "        \n",
      "        >>> mean([1, 2, 3, 4, 4])\n",
      "        2.8\n",
      "        \n",
      "        >>> from fractions import Fraction as F\n",
      "        >>> mean([F(3, 7), F(1, 21), F(5, 3), F(1, 3)])\n",
      "        Fraction(13, 21)\n",
      "        \n",
      "        >>> from decimal import Decimal as D\n",
      "        >>> mean([D(\"0.5\"), D(\"0.75\"), D(\"0.625\"), D(\"0.375\")])\n",
      "        Decimal('0.5625')\n",
      "        \n",
      "        If ``data`` is empty, StatisticsError will be raised.\n",
      "    \n",
      "    median(data)\n",
      "        Return the median (middle value) of numeric data.\n",
      "        \n",
      "        When the number of data points is odd, return the middle data point.\n",
      "        When the number of data points is even, the median is interpolated by\n",
      "        taking the average of the two middle values:\n",
      "        \n",
      "        >>> median([1, 3, 5])\n",
      "        3\n",
      "        >>> median([1, 3, 5, 7])\n",
      "        4.0\n",
      "    \n",
      "    median_grouped(data, interval=1)\n",
      "        Return the 50th percentile (median) of grouped continuous data.\n",
      "        \n",
      "        >>> median_grouped([1, 2, 2, 3, 4, 4, 4, 4, 4, 5])\n",
      "        3.7\n",
      "        >>> median_grouped([52, 52, 53, 54])\n",
      "        52.5\n",
      "        \n",
      "        This calculates the median as the 50th percentile, and should be\n",
      "        used when your data is continuous and grouped. In the above example,\n",
      "        the values 1, 2, 3, etc. actually represent the midpoint of classes\n",
      "        0.5-1.5, 1.5-2.5, 2.5-3.5, etc. The middle value falls somewhere in\n",
      "        class 3.5-4.5, and interpolation is used to estimate it.\n",
      "        \n",
      "        Optional argument ``interval`` represents the class interval, and\n",
      "        defaults to 1. Changing the class interval naturally will change the\n",
      "        interpolated 50th percentile value:\n",
      "        \n",
      "        >>> median_grouped([1, 3, 3, 5, 7], interval=1)\n",
      "        3.25\n",
      "        >>> median_grouped([1, 3, 3, 5, 7], interval=2)\n",
      "        3.5\n",
      "        \n",
      "        This function does not check whether the data points are at least\n",
      "        ``interval`` apart.\n",
      "    \n",
      "    median_high(data)\n",
      "        Return the high median of data.\n",
      "        \n",
      "        When the number of data points is odd, the middle value is returned.\n",
      "        When it is even, the larger of the two middle values is returned.\n",
      "        \n",
      "        >>> median_high([1, 3, 5])\n",
      "        3\n",
      "        >>> median_high([1, 3, 5, 7])\n",
      "        5\n",
      "    \n",
      "    median_low(data)\n",
      "        Return the low median of numeric data.\n",
      "        \n",
      "        When the number of data points is odd, the middle value is returned.\n",
      "        When it is even, the smaller of the two middle values is returned.\n",
      "        \n",
      "        >>> median_low([1, 3, 5])\n",
      "        3\n",
      "        >>> median_low([1, 3, 5, 7])\n",
      "        3\n",
      "    \n",
      "    mode(data)\n",
      "        Return the most common data point from discrete or nominal data.\n",
      "        \n",
      "        ``mode`` assumes discrete data, and returns a single value. This is the\n",
      "        standard treatment of the mode as commonly taught in schools:\n",
      "        \n",
      "            >>> mode([1, 1, 2, 3, 3, 3, 3, 4])\n",
      "            3\n",
      "        \n",
      "        This also works with nominal (non-numeric) data:\n",
      "        \n",
      "            >>> mode([\"red\", \"blue\", \"blue\", \"red\", \"green\", \"red\", \"red\"])\n",
      "            'red'\n",
      "        \n",
      "        If there are multiple modes with same frequency, return the first one\n",
      "        encountered:\n",
      "        \n",
      "            >>> mode(['red', 'red', 'green', 'blue', 'blue'])\n",
      "            'red'\n",
      "        \n",
      "        If *data* is empty, ``mode``, raises StatisticsError.\n",
      "    \n",
      "    multimode(data)\n",
      "        Return a list of the most frequently occurring values.\n",
      "        \n",
      "        Will return more than one result if there are multiple modes\n",
      "        or an empty list if *data* is empty.\n",
      "        \n",
      "        >>> multimode('aabbbbbbbbcc')\n",
      "        ['b']\n",
      "        >>> multimode('aabbbbccddddeeffffgg')\n",
      "        ['b', 'd', 'f']\n",
      "        >>> multimode('')\n",
      "        []\n",
      "    \n",
      "    pstdev(data, mu=None)\n",
      "        Return the square root of the population variance.\n",
      "        \n",
      "        See ``pvariance`` for arguments and other details.\n",
      "        \n",
      "        >>> pstdev([1.5, 2.5, 2.5, 2.75, 3.25, 4.75])\n",
      "        0.986893273527251\n",
      "    \n",
      "    pvariance(data, mu=None)\n",
      "        Return the population variance of ``data``.\n",
      "        \n",
      "        data should be a sequence or iterable of Real-valued numbers, with at least one\n",
      "        value. The optional argument mu, if given, should be the mean of\n",
      "        the data. If it is missing or None, the mean is automatically calculated.\n",
      "        \n",
      "        Use this function to calculate the variance from the entire population.\n",
      "        To estimate the variance from a sample, the ``variance`` function is\n",
      "        usually a better choice.\n",
      "        \n",
      "        Examples:\n",
      "        \n",
      "        >>> data = [0.0, 0.25, 0.25, 1.25, 1.5, 1.75, 2.75, 3.25]\n",
      "        >>> pvariance(data)\n",
      "        1.25\n",
      "        \n",
      "        If you have already calculated the mean of the data, you can pass it as\n",
      "        the optional second argument to avoid recalculating it:\n",
      "        \n",
      "        >>> mu = mean(data)\n",
      "        >>> pvariance(data, mu)\n",
      "        1.25\n",
      "        \n",
      "        Decimals and Fractions are supported:\n",
      "        \n",
      "        >>> from decimal import Decimal as D\n",
      "        >>> pvariance([D(\"27.5\"), D(\"30.25\"), D(\"30.25\"), D(\"34.5\"), D(\"41.75\")])\n",
      "        Decimal('24.815')\n",
      "        \n",
      "        >>> from fractions import Fraction as F\n",
      "        >>> pvariance([F(1, 4), F(5, 4), F(1, 2)])\n",
      "        Fraction(13, 72)\n",
      "    \n",
      "    quantiles(data, *, n=4, method='exclusive')\n",
      "        Divide *data* into *n* continuous intervals with equal probability.\n",
      "        \n",
      "        Returns a list of (n - 1) cut points separating the intervals.\n",
      "        \n",
      "        Set *n* to 4 for quartiles (the default).  Set *n* to 10 for deciles.\n",
      "        Set *n* to 100 for percentiles which gives the 99 cuts points that\n",
      "        separate *data* in to 100 equal sized groups.\n",
      "        \n",
      "        The *data* can be any iterable containing sample.\n",
      "        The cut points are linearly interpolated between data points.\n",
      "        \n",
      "        If *method* is set to *inclusive*, *data* is treated as population\n",
      "        data.  The minimum value is treated as the 0th percentile and the\n",
      "        maximum value is treated as the 100th percentile.\n",
      "    \n",
      "    stdev(data, xbar=None)\n",
      "        Return the square root of the sample variance.\n",
      "        \n",
      "        See ``variance`` for arguments and other details.\n",
      "        \n",
      "        >>> stdev([1.5, 2.5, 2.5, 2.75, 3.25, 4.75])\n",
      "        1.0810874155219827\n",
      "    \n",
      "    variance(data, xbar=None)\n",
      "        Return the sample variance of data.\n",
      "        \n",
      "        data should be an iterable of Real-valued numbers, with at least two\n",
      "        values. The optional argument xbar, if given, should be the mean of\n",
      "        the data. If it is missing or None, the mean is automatically calculated.\n",
      "        \n",
      "        Use this function when your data is a sample from a population. To\n",
      "        calculate the variance from the entire population, see ``pvariance``.\n",
      "        \n",
      "        Examples:\n",
      "        \n",
      "        >>> data = [2.75, 1.75, 1.25, 0.25, 0.5, 1.25, 3.5]\n",
      "        >>> variance(data)\n",
      "        1.3720238095238095\n",
      "        \n",
      "        If you have already calculated the mean of your data, you can pass it as\n",
      "        the optional second argument ``xbar`` to avoid recalculating it:\n",
      "        \n",
      "        >>> m = mean(data)\n",
      "        >>> variance(data, m)\n",
      "        1.3720238095238095\n",
      "        \n",
      "        This function does not check that ``xbar`` is actually the mean of\n",
      "        ``data``. Giving arbitrary values for ``xbar`` may lead to invalid or\n",
      "        impossible results.\n",
      "        \n",
      "        Decimals and Fractions are supported:\n",
      "        \n",
      "        >>> from decimal import Decimal as D\n",
      "        >>> variance([D(\"27.5\"), D(\"30.25\"), D(\"30.25\"), D(\"34.5\"), D(\"41.75\")])\n",
      "        Decimal('31.01875')\n",
      "        \n",
      "        >>> from fractions import Fraction as F\n",
      "        >>> variance([F(1, 6), F(1, 2), F(5, 3)])\n",
      "        Fraction(67, 108)\n",
      "\n",
      "DATA\n",
      "    __all__ = ['NormalDist', 'StatisticsError', 'fmean', 'geometric_mean',...\n",
      "\n",
      "FILE\n",
      "    /home/adriaanbd/.pyenv/versions/3.8.1/lib/python3.8/statistics.py\n",
      "\n",
      "\n"
     ]
    }
   ],
   "source": [
    "import statistics\n",
    "help(statistics)"
   ]
  },
  {
   "cell_type": "code",
   "execution_count": 137,
   "metadata": {},
   "outputs": [
    {
     "data": {
      "text/plain": [
       "2"
      ]
     },
     "execution_count": 137,
     "metadata": {},
     "output_type": "execute_result"
    }
   ],
   "source": [
    "statistics.mode(veces)  # el numero que salió mas veces"
   ]
  },
  {
   "cell_type": "code",
   "execution_count": 138,
   "metadata": {},
   "outputs": [
    {
     "data": {
      "text/plain": [
       "3.0048076923076925"
      ]
     },
     "execution_count": 138,
     "metadata": {},
     "output_type": "execute_result"
    }
   ],
   "source": [
    "statistics.mean(veces)  # la suma de las veces entre las veces que viró"
   ]
  },
  {
   "cell_type": "markdown",
   "metadata": {},
   "source": [
    "## Resumen"
   ]
  },
  {
   "cell_type": "markdown",
   "metadata": {},
   "source": [
    "En esta seccion hemos visto declaracion condicionales y logica condicional. Hemos visto como comparar valores utilizando operadores de comparaciones como <, >, <=, >=, != y ==. Tambien vimos como construir declaraciones complejas utilizando `and`, `or`, and `not`."
   ]
  },
  {
   "cell_type": "markdown",
   "metadata": {},
   "source": [
    "Vimos como controlar el flujo del programa utilizando `if`, y hemos aprendido como crear vertientes en el programa utilizando `if`, `else` o `if`, `elif` y `else`. Además, aprendimos como controlar la ejecucion del codigo adentro de un bloque `if` utilizando `break` y `continue`.\n",
    "\n",
    "Aun mas, aprendimos sobre `try` y `except` para la gestion de errores de ejecucion. Este es un patron sumamente util toda vez que permite que el programa maneje errores esperados y mantenga el programa andando.\n",
    "\n",
    "Finalmente, utilizamos el modulo `random` para simular el lanzamiento de una moneda."
   ]
  },
  {
   "cell_type": "markdown",
   "metadata": {},
   "source": [
    "> La logica es el comienzo de la sabiduria, no el fin.\n",
    "\n",
    "Spock, *Star Trek*"
   ]
  }
 ],
 "metadata": {
  "kernelspec": {
   "display_name": "Python 3",
   "language": "python",
   "name": "python3"
  },
  "language_info": {
   "codemirror_mode": {
    "name": "ipython",
    "version": 3
   },
   "file_extension": ".py",
   "mimetype": "text/x-python",
   "name": "python",
   "nbconvert_exporter": "python",
   "pygments_lexer": "ipython3",
   "version": "3.8.1"
  }
 },
 "nbformat": 4,
 "nbformat_minor": 4
}
