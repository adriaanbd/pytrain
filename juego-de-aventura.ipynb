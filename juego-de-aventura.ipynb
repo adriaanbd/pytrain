{
 "cells": [
  {
   "cell_type": "markdown",
   "metadata": {},
   "source": [
    "# Proyecto: Juego de Aventura"
   ]
  },
  {
   "cell_type": "markdown",
   "metadata": {},
   "source": [
    "Vamos a crear un juego corto con algunas opciones que se le dan al usuario. \n",
    "\n",
    "### Los requisitos:\n",
    "* El juego le da al jugador una descripcion de lo que esta pasando y luego le permite tomar una decision.\n",
    "* Algo distinto pasa dependiendo de la decision del usuario.\n",
    "* El juego incluye algunos factores que se determinan al azar.\n",
    "* El juego tiene condiciones para ganar y perder.\n",
    "* Cuando el juego se termina, le pregunta al jugador si quiere volver a jugar."
   ]
  },
  {
   "cell_type": "markdown",
   "metadata": {},
   "source": [
    "#### Imprime descripciones de lo que esta sucediendo\n",
    "\n",
    "Por ejemplo:\n",
    "\n",
    "\"Te encuentras en un callejon oscuro.\"\n",
    "\"Al frente tuyo hay dos calles.\""
   ]
  },
  {
   "cell_type": "markdown",
   "metadata": {},
   "source": [
    "#### Controla el tiempo de ejecucion del `print()`\n",
    "\n",
    "Cuando tienes muchas declaraciones `print()`, todas se imprimen a la misma vez; sin embargo, podemos controlar el tiempo de ejecucion utilizando un modulo llamado `time`:"
   ]
  },
  {
   "cell_type": "code",
   "execution_count": 1,
   "metadata": {},
   "outputs": [
    {
     "name": "stdout",
     "output_type": "stream",
     "text": [
      "Hola\n",
      "Chiriqui!\n"
     ]
    }
   ],
   "source": [
    "print('Hola')\n",
    "print('Chiriqui!')"
   ]
  },
  {
   "cell_type": "code",
   "execution_count": 2,
   "metadata": {},
   "outputs": [
    {
     "name": "stdout",
     "output_type": "stream",
     "text": [
      "Hola\n",
      "Chiriqui!\n"
     ]
    }
   ],
   "source": [
    "import time\n",
    "print('Hola')\n",
    "time.sleep(2)  # esto causa un retraso de dos segundos\n",
    "print('Chiriqui!')"
   ]
  },
  {
   "cell_type": "markdown",
   "metadata": {},
   "source": [
    "#### Dandole al jugado algunas opciones\n",
    "\n",
    "Por ejemplo:\n",
    "\n",
    "Presiona 1 para tocar el timbre de la casa\n",
    "Presiona 2 para gritar el nombre del dueño de la casa\n",
    "\n",
    "#### Asegurate que el jugador entregue un dato de entrada valido\n",
    "\n",
    "Por ejemplo:\n",
    "\n",
    "Presiona 1 para tocar el timbre de la casa\n",
    "`>>> 10`\n",
    "Presiona 1 para tocar el timbre de la casa\n",
    "`>>> hola`\n",
    "\n",
    "#### Agrega funciones al codigo\n",
    "\n",
    "Si te encuentras repitiendo la misma cosa multiples veces, es mejor que lo pongas en una funcion.\n",
    "\n",
    "Por ejemplo:\n",
    "\n",
    "```\n",
    "print('Te encuentras en una cueva oscura')\n",
    "time.sleep(1)\n",
    "print('Hay 2 callejones al frente tuyo')\n",
    "time.sleep(1)\n",
    "print('Cual callejon escoges?')\n",
    "time.sleep(1)\n",
    "```\n",
    "\n",
    "Esto es sumamente repetitivo porque usamos `print` y `time.sleep` todas las veces. Pudieramos crear una funcion que solo toma el mensaje como dato de entrada y la misma se encarga de que se haga una pausa con `time.sleep`:\n",
    "\n",
    "```\n",
    "impresion_pausada('Te encuentras en una cueva muy oscura')\n",
    "impresion_pausada('Hay 2 callejones al frente tuyo')\n",
    "impresion_pausada('Cual callejon escoges?')\n",
    "```\n",
    "\n",
    "Ademas, tambien puedes definir funciones para cada lugar que el usuario visite. Por ejemplo:\n",
    "\n",
    "```\n",
    "def casa():\n",
    "    # cosas que pasan en la casa\n",
    "\n",
    "def cueva():\n",
    "    # cosas que pasan en la cueva\n",
    "\n",
    "def camp():\n",
    "    # cosas que pasan en el campo\n",
    "```\n",
    "\n",
    "#### Utiliza la aleatoridad en el juego\n",
    "\n",
    "Podemos hacer que algunas cosas que aparecen en el juego se escogan al azar, como por ejemplo, el tipo de animal puede ser aleatorio entre leon, lobo o murcielagos; el tipo de arma que el usuario tiene puede ser aleatorio entre un cuchillo, una pieda o una varita magica, e incluso el daño que el usuario le hace a un monstro puede ser aleatorio, asumiendo que el monstro tiene una vida de 100 el daño puede ser de cualquier numero.\n",
    "\n",
    "Para la aleatoridad, podemos usar el modulo `random` y sus metodos `random.choice` y `random.randint`\n",
    "\n",
    "#### Crea situaciones para ganar y perder.\n",
    "\n",
    "Al resultado del juego debe estar influenciado por las deciciones del jugador y quizas algun grado de aleatoridad, aunque la aleatoridad es mejor usarla de modo que tenga una influencia parcial en el resultado, a fin que el usuario tenga control sobre el mismo.\n",
    "\n",
    "#### Revisa si el jugador quiere jugar nuevamente\n",
    "\n",
    "Cuando se termina el script, podemos tener algo como:\n",
    "\n",
    "```\n",
    "Se acabó el juego\n",
    "Quieres jugar nuevamente? (si/no)\n",
    "\n",
    "```\n",
    "\n",
    "#### Asegurate de haber jugado el juego varias veces\n",
    "\n",
    "Para que sepas con certeza que tu juego funciona, por favor asegurate de que lo hayas jugado varias veces"
   ]
  }
 ],
 "metadata": {
  "kernelspec": {
   "display_name": "Python 3",
   "language": "python",
   "name": "python3"
  },
  "language_info": {
   "codemirror_mode": {
    "name": "ipython",
    "version": 3
   },
   "file_extension": ".py",
   "mimetype": "text/x-python",
   "name": "python",
   "nbconvert_exporter": "python",
   "pygments_lexer": "ipython3",
   "version": "3.8.1"
  }
 },
 "nbformat": 4,
 "nbformat_minor": 4
}
