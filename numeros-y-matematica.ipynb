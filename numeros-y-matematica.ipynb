{
 "cells": [
  {
   "cell_type": "markdown",
   "metadata": {},
   "source": [
    "# Numeros y Matematica"
   ]
  },
  {
   "cell_type": "markdown",
   "metadata": {},
   "source": [
    "No necesitamos ser matematicos para programar. La verdad es que pocos programadores necesitan saber mas que algebra básica. Claro que la cantidad de matematica que necesitas saber esta directamente relacionada al tipo de aplicación en la cual estas trabajando. En general, el nivel de matematica requerido para trabajar como programador es menor al nivel establecido mediante expectativas de terceros.\n",
    "\n",
    "Aunque la matematica y la programación no estan tan corelacionadas como alguna gente puede creer, los numeros constituyen parte integral de cualquier lenguaje de programación; y Python no es la excepción.\n",
    "\n",
    "En esta sección, aprenderemos a:\n",
    "* Trabajar con los tres tipos de numeros en Python:\n",
    "  * integer o numero entero;\n",
    "  * floating-point o punto-flotante (numero real);\n",
    "  * numeros complejos\n",
    "* Redondear numeros\n",
    "* Formatear y mostrar numeros en strings"
   ]
  },
  {
   "cell_type": "markdown",
   "metadata": {},
   "source": [
    "## Numeros enteros y de punto-flotante"
   ]
  },
  {
   "cell_type": "markdown",
   "metadata": {},
   "source": [
    "Python tiene tres tipos de numeros:\n",
    "* integer o numero entero;\n",
    "* floating-point o punto-flotante;\n",
    "* numeros complejos"
   ]
  },
  {
   "cell_type": "markdown",
   "metadata": {},
   "source": [
    "### Numeros enteros"
   ]
  },
  {
   "cell_type": "markdown",
   "metadata": {},
   "source": [
    "Un numero entero no tiene decimales. Por ejemplo, `1` es un numero entero, pero `1.0` no lo es. El nombre oficial para numeros enteros como tipo de datos es `int`, lo cual podemos obserbar con la funcion `type()`."
   ]
  },
  {
   "cell_type": "code",
   "execution_count": 1,
   "metadata": {},
   "outputs": [
    {
     "data": {
      "text/plain": [
       "int"
      ]
     },
     "execution_count": 1,
     "metadata": {},
     "output_type": "execute_result"
    }
   ],
   "source": [
    "type(1)"
   ]
  },
  {
   "cell_type": "code",
   "execution_count": 2,
   "metadata": {},
   "outputs": [
    {
     "data": {
      "text/plain": [
       "1"
      ]
     },
     "execution_count": 2,
     "metadata": {},
     "output_type": "execute_result"
    }
   ],
   "source": [
    "# podemos crear un numero escribiendo el numero sin las citas o con int()\n",
    "int('1')"
   ]
  },
  {
   "cell_type": "markdown",
   "metadata": {},
   "source": [
    "Un literal de numero entero (integer literal) es un numero entero cuyo valor esta explicitamente escrito en el codigo, de la misma manera que un literal de cadena de caracteres es un string que esta explicitamente escrito en el codigo. Por ejemplo, `1` es un literal de numero entero, pero `int('1')` no lo es. \n",
    "\n",
    "Podemos escribir un literal de numero entero en dos formas:"
   ]
  },
  {
   "cell_type": "code",
   "execution_count": 4,
   "metadata": {},
   "outputs": [
    {
     "data": {
      "text/plain": [
       "100000000"
      ]
     },
     "execution_count": 4,
     "metadata": {},
     "output_type": "execute_result"
    }
   ],
   "source": [
    "100000000"
   ]
  },
  {
   "cell_type": "code",
   "execution_count": 5,
   "metadata": {},
   "outputs": [
    {
     "data": {
      "text/plain": [
       "1000000"
      ]
     },
     "execution_count": 5,
     "metadata": {},
     "output_type": "execute_result"
    }
   ],
   "source": [
    "1_000_000  # en vez de comas, utilizamos _"
   ]
  },
  {
   "cell_type": "markdown",
   "metadata": {},
   "source": [
    "### Numeros de punto flotante"
   ]
  },
  {
   "cell_type": "markdown",
   "metadata": {},
   "source": [
    "Un numero de punto flotante es un numero con un punto decimal, por ejemplo `1.0` o `-2.5`. El nombre oficial de un numero de punto flotante como tipo de dato es `float`."
   ]
  },
  {
   "cell_type": "code",
   "execution_count": 6,
   "metadata": {},
   "outputs": [
    {
     "data": {
      "text/plain": [
       "float"
      ]
     },
     "execution_count": 6,
     "metadata": {},
     "output_type": "execute_result"
    }
   ],
   "source": [
    "type(1.0)"
   ]
  },
  {
   "cell_type": "code",
   "execution_count": 7,
   "metadata": {},
   "outputs": [
    {
     "data": {
      "text/plain": [
       "1.0"
      ]
     },
     "execution_count": 7,
     "metadata": {},
     "output_type": "execute_result"
    }
   ],
   "source": [
    "# podemos crear un numero escribiendo el numero sin las citas o con int()\n",
    "float('1.0')"
   ]
  },
  {
   "cell_type": "markdown",
   "metadata": {},
   "source": [
    "Al igual que los numeros enteros, un literal de punto flotante es un numero con punto flotante cuyo valor esta explicitamente escrito en el codigo, por ejemplo `1.5` es un literal de punto flotante, pero `float('1.5')` no lo es.\n",
    "\n",
    "Podemos crear literales de punt oflotante en tres distintas formas:"
   ]
  },
  {
   "cell_type": "code",
   "execution_count": 8,
   "metadata": {},
   "outputs": [
    {
     "data": {
      "text/plain": [
       "1000000.0"
      ]
     },
     "execution_count": 8,
     "metadata": {},
     "output_type": "execute_result"
    }
   ],
   "source": [
    "1000000.0"
   ]
  },
  {
   "cell_type": "code",
   "execution_count": 9,
   "metadata": {},
   "outputs": [
    {
     "data": {
      "text/plain": [
       "1000000.0"
      ]
     },
     "execution_count": 9,
     "metadata": {},
     "output_type": "execute_result"
    }
   ],
   "source": [
    "1_000_000.0"
   ]
  },
  {
   "cell_type": "code",
   "execution_count": 10,
   "metadata": {},
   "outputs": [
    {
     "data": {
      "text/plain": [
       "1000000.0"
      ]
     },
     "execution_count": 10,
     "metadata": {},
     "output_type": "execute_result"
    }
   ],
   "source": [
    "1e6"
   ]
  },
  {
   "cell_type": "markdown",
   "metadata": {},
   "source": [
    "Las dos primeras formas son similares a como se crean los numeros enteros, sin embargo la tercera y ultima forma es util para numeros muy grandes. Este método es conocido como **E-notation** o **notacion exponencial**. Python agarra el numero a la izquierda de `e` y lo multiplica por `10` elevado al poder del numero despues de la `e`. En otras palabras, la expresion `1e6` es quivalente a `1 x 10^6`. La `e` significa exponenciacion. "
   ]
  },
  {
   "cell_type": "code",
   "execution_count": 11,
   "metadata": {},
   "outputs": [
    {
     "data": {
      "text/plain": [
       "2e+41"
      ]
     },
     "execution_count": 11,
     "metadata": {},
     "output_type": "execute_result"
    }
   ],
   "source": [
    "# Python tambien utiliza notacion exponencial para mostrar numeros flotantes bien grandes\n",
    "200000000000000000000000000000000000000000.0"
   ]
  },
  {
   "cell_type": "code",
   "execution_count": 12,
   "metadata": {},
   "outputs": [
    {
     "data": {
      "text/plain": [
       "0.0001"
      ]
     },
     "execution_count": 12,
     "metadata": {},
     "output_type": "execute_result"
    }
   ],
   "source": [
    "1e-4  # tambien podemos utilizar numeros negativos"
   ]
  },
  {
   "cell_type": "markdown",
   "metadata": {},
   "source": [
    "La expresión anterior es interpretada como `10` elevado al poder `-4`, lo que es `1/10000` o `0.0001`."
   ]
  },
  {
   "cell_type": "markdown",
   "metadata": {},
   "source": [
    "Los numeros de punto flotante tienen un tamaño limite. El maximo valor depende del sistema / computadora, pero algo como `2e400` esta fuera de la capacidad de la mayoría de las computadoras. `2x10^400` es mas que el numero total de atomos en el universo (se estima que existen entre `10^77` y `10^80` atomos en el universo)."
   ]
  },
  {
   "cell_type": "code",
   "execution_count": 13,
   "metadata": {},
   "outputs": [
    {
     "data": {
      "text/plain": [
       "inf"
      ]
     },
     "execution_count": 13,
     "metadata": {},
     "output_type": "execute_result"
    }
   ],
   "source": [
    "# cuando llegamos al numero maximo punto flotante, Python retorna `inf`\n",
    "2e400"
   ]
  },
  {
   "cell_type": "markdown",
   "metadata": {},
   "source": [
    "### Ejercicios\n",
    "\n",
    "1. Escribe un programa que crea 2 variables, num1 y num2. Estas dos variables tendran un literal de numero entero 25,000,000 escrito de dos distintas formas.\n",
    "2. Escribe un programa que asigna un literal de punto-flotante 175000.0 a la variable `num` utilizando notacion exponencial y luego imprimera `num`"
   ]
  },
  {
   "cell_type": "markdown",
   "metadata": {},
   "source": [
    "## Operadores Aritmeticos  y Expresiones"
   ]
  },
  {
   "cell_type": "markdown",
   "metadata": {},
   "source": [
    "En esta seccion aprenderemos a hacer aritmetica basica con numeros en Python:\n",
    "* Suma\n",
    "* Resta\n",
    "* Multiplicacion\n",
    "* Division"
   ]
  },
  {
   "cell_type": "code",
   "execution_count": 14,
   "metadata": {},
   "outputs": [
    {
     "data": {
      "text/plain": [
       "2"
      ]
     },
     "execution_count": 14,
     "metadata": {},
     "output_type": "execute_result"
    }
   ],
   "source": [
    "# suma\n",
    "1 + 1"
   ]
  },
  {
   "cell_type": "code",
   "execution_count": 15,
   "metadata": {},
   "outputs": [
    {
     "data": {
      "text/plain": [
       "2.0"
      ]
     },
     "execution_count": 15,
     "metadata": {},
     "output_type": "execute_result"
    }
   ],
   "source": [
    "# la suma de un numero punto-flotante con numero entero retorna punto-flotante\n",
    "1.0 + 1"
   ]
  },
  {
   "cell_type": "code",
   "execution_count": 16,
   "metadata": {},
   "outputs": [
    {
     "data": {
      "text/plain": [
       "0"
      ]
     },
     "execution_count": 16,
     "metadata": {},
     "output_type": "execute_result"
    }
   ],
   "source": [
    "# resta\n",
    "1 - 1"
   ]
  },
  {
   "cell_type": "code",
   "execution_count": 17,
   "metadata": {},
   "outputs": [
    {
     "data": {
      "text/plain": [
       "0.0"
      ]
     },
     "execution_count": 17,
     "metadata": {},
     "output_type": "execute_result"
    }
   ],
   "source": [
    "1.0 - 1"
   ]
  },
  {
   "cell_type": "code",
   "execution_count": 18,
   "metadata": {},
   "outputs": [
    {
     "data": {
      "text/plain": [
       "-4.0"
      ]
     },
     "execution_count": 18,
     "metadata": {},
     "output_type": "execute_result"
    }
   ],
   "source": [
    "1.0 - 5"
   ]
  },
  {
   "cell_type": "code",
   "execution_count": 19,
   "metadata": {},
   "outputs": [
    {
     "data": {
      "text/plain": [
       "5"
      ]
     },
     "execution_count": 19,
     "metadata": {},
     "output_type": "execute_result"
    }
   ],
   "source": [
    "1 - -4"
   ]
  },
  {
   "cell_type": "code",
   "execution_count": 20,
   "metadata": {},
   "outputs": [
    {
     "data": {
      "text/plain": [
       "9"
      ]
     },
     "execution_count": 20,
     "metadata": {},
     "output_type": "execute_result"
    }
   ],
   "source": [
    "# multiplicacion\n",
    "3 * 3"
   ]
  },
  {
   "cell_type": "code",
   "execution_count": 21,
   "metadata": {},
   "outputs": [
    {
     "data": {
      "text/plain": [
       "8.0"
      ]
     },
     "execution_count": 21,
     "metadata": {},
     "output_type": "execute_result"
    }
   ],
   "source": [
    "2 * 4.0"
   ]
  },
  {
   "cell_type": "code",
   "execution_count": 22,
   "metadata": {},
   "outputs": [
    {
     "data": {
      "text/plain": [
       "3.0"
      ]
     },
     "execution_count": 22,
     "metadata": {},
     "output_type": "execute_result"
    }
   ],
   "source": [
    "# division\n",
    "9 / 3  # siempre retorna punto flotante"
   ]
  },
  {
   "cell_type": "code",
   "execution_count": 23,
   "metadata": {},
   "outputs": [
    {
     "data": {
      "text/plain": [
       "3"
      ]
     },
     "execution_count": 23,
     "metadata": {},
     "output_type": "execute_result"
    }
   ],
   "source": [
    "int(9 / 3)  # tenemos que convertirlo en numero entero"
   ]
  },
  {
   "cell_type": "code",
   "execution_count": 24,
   "metadata": {},
   "outputs": [
    {
     "data": {
      "text/plain": [
       "2"
      ]
     },
     "execution_count": 24,
     "metadata": {},
     "output_type": "execute_result"
    }
   ],
   "source": [
    "# sin embargo, int() elimina todos los decimales\n",
    "int(5.0 / 2)"
   ]
  },
  {
   "cell_type": "code",
   "execution_count": 25,
   "metadata": {},
   "outputs": [
    {
     "data": {
      "text/plain": [
       "2"
      ]
     },
     "execution_count": 25,
     "metadata": {},
     "output_type": "execute_result"
    }
   ],
   "source": [
    "# podemos observar este comportamiento asi\n",
    "int(2.5)"
   ]
  },
  {
   "cell_type": "code",
   "execution_count": 26,
   "metadata": {},
   "outputs": [
    {
     "data": {
      "text/plain": [
       "3"
      ]
     },
     "execution_count": 26,
     "metadata": {},
     "output_type": "execute_result"
    }
   ],
   "source": [
    "# division de numeros enteros\n",
    "9 // 3"
   ]
  },
  {
   "cell_type": "code",
   "execution_count": 27,
   "metadata": {},
   "outputs": [
    {
     "data": {
      "text/plain": [
       "2.0"
      ]
     },
     "execution_count": 27,
     "metadata": {},
     "output_type": "execute_result"
    }
   ],
   "source": [
    "5.0 // 2"
   ]
  },
  {
   "cell_type": "code",
   "execution_count": 28,
   "metadata": {},
   "outputs": [
    {
     "data": {
      "text/plain": [
       "-2"
      ]
     },
     "execution_count": 28,
     "metadata": {},
     "output_type": "execute_result"
    }
   ],
   "source": [
    "-3 // 2  # porque?"
   ]
  },
  {
   "cell_type": "markdown",
   "metadata": {},
   "source": [
    "El operador `//` primero divide el numero a la izquierda por el numero de la derecha y luego redondea el resultado. Es por eso que -3 entre 2 es -1.5 y luego redondeamos -1.5 a -2."
   ]
  },
  {
   "cell_type": "code",
   "execution_count": 30,
   "metadata": {},
   "outputs": [
    {
     "ename": "ZeroDivisionError",
     "evalue": "division by zero",
     "output_type": "error",
     "traceback": [
      "\u001b[0;31m---------------------------------------------------------------------------\u001b[0m",
      "\u001b[0;31mZeroDivisionError\u001b[0m                         Traceback (most recent call last)",
      "\u001b[0;32m<ipython-input-30-488f22d9f54d>\u001b[0m in \u001b[0;36m<module>\u001b[0;34m\u001b[0m\n\u001b[1;32m      1\u001b[0m \u001b[0;31m# dvision por 0\u001b[0m\u001b[0;34m\u001b[0m\u001b[0;34m\u001b[0m\u001b[0;34m\u001b[0m\u001b[0m\n\u001b[0;32m----> 2\u001b[0;31m \u001b[0;36m1\u001b[0m \u001b[0;34m/\u001b[0m \u001b[0;36m0\u001b[0m\u001b[0;34m\u001b[0m\u001b[0;34m\u001b[0m\u001b[0m\n\u001b[0m",
      "\u001b[0;31mZeroDivisionError\u001b[0m: division by zero"
     ]
    }
   ],
   "source": [
    "# dvision por 0\n",
    "1 / 0"
   ]
  },
  {
   "cell_type": "markdown",
   "metadata": {},
   "source": [
    "### Exponenciacion"
   ]
  },
  {
   "cell_type": "code",
   "execution_count": 31,
   "metadata": {},
   "outputs": [
    {
     "data": {
      "text/plain": [
       "4"
      ]
     },
     "execution_count": 31,
     "metadata": {},
     "output_type": "execute_result"
    }
   ],
   "source": [
    "2 ** 2"
   ]
  },
  {
   "cell_type": "code",
   "execution_count": 32,
   "metadata": {},
   "outputs": [
    {
     "data": {
      "text/plain": [
       "8"
      ]
     },
     "execution_count": 32,
     "metadata": {},
     "output_type": "execute_result"
    }
   ],
   "source": [
    "2 ** 3"
   ]
  },
  {
   "cell_type": "code",
   "execution_count": 33,
   "metadata": {},
   "outputs": [
    {
     "data": {
      "text/plain": [
       "16"
      ]
     },
     "execution_count": 33,
     "metadata": {},
     "output_type": "execute_result"
    }
   ],
   "source": [
    "2 ** 4"
   ]
  },
  {
   "cell_type": "code",
   "execution_count": 34,
   "metadata": {},
   "outputs": [
    {
     "data": {
      "text/plain": [
       "5.196152422706632"
      ]
     },
     "execution_count": 34,
     "metadata": {},
     "output_type": "execute_result"
    }
   ],
   "source": [
    "# pueden ser floats tambien\n",
    "3 ** 1.5"
   ]
  },
  {
   "cell_type": "code",
   "execution_count": 35,
   "metadata": {},
   "outputs": [
    {
     "data": {
      "text/plain": [
       "3.0"
      ]
     },
     "execution_count": 35,
     "metadata": {},
     "output_type": "execute_result"
    }
   ],
   "source": [
    "9 ** 0.5"
   ]
  },
  {
   "cell_type": "code",
   "execution_count": 36,
   "metadata": {},
   "outputs": [
    {
     "data": {
      "text/plain": [
       "0.5"
      ]
     },
     "execution_count": 36,
     "metadata": {},
     "output_type": "execute_result"
    }
   ],
   "source": [
    "# exponenciacion negativa\n",
    "2 ** -1"
   ]
  },
  {
   "cell_type": "markdown",
   "metadata": {},
   "source": [
    "La exponenciacion negativa es lo mismo que dividir `1` por el numero y su exponenciacion, es decir `2 ** -1` es lo mismo que `1 / (2 ** 1)`, lo cual es lo mismo a `1 / 2` o `0.5`. Similarmente, `2 ** -2` es lo mismo que `1 / (2 ** 2)`, lo cual es lo mismo a `1 / 4` o `0.25`. "
   ]
  },
  {
   "cell_type": "markdown",
   "metadata": {},
   "source": [
    "### El operador modulus %\n",
    "\n",
    "Este operador `%`, llamado `modulus`, retorna lo que sobre de la division entre el numero de la izquierda del operador y el numero a la derecha"
   ]
  },
  {
   "cell_type": "code",
   "execution_count": 37,
   "metadata": {},
   "outputs": [
    {
     "data": {
      "text/plain": [
       "2"
      ]
     },
     "execution_count": 37,
     "metadata": {},
     "output_type": "execute_result"
    }
   ],
   "source": [
    "5 % 3  # 5 // 3 es 1 y sobra 2"
   ]
  },
  {
   "cell_type": "code",
   "execution_count": 38,
   "metadata": {},
   "outputs": [
    {
     "data": {
      "text/plain": [
       "6"
      ]
     },
     "execution_count": 38,
     "metadata": {},
     "output_type": "execute_result"
    }
   ],
   "source": [
    "20 % 7  # 20 // 7 es 2 y sobra 6"
   ]
  },
  {
   "cell_type": "code",
   "execution_count": 40,
   "metadata": {},
   "outputs": [
    {
     "data": {
      "text/plain": [
       "0"
      ]
     },
     "execution_count": 40,
     "metadata": {},
     "output_type": "execute_result"
    }
   ],
   "source": [
    "16 % 8"
   ]
  },
  {
   "cell_type": "markdown",
   "metadata": {},
   "source": [
    "Uno de los casos de uso mas comunes de `%` es determinar si un numero es divisble por otro numero. Por ejemplo, un numero `n` es divisible unicacamente si `n % 2` resulta `0`."
   ]
  },
  {
   "cell_type": "markdown",
   "metadata": {},
   "source": [
    "### Expresiones Aritmeticas"
   ]
  },
  {
   "cell_type": "markdown",
   "metadata": {},
   "source": [
    "Podemos combinar operadores para formar expresiones complejas. Una **expresion** es una combinacion de numeros, operadores y parentesis sobre los cuales Python puede evaluar y retornar un valor."
   ]
  },
  {
   "cell_type": "code",
   "execution_count": 42,
   "metadata": {},
   "outputs": [
    {
     "data": {
      "text/plain": [
       "5"
      ]
     },
     "execution_count": 42,
     "metadata": {},
     "output_type": "execute_result"
    }
   ],
   "source": [
    "2 * 3 - 1"
   ]
  },
  {
   "cell_type": "code",
   "execution_count": 43,
   "metadata": {},
   "outputs": [
    {
     "data": {
      "text/plain": [
       "10.0"
      ]
     },
     "execution_count": 43,
     "metadata": {},
     "output_type": "execute_result"
    }
   ],
   "source": [
    "4/2 + 2**3"
   ]
  },
  {
   "cell_type": "code",
   "execution_count": 44,
   "metadata": {},
   "outputs": [
    {
     "data": {
      "text/plain": [
       "-3"
      ]
     },
     "execution_count": 44,
     "metadata": {},
     "output_type": "execute_result"
    }
   ],
   "source": [
    "-1 + (-3 * 2 + 4)"
   ]
  },
  {
   "cell_type": "markdown",
   "metadata": {},
   "source": [
    "Las reglas sobre evaluacion de expresiones son las mismas que se enseñan en la escuela bajo el concepto de 'orden de operaciones'. Los operadores `*`, `/`, `//` y `%` tienen todos igual valor de precendia o prioridad en una expresion, y cada uno de estos tiene prioridad sobre los oepradores `+` o `-`. Esta es la razón por la cual `2 * 3 - 1` retorna `5` y no `4`, toda vez que la multiplicacion se calcula primero."
   ]
  },
  {
   "cell_type": "markdown",
   "metadata": {},
   "source": [
    "## Reto: Realiza calculaciones con el dato de entrada del Usuario\n",
    "\n",
    "Escribe un script llamado `exponente.py` que recibe 2 numeros del usuario y muestra el primer numero exponenciado al segundo numero. Por ejemplo:\n",
    "```\n",
    "Escribe una base: 1.2\n",
    "Escribe un exponente: 3\n",
    "1.2 exponenciado a 3 es 1.7279999999999998\n",
    "```\n",
    "\n",
    "En resumen:\n",
    "* Utilizaremos input() 2 veces, y su valor es asignado a dos variables\n",
    "* input() retorna un string, pero necesitamos que sea numeros\n",
    "* podemos utilizar **f-string** para imprimir el resultado\n",
    "* podemos asumir que el usuario insertara numeros como dato de entrada"
   ]
  },
  {
   "cell_type": "markdown",
   "metadata": {},
   "source": [
    "## Haz que Python mienta"
   ]
  },
  {
   "cell_type": "markdown",
   "metadata": {},
   "source": [
    "Cual es el resultado de `0.1 + 0.2`? Es `0.3`? "
   ]
  },
  {
   "cell_type": "code",
   "execution_count": 47,
   "metadata": {},
   "outputs": [
    {
     "data": {
      "text/plain": [
       "0.30000000000000004"
      ]
     },
     "execution_count": 47,
     "metadata": {},
     "output_type": "execute_result"
    }
   ],
   "source": [
    "0.1 + 0.2"
   ]
  },
  {
   "cell_type": "markdown",
   "metadata": {},
   "source": [
    "Esto no es un error de programa, sino un error conocido como error representacional de punto-flotante. El error esta relacionado a como los numeros son guardados en la memoria de una computadora. El numero `1.0` puede ser representado como una fracción `1/10`. Ambos numeros `0.1` y `1/10` son **representaciones decimales** / **representaciones de base 10**. Las computadoras, sin embargo, guardan los puntos flotantes en representacion de base 2, mas comunmente conocido como **representacion binaria**.\n",
    "\n",
    "Cuando la representacion es binaria, algo familiar e inesperado sucede con el numero decimal `0.1`. La fraccion `1/3` no tiene una representacion decimal. Es decir, `1/3 = 0.3333...` con una infidad de `3`s despues del punto decimal. Lo mismo sucede con la fraccion `1/10` en binario. \n",
    "\n",
    "La representacion binaria de `1/10` es la siguiente fraccion, repetida indefinidamente: `0.000110011001100110011001100110011...`\n",
    "\n",
    "Las computadoras tienen memoria finita, no infinita, por tanto el numero `0.1` debe ser guardado como una aproximacion y no con su valor correcto. La aproximacion que se guarda es un poco mas alta que el valor actual y se ve algo asi: `0.1000000000000000055511151231257827021181583404541015625`. "
   ]
  },
  {
   "cell_type": "code",
   "execution_count": 49,
   "metadata": {},
   "outputs": [
    {
     "data": {
      "text/plain": [
       "0.1"
      ]
     },
     "execution_count": 49,
     "metadata": {},
     "output_type": "execute_result"
    }
   ],
   "source": [
    "# sin embargo, cuando mostramos 0.1 en Python\n",
    "0.1"
   ]
  },
  {
   "cell_type": "markdown",
   "metadata": {},
   "source": [
    "Lo que sucede es que la aproximacion de `0.1` en binario es solo una aproximacion, y es posible que mas de un numero decimal tenga la misma aproximacion binaria. Por ejemplo, los numeros `0.1` y `0.10000000000000001` tienen la misma aproximacion binaria. Python imprime el decimal mas corto que comparte esa aproximacion.\n",
    "\n",
    "Esto explica la razon por la cual `0.1 + 0.2` no es igual a `0.3`, toda vez que Python agrega la aproximacion binaria de `0.1` y `0.2`, lo cual resulta en un numero que **no es** la aproximacion binaria de `0.3`.\n",
    "\n",
    "Esta informacion es de fundamental importancia si estamos programando aplicaciones para finanzas o computacion cientifica."
   ]
  },
  {
   "cell_type": "markdown",
   "metadata": {},
   "source": [
    "## Funciones matematicas y metodos de numeros"
   ]
  },
  {
   "cell_type": "markdown",
   "metadata": {},
   "source": [
    "Python tiene algunas funciones incorporadas para trabajar con numeros. En esta seccion aprenderemos sobre los tres metodos mas comunes para trabajar con numeros:\n",
    "1. `round()`, para redondear numeros\n",
    "2. `abs()`, para obtener el valor absoluto de un numero\n",
    "3. `pow()`, para exponenciar un numero"
   ]
  },
  {
   "cell_type": "markdown",
   "metadata": {},
   "source": [
    "### round()"
   ]
  },
  {
   "cell_type": "code",
   "execution_count": 50,
   "metadata": {},
   "outputs": [
    {
     "data": {
      "text/plain": [
       "2"
      ]
     },
     "execution_count": 50,
     "metadata": {},
     "output_type": "execute_result"
    }
   ],
   "source": [
    "round(2.3)"
   ]
  },
  {
   "cell_type": "code",
   "execution_count": 51,
   "metadata": {},
   "outputs": [
    {
     "data": {
      "text/plain": [
       "3"
      ]
     },
     "execution_count": 51,
     "metadata": {},
     "output_type": "execute_result"
    }
   ],
   "source": [
    "round(2.7)"
   ]
  },
  {
   "cell_type": "code",
   "execution_count": 52,
   "metadata": {},
   "outputs": [
    {
     "data": {
      "text/plain": [
       "2"
      ]
     },
     "execution_count": 52,
     "metadata": {},
     "output_type": "execute_result"
    }
   ],
   "source": [
    "# comportamiento inesperado\n",
    "round(2.5)"
   ]
  },
  {
   "cell_type": "code",
   "execution_count": 53,
   "metadata": {},
   "outputs": [
    {
     "data": {
      "text/plain": [
       "4"
      ]
     },
     "execution_count": 53,
     "metadata": {},
     "output_type": "execute_result"
    }
   ],
   "source": [
    "# comportamiento inesperado\n",
    "round(3.5)"
   ]
  },
  {
   "cell_type": "markdown",
   "metadata": {},
   "source": [
    "Python redondea numeros conforme a una estrategia llamada **rounding ties to even** o **redondear empates al par**. Un **empate** es un numero cuyo ultimo digito es `5`. Por tanto, `2.5` y `3.1415` son empates, pero no `1.37`.\n",
    "\n",
    "Cuando reondeamos empates al par, primero observamos el digito ubicado un decimal a la izquiera del ultimo digito en el empate. Si ese digito es par, redondeamos hacia abajo, y si es impar, redondeamos hacia arriba. Es por eso que `2.5` redondea hacia abajo y `3.5` redondea hacia arriba.\n",
    "\n",
    "Esta estrategia de redondear es recomendada para numeros de punto flotante por el Instituto de Ingenieros Electricos y Electronicos (**IEEE**, por sus siglas en ingles) porque ayuda a limitar el impacto de redondear en operaciones que contienen muchos numeros. Fue publicado en 1985."
   ]
  },
  {
   "cell_type": "code",
   "execution_count": 1,
   "metadata": {},
   "outputs": [
    {
     "data": {
      "text/plain": [
       "3.142"
      ]
     },
     "execution_count": 1,
     "metadata": {},
     "output_type": "execute_result"
    }
   ],
   "source": [
    "# podemos redondear a un cierto numero de decimales\n",
    "round(3.14159, 3)"
   ]
  },
  {
   "cell_type": "code",
   "execution_count": 2,
   "metadata": {},
   "outputs": [
    {
     "ename": "TypeError",
     "evalue": "'float' object cannot be interpreted as an integer",
     "output_type": "error",
     "traceback": [
      "\u001b[0;31m---------------------------------------------------------------------------\u001b[0m",
      "\u001b[0;31mTypeError\u001b[0m                                 Traceback (most recent call last)",
      "\u001b[0;32m<ipython-input-2-98a21b0df6f1>\u001b[0m in \u001b[0;36m<module>\u001b[0;34m\u001b[0m\n\u001b[1;32m      1\u001b[0m \u001b[0;31m# pero el segundo argumento debe ser un numero entero\u001b[0m\u001b[0;34m\u001b[0m\u001b[0;34m\u001b[0m\u001b[0;34m\u001b[0m\u001b[0m\n\u001b[0;32m----> 2\u001b[0;31m \u001b[0mround\u001b[0m\u001b[0;34m(\u001b[0m\u001b[0;36m2.65\u001b[0m\u001b[0;34m,\u001b[0m \u001b[0;36m1.4\u001b[0m\u001b[0;34m)\u001b[0m\u001b[0;34m\u001b[0m\u001b[0;34m\u001b[0m\u001b[0m\n\u001b[0m",
      "\u001b[0;31mTypeError\u001b[0m: 'float' object cannot be interpreted as an integer"
     ]
    }
   ],
   "source": [
    "# pero el segundo argumento debe ser un numero entero\n",
    "round(2.65, 1.4)"
   ]
  },
  {
   "cell_type": "code",
   "execution_count": 4,
   "metadata": {},
   "outputs": [
    {
     "data": {
      "text/plain": [
       "2.67"
      ]
     },
     "execution_count": 4,
     "metadata": {},
     "output_type": "execute_result"
    }
   ],
   "source": [
    "# valores esperado: 2.68\n",
    "round(2.675, 2)"
   ]
  },
  {
   "cell_type": "markdown",
   "metadata": {},
   "source": [
    "La estrategia de redondear empates al par exige un resultado de `2.68` en la operacion anterior, sin embargo el resultado fue `2.67`. Este error es el resultado de lo que mencionamos anteriormente cuando hablamos del error representacional de los numeros de punto flotante. \n",
    "\n",
    "Lidear con numeros de punto flotante puede ser frustrante, pero la frustracion no es especifica a Python. Todos los lenguajes que implementan el estandar de numeros punto flotante `float` de la IEEE tienen este problema, incluyendo C/C++, Java y JavaScript.\n",
    "\n",
    "En la mayoria de los casos, estos pequeños erores no causan gran impacto y el resultado de `round()` es util."
   ]
  },
  {
   "cell_type": "markdown",
   "metadata": {},
   "source": [
    "### abs()"
   ]
  },
  {
   "cell_type": "code",
   "execution_count": 57,
   "metadata": {},
   "outputs": [
    {
     "data": {
      "text/plain": [
       "3"
      ]
     },
     "execution_count": 57,
     "metadata": {},
     "output_type": "execute_result"
    }
   ],
   "source": [
    "abs(3)"
   ]
  },
  {
   "cell_type": "code",
   "execution_count": 58,
   "metadata": {},
   "outputs": [
    {
     "data": {
      "text/plain": [
       "5.0"
      ]
     },
     "execution_count": 58,
     "metadata": {},
     "output_type": "execute_result"
    }
   ],
   "source": [
    "# abs siempre retorna un numero positivo\n",
    "abs(-5.0)"
   ]
  },
  {
   "cell_type": "markdown",
   "metadata": {},
   "source": [
    "### pow()"
   ]
  },
  {
   "cell_type": "code",
   "execution_count": 59,
   "metadata": {},
   "outputs": [
    {
     "data": {
      "text/plain": [
       "27"
      ]
     },
     "execution_count": 59,
     "metadata": {},
     "output_type": "execute_result"
    }
   ],
   "source": [
    "# ademas de utilizar la nomenclatura 3 ** 3, podemos utilizar pow()\n",
    "pow(3, 3)"
   ]
  },
  {
   "cell_type": "code",
   "execution_count": 60,
   "metadata": {},
   "outputs": [
    {
     "data": {
      "text/plain": [
       "0.25"
      ]
     },
     "execution_count": 60,
     "metadata": {},
     "output_type": "execute_result"
    }
   ],
   "source": [
    "# tambien puede ser con exponenciacion negativa\n",
    "pow(2, -2)"
   ]
  },
  {
   "cell_type": "markdown",
   "metadata": {},
   "source": [
    "Cual es la diferencia entre `**` y `pow()`? Esta ultima acepta un tercer argumento / parametro que computa el primer numero exponenciado al poder del segundo numero y luego toma el modulo `%` con respecto al tercer numero.\n",
    "\n",
    "En otras palabras, `pow(x, y, z)` es equivalente a `(x ** y) % z`"
   ]
  },
  {
   "cell_type": "code",
   "execution_count": 61,
   "metadata": {},
   "outputs": [
    {
     "data": {
      "text/plain": [
       "0"
      ]
     },
     "execution_count": 61,
     "metadata": {},
     "output_type": "execute_result"
    }
   ],
   "source": [
    "pow(2, 3, 2)"
   ]
  },
  {
   "cell_type": "code",
   "execution_count": 63,
   "metadata": {},
   "outputs": [
    {
     "data": {
      "text/plain": [
       "0"
      ]
     },
     "execution_count": 63,
     "metadata": {},
     "output_type": "execute_result"
    }
   ],
   "source": [
    "8 % 2"
   ]
  },
  {
   "cell_type": "markdown",
   "metadata": {},
   "source": [
    "### Revisa si un numero flotante es entero"
   ]
  },
  {
   "cell_type": "markdown",
   "metadata": {},
   "source": [
    "Los metodos de numeros no son utilizados frecuentemes, pero hay uno que puede ser util. Los numeros de tipo flotante tienen un metodo `.is_integer()` que retorna `True` si el numero es **entero** o `False` de lo contrario. El numero es entero cuando no tiene ninguna parte fraccionada."
   ]
  },
  {
   "cell_type": "code",
   "execution_count": 5,
   "metadata": {},
   "outputs": [
    {
     "data": {
      "text/plain": [
       "False"
      ]
     },
     "execution_count": 5,
     "metadata": {},
     "output_type": "execute_result"
    }
   ],
   "source": [
    "num = 2.5\n",
    "num.is_integer()"
   ]
  },
  {
   "cell_type": "code",
   "execution_count": 6,
   "metadata": {},
   "outputs": [
    {
     "data": {
      "text/plain": [
       "True"
      ]
     },
     "execution_count": 6,
     "metadata": {},
     "output_type": "execute_result"
    }
   ],
   "source": [
    "num = 2.0\n",
    "num.is_integer()"
   ]
  },
  {
   "cell_type": "markdown",
   "metadata": {},
   "source": [
    "### Ejercicios\n",
    "\n",
    "1. Escribe un script que solicita al usuario un numero y luego muestra ese numero redondeado a dos puntos decimales.\n",
    "2. Escribe un script que solicita al usuario un numero y luego muestra el valor absoluto de ese numero.\n",
    "3. Escribe un script que solicita al usuario dos numeros utilizando input dos veces y luego muestra si la diferencia entre esos dos numeros es un numero entero."
   ]
  },
  {
   "cell_type": "markdown",
   "metadata": {},
   "source": [
    "## Imprime numeros con estilo"
   ]
  },
  {
   "cell_type": "markdown",
   "metadata": {},
   "source": [
    "Mostrar numeros al usuario requiere insertar numeros a un string. En la seccion de strings, aprendimos hacer esto con **f-strings**."
   ]
  },
  {
   "cell_type": "code",
   "execution_count": 66,
   "metadata": {},
   "outputs": [
    {
     "data": {
      "text/plain": [
       "'El valor de n es 7.125'"
      ]
     },
     "execution_count": 66,
     "metadata": {},
     "output_type": "execute_result"
    }
   ],
   "source": [
    "n = 7.125\n",
    "f'El valor de n es {n}'"
   ]
  },
  {
   "cell_type": "markdown",
   "metadata": {},
   "source": [
    "Las llaves `{}` soportan un lenguaje de formato que podemos utilizar para alterar la apariencia del valor final del string. Por ejemplo, para cambiar el formato del valor de `n` a 2 valores decimales, reemplazamos los contenidos de las llaves en el f-string con `{n:.2f}`"
   ]
  },
  {
   "cell_type": "code",
   "execution_count": 67,
   "metadata": {},
   "outputs": [
    {
     "data": {
      "text/plain": [
       "'El valor de n es 7.12'"
      ]
     },
     "execution_count": 67,
     "metadata": {},
     "output_type": "execute_result"
    }
   ],
   "source": [
    "f'El valor de n es {n:.2f}'"
   ]
  },
  {
   "cell_type": "markdown",
   "metadata": {},
   "source": [
    "El colon `:` despues de la variable `n` indica que todo despues del mismo es parte de una especificacion de formato. En este ejemplo, la especificacion de formato es `.2f`. El `.2` en `.2f` redondea el numero a dos puntos decimales y la `f` le dice a Python que muestre `n` como un numero de punto flotante. Esto significa que el numero se muestra con exactamente 2 puntos decimales aunque el numero original tiene menos puntos decimales."
   ]
  },
  {
   "cell_type": "code",
   "execution_count": 68,
   "metadata": {},
   "outputs": [
    {
     "data": {
      "text/plain": [
       "'El valor de n es 7.13'"
      ]
     },
     "execution_count": 68,
     "metadata": {},
     "output_type": "execute_result"
    }
   ],
   "source": [
    "# Python de todas formas utiliza la estrategia de redondear empates al par en este caso tambien\n",
    "n = 7.126\n",
    "f'El valor de n es {n:.2f}'"
   ]
  },
  {
   "cell_type": "code",
   "execution_count": 69,
   "metadata": {},
   "outputs": [
    {
     "data": {
      "text/plain": [
       "'El valor de n es 7.1'"
      ]
     },
     "execution_count": 69,
     "metadata": {},
     "output_type": "execute_result"
    }
   ],
   "source": [
    "# un punto decimal\n",
    "f'El valor de n es {n:.1f}'"
   ]
  },
  {
   "cell_type": "code",
   "execution_count": 70,
   "metadata": {},
   "outputs": [
    {
     "data": {
      "text/plain": [
       "'El valor de n es 1.00'"
      ]
     },
     "execution_count": 70,
     "metadata": {},
     "output_type": "execute_result"
    }
   ],
   "source": [
    "n = 1\n",
    "f'El valor de n es {n:.2f}'"
   ]
  },
  {
   "cell_type": "code",
   "execution_count": 71,
   "metadata": {},
   "outputs": [
    {
     "data": {
      "text/plain": [
       "'El valor de n es 1.00000'"
      ]
     },
     "execution_count": 71,
     "metadata": {},
     "output_type": "execute_result"
    }
   ],
   "source": [
    "f'El valor de n es {n:.5f}'"
   ]
  },
  {
   "cell_type": "code",
   "execution_count": 72,
   "metadata": {},
   "outputs": [
    {
     "data": {
      "text/plain": [
       "'El valor de n es 1,234,567,890'"
      ]
     },
     "execution_count": 72,
     "metadata": {},
     "output_type": "execute_result"
    }
   ],
   "source": [
    "# podemos usar comas para agrupar partes de un numero entero grande\n",
    "n = 1234567890\n",
    "f'El valor de n es {n:,}'"
   ]
  },
  {
   "cell_type": "code",
   "execution_count": 73,
   "metadata": {},
   "outputs": [
    {
     "data": {
      "text/plain": [
       "'El valor de n es 1,234.56'"
      ]
     },
     "execution_count": 73,
     "metadata": {},
     "output_type": "execute_result"
    }
   ],
   "source": [
    "# agrupemos un numero entero con decimal\n",
    "n = 1234.56\n",
    "f'El valor de n es {n:,.2f}'"
   ]
  },
  {
   "cell_type": "code",
   "execution_count": 74,
   "metadata": {},
   "outputs": [
    {
     "data": {
      "text/plain": [
       "'Despues de gastar $256.35, me quedé con $1,743.65'"
      ]
     },
     "execution_count": 74,
     "metadata": {},
     "output_type": "execute_result"
    }
   ],
   "source": [
    "# la especificacion `,.2f` es util para mostrar dinero\n",
    "balance = 2000.0\n",
    "gastado = 256.35\n",
    "restante = balance - gastado\n",
    "f'Despues de gastar ${gastado:.2f}, me quedé con ${restante:,.2f}'"
   ]
  },
  {
   "cell_type": "markdown",
   "metadata": {},
   "source": [
    "Otra opción util es el porcentaje `%`, utilizado para mostrar porcentajes. Esta opcion multiplica el numero por `100` y lo muestra en formato de punto flotante, seguido por el simbolo porcentual. Siempre debe estar al final de la especificacion y no se puede mezclar con otra especificacion de formato."
   ]
  },
  {
   "cell_type": "code",
   "execution_count": 7,
   "metadata": {},
   "outputs": [
    {
     "data": {
      "text/plain": [
       "'Mas del 90.0%'"
      ]
     },
     "execution_count": 7,
     "metadata": {},
     "output_type": "execute_result"
    }
   ],
   "source": [
    "ratio = 0.9\n",
    "f'Mas del {ratio:.1%}'"
   ]
  },
  {
   "cell_type": "markdown",
   "metadata": {},
   "source": [
    "Las especificaciones de formato son poderosas y extensas. Aqui solo explicamos lo basico. Le invito a leerse la documentacion oficial al respecto: https://docs.python.org/3/library/string.html#format-string-syntax"
   ]
  },
  {
   "cell_type": "markdown",
   "metadata": {},
   "source": [
    "### Ejercicios\n",
    "1. Imprime el resultado de la calculacion `3 ** .125` como numero de punto flotante `float` con tres puntos decimales.\n",
    "2. Imprime el numero `150000` como moneda / dinero y con los miles agrupados con commas, a dos puntos deicmales.\n",
    "3. Imprime el resultado de `2 / 10` como porcentaje sin ningun punto decimal. El dato de salida debe ser como `20%`."
   ]
  },
  {
   "cell_type": "markdown",
   "metadata": {},
   "source": [
    "## Resumen"
   ]
  },
  {
   "cell_type": "markdown",
   "metadata": {},
   "source": [
    "En esta seccion aprendimos a trabajar con numeros en Python. Vimos que existen dos tipos basicos de numeros: numeros enteros y numeros de punto flotante.\n",
    "\n",
    "Aprendimos a hacer aritmetica basica con numeros utilizando los operadores `+`, `-`, `*`, `/` y `%`. Tambien vimos como escribir expresiones aritmeticas y aprendimos algunas de las mejores practicas para formatear expresiones aritmeticas.\n",
    "\n",
    "Despues aprendimos sobre los numeros de punto flotante y como no son 100% precisos. Esta limitacion no es relativa a Python, sino al hecho de como la industria ha resuelto el problema de guardar estos numeros en la memoria de la computadora. \n",
    "\n",
    "Ademas, vimos como redondear numeros a ciertos puntos decimales con `round()` y aprendimos que este metodo utiliza la estrategia de redondear empates al par, lo cual es diferente a como aprendimos a redondear numeros en la escuela.\n",
    "\n",
    "Finalmente, vimos numerosas maneras en como cambiar el formato especifico de un numero."
   ]
  }
 ],
 "metadata": {
  "kernelspec": {
   "display_name": "Python 3",
   "language": "python",
   "name": "python3"
  },
  "language_info": {
   "codemirror_mode": {
    "name": "ipython",
    "version": 3
   },
   "file_extension": ".py",
   "mimetype": "text/x-python",
   "name": "python",
   "nbconvert_exporter": "python",
   "pygments_lexer": "ipython3",
   "version": "3.8.1"
  }
 },
 "nbformat": 4,
 "nbformat_minor": 4
}
