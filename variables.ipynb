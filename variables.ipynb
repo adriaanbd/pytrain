{
 "cells": [
  {
   "cell_type": "markdown",
   "metadata": {},
   "source": [
    "# Variables "
   ]
  },
  {
   "cell_type": "markdown",
   "metadata": {},
   "source": [
    "## Asignacion de Variables\n",
    "\n",
    "Pensemos que una variable es un nombre asignado a un objeto en particular. \n",
    "\n",
    "Una variable se crea asignando un valor al mismo, a fin de utilizarlo mas adelante. La asignacion se hace con el symbolo `=`."
   ]
  },
  {
   "cell_type": "code",
   "execution_count": 1,
   "metadata": {},
   "outputs": [
    {
     "name": "stdout",
     "output_type": "stream",
     "text": [
      "Hola Mundo\n"
     ]
    }
   ],
   "source": [
    "# Guardemos una variable\n",
    "frase = 'Hola Mundo'\n",
    "print(frase)"
   ]
  },
  {
   "cell_type": "code",
   "execution_count": 2,
   "metadata": {},
   "outputs": [
    {
     "data": {
      "text/plain": [
       "'Hola Mundo'"
      ]
     },
     "execution_count": 2,
     "metadata": {},
     "output_type": "execute_result"
    }
   ],
   "source": [
    "# En una sesion REPL, podemos utilizar la variable sin el print()\n",
    "frase"
   ]
  },
  {
   "cell_type": "code",
   "execution_count": 3,
   "metadata": {},
   "outputs": [
    {
     "name": "stdout",
     "output_type": "stream",
     "text": [
      "Hola Chiriqui!\n"
     ]
    }
   ],
   "source": [
    "# Podemos cambiar el valor de la variable y volver a utilizarla\n",
    "frase = 'Hola Chiriqui!'\n",
    "print(frase)"
   ]
  },
  {
   "cell_type": "code",
   "execution_count": 4,
   "metadata": {},
   "outputs": [
    {
     "name": "stdout",
     "output_type": "stream",
     "text": [
      "100 100 100\n"
     ]
    }
   ],
   "source": [
    "# Tambien podemos realizar una asignacion en cadena (el mismo valor a muchas variables)\n",
    "a = b = c = 100\n",
    "print(a, b, c)"
   ]
  },
  {
   "cell_type": "code",
   "execution_count": 5,
   "metadata": {},
   "outputs": [
    {
     "name": "stdout",
     "output_type": "stream",
     "text": [
      "hola\n"
     ]
    }
   ],
   "source": [
    "# Podemos reasignar una variable de un numero a un string\n",
    "a = 'hola'\n",
    "print(a)"
   ]
  },
  {
   "cell_type": "markdown",
   "metadata": {},
   "source": [
    "## Referencias a Objetos\n",
    "\n",
    "Que sucede cuando creamos una asignacion a una variable? \n",
    "\n",
    "Toda cosa o dato en Python es un objeto de un **tipo** o **clase**\n",
    "\n",
    "```\n",
    "# Por ejemplo\n",
    "print(300)\n",
    "```\n",
    "\n",
    "El interpretador hace lo siguiente:\n",
    "1. Crea un objeto de tipo `integer`\n",
    "2. Le da un valor de `300`\n",
    "3. Muestra el valor en la consola"
   ]
  },
  {
   "cell_type": "code",
   "execution_count": 6,
   "metadata": {},
   "outputs": [
    {
     "data": {
      "text/plain": [
       "int"
      ]
     },
     "execution_count": 6,
     "metadata": {},
     "output_type": "execute_result"
    }
   ],
   "source": [
    "# Podemos ver que es de tipo integer utilizando el metodo incorporado (built-in) type()\n",
    "type(300)"
   ]
  },
  {
   "cell_type": "markdown",
   "metadata": {},
   "source": [
    "Una variable en Python es nombre que sirve de referencia o puntero a un objeto. Cuando un objeto es asignado a una variable, podemos hacer referencia al mismo utilizando el nombre, no obstante, el dato o valor sigue contenido dentro del objeto.\n",
    "\n",
    "Por ejemplo:\n",
    "\n",
    "```\n",
    "n = 300\n",
    "```\n",
    "\n",
    "Esta asignacion crea un objeto de tipo entero o `integer` con un valor de `300` y asigna la variable `n` a que apunte a ese objeto."
   ]
  },
  {
   "cell_type": "code",
   "execution_count": 7,
   "metadata": {},
   "outputs": [
    {
     "name": "stdout",
     "output_type": "stream",
     "text": [
      "300 <class 'int'>\n"
     ]
    }
   ],
   "source": [
    "n = 300\n",
    "print(n, type(n))"
   ]
  },
  {
   "cell_type": "code",
   "execution_count": 8,
   "metadata": {},
   "outputs": [],
   "source": [
    "# Consideremos la siguiente declaracion\n",
    "m = n"
   ]
  },
  {
   "cell_type": "markdown",
   "metadata": {},
   "source": [
    "Que sucede cuando ejecutamos esa declaracion? \n",
    "\n",
    "Python no crea otro objeto, simplemente crea un nombre simbolico o referencia denominada `m` que apunta al mismo objeto al que apunta `n`"
   ]
  },
  {
   "cell_type": "code",
   "execution_count": 9,
   "metadata": {},
   "outputs": [],
   "source": [
    "# ahora, hagamos esto\n",
    "m = 400"
   ]
  },
  {
   "cell_type": "markdown",
   "metadata": {},
   "source": [
    "Python crea un nuevo objeto de tipo `integer` con un valor de `400` y `m` se convierte en su referencia."
   ]
  },
  {
   "cell_type": "code",
   "execution_count": 10,
   "metadata": {},
   "outputs": [],
   "source": [
    "# supongamos esta declaracion se ejecuta despues\n",
    "n = 'foo'"
   ]
  },
  {
   "cell_type": "markdown",
   "metadata": {},
   "source": [
    "Python crea un objeto de tipo `string` con un valor `foo` y `n` se convierte en su referencia."
   ]
  },
  {
   "cell_type": "markdown",
   "metadata": {},
   "source": [
    "Observemos que ya no existe una referencia al objeto de tipo `integer` con el valor `300`. Es huerfano, toda vez que no hay manera de acceder al mismo. Esto trae a colacion el **tiempo de vida de un objeto**. La vida de un objeto empieza cuando es creado y donde por lo menos existe una referencia al mismo. Durante el tiempo de vida de un objeto, pueden existir referencias adicionales al mismo, como vimos anteriormente, y esas referencias tambien pueden desaparecer. Es importante destacar que un objeto se mantiene vivo, siempre y cuando exista una referencia que apunte al mismo. \n",
    "\n",
    "No es posible acceder a un objeto cuando el numero de referencias al mismo es `0`. Esto es de suma importancia, toda vez que Python automaticamente reclama el espacio de memoria asignado al mismo para que pueda ser utilizado por alguna otra cosa. Este proceso se llama `garbage collection` o `recoleccion de basura`. "
   ]
  },
  {
   "cell_type": "markdown",
   "metadata": {},
   "source": [
    "## Identidad de un objeto"
   ]
  },
  {
   "cell_type": "markdown",
   "metadata": {},
   "source": [
    "En Python, cada vez que un objeto es creado, se le da un numero que lo identifique. No existen dos objetos con el mismo numero de identificacion durante el tiempo de vida de ambos. En cierto sentido, es el equivalente de nuestra cedula. No existen (por lo menos no deberian existir) distintas personas con el mismo numero de cedula.\n",
    "\n",
    "Cuando el numero de referencias de un objeto es `0`, se activa el recolector de basura, y su numero de identificacion se torna disponible para ser usado nuevamente.\n",
    "\n",
    "Python tiene un metodo incorporado denominado `id()` que retorna el numero de identificacion de un objeto. Utilizando este metodo, podemos verificar que dos variables apuntan al mismo objeto."
   ]
  },
  {
   "cell_type": "code",
   "execution_count": 11,
   "metadata": {},
   "outputs": [
    {
     "name": "stdout",
     "output_type": "stream",
     "text": [
      "139935005885200 139935005885200\n"
     ]
    }
   ],
   "source": [
    "n = m = 300\n",
    "print(id(n), id(m))"
   ]
  },
  {
   "cell_type": "code",
   "execution_count": 12,
   "metadata": {},
   "outputs": [
    {
     "name": "stdout",
     "output_type": "stream",
     "text": [
      "139935005885200 139935005885104\n"
     ]
    }
   ],
   "source": [
    "# cambiemos el valor de uno\n",
    "m = 400\n",
    "print(id(n), id(m))"
   ]
  },
  {
   "cell_type": "markdown",
   "metadata": {},
   "source": [
    "## Nombres de Variables"
   ]
  },
  {
   "cell_type": "markdown",
   "metadata": {},
   "source": [
    "Oficialmente, los nombres de variables en Python pueden ser de cualquier numero de caracteres y pueden consistir de letras mayusculas, minusculas, digitos e incluso el guion bajo `_`. Sin embargo, el primer caracter de una variable no puede ser un digito."
   ]
  },
  {
   "cell_type": "code",
   "execution_count": 13,
   "metadata": {},
   "outputs": [
    {
     "name": "stdout",
     "output_type": "stream",
     "text": [
      "juan 55 True\n"
     ]
    }
   ],
   "source": [
    "# todo los siguientes nombres son validos\n",
    "nombre = 'juan'\n",
    "edad = 55\n",
    "tiene_cedula = True\n",
    "print(nombre, edad, tiene_cedula)"
   ]
  },
  {
   "cell_type": "code",
   "execution_count": 14,
   "metadata": {},
   "outputs": [
    {
     "ename": "SyntaxError",
     "evalue": "cannot assign to literal (<ipython-input-14-39be306f3ddc>, line 2)",
     "output_type": "error",
     "traceback": [
      "\u001b[0;36m  File \u001b[0;32m\"<ipython-input-14-39be306f3ddc>\"\u001b[0;36m, line \u001b[0;32m2\u001b[0m\n\u001b[0;31m    123 = 'no es valido'\u001b[0m\n\u001b[0m    ^\u001b[0m\n\u001b[0;31mSyntaxError\u001b[0m\u001b[0;31m:\u001b[0m cannot assign to literal\n"
     ]
    }
   ],
   "source": [
    "# este nombre no es valido\n",
    "123 = 'no es valido'\n",
    "print(123)"
   ]
  },
  {
   "cell_type": "code",
   "execution_count": 15,
   "metadata": {},
   "outputs": [
    {
     "name": "stdout",
     "output_type": "stream",
     "text": [
      "50 60\n"
     ]
    }
   ],
   "source": [
    "# mayusculas y minusculas no son lo mismo\n",
    "edad = 50\n",
    "Edad = 60\n",
    "print(edad, Edad)"
   ]
  },
  {
   "cell_type": "markdown",
   "metadata": {},
   "source": [
    "Existen 3 principales convenciones de escribir nombrse de variables con mas de una palabra:\n",
    "\n",
    "1. Camello : `primeroSegundo`\n",
    "2. Pascal: `PrimeroSegundo`\n",
    "3. Culebra `primero_segundo`\n",
    "\n",
    "Es importante destacar que la guia oficial de estilo de Python, conocida como **PEP 8**, contiene Convenciones de Nombres y hace las siguientes recomendaciones:\n",
    "\n",
    "1. La convencion Culebra debe ser utilizado para funciones / metodos y nombre de variables\n",
    "2. La convencion Pascal debe ser utilizado para nombre de Clases (lo veremos mas adelante)"
   ]
  },
  {
   "cell_type": "markdown",
   "metadata": {},
   "source": [
    "## Palabras Reservadas (Keywords)"
   ]
  },
  {
   "cell_type": "markdown",
   "metadata": {},
   "source": [
    "Existen varias palabras reservadas que no pueden ser utilizadas como nombres"
   ]
  },
  {
   "cell_type": "code",
   "execution_count": 16,
   "metadata": {},
   "outputs": [
    {
     "name": "stdout",
     "output_type": "stream",
     "text": [
      "0 False\n",
      "1 None\n",
      "2 True\n",
      "3 and\n",
      "4 as\n",
      "5 assert\n",
      "6 async\n",
      "7 await\n",
      "8 break\n",
      "9 class\n",
      "10 continue\n",
      "11 def\n",
      "12 del\n",
      "13 elif\n",
      "14 else\n",
      "15 except\n",
      "16 finally\n",
      "17 for\n",
      "18 from\n",
      "19 global\n",
      "20 if\n",
      "21 import\n",
      "22 in\n",
      "23 is\n",
      "24 lambda\n",
      "25 nonlocal\n",
      "26 not\n",
      "27 or\n",
      "28 pass\n",
      "29 raise\n",
      "30 return\n",
      "31 try\n",
      "32 while\n",
      "33 with\n",
      "34 yield\n"
     ]
    }
   ],
   "source": [
    "# en Python 3.8 existen 34 palabras reservadas\n",
    "import keyword\n",
    "for index, key in enumerate(keyword.kwlist):\n",
    "    print(index, key)"
   ]
  },
  {
   "cell_type": "markdown",
   "metadata": {},
   "source": [
    "## Prueba de conocimiento"
   ]
  },
  {
   "cell_type": "markdown",
   "metadata": {},
   "source": [
    "Cual de las siguientes declaraciones le asigna un valor `100` a la variable `x`?\n",
    "  1. `x <- 100`\n",
    "  2. `x = 100`\n",
    "  3. `x << 100`\n",
    "  4. `let x = 100`\n",
    "  5. `x := 100`"
   ]
  },
  {
   "cell_type": "markdown",
   "metadata": {},
   "source": [
    "En Python, una variable puede ser asignada un valor de un tipo, y luego ser asignada a un valor de otro tipo?\n",
    "```\n",
    "n = 'hola'\n",
    "n = 1\n",
    "```"
   ]
  },
  {
   "cell_type": "markdown",
   "metadata": {},
   "source": [
    "Considera la proxima declaracion:\n",
    "\n",
    "```\n",
    "n = 300\n",
    "m = n\n",
    "```\n",
    "\n",
    "Cuantos objetos y cuantas referencias son creadas?\n",
    "\n",
    "1. Un objeto, una referencia\n",
    "2. Un objeto, dos referencias\n",
    "3. Dos objetos, dos referencias\n",
    "4. Dos objetos, una referencia"
   ]
  },
  {
   "cell_type": "markdown",
   "metadata": {},
   "source": [
    "Cual es el metodo que retorna el numero de identificacion asignado a un objeto?\n",
    "\n",
    "1. `identity()`\n",
    "2. `ref()`\n",
    "3. `id()`\n",
    "4. `refnum()`"
   ]
  },
  {
   "cell_type": "markdown",
   "metadata": {},
   "source": [
    "Cual de las siguientes constituyen nombres validos en Python?\n",
    "1. `return`\n",
    "2. `direccion_casa`\n",
    "3. `calle13`\n",
    "4. `Edad`\n",
    "5. `4ruedas`\n",
    "6. `version1.0`"
   ]
  },
  {
   "cell_type": "markdown",
   "metadata": {},
   "source": [
    "Te encuentras las siguientes declaraciones:\n",
    "\n",
    "```\n",
    "empleadonumero = 4398\n",
    "    .\n",
    "    .\n",
    "    .\n",
    "EmpleadoNumero = 4398\n",
    "    .\n",
    "    .\n",
    "    .\n",
    "empleadoNumero = 4398\n",
    "```\n",
    "\n",
    "Estas declaraciones hacen referencia a la misma variable o a variables distintas?\n",
    "1. Mismas variables\n",
    "2. Distintas variables"
   ]
  },
  {
   "cell_type": "markdown",
   "metadata": {},
   "source": [
    "Cuales de los siguientes estilos es recomendado para variables de mas de un nombre?\n",
    "1. `distanciaABoquete`\n",
    "2. `DistanciaABoquete`\n",
    "3. `distancia_a_boquete`"
   ]
  },
  {
   "cell_type": "markdown",
   "metadata": {},
   "source": [
    "Cuales de las proximas palabras estan reservadas?\n",
    "1. `None`\n",
    "2. `class`\n",
    "3. `and`\n",
    "4. `default`\n",
    "5. `goto`"
   ]
  }
 ],
 "metadata": {
  "kernelspec": {
   "display_name": "Python 3",
   "language": "python",
   "name": "python3"
  },
  "language_info": {
   "codemirror_mode": {
    "name": "ipython",
    "version": 3
   },
   "file_extension": ".py",
   "mimetype": "text/x-python",
   "name": "python",
   "nbconvert_exporter": "python",
   "pygments_lexer": "ipython3",
   "version": "3.8.1"
  }
 },
 "nbformat": 4,
 "nbformat_minor": 4
}
