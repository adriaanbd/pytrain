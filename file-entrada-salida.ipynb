{
 "cells": [
  {
   "cell_type": "markdown",
   "metadata": {},
   "source": [
    "# Archivo Entrada y Salida"
   ]
  },
  {
   "cell_type": "markdown",
   "metadata": {},
   "source": [
    "Los programas requieren datos, y a veces muchos datos. Hay diferentes maneras de guardar y acceder a ello, pero una de las mas comunes es a traves del sistema de archivos de una computadora. Por tanto, trabajar con archivos es una herramienta sumamente util para cualquier programador. \n",
    "\n",
    "Operacions comunes involucran: guardando el dato de salida de un programa a un archivo de texto, limpiar un documento tabulado a fin que cada columna este en el formato correcto, o eliminar archivos grandes de un directorio en el disco duro.\n",
    "\n",
    "En esta seccion aprenderemos a:\n",
    "1. Leer y escribir archivos\n",
    "2. Trabajar con rutas de archivos\n",
    "3. Trabajar con archivos CSV"
   ]
  },
  {
   "cell_type": "markdown",
   "metadata": {},
   "source": [
    "# Leer y escribir archivos"
   ]
  },
  {
   "cell_type": "markdown",
   "metadata": {},
   "source": [
    "Hasta ahora hemos visto programas que toman dato de entrada del mismo programa o del usuario. Si han trabajado con muchos datos, estos metodos son problematicos. En muchas aplicaciones, el dato de entrada es leido de algun(os) archivo(s). Python tiene herramientas que nos permiten realizar estas operaciones."
   ]
  },
  {
   "cell_type": "markdown",
   "metadata": {},
   "source": [
    "## Escribir a un archivo"
   ]
  },
  {
   "cell_type": "markdown",
   "metadata": {},
   "source": [
    "Para escribir un archivo de texto sin formato, podemos utilizar la funcion general incorporada `open()`. Cuando abrimos un archivo con `open()`, lo primero que debemos determinar es si realizamos una operacion de lectura o de escritura."
   ]
  },
  {
   "cell_type": "code",
   "execution_count": null,
   "metadata": {},
   "outputs": [],
   "source": [
    "# abrir y escribir a un archivo\n",
    "archivo_salida = open('hola.txt', 'w')  # abrimos en modo \"w\" de escritura"
   ]
  },
  {
   "cell_type": "code",
   "execution_count": null,
   "metadata": {},
   "outputs": [],
   "source": [
    "# escribimos una linea de texto con writelines()\n",
    "archivo_salida.writelines('Este es mi primer archivo')\n",
    "archivo_salida.close()"
   ]
  },
  {
   "cell_type": "markdown",
   "metadata": {},
   "source": [
    "Cuando solo proporcionamos el nombre del archivo, este se creará en el mismo directorio que tiene el script, toda vez que no proporcionamos la ruta del archivo.\n",
    "\n",
    "Cuando abrimos un archivo con `open()`, siempre debemos cerrar el archivo con `close()`. Python cierra automaticamente los archivos que uno abre, pero si no los cerramos, puede ocasionar problemas no esperados. \n",
    "\n",
    "Despues de ejecutar el script, observamos un archivo nuevo en el directorio denominado `hola.txt`, con la linea escrita `Este es mi primer archivo`."
   ]
  },
  {
   "cell_type": "code",
   "execution_count": null,
   "metadata": {},
   "outputs": [],
   "source": [
    "# writelines() tambien toma una lista de lineas \n",
    "archivo_salida = open('hola.txt', 'w')  # si abrimos un archivo existente, el contenido viejo se borra\n",
    "lineas = [\n",
    "    'Este archivo es nuevo',\n",
    "    'Contiene esta linea',\n",
    "    'Esta otra linea tambien'\n",
    "]\n",
    "archivo_salida.writelines(lineas)  # las lineas son escritas seguidamente sin espacio\n",
    "archivo_salida.close()"
   ]
  },
  {
   "cell_type": "code",
   "execution_count": 1,
   "metadata": {},
   "outputs": [],
   "source": [
    "# para escribir en una linea nueva, insertemos el caracter de nueva linea \"\\n\"\n",
    "archivo_salida = open('hola.txt', 'w') \n",
    "lineas = [\n",
    "    'Este archivo es nuevo',\n",
    "    '\\nContiene esta linea',     # \\n en linea nueva\n",
    "    '\\nEsta otra linea tambien'  # \\n en linea nueva\n",
    "]\n",
    "archivo_salida.writelines(lineas)  # las lineas son escritas seguidamente sin espacio\n",
    "archivo_salida.close()"
   ]
  },
  {
   "cell_type": "markdown",
   "metadata": {},
   "source": [
    "Si abrimos el archivo, observamos cada linea en una linea nueva:\n",
    "\n",
    "```\n",
    "Este archivo es nuevo\n",
    "Contiene esta linea\n",
    "Esta otra linea tambien\n",
    "```"
   ]
  },
  {
   "cell_type": "code",
   "execution_count": 2,
   "metadata": {},
   "outputs": [],
   "source": [
    "# podemos abrir el archivo en modo \"a\" que permita \"adjuntar\"\n",
    "archivo_salida = open('hola.txt', 'a')  # abrimos el archivo pero no borra el contenido\n",
    "archivo_salida.writelines('\\nEsta linea se adjunta')  # linea nueva\n",
    "archivo_salida.close()  "
   ]
  },
  {
   "cell_type": "markdown",
   "metadata": {},
   "source": [
    "Si abrimos el archivo, observamos cada linea en una linea nueva:\n",
    "\n",
    "```\n",
    "Este archivo es nuevo\n",
    "Contiene esta linea\n",
    "Esta otra linea tambien\n",
    "Esta linea se adjunta\n",
    "```"
   ]
  },
  {
   "cell_type": "markdown",
   "metadata": {},
   "source": [
    "## Leer un archivo"
   ]
  },
  {
   "cell_type": "code",
   "execution_count": 3,
   "metadata": {},
   "outputs": [
    {
     "name": "stdout",
     "output_type": "stream",
     "text": [
      "['Este archivo es nuevo\\n', 'Contiene esta linea\\n', 'Esta otra linea tambien\\n', 'Esta linea se adjunta']\n"
     ]
    }
   ],
   "source": [
    "# abrimos el archivo en modo lectura \"r\" \n",
    "archivo_entrada = open('hola.txt', 'r')\n",
    "print(archivo_entrada.readlines())  # utilizamos el metodo readlines() que retorna una lista de lineas\n",
    "archivo_entrada.close()"
   ]
  },
  {
   "cell_type": "code",
   "execution_count": 4,
   "metadata": {},
   "outputs": [
    {
     "name": "stdout",
     "output_type": "stream",
     "text": [
      "Este archivo es nuevo\n",
      "\n",
      "Contiene esta linea\n",
      "\n",
      "Esta otra linea tambien\n",
      "\n",
      "Esta linea se adjunta\n"
     ]
    }
   ],
   "source": [
    "# ya que el archivo retorna una lista, podemos ciclar sobre la misma\n",
    "archivo_entrada = open('hola.txt', 'r')\n",
    "for linea in archivo_entrada.readlines():\n",
    "    print(linea)\n",
    "archivo_entrada.close()"
   ]
  },
  {
   "cell_type": "code",
   "execution_count": 5,
   "metadata": {},
   "outputs": [
    {
     "name": "stdout",
     "output_type": "stream",
     "text": [
      "Este archivo es nuevo\n",
      "Contiene esta linea\n",
      "Esta otra linea tambien\n",
      "Esta linea se adjunta"
     ]
    }
   ],
   "source": [
    "# observamos que hay una nueva linea vacia entre cada linea, podemos anular este comportamiento\n",
    "archivo_entrada = open('hola.txt', 'r')\n",
    "for linea in archivo_entrada.readlines():\n",
    "    print(linea, end='')  # print incluye nueva linea automaticamente, especificamos comportamiento deseado end=''\n",
    "archivo_entrada.close()"
   ]
  },
  {
   "cell_type": "code",
   "execution_count": 6,
   "metadata": {},
   "outputs": [
    {
     "name": "stdout",
     "output_type": "stream",
     "text": [
      "Este archivo es nuevo\n",
      "Contiene esta linea\n",
      "Esta otra linea tambien\n",
      "Esta linea se adjunta"
     ]
    }
   ],
   "source": [
    "# podemos leer linea por linea con readline() en singular\n",
    "archivo_entrada = open('hola.txt', 'r')\n",
    "linea = archivo_entrada.readline()  # lee la primera linea\n",
    "while linea != '':  # si no hemos llegao al fin\n",
    "    print(linea, end='')  # imprime la linea\n",
    "    linea = archivo_entrada.readline()  # lee la proxima linea\n",
    "archivo_entrada.close()"
   ]
  },
  {
   "cell_type": "markdown",
   "metadata": {},
   "source": [
    "Cuando Python lee un archivo, gestiona un tipo de marcador que recuerda su ubicacion en el documento. Es asi como el metodo `readline()` funciona, ya que lee la primera linea, y cuando el metodo se ejecuta nuevamente, Python lee el documento a partir de donde dejó el marcador la última vez, por tanto lee la próxima linea del documento, y asi sucesivamente hasta llegar al final del archivo. Cuando se cierra el archivo con `close()`, el marcador vuelve a reiniciarse, a fin de que la proxima vez pueda empezar desde el principio del archivo. El metodo `readlines()` tambien se comporta de la misma manera. \n",
    "\n",
    "Esto lo podemos comprobar si leemos el archivo, ejecutamos readlines, y sin cerrar el archivo, ejecutamos nuevamente el metodo `readlines()`. Ya que el marcador sigue al final del documento, `readlines()` no retorna linea alguna, porque no hay nada que leer."
   ]
  },
  {
   "cell_type": "code",
   "execution_count": 7,
   "metadata": {},
   "outputs": [
    {
     "name": "stdout",
     "output_type": "stream",
     "text": [
      "Primera vez:\n",
      "Este archivo es nuevo\n",
      "Contiene esta linea\n",
      "Esta otra linea tambien\n",
      "Esta linea se adjunta\n",
      "\n",
      "Segunda vez:\n"
     ]
    }
   ],
   "source": [
    "archivo_entrada = open('hola.txt', 'r')\n",
    "print('Primera vez:')\n",
    "for linea in archivo_entrada.readlines():\n",
    "    print(linea, end='')\n",
    "    \n",
    "print('\\n\\nSegunda vez:')\n",
    "for linea in archivo_entrada.readlines():\n",
    "    print(linea, end='')\n",
    "archivo_entrada.close()"
   ]
  },
  {
   "cell_type": "code",
   "execution_count": 8,
   "metadata": {},
   "outputs": [
    {
     "name": "stdout",
     "output_type": "stream",
     "text": [
      "Primera vez:\n",
      "Este archivo es nuevo\n",
      "Contiene esta linea\n",
      "Esta otra linea tambien\n",
      "Esta linea se adjunta\n",
      "\n",
      "Segunda vez:\n",
      "Este archivo es nuevo\n",
      "Contiene esta linea\n",
      "Esta otra linea tambien\n",
      "Esta linea se adjunta"
     ]
    }
   ],
   "source": [
    "# si queremos acceder al contenido del archivo nuevamente, es mejor guardarlo en una lista\n",
    "archivo_entrada = open('hola.txt', 'r')\n",
    "\n",
    "lineas = archivo_entrada.readlines()\n",
    "    \n",
    "print('Primera vez:')\n",
    "for linea in lineas:\n",
    "    print(linea, end='')\n",
    "    \n",
    "print('\\n\\nSegunda vez:')\n",
    "for linea in lineas:\n",
    "    print(linea, end='')\n",
    "archivo_entrada.close()"
   ]
  },
  {
   "cell_type": "code",
   "execution_count": 9,
   "metadata": {},
   "outputs": [
    {
     "name": "stdout",
     "output_type": "stream",
     "text": [
      "Este archivo es nuevo\n",
      "\n",
      "Contiene esta linea\n",
      "\n",
      "Esta otra linea tambien\n",
      "\n",
      "Esta linea se adjunta\n"
     ]
    }
   ],
   "source": [
    "# para no tener que cerrar el archivo, Python lo hace automaticamente con la palabra with\n",
    "# with establece un contexto\n",
    "with open('hola.txt', 'r') as archivo:\n",
    "    for line in archivo.readlines():\n",
    "        print(line)"
   ]
  },
  {
   "cell_type": "code",
   "execution_count": 10,
   "metadata": {},
   "outputs": [
    {
     "name": "stdout",
     "output_type": "stream",
     "text": [
      "Este archivo es nuevo\n",
      "\n",
      "Contiene esta linea\n",
      "\n",
      "Esta otra linea tambien\n",
      "\n",
      "Esta linea se adjunta\n"
     ]
    }
   ],
   "source": [
    "# podemos abrir mutiples archivos en la misma operacion\n",
    "with open('hola.txt', 'r') as fuente, open('salida.txt', 'w') as salida:\n",
    "    for line in fuente.readlines():\n",
    "        salida.write(line)\n",
    "\n",
    "# todo el contenido del primer archivo se copio a este\n",
    "with open('salida.txt', 'r') as archivo:\n",
    "    for line in archivo.readlines():\n",
    "        print(line)"
   ]
  },
  {
   "cell_type": "markdown",
   "metadata": {},
   "source": [
    "## Ejercicios\n",
    "\n",
    "1. Abra y escriba un archivo que contenga varias lineas utilizando writelines()\n",
    "2. Abra el archivo que escribio y lea sus contenidos con readlines() y readline()\n",
    "3. Abra y lea el archivo que escribio utilizando with() \n",
    "4. Abra y lear al archivo que escribio utilizando with() y copie los contenidos del mismo a otro archivo"
   ]
  },
  {
   "cell_type": "markdown",
   "metadata": {},
   "source": [
    "# Trabajando con Rutas en Python"
   ]
  },
  {
   "cell_type": "markdown",
   "metadata": {},
   "source": [
    "Lo mas probable es que vamos a necesitar abrir archivos ubicados en otros directorios, y no solamente los archivos ubicados en el directorio actual donde reside el script. Para acceder a distintos directorions, podemos ingresar la ruta completa directamente como argumento a la funcion incorporada `open(ruta_absoluta_del_archivo)`.\n",
    "\n",
    "```\n",
    "archivo = open('C:/home/adriaanbd/documentos/hola.txt', 'r')\n",
    "```"
   ]
  },
  {
   "cell_type": "markdown",
   "metadata": {},
   "source": [
    "Observemos el uso del `/`. Las rutas de Windows contienen un `\\` en vez de un `/`, pero en Python podemos substituir el `\\` por el `/`, toda vez que el `\\` tiene un significado especial en Python por ser utilizado como un caracter de escape, lo que quiere decir que el caracter que le sigue inmediatamente, e.g. `\\n` es tratado como caracter especial. Python entiende que el uso del `\\` con el caracter a continuacion es un caracter especial. Por ejemplo, `\\n` significa una nueva linea, `\\t` significa un caracter `tab` que representa 2 o 4 caracteres de espacios en la misma linea.\n",
    "\n",
    "```\n",
    "# podemos utilizar el \\ de la siguiente manera\n",
    "path = r'C:\\home\\adriaanbd\\documentos\\hola.txt'\n",
    "```"
   ]
  },
  {
   "cell_type": "markdown",
   "metadata": {},
   "source": [
    "## El modulo `os`"
   ]
  },
  {
   "cell_type": "markdown",
   "metadata": {},
   "source": [
    "Si deseamos hacer algo mas avanzado con estructuras de archivos, vamos a tener que hacer uso del modulo `os`, que expone varias funciones del sistema operativo. Lo primero que tenemos que hacer es importar el modulo."
   ]
  },
  {
   "cell_type": "code",
   "execution_count": 11,
   "metadata": {},
   "outputs": [],
   "source": [
    "# esto importa el modulo al programa\n",
    "import os "
   ]
  },
  {
   "cell_type": "code",
   "execution_count": 16,
   "metadata": {},
   "outputs": [
    {
     "ename": "FileExistsError",
     "evalue": "[Errno 17] File exists: 'mi-directorio'",
     "output_type": "error",
     "traceback": [
      "\u001b[0;31m---------------------------------------------------------------------------\u001b[0m",
      "\u001b[0;31mFileExistsError\u001b[0m                           Traceback (most recent call last)",
      "\u001b[0;32m<ipython-input-16-ddac2c5353aa>\u001b[0m in \u001b[0;36m<module>\u001b[0;34m\u001b[0m\n\u001b[1;32m      1\u001b[0m \u001b[0;31m# para crear un directorio nuevo en el directorio donde reside este programa\u001b[0m\u001b[0;34m\u001b[0m\u001b[0;34m\u001b[0m\u001b[0;34m\u001b[0m\u001b[0m\n\u001b[0;32m----> 2\u001b[0;31m \u001b[0mos\u001b[0m\u001b[0;34m.\u001b[0m\u001b[0mmkdir\u001b[0m\u001b[0;34m(\u001b[0m\u001b[0;34m'mi-directorio'\u001b[0m\u001b[0;34m)\u001b[0m\u001b[0;34m\u001b[0m\u001b[0;34m\u001b[0m\u001b[0m\n\u001b[0m",
      "\u001b[0;31mFileExistsError\u001b[0m: [Errno 17] File exists: 'mi-directorio'"
     ]
    }
   ],
   "source": [
    "# para crear un directorio nuevo en el directorio donde reside este programa\n",
    "os.mkdir('mi-directorio')  "
   ]
  },
  {
   "cell_type": "code",
   "execution_count": 17,
   "metadata": {},
   "outputs": [],
   "source": [
    "# para crear el directorio en una ruta especifica\n",
    "ruta = 'mi-directorio'  \n",
    "os.mkdir(os.path.join(ruta, 'subdirectorio'))  # utilizemos os.path.join para concatenar dos strings"
   ]
  },
  {
   "cell_type": "code",
   "execution_count": 12,
   "metadata": {},
   "outputs": [
    {
     "name": "stdout",
     "output_type": "stream",
     "text": [
      "C:/home/adriaanbd/documentos/mi-directorio\n"
     ]
    }
   ],
   "source": [
    "# pudimos haber concatenado asi tambien:\n",
    "ruta = 'C:/home/adriaanbd/documentos'  \n",
    "directorio = ruta + '/' + 'mi-directorio'\n",
    "print(directorio)"
   ]
  },
  {
   "cell_type": "code",
   "execution_count": 21,
   "metadata": {},
   "outputs": [
    {
     "data": {
      "text/plain": [
       "'mi-directorio/subdirectorio'"
      ]
     },
     "execution_count": 21,
     "metadata": {},
     "output_type": "execute_result"
    }
   ],
   "source": [
    "ruta = 'mi-directorio'\n",
    "directorio = os.path.join(ruta, 'subdirectorio')\n",
    "directorio"
   ]
  },
  {
   "cell_type": "code",
   "execution_count": 22,
   "metadata": {},
   "outputs": [],
   "source": [
    "# para eliminar un directorio usemos rmdir()\n",
    "os.rmdir(directorio)"
   ]
  },
  {
   "cell_type": "code",
   "execution_count": 24,
   "metadata": {},
   "outputs": [],
   "source": [
    "ruta = 'mi-directorio'\n",
    "os.rmdir(ruta)"
   ]
  },
  {
   "cell_type": "code",
   "execution_count": 26,
   "metadata": {},
   "outputs": [
    {
     "data": {
      "text/plain": [
       "['contenido.ipynb',\n",
       " '.vscode',\n",
       " 'intro.ipynb',\n",
       " 'errores.ipynb',\n",
       " 'contenido.md',\n",
       " 'funciones-y-ciclos.ipynb',\n",
       " 'salida',\n",
       " 'file-entrada-salida.ipynb',\n",
       " '.ipynb_checkpoints',\n",
       " 'otros-temas',\n",
       " 'oop.ipynb',\n",
       " '.gitignore',\n",
       " 'numeros-y-matematica.ipynb',\n",
       " 'tips.ipynb',\n",
       " 'encontrando-resolviendo-errores.ipynb',\n",
       " '.git',\n",
       " 'datos',\n",
       " 'logica-condicional-control-de-flujo.ipynb',\n",
       " 'variables.ipynb',\n",
       " 'strings.ipynb',\n",
       " 'textos-llamadas.ipynb',\n",
       " 'hola.txt',\n",
       " 'juego-de-aventura.ipynb',\n",
       " 'tuplas-listas-diccionarios.ipynb',\n",
       " '.python-version',\n",
       " 'salida.txt']"
      ]
     },
     "execution_count": 26,
     "metadata": {},
     "output_type": "execute_result"
    }
   ],
   "source": [
    "# para obtener una lista de los archivos en un directorio usemos os.listdir()\n",
    "os.listdir()  # su dato de salida podrá ser distinto"
   ]
  },
  {
   "cell_type": "code",
   "execution_count": 27,
   "metadata": {},
   "outputs": [
    {
     "name": "stdout",
     "output_type": "stream",
     "text": [
      "hola.txt\n",
      "salida.txt\n"
     ]
    }
   ],
   "source": [
    "# una lista de los archivos con terminacion txt usando endswith()\n",
    "for archivo in os.listdir():\n",
    "    if archivo.lower().endswith('txt'):\n",
    "        print(archivo)"
   ]
  },
  {
   "cell_type": "markdown",
   "metadata": {},
   "source": [
    "## el modulo `glob`"
   ]
  },
  {
   "cell_type": "code",
   "execution_count": 28,
   "metadata": {},
   "outputs": [
    {
     "data": {
      "text/plain": [
       "['hola.txt', 'salida.txt']"
      ]
     },
     "execution_count": 28,
     "metadata": {},
     "output_type": "execute_result"
    }
   ],
   "source": [
    "# este modulo nos ayuda a encontrar patrones con caracteres comodin\n",
    "import glob\n",
    "glob.glob('*.txt')  # el asterisco * es un comodin que representa todo, por tanto todo archivo con extension .txt"
   ]
  },
  {
   "cell_type": "markdown",
   "metadata": {},
   "source": [
    "## Verificando la existencia de archivos y directorios"
   ]
  },
  {
   "cell_type": "code",
   "execution_count": 42,
   "metadata": {},
   "outputs": [
    {
     "name": "stdout",
     "output_type": "stream",
     "text": [
      "Archivo: \"contenido.ipynb\", \n",
      "es un directorio: False\n",
      "\n",
      "\n",
      "Archivo: \".vscode\", \n",
      "es un directorio: True\n",
      "\n",
      "\n",
      "Archivo: \"intro.ipynb\", \n",
      "es un directorio: False\n",
      "\n",
      "\n",
      "Archivo: \"errores.ipynb\", \n",
      "es un directorio: False\n",
      "\n",
      "\n",
      "Archivo: \"contenido.md\", \n",
      "es un directorio: False\n",
      "\n",
      "\n",
      "Archivo: \"funciones-y-ciclos.ipynb\", \n",
      "es un directorio: False\n",
      "\n",
      "\n",
      "Archivo: \"salida\", \n",
      "es un directorio: True\n",
      "\n",
      "\n",
      "Archivo: \"file-entrada-salida.ipynb\", \n",
      "es un directorio: False\n",
      "\n",
      "\n",
      "Archivo: \".ipynb_checkpoints\", \n",
      "es un directorio: True\n",
      "\n",
      "\n",
      "Archivo: \"otros-temas\", \n",
      "es un directorio: False\n",
      "\n",
      "\n",
      "Archivo: \"oop.ipynb\", \n",
      "es un directorio: False\n",
      "\n",
      "\n",
      "Archivo: \".gitignore\", \n",
      "es un directorio: False\n",
      "\n",
      "\n",
      "Archivo: \"numeros-y-matematica.ipynb\", \n",
      "es un directorio: False\n",
      "\n",
      "\n",
      "Archivo: \"tips.ipynb\", \n",
      "es un directorio: False\n",
      "\n",
      "\n",
      "Archivo: \"encontrando-resolviendo-errores.ipynb\", \n",
      "es un directorio: False\n",
      "\n",
      "\n",
      "Archivo: \".git\", \n",
      "es un directorio: True\n",
      "\n",
      "\n",
      "Archivo: \"datos\", \n",
      "es un directorio: True\n",
      "\n",
      "\n",
      "Archivo: \"logica-condicional-control-de-flujo.ipynb\", \n",
      "es un directorio: False\n",
      "\n",
      "\n",
      "Archivo: \"variables.ipynb\", \n",
      "es un directorio: False\n",
      "\n",
      "\n",
      "Archivo: \"strings.ipynb\", \n",
      "es un directorio: False\n",
      "\n",
      "\n",
      "Archivo: \"textos-llamadas.ipynb\", \n",
      "es un directorio: False\n",
      "\n",
      "\n",
      "Archivo: \"hola.txt\", \n",
      "es un directorio: False\n",
      "\n",
      "\n",
      "Archivo: \"juego-de-aventura.ipynb\", \n",
      "es un directorio: False\n",
      "\n",
      "\n",
      "Archivo: \"tuplas-listas-diccionarios.ipynb\", \n",
      "es un directorio: False\n",
      "\n",
      "\n",
      "Archivo: \".python-version\", \n",
      "es un directorio: False\n",
      "\n",
      "\n",
      "Archivo: \"salida.txt\", \n",
      "es un directorio: False\n",
      "\n",
      "\n"
     ]
    }
   ],
   "source": [
    "for archivo in os.listdir():\n",
    "    print(f'Archivo: \"{archivo}\", \\nes un directorio: {os.path.isdir(archivo)}\\n\\n')  # es un directorio?"
   ]
  },
  {
   "cell_type": "code",
   "execution_count": 41,
   "metadata": {},
   "outputs": [
    {
     "name": "stdout",
     "output_type": "stream",
     "text": [
      "Archivo: \"contenido.ipynb\" \n",
      "es un archivo: True\n",
      "\n",
      "\n",
      "Archivo: \".vscode\" \n",
      "es un archivo: False\n",
      "\n",
      "\n",
      "Archivo: \"intro.ipynb\" \n",
      "es un archivo: True\n",
      "\n",
      "\n",
      "Archivo: \"errores.ipynb\" \n",
      "es un archivo: True\n",
      "\n",
      "\n",
      "Archivo: \"contenido.md\" \n",
      "es un archivo: True\n",
      "\n",
      "\n",
      "Archivo: \"funciones-y-ciclos.ipynb\" \n",
      "es un archivo: True\n",
      "\n",
      "\n",
      "Archivo: \"salida\" \n",
      "es un archivo: False\n",
      "\n",
      "\n",
      "Archivo: \"file-entrada-salida.ipynb\" \n",
      "es un archivo: True\n",
      "\n",
      "\n",
      "Archivo: \".ipynb_checkpoints\" \n",
      "es un archivo: False\n",
      "\n",
      "\n",
      "Archivo: \"otros-temas\" \n",
      "es un archivo: True\n",
      "\n",
      "\n",
      "Archivo: \"oop.ipynb\" \n",
      "es un archivo: True\n",
      "\n",
      "\n",
      "Archivo: \".gitignore\" \n",
      "es un archivo: True\n",
      "\n",
      "\n",
      "Archivo: \"numeros-y-matematica.ipynb\" \n",
      "es un archivo: True\n",
      "\n",
      "\n",
      "Archivo: \"tips.ipynb\" \n",
      "es un archivo: True\n",
      "\n",
      "\n",
      "Archivo: \"encontrando-resolviendo-errores.ipynb\" \n",
      "es un archivo: True\n",
      "\n",
      "\n",
      "Archivo: \".git\" \n",
      "es un archivo: False\n",
      "\n",
      "\n",
      "Archivo: \"datos\" \n",
      "es un archivo: False\n",
      "\n",
      "\n",
      "Archivo: \"logica-condicional-control-de-flujo.ipynb\" \n",
      "es un archivo: True\n",
      "\n",
      "\n",
      "Archivo: \"variables.ipynb\" \n",
      "es un archivo: True\n",
      "\n",
      "\n",
      "Archivo: \"strings.ipynb\" \n",
      "es un archivo: True\n",
      "\n",
      "\n",
      "Archivo: \"textos-llamadas.ipynb\" \n",
      "es un archivo: True\n",
      "\n",
      "\n",
      "Archivo: \"hola.txt\" \n",
      "es un archivo: True\n",
      "\n",
      "\n",
      "Archivo: \"juego-de-aventura.ipynb\" \n",
      "es un archivo: True\n",
      "\n",
      "\n",
      "Archivo: \"tuplas-listas-diccionarios.ipynb\" \n",
      "es un archivo: True\n",
      "\n",
      "\n",
      "Archivo: \".python-version\" \n",
      "es un archivo: True\n",
      "\n",
      "\n",
      "Archivo: \"salida.txt\" \n",
      "es un archivo: True\n",
      "\n",
      "\n"
     ]
    }
   ],
   "source": [
    "for archivo in os.listdir():\n",
    "    print(f'Archivo: \"{archivo}\" \\nes un archivo: {os.path.isfile(archivo)}\\n\\n')  # es un archivo?"
   ]
  },
  {
   "cell_type": "code",
   "execution_count": 40,
   "metadata": {},
   "outputs": [
    {
     "name": "stdout",
     "output_type": "stream",
     "text": [
      "Archivo: \"contenido.ipynb\" \n",
      "existe: True\n",
      "\n",
      "\n",
      "Archivo: \".vscode\" \n",
      "existe: True\n",
      "\n",
      "\n",
      "Archivo: \"intro.ipynb\" \n",
      "existe: True\n",
      "\n",
      "\n",
      "Archivo: \"errores.ipynb\" \n",
      "existe: True\n",
      "\n",
      "\n",
      "Archivo: \"contenido.md\" \n",
      "existe: True\n",
      "\n",
      "\n",
      "Archivo: \"funciones-y-ciclos.ipynb\" \n",
      "existe: True\n",
      "\n",
      "\n",
      "Archivo: \"salida\" \n",
      "existe: True\n",
      "\n",
      "\n",
      "Archivo: \"file-entrada-salida.ipynb\" \n",
      "existe: True\n",
      "\n",
      "\n",
      "Archivo: \".ipynb_checkpoints\" \n",
      "existe: True\n",
      "\n",
      "\n",
      "Archivo: \"otros-temas\" \n",
      "existe: True\n",
      "\n",
      "\n",
      "Archivo: \"oop.ipynb\" \n",
      "existe: True\n",
      "\n",
      "\n",
      "Archivo: \".gitignore\" \n",
      "existe: True\n",
      "\n",
      "\n",
      "Archivo: \"numeros-y-matematica.ipynb\" \n",
      "existe: True\n",
      "\n",
      "\n",
      "Archivo: \"tips.ipynb\" \n",
      "existe: True\n",
      "\n",
      "\n",
      "Archivo: \"encontrando-resolviendo-errores.ipynb\" \n",
      "existe: True\n",
      "\n",
      "\n",
      "Archivo: \".git\" \n",
      "existe: True\n",
      "\n",
      "\n",
      "Archivo: \"datos\" \n",
      "existe: True\n",
      "\n",
      "\n",
      "Archivo: \"logica-condicional-control-de-flujo.ipynb\" \n",
      "existe: True\n",
      "\n",
      "\n",
      "Archivo: \"variables.ipynb\" \n",
      "existe: True\n",
      "\n",
      "\n",
      "Archivo: \"strings.ipynb\" \n",
      "existe: True\n",
      "\n",
      "\n",
      "Archivo: \"textos-llamadas.ipynb\" \n",
      "existe: True\n",
      "\n",
      "\n",
      "Archivo: \"hola.txt\" \n",
      "existe: True\n",
      "\n",
      "\n",
      "Archivo: \"juego-de-aventura.ipynb\" \n",
      "existe: True\n",
      "\n",
      "\n",
      "Archivo: \"tuplas-listas-diccionarios.ipynb\" \n",
      "existe: True\n",
      "\n",
      "\n",
      "Archivo: \".python-version\" \n",
      "existe: True\n",
      "\n",
      "\n",
      "Archivo: \"salida.txt\" \n",
      "existe: True\n",
      "\n",
      "\n"
     ]
    }
   ],
   "source": [
    "for archivo in os.listdir():\n",
    "    print(f'Archivo: \"{archivo}\" \\nexiste: {os.path.exists(archivo)}\\n\\n')  # el archivo existe?"
   ]
  },
  {
   "cell_type": "markdown",
   "metadata": {},
   "source": [
    "## Ejercicios\n",
    "\n",
    "1. Imprime la ruta absoluta de todos los archivos y directorios en el directorio de `Documentos/` en su computador\n",
    "2. Imprima la ruta absoluta de todos los archivos .txt en el directorio actual"
   ]
  },
  {
   "cell_type": "markdown",
   "metadata": {},
   "source": [
    "# Lea y Escriba Data CSV"
   ]
  },
  {
   "cell_type": "markdown",
   "metadata": {},
   "source": [
    "Los archivos del dia a dia son un poco mas complicados que archivos simples de texto. Para modificar el contenido de estos archivo, necesitamos un poco mas de herramientas. \n",
    "\n",
    "Una manera comun para guardar datos de texto es en archivos CSV, que por sus siglas en ingles significa Valores Separados por Comma, toda vez que cada entrada en una fila de datos es usualmente separada de otras entrada con una coma. Por ejemplo:\n",
    "\n",
    "```\n",
    "Nombre, Apellido, Edad\n",
    "Juan, Perez, 40\n",
    "Juana, Perez, 45\n",
    "```\n",
    "\n",
    "Cada linea representa una fila de datos, incluyendo la primera fila que representa el encabezamiento de la informacion. Cada entrada aparece en el mismo orden para cada fila, con cada entrada separada de otras con comas. \n",
    "\n",
    "Python tiene un modulo `csv` que nos permite realizar operacions necesarias para la gestion de archivos CSV."
   ]
  },
  {
   "cell_type": "markdown",
   "metadata": {},
   "source": [
    "## Leer un archivo CSV"
   ]
  },
  {
   "cell_type": "code",
   "execution_count": 44,
   "metadata": {
    "scrolled": false
   },
   "outputs": [
    {
     "name": "stdout",
     "output_type": "stream",
     "text": [
      "['numero_saliente', 'numero_entrante', 'fecha_tiempo', 'tiempo_segundos']\n",
      "['(473) 5373591', '(221) 3829872', '2019-08-23 07:13:28', '779']\n",
      "['(712) 6079829', '(521) 9979466', '2019-06-02 19:01:04', '150']\n",
      "['(170) 7207064', '(667) 9707152', '2019-02-18 11:22:21', '1425']\n",
      "['(267) 6838416', '(704) 6053438', '2019-12-26 22:29:30', '3278']\n",
      "['(202) 7159564', '(848) 5356715', '2019-11-11 14:06:47', '2823']\n",
      "['(971) 4270187', '(312) 3476941', '2019-07-21 22:30:45', '2824']\n",
      "['(688) 1872860', '(580) 6692170', '2019-01-05 20:40:15', '363']\n",
      "['(527) 3643293', '(700) 6013130', '2019-03-21 10:25:15', '1090']\n",
      "['(824) 3120489', '(736) 5219693', '2019-06-15 19:31:29', '2383']\n",
      "['(135) 5879807', '(210) 4726824', '2019-12-11 06:37:28', '3289']\n",
      "['(946) 9885969', '(967) 6260487', '2019-04-30 18:12:15', '266']\n",
      "['(822) 1999029', '(394) 2159591', '2019-07-20 13:24:02', '3171']\n",
      "['(214) 1831354', '(407) 4594421', '2019-10-22 18:27:53', '2987']\n",
      "['(301) 9038508', '(117) 3599538', '2019-08-11 14:34:08', '472']\n",
      "['(975) 2050968', '(225) 7340340', '2019-05-24 17:07:56', '1297']\n",
      "['(532) 4461437', '(159) 6755397', '2019-07-27 09:02:02', '2548']\n",
      "['(854) 2632368', '(865) 1092554', '2019-11-12 18:27:12', '256']\n",
      "['(302) 7956136', '(427) 4230223', '2019-04-17 13:49:54', '360']\n",
      "['(694) 4605593', '(423) 9644633', '2019-10-12 10:25:53', '3476']\n",
      "['(361) 6243068', '(817) 9801242', '2019-01-13 16:55:39', '740']\n",
      "['(832) 2674004', '(134) 4315303', '2019-10-07 07:16:17', '3135']\n",
      "['(833) 8445033', '(191) 5366913', '2019-03-18 09:42:11', '2112']\n",
      "['(823) 4146625', '(263) 8920846', '2019-03-17 16:10:28', '1635']\n",
      "['(901) 2728567', '(997) 8431267', '2019-06-05 11:45:06', '2793']\n",
      "['(695) 8465544', '(486) 6125527', '2019-08-19 14:22:47', '1563']\n",
      "['(715) 6420894', '(828) 6640394', '2019-03-16 00:36:28', '1891']\n",
      "['(600) 8596964', '(762) 7724562', '2019-12-19 15:44:12', '3157']\n",
      "['(454) 4219619', '(432) 1223026', '2019-02-05 02:43:10', '1050']\n",
      "['(699) 8211331', '(123) 8577076', '2019-01-26 02:35:52', '2547']\n",
      "['(502) 2393708', '(748) 6208057', '2019-04-28 12:23:38', '3047']\n",
      "['(319) 7353522', '(588) 9583209', '2019-01-02 05:17:31', '3584']\n",
      "['(519) 2780596', '(359) 2449867', '2019-02-05 23:35:17', '1436']\n",
      "['(439) 1787485', '(802) 8632114', '2019-01-03 02:05:09', '2878']\n",
      "['(611) 2732835', '(605) 7128788', '2019-05-06 22:24:59', '636']\n",
      "['(481) 4216326', '(288) 7103116', '2019-05-06 01:35:05', '2339']\n",
      "['(819) 2841562', '(651) 9421311', '2019-12-05 16:05:32', '3449']\n",
      "['(561) 7890310', '(487) 1704598', '2019-08-09 16:54:44', '1187']\n",
      "['(205) 8012873', '(348) 6088588', '2019-04-09 18:36:15', '3194']\n",
      "['(656) 2596247', '(645) 3744183', '2019-12-18 21:38:31', '2428']\n",
      "['(784) 1502772', '(732) 5122798', '2019-08-06 05:30:25', '983']\n",
      "['(187) 7805812', '(831) 1984447', '2019-10-09 02:03:01', '3577']\n",
      "['(404) 9897959', '(810) 9464280', '2019-03-31 01:10:37', '1188']\n",
      "['(320) 9017964', '(105) 7031191', '2019-03-19 16:47:31', '2009']\n",
      "['(441) 9421898', '(352) 2239520', '2019-10-09 07:19:24', '3024']\n",
      "['(289) 3939816', '(897) 5873250', '2019-06-24 08:18:43', '2230']\n",
      "['(268) 8129614', '(109) 5020811', '2019-10-18 20:45:40', '1559']\n",
      "['(530) 2679399', '(929) 7641354', '2019-05-03 08:45:23', '128']\n",
      "['(655) 5001076', '(216) 9767752', '2019-11-13 19:03:39', '171']\n",
      "['(883) 8587195', '(449) 7773819', '2019-06-29 14:01:03', '1818']\n",
      "['(815) 4795720', '(312) 1327386', '2019-02-11 06:32:37', '3119']\n",
      "['(197) 3603866', '(412) 8148714', '2019-06-13 18:10:46', '595']\n",
      "['(911) 1379852', '(804) 6251709', '2019-03-06 21:18:13', '2234']\n",
      "['(795) 2762776', '(661) 8174095', '2019-02-18 06:09:36', '2300']\n",
      "['(501) 1466641', '(602) 3090356', '2019-08-01 05:07:26', '734']\n",
      "['(154) 9559400', '(632) 8185869', '2019-05-16 08:59:38', '3506']\n",
      "['(639) 8951743', '(742) 1588632', '2019-09-25 00:11:59', '73']\n",
      "['(792) 8079631', '(598) 3917497', '2019-06-14 15:26:01', '1908']\n",
      "['(755) 2227215', '(235) 5321774', '2019-06-19 23:02:17', '1065']\n",
      "['(712) 6065475', '(794) 3858022', '2019-10-22 20:49:53', '3485']\n",
      "['(680) 3236045', '(804) 9903489', '2019-09-10 16:34:14', '2922']\n",
      "['(148) 6443267', '(169) 8934639', '2019-05-22 10:47:23', '129']\n",
      "['(790) 6530469', '(814) 3215137', '2019-10-25 13:33:34', '2664']\n",
      "['(202) 1610658', '(607) 3944087', '2019-04-28 23:54:28', '1569']\n",
      "['(262) 4164407', '(399) 5230169', '2019-02-19 03:10:29', '450']\n",
      "['(262) 6287235', '(522) 8488463', '2019-06-01 19:05:29', '3383']\n",
      "['(304) 7491008', '(244) 5322157', '2019-08-10 13:52:18', '3064']\n",
      "['(615) 3509514', '(708) 4135633', '2019-05-25 05:54:32', '147']\n",
      "['(459) 3930189', '(149) 4330839', '2019-01-08 10:47:42', '3140']\n",
      "['(855) 2282632', '(666) 2793624', '2019-11-24 23:08:45', '1022']\n",
      "['(476) 5233902', '(820) 5595528', '2019-01-31 21:41:20', '1837']\n",
      "['(537) 6546615', '(612) 2202646', '2019-04-04 19:51:31', '2036']\n",
      "['(541) 4800549', '(138) 3724141', '2019-02-04 06:45:02', '2469']\n",
      "['(384) 8739072', '(941) 6726850', '2019-04-19 02:27:44', '3105']\n",
      "['(147) 7291940', '(326) 5393948', '2019-03-05 17:08:14', '2586']\n",
      "['(270) 2354861', '(273) 7690535', '2019-09-02 16:24:08', '3249']\n",
      "['(636) 1133234', '(462) 1957853', '2019-09-13 12:22:37', '1939']\n",
      "['(570) 6207945', '(581) 2812391', '2019-04-04 03:03:56', '1225']\n",
      "['(291) 5185327', '(531) 9281928', '2019-10-22 11:18:33', '2989']\n",
      "['(243) 3167219', '(570) 5034926', '2019-04-13 11:54:36', '789']\n",
      "['(542) 4546760', '(567) 2828533', '2019-05-03 20:25:18', '1865']\n",
      "['(249) 7029277', '(295) 8985580', '2019-09-23 06:24:47', '319']\n",
      "['(916) 5096404', '(376) 2884045', '2019-04-24 08:30:37', '246']\n",
      "['(996) 9736898', '(969) 2964664', '2019-09-02 15:31:42', '2342']\n",
      "['(207) 4248725', '(456) 8645080', '2019-11-15 20:30:18', '630']\n",
      "['(729) 4815293', '(763) 9893406', '2019-08-22 07:42:54', '2279']\n",
      "['(188) 3501714', '(464) 3997111', '2019-01-14 04:57:34', '121']\n",
      "['(534) 4568556', '(792) 9326352', '2019-06-09 05:23:38', '1046']\n",
      "['(892) 1686376', '(249) 7615536', '2019-03-02 22:11:17', '2444']\n",
      "['(310) 6945801', '(164) 9416529', '2019-04-20 07:44:28', '1683']\n",
      "['(741) 8134173', '(712) 6154466', '2019-01-12 02:12:28', '210']\n",
      "['(780) 2506688', '(246) 9160852', '2019-08-10 12:18:32', '512']\n",
      "['(677) 3634048', '(650) 1143542', '2019-03-09 14:08:49', '2166']\n",
      "['(770) 5974145', '(270) 5953021', '2019-01-20 09:19:34', '608']\n",
      "['(251) 5430038', '(570) 1985179', '2019-03-20 13:05:08', '3447']\n",
      "['(823) 1821952', '(835) 1658609', '2019-08-10 07:35:24', '2504']\n",
      "['(302) 9131957', '(738) 3350982', '2019-09-30 18:05:45', '1176']\n",
      "['(787) 2744903', '(435) 1451178', '2019-07-27 09:08:10', '989']\n",
      "['(723) 1155427', '(810) 5853913', '2019-04-09 19:24:35', '2467']\n",
      "['(368) 3851791', '(631) 8084245', '2019-07-31 18:03:27', '556']\n",
      "['(285) 1009067', '(219) 1745803', '2019-11-25 18:22:30', '3054']\n"
     ]
    }
   ],
   "source": [
    "# leemos un archivo con csv.reader(archivo)\n",
    "import csv\n",
    "import os\n",
    "\n",
    "archivo = 'datos/llamadas.csv'\n",
    "with open(archivo, 'r') as datos:\n",
    "    lector = csv.reader(datos)\n",
    "    for registro in lector:\n",
    "        print(registro)"
   ]
  },
  {
   "cell_type": "markdown",
   "metadata": {},
   "source": [
    "## Escribir a un archivo"
   ]
  },
  {
   "cell_type": "code",
   "execution_count": 11,
   "metadata": {},
   "outputs": [
    {
     "name": "stdout",
     "output_type": "stream",
     "text": [
      "[['Nombre', 'Apellido'], ['Juan', 'Perez'], ['Juana', 'Perez']]\n"
     ]
    }
   ],
   "source": [
    "# escribimos un archivo con csv.writer(archivo)\n",
    "import csv\n",
    "import os\n",
    "\n",
    "archivo = 'salida/ejemplo.csv'\n",
    "\n",
    "# os.mkdir('salida')\n",
    "\n",
    "nombres = [\n",
    "    ['Nombre', 'Apellido'],\n",
    "    ['Juan', 'Perez'],\n",
    "    ['Juana', 'Perez']\n",
    "]\n",
    "\n",
    "with open(archivo, 'w') as salida:\n",
    "    escritor = csv.writer(salida)\n",
    "    escritor.writerows(nombres)\n",
    "\n",
    "with open(archivo, 'r') as entrada:\n",
    "    lector = csv.reader(entrada)\n",
    "    print(list(lector))"
   ]
  },
  {
   "cell_type": "markdown",
   "metadata": {},
   "source": [
    "## Ejercicios\n",
    "\n",
    "1. Escriba un script que escriba un archivo csv con informacion inventada, puede ser cualquier cosa, pero que tenga columnas, e.g. Nombre, Apellido, Edad, etc.\n",
    "2. Escriba un script que lea el archivo escrito e imprima cada fila del archivo"
   ]
  },
  {
   "cell_type": "markdown",
   "metadata": {},
   "source": [
    "# Reto: Puntos de Acceso de la Red Nacional de Internet por Provincia\n",
    "\n",
    "Escriba un script que lea el archivo csv `datos/rni-puntos-de-acceso.csv` (se le entregará) que contiene informacion de todos los puntos de acceso de la red nacional de internet de Panama, y escriba un archivo csv nuevo `datos/rni-pda-por-provincia.csv`, que contiene lo siguiente:\n",
    "1. Provincia y Puntos de Acceso como encabezado\n",
    "2. El nombre de la provincia, y el numero total de Puntos de Acceso como fila"
   ]
  },
  {
   "cell_type": "code",
   "execution_count": 45,
   "metadata": {},
   "outputs": [
    {
     "name": "stdout",
     "output_type": "stream",
     "text": [
      "['Regi¢n', 'PA', 'Nombre', 'Provincia', 'Distrito', 'Corregimiento', 'Tipo UM', 'Latitude', 'Longitude', 'Fecha de Activaci¢n']\n",
      "['1', '1', 'Colegio Rogelio Josu\\x82 Ibarra', 'Bocas del Toro', 'Bocas del Toro', 'Bocas del Toro', 'FO', '9.340654', '-82.242499', '12/07/17']\n",
      "['1', '3', 'Escuela Rep£blica de Nicaragua', 'Bocas del Toro', 'Bocas del Toro', 'Bocas del Toro', 'FO', '9.338938', '-82.242668', '12/07/17']\n",
      "['1', '4', 'Gobernaci¢n', 'Bocas del Toro', 'Bocas del Toro', 'Bocas del Toro', 'FO', '9.297858', '-82.41136', '23/11/17']\n",
      "['1', '5', 'Parque Sim¢n Bol¡var', 'Bocas del Toro', 'Bocas del Toro', 'Bocas del Toro', 'FO', '9.340183', '-82.240631', '12/07/17']\n"
     ]
    }
   ],
   "source": [
    "# un ejemplo practico\n",
    "\n",
    "import csv\n",
    "import os\n",
    "\n",
    "archivo = 'datos/rni-puntos-de-acceso.csv'\n",
    "with open(archivo, 'r', encoding='latin-1') as entrada, open('salida/rni-pda-chiriqui.csv', 'w') as salida:\n",
    "    lector = csv.reader(entrada)  # para leer\n",
    "    escritor = csv.writer(salida)  # para escribir\n",
    "    for registro in lector:\n",
    "        provincia = registro[3]\n",
    "        if provincia.startswith('Chi'):\n",
    "            escritor.writerow(registro)\n",
    "\n",
    "with open(archivo, 'r', encoding='latin-1') as entrada:\n",
    "    lector = csv.reader(entrada)\n",
    "    for registro in list(lector)[:5]:\n",
    "        print(registro)"
   ]
  },
  {
   "cell_type": "markdown",
   "metadata": {},
   "source": [
    "# Resumen\n",
    "\n",
    "Hemos aprendido como trabajar con archivos en Python. Ahora podemos abrir un archivo para leer y escribir con la funcion `open()`, que toma dos argumentos: un string que contiene la ruta al archivo, y un string que contiene el modo de abrir el archivo, e.g. `r` para leer y `w` para escribir.\n",
    "\n",
    "Tambien vimos como trabajar con archivos utilizando el modulo `os`, como crear y borrar directorios con `os.mkdir()` y `os.rmdir()`. \n",
    "\n",
    "Finalmente, aprendimos como trabajar con archivos CSV, que es un tipo de archivo estandar para guardar datos por categoria. Vimos como leer data en un CSV con `csv.reader()`, que retorna cada fila del CSV como una lista, y vimos como escribir filas de datos a un CSV utilizando `csv.writer()`."
   ]
  }
 ],
 "metadata": {
  "kernelspec": {
   "display_name": "Python 3",
   "language": "python",
   "name": "python3"
  },
  "language_info": {
   "codemirror_mode": {
    "name": "ipython",
    "version": 3
   },
   "file_extension": ".py",
   "mimetype": "text/x-python",
   "name": "python",
   "nbconvert_exporter": "python",
   "pygments_lexer": "ipython3",
   "version": "3.8.1"
  }
 },
 "nbformat": 4,
 "nbformat_minor": 4
}
