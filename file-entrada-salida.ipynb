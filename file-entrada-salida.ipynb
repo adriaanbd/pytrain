{
 "cells": [
  {
   "cell_type": "markdown",
   "metadata": {},
   "source": [
    "# Archivo Entrada y Salida"
   ]
  },
  {
   "cell_type": "markdown",
   "metadata": {},
   "source": [
    "Los programas requieren datos, y a veces muchos datos. Hay diferentes maneras de guardar y acceder a ello, pero una de las mas comunes es a traves del sistema de archivos de una computadora. Por tanto, trabajar con archivos es una herramienta sumamente util para cualquier programador. \n",
    "\n",
    "Operacions comunes involucran: guardando el dato de salida de un programa a un archivo de texto, limpiar un documento tabulado a fin que cada columna este en el formato correcto, o eliminar archivos grandes de un directorio en el disco duro.\n",
    "\n",
    "En esta seccion aprenderemos a:\n",
    "1. Leer y escribir archivos\n",
    "2. Trabajar con rutas de archivos\n",
    "3. Trabajar con archivos CSV"
   ]
  },
  {
   "cell_type": "markdown",
   "metadata": {},
   "source": [
    "# Leer y escribir archivos"
   ]
  },
  {
   "cell_type": "markdown",
   "metadata": {},
   "source": [
    "Hasta ahora hemos visto programas que toman dato de entrada del mismo programa o del usuario. Si han trabajado con muchos datos, estos metodos son problematicos. En muchas aplicaciones, el dato de entrada es leido de algun(os) archivo(s). Python tiene herramientas que nos permiten realizar estas operaciones."
   ]
  },
  {
   "cell_type": "markdown",
   "metadata": {},
   "source": [
    "## Escribir a un archivo"
   ]
  },
  {
   "cell_type": "markdown",
   "metadata": {},
   "source": [
    "Para escribir un archivo de texto sin formato, podemos utilizar la funcion general incorporada `open()`. Cuando abrimos un archivo con `open()`, lo primero que debemos determinar es si realizamos una operacion de lectura o de escritura."
   ]
  },
  {
   "cell_type": "code",
   "execution_count": 4,
   "metadata": {},
   "outputs": [],
   "source": [
    "# abrir y escribir a un archivo\n",
    "archivo_salida = open('hola.txt', 'w')  # abrimos en modo \"w\" de escritura"
   ]
  },
  {
   "cell_type": "code",
   "execution_count": 5,
   "metadata": {},
   "outputs": [],
   "source": [
    "# escribimos una linea de texto con writelines()\n",
    "archivo_salida.writelines('Este es mi primer archivo')\n",
    "archivo_salida.close()"
   ]
  },
  {
   "cell_type": "markdown",
   "metadata": {},
   "source": [
    "Cuando solo proporcionamos el nombre del archivo, este se creará en el mismo directorio que tiene el script, toda vez que no proporcionamos la ruta del archivo.\n",
    "\n",
    "Cuando abrimos un archivo con `open()`, siempre debemos cerrar el archivo con `close()`. Python cierra automaticamente los archivos que uno abre, pero si no los cerramos, puede ocasionar problemas no esperados. \n",
    "\n",
    "Despues de ejecutar el script, observamos un archivo nuevo en el directorio denominado `hola.txt`, con la linea escrita `Este es mi primer archivo`."
   ]
  },
  {
   "cell_type": "code",
   "execution_count": 7,
   "metadata": {},
   "outputs": [],
   "source": [
    "# writelines() tambien toma una lista de lineas \n",
    "archivo_salida = open('hola.txt', 'w')  # si abrimos un archivo existente, el contenido viejo se borra\n",
    "lineas = [\n",
    "    'Este archivo es nuevo',\n",
    "    'Contiene esta linea',\n",
    "    'Esta otra linea tambien'\n",
    "]\n",
    "archivo_salida.writelines(lineas)  # las lineas son escritas seguidamente sin espacio\n",
    "archivo_salida.close()"
   ]
  },
  {
   "cell_type": "code",
   "execution_count": 8,
   "metadata": {},
   "outputs": [],
   "source": [
    "# para escribir en una linea nueva, insertemos el caracter de nueva linea \"\\n\"\n",
    "archivo_salida = open('hola.txt', 'w') \n",
    "lineas = [\n",
    "    'Este archivo es nuevo',\n",
    "    '\\nContiene esta linea',     # \\n en linea nueva\n",
    "    '\\nEsta otra linea tambien'  # \\n en linea nueva\n",
    "]\n",
    "archivo_salida.writelines(lineas)  # las lineas son escritas seguidamente sin espacio\n",
    "archivo_salida.close()"
   ]
  },
  {
   "cell_type": "markdown",
   "metadata": {},
   "source": [
    "Si abrimos el archivo, observamos cada linea en una linea nueva:\n",
    "\n",
    "```\n",
    "Este archivo es nuevo\n",
    "Contiene esta linea\n",
    "Esta otra linea tambien\n",
    "```"
   ]
  },
  {
   "cell_type": "code",
   "execution_count": 10,
   "metadata": {},
   "outputs": [],
   "source": [
    "# podemos abrir el archivo en modo \"a\" que permita \"adjuntar\"\n",
    "archivo_salida = open('hola.txt', 'a')  # abrimos el archivo pero no borra el contenido\n",
    "archivo_salida.writelines('\\nEsta linea se adjunta')  # linea nueva\n",
    "archivo_salida.close()  "
   ]
  },
  {
   "cell_type": "markdown",
   "metadata": {},
   "source": [
    "Si abrimos el archivo, observamos cada linea en una linea nueva:\n",
    "\n",
    "```\n",
    "Este archivo es nuevo\n",
    "Contiene esta linea\n",
    "Esta otra linea tambien\n",
    "Esta linea se adjunta\n",
    "```"
   ]
  },
  {
   "cell_type": "markdown",
   "metadata": {},
   "source": [
    "## Leer un archivo"
   ]
  },
  {
   "cell_type": "code",
   "execution_count": 11,
   "metadata": {},
   "outputs": [
    {
     "name": "stdout",
     "output_type": "stream",
     "text": [
      "['Este archivo es nuevo\\n', 'Contiene esta linea\\n', 'Esta otra linea tambien\\n', 'Esta linea se adjunta\\n', 'Esta linea se adjunta']\n"
     ]
    }
   ],
   "source": [
    "# abrimos el archivo en modo lectura \"r\" \n",
    "archivo_entrada = open('hola.txt', 'r')\n",
    "print(archivo_entrada.readlines())  # utilizamos el metodo readlines() que retorna una lista de lineas\n",
    "archivo_entrada.close()"
   ]
  },
  {
   "cell_type": "code",
   "execution_count": 13,
   "metadata": {},
   "outputs": [
    {
     "name": "stdout",
     "output_type": "stream",
     "text": [
      "Este archivo es nuevo\n",
      "\n",
      "Contiene esta linea\n",
      "\n",
      "Esta otra linea tambien\n",
      "\n",
      "Esta linea se adjunta\n",
      "\n",
      "Esta linea se adjunta\n"
     ]
    }
   ],
   "source": [
    "# ya que el archivo retorna una lista, podemos ciclar sobre la misma\n",
    "archivo_entrada = open('hola.txt', 'r')\n",
    "for linea in archivo_entrada.readlines():\n",
    "    print(linea)\n",
    "archivo_entrada.close()"
   ]
  },
  {
   "cell_type": "code",
   "execution_count": 14,
   "metadata": {},
   "outputs": [
    {
     "name": "stdout",
     "output_type": "stream",
     "text": [
      "Este archivo es nuevo\n",
      "Contiene esta linea\n",
      "Esta otra linea tambien\n",
      "Esta linea se adjunta\n",
      "Esta linea se adjunta"
     ]
    }
   ],
   "source": [
    "# observamos que hay una nueva linea vacia entre cada linea, podemos anular este comportamiento\n",
    "archivo_entrada = open('hola.txt', 'r')\n",
    "for linea in archivo_entrada.readlines():\n",
    "    print(linea, end='')  # print incluye nueva linea automaticamente, especificamos comportamiento deseado end=''\n",
    "archivo_entrada.close()"
   ]
  },
  {
   "cell_type": "code",
   "execution_count": 18,
   "metadata": {},
   "outputs": [
    {
     "name": "stdout",
     "output_type": "stream",
     "text": [
      "Este archivo es nuevo\n",
      "Contiene esta linea\n",
      "Esta otra linea tambien\n",
      "Esta linea se adjunta\n",
      "Esta linea se adjunta"
     ]
    }
   ],
   "source": [
    "# podemos leer linea por linea con readline() en singular\n",
    "archivo_entrada = open('hola.txt', 'r')\n",
    "linea = archivo_entrada.readline()  # lee la primera linea\n",
    "while linea != '':  # si no hemos llegao al fin\n",
    "    print(linea, end='')  # imprime la linea\n",
    "    linea = archivo_entrada.readline()  # lee la proxima linea\n",
    "archivo_entrada.close()"
   ]
  },
  {
   "cell_type": "markdown",
   "metadata": {},
   "source": [
    "Cuando Python lee un archivo, gestiona un tipo de marcador que recuerda su ubicacion en el documento. Es asi como el metodo readline() funciona, ya que lee la primera linea, y cuando el metodo se ejecuta nuevamente, Python lee el documento a partir de donde dejó el marcador la última vez, por tanto lee la próxima linea del documento, y asi sucesivamente hasta llegar al final del archivo. Cuando se cierra el archivo con `close()`, el marcado vuelve a reiniciarse, a fin de que la proxima vez empieze desde el principio del archivo. El metodo `readlines()` tambien se comporta de la misma manera. \n",
    "\n",
    "Esto lo podemos comprobar si leemos el archivo, ejecutamos readlines, y sin cerrar el archivo, ejecutamos nuevamente el metodo `readlines()`. Ya que el marcador sigue al final del documento, `readlines()` no retorna linea alguna, porque no hay nada que leer."
   ]
  },
  {
   "cell_type": "code",
   "execution_count": 20,
   "metadata": {},
   "outputs": [
    {
     "name": "stdout",
     "output_type": "stream",
     "text": [
      "Primera vez:\n",
      "Este archivo es nuevo\n",
      "Contiene esta linea\n",
      "Esta otra linea tambien\n",
      "Esta linea se adjunta\n",
      "Esta linea se adjunta\n",
      "\n",
      "Segunda vez:\n"
     ]
    }
   ],
   "source": [
    "archivo_entrada = open('hola.txt', 'r')\n",
    "print('Primera vez:')\n",
    "for linea in archivo_entrada.readlines():\n",
    "    print(linea, end='')\n",
    "    \n",
    "print('\\n\\nSegunda vez:')\n",
    "for linea in archivo_entrada.readlines():\n",
    "    print(linea, end='')\n",
    "archivo_entrada.close()"
   ]
  },
  {
   "cell_type": "code",
   "execution_count": 21,
   "metadata": {},
   "outputs": [
    {
     "name": "stdout",
     "output_type": "stream",
     "text": [
      "Primera vez:\n",
      "Este archivo es nuevo\n",
      "Contiene esta linea\n",
      "Esta otra linea tambien\n",
      "Esta linea se adjunta\n",
      "Esta linea se adjunta\n",
      "\n",
      "Segunda vez:\n",
      "Este archivo es nuevo\n",
      "Contiene esta linea\n",
      "Esta otra linea tambien\n",
      "Esta linea se adjunta\n",
      "Esta linea se adjunta"
     ]
    }
   ],
   "source": [
    "# si queremos acceder al contenido del archivo nuevamente, es mejor guardarlo en una lista\n",
    "archivo_entrada = open('hola.txt', 'r')\n",
    "\n",
    "lineas = archivo_entrada.readlines()\n",
    "    \n",
    "print('Primera vez:')\n",
    "for linea in lineas:\n",
    "    print(linea, end='')\n",
    "    \n",
    "print('\\n\\nSegunda vez:')\n",
    "for linea in lineas:\n",
    "    print(linea, end='')\n",
    "archivo_entrada.close()"
   ]
  },
  {
   "cell_type": "code",
   "execution_count": 22,
   "metadata": {},
   "outputs": [
    {
     "name": "stdout",
     "output_type": "stream",
     "text": [
      "Este archivo es nuevo\n",
      "\n",
      "Contiene esta linea\n",
      "\n",
      "Esta otra linea tambien\n",
      "\n",
      "Esta linea se adjunta\n",
      "\n",
      "Esta linea se adjunta\n"
     ]
    }
   ],
   "source": [
    "# para no tener que cerrar el archivo, Python lo hace automaticamente con la palabra with\n",
    "# with establece un contexto\n",
    "with open('hola.txt', 'r') as archivo:\n",
    "    for line in archivo.readlines():\n",
    "        print(line)"
   ]
  },
  {
   "cell_type": "code",
   "execution_count": 24,
   "metadata": {},
   "outputs": [
    {
     "name": "stdout",
     "output_type": "stream",
     "text": [
      "Este archivo es nuevo\n",
      "\n",
      "Contiene esta linea\n",
      "\n",
      "Esta otra linea tambien\n",
      "\n",
      "Esta linea se adjunta\n",
      "\n",
      "Esta linea se adjunta\n"
     ]
    }
   ],
   "source": [
    "# podemos abrir mutiples archivos en la misma operacion\n",
    "with open('hola.txt', 'r') as fuente, open('salida.txt', 'w') as salida:\n",
    "    for line in fuente.readlines():\n",
    "        salida.write(line)\n",
    "\n",
    "# todo el contenido del primer archivo se copio a este\n",
    "with open('salida.txt', 'r') as archivo:\n",
    "    for line in archivo.readlines():\n",
    "        print(line)"
   ]
  },
  {
   "cell_type": "markdown",
   "metadata": {},
   "source": [
    "## Ejercicios\n",
    "\n",
    "1. Abra y escriba un archivo que contenga varias lineas utilizando writelines()\n",
    "2. Abra el archivo que escribio y lea sus contenidos con readlines() y readline()\n",
    "3. Abra y lea el archivo que escribio utilizando with() \n",
    "4. Abra y lear al archivo que escribio utilizando with() y copie los contenidos del mismo a otro archivo"
   ]
  },
  {
   "cell_type": "markdown",
   "metadata": {},
   "source": [
    "# Trabajando con Rutas en Python"
   ]
  },
  {
   "cell_type": "markdown",
   "metadata": {},
   "source": [
    "Lo mas probable es que vamos a necesitar abrir archivos ubicados en otros directorios, y no solamente los archivos ubicados en el directorio actual donde reside el script. Para acceder a distintos directorions, podemos ingresar la ruta completa directamente como argumento a la funcion incorporada `open(ruta_absoluta_del_archivo)`"
   ]
  },
  {
   "cell_type": "code",
   "execution_count": 25,
   "metadata": {},
   "outputs": [
    {
     "ename": "FileNotFoundError",
     "evalue": "[Errno 2] No such file or directory: 'C:/home/adriaanbd/documentos/hola.txt'",
     "output_type": "error",
     "traceback": [
      "\u001b[0;31m---------------------------------------------------------------------------\u001b[0m",
      "\u001b[0;31mFileNotFoundError\u001b[0m                         Traceback (most recent call last)",
      "\u001b[0;32m<ipython-input-25-242059a40037>\u001b[0m in \u001b[0;36m<module>\u001b[0;34m\u001b[0m\n\u001b[0;32m----> 1\u001b[0;31m \u001b[0marchivo\u001b[0m \u001b[0;34m=\u001b[0m \u001b[0mopen\u001b[0m\u001b[0;34m(\u001b[0m\u001b[0;34m'C:/home/adriaanbd/documentos/hola.txt'\u001b[0m\u001b[0;34m,\u001b[0m \u001b[0;34m'r'\u001b[0m\u001b[0;34m)\u001b[0m\u001b[0;34m\u001b[0m\u001b[0;34m\u001b[0m\u001b[0m\n\u001b[0m",
      "\u001b[0;31mFileNotFoundError\u001b[0m: [Errno 2] No such file or directory: 'C:/home/adriaanbd/documentos/hola.txt'"
     ]
    }
   ],
   "source": [
    "archivo = open('C:/home/adriaanbd/documentos/hola.txt', 'r')  # esta ruta no existe actualmente, es solo un ejemplo"
   ]
  },
  {
   "cell_type": "markdown",
   "metadata": {},
   "source": [
    "Observemos el uso del `/`. Las rutas de Windows contienen un `\\` en vez de un `/`, pero en Python podemos substituir el `\\` por el `/`, toda vez que el `\\` tiene un significado especial en Python por ser utilizado como un caracter de escape, lo que quiere decir que el caracter que le sigue inmediatamente, e.g. `\\n` es tratado como caracter especial. Python entiende que el uso del `\\` con el caracter a continuacion es un caracter especial. Por ejemplo, `\\n` significa una nueva linea, `\\t` significa un caracter `tab` que representa 2 o 4 caracteres de espacios en la misma linea."
   ]
  },
  {
   "cell_type": "code",
   "execution_count": null,
   "metadata": {},
   "outputs": [],
   "source": [
    "# podemos utilizar el \\ de la siguiente manera\n",
    "path = r'C:\\home\\adriaanbd\\documentos\\hola.txt'  # no exista la ruta, es solo un ejemplo"
   ]
  },
  {
   "cell_type": "markdown",
   "metadata": {},
   "source": [
    "## El modulo `os`"
   ]
  },
  {
   "cell_type": "markdown",
   "metadata": {},
   "source": [
    "Si deseamos hacer algo mas avanzado con estructuras de archivos, vamos a tener que hacer uso del modulo `os`, que expone varias funciones del sistema operativo. Lo primero que tenemos que hacer es importar el modulo."
   ]
  },
  {
   "cell_type": "code",
   "execution_count": 26,
   "metadata": {},
   "outputs": [],
   "source": [
    "# esto importa el modulo al programa\n",
    "import os "
   ]
  },
  {
   "cell_type": "code",
   "execution_count": null,
   "metadata": {},
   "outputs": [],
   "source": [
    "# para crear un directorio nuevo en el directorio donde reside este programa\n",
    "os.mkdir('mi-directorio')  "
   ]
  },
  {
   "cell_type": "code",
   "execution_count": null,
   "metadata": {},
   "outputs": [],
   "source": [
    "# para crear el directorio en una ruta especifica\n",
    "ruta = 'C:/home/adriaanbd/documentos'  \n",
    "os.mkdir(os.path.join(path, 'mi-directorio'))  # utilizemos os.path.join para concatenar dos strings"
   ]
  },
  {
   "cell_type": "code",
   "execution_count": 28,
   "metadata": {},
   "outputs": [
    {
     "name": "stdout",
     "output_type": "stream",
     "text": [
      "C:/home/adriaanbd/documentos/mi-directorio\n"
     ]
    }
   ],
   "source": [
    "# pudimos haber concatenado asi tambien:\n",
    "ruta = 'C:/home/adriaanbd/documentos'  \n",
    "directorio = ruta + '/' + 'mi-directorio'\n",
    "print(directorio)"
   ]
  },
  {
   "cell_type": "code",
   "execution_count": null,
   "metadata": {},
   "outputs": [],
   "source": [
    "# para eliminar un directorio usemos rmdir()\n",
    "os.rmdir(directorio)"
   ]
  },
  {
   "cell_type": "code",
   "execution_count": 29,
   "metadata": {},
   "outputs": [
    {
     "data": {
      "text/plain": [
       "['contenido.ipynb',\n",
       " 'intro.ipynb',\n",
       " 'errores.ipynb',\n",
       " 'contenido.md',\n",
       " 'funciones-y-ciclos.ipynb',\n",
       " 'file-entrada-salida.ipynb',\n",
       " '.ipynb_checkpoints',\n",
       " 'otros-temas',\n",
       " 'oop.ipynb',\n",
       " 'numeros-y-matematica.ipynb',\n",
       " 'tips.ipynb',\n",
       " 'encontrando-resolviendo-errores.ipynb',\n",
       " '.git',\n",
       " 'llamadas-y-textos',\n",
       " 'logica-condicional-control-de-flujo.ipynb',\n",
       " 'variables.ipynb',\n",
       " 'strings.ipynb',\n",
       " 'textos-llamadas.ipynb',\n",
       " 'hola.txt',\n",
       " 'juego-de-aventura.ipynb',\n",
       " 'tuplas-listas-diccionarios.ipynb',\n",
       " '.python-version',\n",
       " 'salida.txt']"
      ]
     },
     "execution_count": 29,
     "metadata": {},
     "output_type": "execute_result"
    }
   ],
   "source": [
    "# para obtener una lista de los archivos en un directorio usemos os.listdir()\n",
    "os.listdir()"
   ]
  },
  {
   "cell_type": "code",
   "execution_count": 30,
   "metadata": {},
   "outputs": [
    {
     "name": "stdout",
     "output_type": "stream",
     "text": [
      "hola.txt\n",
      "salida.txt\n"
     ]
    }
   ],
   "source": [
    "# una lista de los archivos con terminacion txt usando endswith()\n",
    "for archivo in os.listdir():\n",
    "    if archivo.lower().endswith('txt'):\n",
    "        print(archivo)"
   ]
  },
  {
   "cell_type": "markdown",
   "metadata": {},
   "source": [
    "## el modulo `glob`"
   ]
  },
  {
   "cell_type": "code",
   "execution_count": 33,
   "metadata": {},
   "outputs": [
    {
     "data": {
      "text/plain": [
       "['hola.txt', 'salida.txt']"
      ]
     },
     "execution_count": 33,
     "metadata": {},
     "output_type": "execute_result"
    }
   ],
   "source": [
    "# este modulo nos ayuda a encontrar patrones con caracteres comodin\n",
    "import glob\n",
    "glob.glob('*.txt')  # el asterisco * es un comodin que representa todo, por tanto todo archivo con extension .txt"
   ]
  },
  {
   "cell_type": "markdown",
   "metadata": {},
   "source": [
    "## Verificando la existencia de archivos y directorios"
   ]
  },
  {
   "cell_type": "code",
   "execution_count": 35,
   "metadata": {},
   "outputs": [
    {
     "name": "stdout",
     "output_type": "stream",
     "text": [
      "False\n",
      "False\n",
      "False\n",
      "False\n",
      "False\n",
      "False\n",
      "True\n",
      "False\n",
      "False\n",
      "False\n",
      "False\n",
      "False\n",
      "True\n",
      "True\n",
      "False\n",
      "False\n",
      "False\n",
      "False\n",
      "False\n",
      "False\n",
      "False\n",
      "False\n",
      "False\n"
     ]
    }
   ],
   "source": [
    "for archivo in os.listdir():\n",
    "    print(os.path.isdir(archivo))  # es un directorio?"
   ]
  },
  {
   "cell_type": "code",
   "execution_count": 36,
   "metadata": {},
   "outputs": [
    {
     "name": "stdout",
     "output_type": "stream",
     "text": [
      "True\n",
      "True\n",
      "True\n",
      "True\n",
      "True\n",
      "True\n",
      "False\n",
      "True\n",
      "True\n",
      "True\n",
      "True\n",
      "True\n",
      "False\n",
      "False\n",
      "True\n",
      "True\n",
      "True\n",
      "True\n",
      "True\n",
      "True\n",
      "True\n",
      "True\n",
      "True\n"
     ]
    }
   ],
   "source": [
    "for archivo in os.listdir():\n",
    "    print(os.path.isfile(archivo))  # es un archivo?"
   ]
  },
  {
   "cell_type": "code",
   "execution_count": 37,
   "metadata": {},
   "outputs": [
    {
     "name": "stdout",
     "output_type": "stream",
     "text": [
      "True\n",
      "True\n",
      "True\n",
      "True\n",
      "True\n",
      "True\n",
      "True\n",
      "True\n",
      "True\n",
      "True\n",
      "True\n",
      "True\n",
      "True\n",
      "True\n",
      "True\n",
      "True\n",
      "True\n",
      "True\n",
      "True\n",
      "True\n",
      "True\n",
      "True\n",
      "True\n"
     ]
    }
   ],
   "source": [
    "for archivo in os.listdir():\n",
    "    print(os.path.exists(archivo))  # el archivo existe?"
   ]
  },
  {
   "cell_type": "markdown",
   "metadata": {},
   "source": [
    "## Ejercicios\n",
    "\n",
    "1. Imprime la ruta absoluta de todos los archivos y directorios en el directorio de `Documentos/` en su computador\n",
    "2. Imprima la ruta absoluta de todos los archivos .txt en el directorio actual"
   ]
  },
  {
   "cell_type": "code",
   "execution_count": null,
   "metadata": {},
   "outputs": [],
   "source": []
  }
 ],
 "metadata": {
  "kernelspec": {
   "display_name": "Python 3",
   "language": "python",
   "name": "python3"
  },
  "language_info": {
   "codemirror_mode": {
    "name": "ipython",
    "version": 3
   },
   "file_extension": ".py",
   "mimetype": "text/x-python",
   "name": "python",
   "nbconvert_exporter": "python",
   "pygments_lexer": "ipython3",
   "version": "3.8.1"
  }
 },
 "nbformat": 4,
 "nbformat_minor": 4
}
