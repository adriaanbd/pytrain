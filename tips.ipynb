{
 "cells": [
  {
   "cell_type": "markdown",
   "metadata": {},
   "source": [
    "# Algunos consejos:\n",
    "1. Programa todos los dias, aunque sea un poco\n",
    "2. Escribelo\n",
    "3. Practica interactivamente con el REPL\n",
    "  * Utiliza `dir()` para saber que operaciones se pueden hacer en un elemento\n",
    "  * Aprende el tipo de un elemento con `type()`\n",
    "  * Utiliza el sistema de ayuda con `help(str)`\n",
    "  * Importa librerias y juega con ellas\n",
    "4. Toma descansos cortos\n",
    "5. Rodeate de otros que estan aprendiendo\n",
    "6. Ense\n",
    "7. Programa con otra persona\n",
    "8. Haz \"buenas\" preguntas: \n",
    "  * ofrece contexto, \n",
    "  * describe las cosas que haz intentado,\n",
    "  * ofrece una respuesta de lo que crees que el problema puede ser\n",
    "  * ofrece una visualizacion o guia de lo que esta pasando (codigo, error, pasos que has tomado)\n",
    "9. Construye algo, cualquier cosa\n",
    "  * lo que constuyas no es tan importante, sino como lo construyes\n",
    "  * aprendiendo por lectura tiene sus limites\n",
    "  * la mayor parte del aprendizaje es construyendo algo\n",
    "  * algunas ideas: un juego de adivinanza de numeros, una calculadora, un simulador de dados"
   ]
  }
 ],
 "metadata": {
  "kernelspec": {
   "display_name": "Python 3",
   "language": "python",
   "name": "python3"
  },
  "language_info": {
   "codemirror_mode": {
    "name": "ipython",
    "version": 3
   },
   "file_extension": ".py",
   "mimetype": "text/x-python",
   "name": "python",
   "nbconvert_exporter": "python",
   "pygments_lexer": "ipython3",
   "version": "3.8.1"
  }
 },
 "nbformat": 4,
 "nbformat_minor": 4
}
